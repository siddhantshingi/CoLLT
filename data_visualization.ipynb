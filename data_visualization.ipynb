{
  "nbformat": 4,
  "nbformat_minor": 0,
  "metadata": {
    "colab": {
      "name": "data_visualization.ipynb",
      "provenance": []
    },
    "kernelspec": {
      "name": "python3",
      "display_name": "Python 3"
    },
    "language_info": {
      "name": "python"
    },
    "widgets": {
      "application/vnd.jupyter.widget-state+json": {
        "61089d56afac49bc8457b4b32ad85dcc": {
          "model_module": "@jupyter-widgets/controls",
          "model_name": "HBoxModel",
          "model_module_version": "1.5.0",
          "state": {
            "_dom_classes": [],
            "_model_module": "@jupyter-widgets/controls",
            "_model_module_version": "1.5.0",
            "_model_name": "HBoxModel",
            "_view_count": null,
            "_view_module": "@jupyter-widgets/controls",
            "_view_module_version": "1.5.0",
            "_view_name": "HBoxView",
            "box_style": "",
            "children": [
              "IPY_MODEL_85c3f1fc42474dd589040facf1f9131b",
              "IPY_MODEL_2e1c87f5f2f84b5ab3db3c463b6a16c6",
              "IPY_MODEL_6df19a1c8e4842b5a88a1ec2e58b8e56"
            ],
            "layout": "IPY_MODEL_a84c30d7819f4568a5066d68163bc257"
          }
        },
        "85c3f1fc42474dd589040facf1f9131b": {
          "model_module": "@jupyter-widgets/controls",
          "model_name": "HTMLModel",
          "model_module_version": "1.5.0",
          "state": {
            "_dom_classes": [],
            "_model_module": "@jupyter-widgets/controls",
            "_model_module_version": "1.5.0",
            "_model_name": "HTMLModel",
            "_view_count": null,
            "_view_module": "@jupyter-widgets/controls",
            "_view_module_version": "1.5.0",
            "_view_name": "HTMLView",
            "description": "",
            "description_tooltip": null,
            "layout": "IPY_MODEL_4c0ae41d01914a119d1b40c9c37a3c90",
            "placeholder": "​",
            "style": "IPY_MODEL_0e99c91e162744739fc7b9f9bc8d81f1",
            "value": "Downloading builder script: "
          }
        },
        "2e1c87f5f2f84b5ab3db3c463b6a16c6": {
          "model_module": "@jupyter-widgets/controls",
          "model_name": "FloatProgressModel",
          "model_module_version": "1.5.0",
          "state": {
            "_dom_classes": [],
            "_model_module": "@jupyter-widgets/controls",
            "_model_module_version": "1.5.0",
            "_model_name": "FloatProgressModel",
            "_view_count": null,
            "_view_module": "@jupyter-widgets/controls",
            "_view_module_version": "1.5.0",
            "_view_name": "ProgressView",
            "bar_style": "success",
            "description": "",
            "description_tooltip": null,
            "layout": "IPY_MODEL_284c4b8fbd5e464dbc359790c925879b",
            "max": 1789,
            "min": 0,
            "orientation": "horizontal",
            "style": "IPY_MODEL_b2b91f264a7f4c40a0faff6182b40e06",
            "value": 1789
          }
        },
        "6df19a1c8e4842b5a88a1ec2e58b8e56": {
          "model_module": "@jupyter-widgets/controls",
          "model_name": "HTMLModel",
          "model_module_version": "1.5.0",
          "state": {
            "_dom_classes": [],
            "_model_module": "@jupyter-widgets/controls",
            "_model_module_version": "1.5.0",
            "_model_name": "HTMLModel",
            "_view_count": null,
            "_view_module": "@jupyter-widgets/controls",
            "_view_module_version": "1.5.0",
            "_view_name": "HTMLView",
            "description": "",
            "description_tooltip": null,
            "layout": "IPY_MODEL_5c928dd1f00b4d6dbc975457c93f99d7",
            "placeholder": "​",
            "style": "IPY_MODEL_6900fcb53ada41e1a5ff36d119649cfd",
            "value": " 4.31k/? [00:00&lt;00:00, 15.7kB/s]"
          }
        },
        "a84c30d7819f4568a5066d68163bc257": {
          "model_module": "@jupyter-widgets/base",
          "model_name": "LayoutModel",
          "model_module_version": "1.2.0",
          "state": {
            "_model_module": "@jupyter-widgets/base",
            "_model_module_version": "1.2.0",
            "_model_name": "LayoutModel",
            "_view_count": null,
            "_view_module": "@jupyter-widgets/base",
            "_view_module_version": "1.2.0",
            "_view_name": "LayoutView",
            "align_content": null,
            "align_items": null,
            "align_self": null,
            "border": null,
            "bottom": null,
            "display": null,
            "flex": null,
            "flex_flow": null,
            "grid_area": null,
            "grid_auto_columns": null,
            "grid_auto_flow": null,
            "grid_auto_rows": null,
            "grid_column": null,
            "grid_gap": null,
            "grid_row": null,
            "grid_template_areas": null,
            "grid_template_columns": null,
            "grid_template_rows": null,
            "height": null,
            "justify_content": null,
            "justify_items": null,
            "left": null,
            "margin": null,
            "max_height": null,
            "max_width": null,
            "min_height": null,
            "min_width": null,
            "object_fit": null,
            "object_position": null,
            "order": null,
            "overflow": null,
            "overflow_x": null,
            "overflow_y": null,
            "padding": null,
            "right": null,
            "top": null,
            "visibility": null,
            "width": null
          }
        },
        "4c0ae41d01914a119d1b40c9c37a3c90": {
          "model_module": "@jupyter-widgets/base",
          "model_name": "LayoutModel",
          "model_module_version": "1.2.0",
          "state": {
            "_model_module": "@jupyter-widgets/base",
            "_model_module_version": "1.2.0",
            "_model_name": "LayoutModel",
            "_view_count": null,
            "_view_module": "@jupyter-widgets/base",
            "_view_module_version": "1.2.0",
            "_view_name": "LayoutView",
            "align_content": null,
            "align_items": null,
            "align_self": null,
            "border": null,
            "bottom": null,
            "display": null,
            "flex": null,
            "flex_flow": null,
            "grid_area": null,
            "grid_auto_columns": null,
            "grid_auto_flow": null,
            "grid_auto_rows": null,
            "grid_column": null,
            "grid_gap": null,
            "grid_row": null,
            "grid_template_areas": null,
            "grid_template_columns": null,
            "grid_template_rows": null,
            "height": null,
            "justify_content": null,
            "justify_items": null,
            "left": null,
            "margin": null,
            "max_height": null,
            "max_width": null,
            "min_height": null,
            "min_width": null,
            "object_fit": null,
            "object_position": null,
            "order": null,
            "overflow": null,
            "overflow_x": null,
            "overflow_y": null,
            "padding": null,
            "right": null,
            "top": null,
            "visibility": null,
            "width": null
          }
        },
        "0e99c91e162744739fc7b9f9bc8d81f1": {
          "model_module": "@jupyter-widgets/controls",
          "model_name": "DescriptionStyleModel",
          "model_module_version": "1.5.0",
          "state": {
            "_model_module": "@jupyter-widgets/controls",
            "_model_module_version": "1.5.0",
            "_model_name": "DescriptionStyleModel",
            "_view_count": null,
            "_view_module": "@jupyter-widgets/base",
            "_view_module_version": "1.2.0",
            "_view_name": "StyleView",
            "description_width": ""
          }
        },
        "284c4b8fbd5e464dbc359790c925879b": {
          "model_module": "@jupyter-widgets/base",
          "model_name": "LayoutModel",
          "model_module_version": "1.2.0",
          "state": {
            "_model_module": "@jupyter-widgets/base",
            "_model_module_version": "1.2.0",
            "_model_name": "LayoutModel",
            "_view_count": null,
            "_view_module": "@jupyter-widgets/base",
            "_view_module_version": "1.2.0",
            "_view_name": "LayoutView",
            "align_content": null,
            "align_items": null,
            "align_self": null,
            "border": null,
            "bottom": null,
            "display": null,
            "flex": null,
            "flex_flow": null,
            "grid_area": null,
            "grid_auto_columns": null,
            "grid_auto_flow": null,
            "grid_auto_rows": null,
            "grid_column": null,
            "grid_gap": null,
            "grid_row": null,
            "grid_template_areas": null,
            "grid_template_columns": null,
            "grid_template_rows": null,
            "height": null,
            "justify_content": null,
            "justify_items": null,
            "left": null,
            "margin": null,
            "max_height": null,
            "max_width": null,
            "min_height": null,
            "min_width": null,
            "object_fit": null,
            "object_position": null,
            "order": null,
            "overflow": null,
            "overflow_x": null,
            "overflow_y": null,
            "padding": null,
            "right": null,
            "top": null,
            "visibility": null,
            "width": null
          }
        },
        "b2b91f264a7f4c40a0faff6182b40e06": {
          "model_module": "@jupyter-widgets/controls",
          "model_name": "ProgressStyleModel",
          "model_module_version": "1.5.0",
          "state": {
            "_model_module": "@jupyter-widgets/controls",
            "_model_module_version": "1.5.0",
            "_model_name": "ProgressStyleModel",
            "_view_count": null,
            "_view_module": "@jupyter-widgets/base",
            "_view_module_version": "1.2.0",
            "_view_name": "StyleView",
            "bar_color": null,
            "description_width": ""
          }
        },
        "5c928dd1f00b4d6dbc975457c93f99d7": {
          "model_module": "@jupyter-widgets/base",
          "model_name": "LayoutModel",
          "model_module_version": "1.2.0",
          "state": {
            "_model_module": "@jupyter-widgets/base",
            "_model_module_version": "1.2.0",
            "_model_name": "LayoutModel",
            "_view_count": null,
            "_view_module": "@jupyter-widgets/base",
            "_view_module_version": "1.2.0",
            "_view_name": "LayoutView",
            "align_content": null,
            "align_items": null,
            "align_self": null,
            "border": null,
            "bottom": null,
            "display": null,
            "flex": null,
            "flex_flow": null,
            "grid_area": null,
            "grid_auto_columns": null,
            "grid_auto_flow": null,
            "grid_auto_rows": null,
            "grid_column": null,
            "grid_gap": null,
            "grid_row": null,
            "grid_template_areas": null,
            "grid_template_columns": null,
            "grid_template_rows": null,
            "height": null,
            "justify_content": null,
            "justify_items": null,
            "left": null,
            "margin": null,
            "max_height": null,
            "max_width": null,
            "min_height": null,
            "min_width": null,
            "object_fit": null,
            "object_position": null,
            "order": null,
            "overflow": null,
            "overflow_x": null,
            "overflow_y": null,
            "padding": null,
            "right": null,
            "top": null,
            "visibility": null,
            "width": null
          }
        },
        "6900fcb53ada41e1a5ff36d119649cfd": {
          "model_module": "@jupyter-widgets/controls",
          "model_name": "DescriptionStyleModel",
          "model_module_version": "1.5.0",
          "state": {
            "_model_module": "@jupyter-widgets/controls",
            "_model_module_version": "1.5.0",
            "_model_name": "DescriptionStyleModel",
            "_view_count": null,
            "_view_module": "@jupyter-widgets/base",
            "_view_module_version": "1.2.0",
            "_view_name": "StyleView",
            "description_width": ""
          }
        },
        "9c6bab1c2d114d58a869610bffe4b3c9": {
          "model_module": "@jupyter-widgets/controls",
          "model_name": "HBoxModel",
          "model_module_version": "1.5.0",
          "state": {
            "_dom_classes": [],
            "_model_module": "@jupyter-widgets/controls",
            "_model_module_version": "1.5.0",
            "_model_name": "HBoxModel",
            "_view_count": null,
            "_view_module": "@jupyter-widgets/controls",
            "_view_module_version": "1.5.0",
            "_view_name": "HBoxView",
            "box_style": "",
            "children": [
              "IPY_MODEL_ff6ea215de854815b9485e951f59c812",
              "IPY_MODEL_3d5bebb8723d46b2aa597c10f898d546",
              "IPY_MODEL_a48a65f7d46d4d868cbcc05135678552"
            ],
            "layout": "IPY_MODEL_529d6d3659814d69bab5a7a7591ca0dd"
          }
        },
        "ff6ea215de854815b9485e951f59c812": {
          "model_module": "@jupyter-widgets/controls",
          "model_name": "HTMLModel",
          "model_module_version": "1.5.0",
          "state": {
            "_dom_classes": [],
            "_model_module": "@jupyter-widgets/controls",
            "_model_module_version": "1.5.0",
            "_model_name": "HTMLModel",
            "_view_count": null,
            "_view_module": "@jupyter-widgets/controls",
            "_view_module_version": "1.5.0",
            "_view_name": "HTMLView",
            "description": "",
            "description_tooltip": null,
            "layout": "IPY_MODEL_69b723e53f1146eab92b252ccf0e04c7",
            "placeholder": "​",
            "style": "IPY_MODEL_ca38b1f3a25445afa2685e89a8f697ea",
            "value": "Downloading metadata: "
          }
        },
        "3d5bebb8723d46b2aa597c10f898d546": {
          "model_module": "@jupyter-widgets/controls",
          "model_name": "FloatProgressModel",
          "model_module_version": "1.5.0",
          "state": {
            "_dom_classes": [],
            "_model_module": "@jupyter-widgets/controls",
            "_model_module_version": "1.5.0",
            "_model_name": "FloatProgressModel",
            "_view_count": null,
            "_view_module": "@jupyter-widgets/controls",
            "_view_module_version": "1.5.0",
            "_view_name": "ProgressView",
            "bar_style": "success",
            "description": "",
            "description_tooltip": null,
            "layout": "IPY_MODEL_b51ad19fbe16460e96b3ca589d4c2dc8",
            "max": 1054,
            "min": 0,
            "orientation": "horizontal",
            "style": "IPY_MODEL_3815ae24131946c795db6aa37e47d61f",
            "value": 1054
          }
        },
        "a48a65f7d46d4d868cbcc05135678552": {
          "model_module": "@jupyter-widgets/controls",
          "model_name": "HTMLModel",
          "model_module_version": "1.5.0",
          "state": {
            "_dom_classes": [],
            "_model_module": "@jupyter-widgets/controls",
            "_model_module_version": "1.5.0",
            "_model_name": "HTMLModel",
            "_view_count": null,
            "_view_module": "@jupyter-widgets/controls",
            "_view_module_version": "1.5.0",
            "_view_name": "HTMLView",
            "description": "",
            "description_tooltip": null,
            "layout": "IPY_MODEL_c58a3e12589e4f91857ec73278b01faf",
            "placeholder": "​",
            "style": "IPY_MODEL_78a999428ac4478ca605ffbbd67b347e",
            "value": " 2.17k/? [00:00&lt;00:00, 10.5kB/s]"
          }
        },
        "529d6d3659814d69bab5a7a7591ca0dd": {
          "model_module": "@jupyter-widgets/base",
          "model_name": "LayoutModel",
          "model_module_version": "1.2.0",
          "state": {
            "_model_module": "@jupyter-widgets/base",
            "_model_module_version": "1.2.0",
            "_model_name": "LayoutModel",
            "_view_count": null,
            "_view_module": "@jupyter-widgets/base",
            "_view_module_version": "1.2.0",
            "_view_name": "LayoutView",
            "align_content": null,
            "align_items": null,
            "align_self": null,
            "border": null,
            "bottom": null,
            "display": null,
            "flex": null,
            "flex_flow": null,
            "grid_area": null,
            "grid_auto_columns": null,
            "grid_auto_flow": null,
            "grid_auto_rows": null,
            "grid_column": null,
            "grid_gap": null,
            "grid_row": null,
            "grid_template_areas": null,
            "grid_template_columns": null,
            "grid_template_rows": null,
            "height": null,
            "justify_content": null,
            "justify_items": null,
            "left": null,
            "margin": null,
            "max_height": null,
            "max_width": null,
            "min_height": null,
            "min_width": null,
            "object_fit": null,
            "object_position": null,
            "order": null,
            "overflow": null,
            "overflow_x": null,
            "overflow_y": null,
            "padding": null,
            "right": null,
            "top": null,
            "visibility": null,
            "width": null
          }
        },
        "69b723e53f1146eab92b252ccf0e04c7": {
          "model_module": "@jupyter-widgets/base",
          "model_name": "LayoutModel",
          "model_module_version": "1.2.0",
          "state": {
            "_model_module": "@jupyter-widgets/base",
            "_model_module_version": "1.2.0",
            "_model_name": "LayoutModel",
            "_view_count": null,
            "_view_module": "@jupyter-widgets/base",
            "_view_module_version": "1.2.0",
            "_view_name": "LayoutView",
            "align_content": null,
            "align_items": null,
            "align_self": null,
            "border": null,
            "bottom": null,
            "display": null,
            "flex": null,
            "flex_flow": null,
            "grid_area": null,
            "grid_auto_columns": null,
            "grid_auto_flow": null,
            "grid_auto_rows": null,
            "grid_column": null,
            "grid_gap": null,
            "grid_row": null,
            "grid_template_areas": null,
            "grid_template_columns": null,
            "grid_template_rows": null,
            "height": null,
            "justify_content": null,
            "justify_items": null,
            "left": null,
            "margin": null,
            "max_height": null,
            "max_width": null,
            "min_height": null,
            "min_width": null,
            "object_fit": null,
            "object_position": null,
            "order": null,
            "overflow": null,
            "overflow_x": null,
            "overflow_y": null,
            "padding": null,
            "right": null,
            "top": null,
            "visibility": null,
            "width": null
          }
        },
        "ca38b1f3a25445afa2685e89a8f697ea": {
          "model_module": "@jupyter-widgets/controls",
          "model_name": "DescriptionStyleModel",
          "model_module_version": "1.5.0",
          "state": {
            "_model_module": "@jupyter-widgets/controls",
            "_model_module_version": "1.5.0",
            "_model_name": "DescriptionStyleModel",
            "_view_count": null,
            "_view_module": "@jupyter-widgets/base",
            "_view_module_version": "1.2.0",
            "_view_name": "StyleView",
            "description_width": ""
          }
        },
        "b51ad19fbe16460e96b3ca589d4c2dc8": {
          "model_module": "@jupyter-widgets/base",
          "model_name": "LayoutModel",
          "model_module_version": "1.2.0",
          "state": {
            "_model_module": "@jupyter-widgets/base",
            "_model_module_version": "1.2.0",
            "_model_name": "LayoutModel",
            "_view_count": null,
            "_view_module": "@jupyter-widgets/base",
            "_view_module_version": "1.2.0",
            "_view_name": "LayoutView",
            "align_content": null,
            "align_items": null,
            "align_self": null,
            "border": null,
            "bottom": null,
            "display": null,
            "flex": null,
            "flex_flow": null,
            "grid_area": null,
            "grid_auto_columns": null,
            "grid_auto_flow": null,
            "grid_auto_rows": null,
            "grid_column": null,
            "grid_gap": null,
            "grid_row": null,
            "grid_template_areas": null,
            "grid_template_columns": null,
            "grid_template_rows": null,
            "height": null,
            "justify_content": null,
            "justify_items": null,
            "left": null,
            "margin": null,
            "max_height": null,
            "max_width": null,
            "min_height": null,
            "min_width": null,
            "object_fit": null,
            "object_position": null,
            "order": null,
            "overflow": null,
            "overflow_x": null,
            "overflow_y": null,
            "padding": null,
            "right": null,
            "top": null,
            "visibility": null,
            "width": null
          }
        },
        "3815ae24131946c795db6aa37e47d61f": {
          "model_module": "@jupyter-widgets/controls",
          "model_name": "ProgressStyleModel",
          "model_module_version": "1.5.0",
          "state": {
            "_model_module": "@jupyter-widgets/controls",
            "_model_module_version": "1.5.0",
            "_model_name": "ProgressStyleModel",
            "_view_count": null,
            "_view_module": "@jupyter-widgets/base",
            "_view_module_version": "1.2.0",
            "_view_name": "StyleView",
            "bar_color": null,
            "description_width": ""
          }
        },
        "c58a3e12589e4f91857ec73278b01faf": {
          "model_module": "@jupyter-widgets/base",
          "model_name": "LayoutModel",
          "model_module_version": "1.2.0",
          "state": {
            "_model_module": "@jupyter-widgets/base",
            "_model_module_version": "1.2.0",
            "_model_name": "LayoutModel",
            "_view_count": null,
            "_view_module": "@jupyter-widgets/base",
            "_view_module_version": "1.2.0",
            "_view_name": "LayoutView",
            "align_content": null,
            "align_items": null,
            "align_self": null,
            "border": null,
            "bottom": null,
            "display": null,
            "flex": null,
            "flex_flow": null,
            "grid_area": null,
            "grid_auto_columns": null,
            "grid_auto_flow": null,
            "grid_auto_rows": null,
            "grid_column": null,
            "grid_gap": null,
            "grid_row": null,
            "grid_template_areas": null,
            "grid_template_columns": null,
            "grid_template_rows": null,
            "height": null,
            "justify_content": null,
            "justify_items": null,
            "left": null,
            "margin": null,
            "max_height": null,
            "max_width": null,
            "min_height": null,
            "min_width": null,
            "object_fit": null,
            "object_position": null,
            "order": null,
            "overflow": null,
            "overflow_x": null,
            "overflow_y": null,
            "padding": null,
            "right": null,
            "top": null,
            "visibility": null,
            "width": null
          }
        },
        "78a999428ac4478ca605ffbbd67b347e": {
          "model_module": "@jupyter-widgets/controls",
          "model_name": "DescriptionStyleModel",
          "model_module_version": "1.5.0",
          "state": {
            "_model_module": "@jupyter-widgets/controls",
            "_model_module_version": "1.5.0",
            "_model_name": "DescriptionStyleModel",
            "_view_count": null,
            "_view_module": "@jupyter-widgets/base",
            "_view_module_version": "1.2.0",
            "_view_name": "StyleView",
            "description_width": ""
          }
        },
        "aabdae042f3d403aaba8811cb33359ee": {
          "model_module": "@jupyter-widgets/controls",
          "model_name": "HBoxModel",
          "model_module_version": "1.5.0",
          "state": {
            "_dom_classes": [],
            "_model_module": "@jupyter-widgets/controls",
            "_model_module_version": "1.5.0",
            "_model_name": "HBoxModel",
            "_view_count": null,
            "_view_module": "@jupyter-widgets/controls",
            "_view_module_version": "1.5.0",
            "_view_name": "HBoxView",
            "box_style": "",
            "children": [
              "IPY_MODEL_c87654dc6d9b4b20a7c1cf7994861bae",
              "IPY_MODEL_0122fc86e7314f1c8ded5824462060a1",
              "IPY_MODEL_be65be57c4b649a8a36c4e2c9e3a1c6d"
            ],
            "layout": "IPY_MODEL_01a62148cf1e4c5f9a11807f04e5ce54"
          }
        },
        "c87654dc6d9b4b20a7c1cf7994861bae": {
          "model_module": "@jupyter-widgets/controls",
          "model_name": "HTMLModel",
          "model_module_version": "1.5.0",
          "state": {
            "_dom_classes": [],
            "_model_module": "@jupyter-widgets/controls",
            "_model_module_version": "1.5.0",
            "_model_name": "HTMLModel",
            "_view_count": null,
            "_view_module": "@jupyter-widgets/controls",
            "_view_module_version": "1.5.0",
            "_view_name": "HTMLView",
            "description": "",
            "description_tooltip": null,
            "layout": "IPY_MODEL_f96b70ddd14f4a98ab9f87c3214b8f29",
            "placeholder": "​",
            "style": "IPY_MODEL_b0c2d666ed2b41f1903bb5b5fd15d6d9",
            "value": "100%"
          }
        },
        "0122fc86e7314f1c8ded5824462060a1": {
          "model_module": "@jupyter-widgets/controls",
          "model_name": "FloatProgressModel",
          "model_module_version": "1.5.0",
          "state": {
            "_dom_classes": [],
            "_model_module": "@jupyter-widgets/controls",
            "_model_module_version": "1.5.0",
            "_model_name": "FloatProgressModel",
            "_view_count": null,
            "_view_module": "@jupyter-widgets/controls",
            "_view_module_version": "1.5.0",
            "_view_name": "ProgressView",
            "bar_style": "success",
            "description": "",
            "description_tooltip": null,
            "layout": "IPY_MODEL_5c351470d2e04ba3868937f8f4f222c8",
            "max": 2,
            "min": 0,
            "orientation": "horizontal",
            "style": "IPY_MODEL_d08316e4d40a4b4fafce9f91309ede3a",
            "value": 2
          }
        },
        "be65be57c4b649a8a36c4e2c9e3a1c6d": {
          "model_module": "@jupyter-widgets/controls",
          "model_name": "HTMLModel",
          "model_module_version": "1.5.0",
          "state": {
            "_dom_classes": [],
            "_model_module": "@jupyter-widgets/controls",
            "_model_module_version": "1.5.0",
            "_model_name": "HTMLModel",
            "_view_count": null,
            "_view_module": "@jupyter-widgets/controls",
            "_view_module_version": "1.5.0",
            "_view_name": "HTMLView",
            "description": "",
            "description_tooltip": null,
            "layout": "IPY_MODEL_6d6d76ca057d47cd84914987e5b7174d",
            "placeholder": "​",
            "style": "IPY_MODEL_08e317e3af1748fc8d1b47a3d28745f6",
            "value": " 2/2 [00:01&lt;00:00,  1.56it/s]"
          }
        },
        "01a62148cf1e4c5f9a11807f04e5ce54": {
          "model_module": "@jupyter-widgets/base",
          "model_name": "LayoutModel",
          "model_module_version": "1.2.0",
          "state": {
            "_model_module": "@jupyter-widgets/base",
            "_model_module_version": "1.2.0",
            "_model_name": "LayoutModel",
            "_view_count": null,
            "_view_module": "@jupyter-widgets/base",
            "_view_module_version": "1.2.0",
            "_view_name": "LayoutView",
            "align_content": null,
            "align_items": null,
            "align_self": null,
            "border": null,
            "bottom": null,
            "display": null,
            "flex": null,
            "flex_flow": null,
            "grid_area": null,
            "grid_auto_columns": null,
            "grid_auto_flow": null,
            "grid_auto_rows": null,
            "grid_column": null,
            "grid_gap": null,
            "grid_row": null,
            "grid_template_areas": null,
            "grid_template_columns": null,
            "grid_template_rows": null,
            "height": null,
            "justify_content": null,
            "justify_items": null,
            "left": null,
            "margin": null,
            "max_height": null,
            "max_width": null,
            "min_height": null,
            "min_width": null,
            "object_fit": null,
            "object_position": null,
            "order": null,
            "overflow": null,
            "overflow_x": null,
            "overflow_y": null,
            "padding": null,
            "right": null,
            "top": null,
            "visibility": null,
            "width": null
          }
        },
        "f96b70ddd14f4a98ab9f87c3214b8f29": {
          "model_module": "@jupyter-widgets/base",
          "model_name": "LayoutModel",
          "model_module_version": "1.2.0",
          "state": {
            "_model_module": "@jupyter-widgets/base",
            "_model_module_version": "1.2.0",
            "_model_name": "LayoutModel",
            "_view_count": null,
            "_view_module": "@jupyter-widgets/base",
            "_view_module_version": "1.2.0",
            "_view_name": "LayoutView",
            "align_content": null,
            "align_items": null,
            "align_self": null,
            "border": null,
            "bottom": null,
            "display": null,
            "flex": null,
            "flex_flow": null,
            "grid_area": null,
            "grid_auto_columns": null,
            "grid_auto_flow": null,
            "grid_auto_rows": null,
            "grid_column": null,
            "grid_gap": null,
            "grid_row": null,
            "grid_template_areas": null,
            "grid_template_columns": null,
            "grid_template_rows": null,
            "height": null,
            "justify_content": null,
            "justify_items": null,
            "left": null,
            "margin": null,
            "max_height": null,
            "max_width": null,
            "min_height": null,
            "min_width": null,
            "object_fit": null,
            "object_position": null,
            "order": null,
            "overflow": null,
            "overflow_x": null,
            "overflow_y": null,
            "padding": null,
            "right": null,
            "top": null,
            "visibility": null,
            "width": null
          }
        },
        "b0c2d666ed2b41f1903bb5b5fd15d6d9": {
          "model_module": "@jupyter-widgets/controls",
          "model_name": "DescriptionStyleModel",
          "model_module_version": "1.5.0",
          "state": {
            "_model_module": "@jupyter-widgets/controls",
            "_model_module_version": "1.5.0",
            "_model_name": "DescriptionStyleModel",
            "_view_count": null,
            "_view_module": "@jupyter-widgets/base",
            "_view_module_version": "1.2.0",
            "_view_name": "StyleView",
            "description_width": ""
          }
        },
        "5c351470d2e04ba3868937f8f4f222c8": {
          "model_module": "@jupyter-widgets/base",
          "model_name": "LayoutModel",
          "model_module_version": "1.2.0",
          "state": {
            "_model_module": "@jupyter-widgets/base",
            "_model_module_version": "1.2.0",
            "_model_name": "LayoutModel",
            "_view_count": null,
            "_view_module": "@jupyter-widgets/base",
            "_view_module_version": "1.2.0",
            "_view_name": "LayoutView",
            "align_content": null,
            "align_items": null,
            "align_self": null,
            "border": null,
            "bottom": null,
            "display": null,
            "flex": null,
            "flex_flow": null,
            "grid_area": null,
            "grid_auto_columns": null,
            "grid_auto_flow": null,
            "grid_auto_rows": null,
            "grid_column": null,
            "grid_gap": null,
            "grid_row": null,
            "grid_template_areas": null,
            "grid_template_columns": null,
            "grid_template_rows": null,
            "height": null,
            "justify_content": null,
            "justify_items": null,
            "left": null,
            "margin": null,
            "max_height": null,
            "max_width": null,
            "min_height": null,
            "min_width": null,
            "object_fit": null,
            "object_position": null,
            "order": null,
            "overflow": null,
            "overflow_x": null,
            "overflow_y": null,
            "padding": null,
            "right": null,
            "top": null,
            "visibility": null,
            "width": null
          }
        },
        "d08316e4d40a4b4fafce9f91309ede3a": {
          "model_module": "@jupyter-widgets/controls",
          "model_name": "ProgressStyleModel",
          "model_module_version": "1.5.0",
          "state": {
            "_model_module": "@jupyter-widgets/controls",
            "_model_module_version": "1.5.0",
            "_model_name": "ProgressStyleModel",
            "_view_count": null,
            "_view_module": "@jupyter-widgets/base",
            "_view_module_version": "1.2.0",
            "_view_name": "StyleView",
            "bar_color": null,
            "description_width": ""
          }
        },
        "6d6d76ca057d47cd84914987e5b7174d": {
          "model_module": "@jupyter-widgets/base",
          "model_name": "LayoutModel",
          "model_module_version": "1.2.0",
          "state": {
            "_model_module": "@jupyter-widgets/base",
            "_model_module_version": "1.2.0",
            "_model_name": "LayoutModel",
            "_view_count": null,
            "_view_module": "@jupyter-widgets/base",
            "_view_module_version": "1.2.0",
            "_view_name": "LayoutView",
            "align_content": null,
            "align_items": null,
            "align_self": null,
            "border": null,
            "bottom": null,
            "display": null,
            "flex": null,
            "flex_flow": null,
            "grid_area": null,
            "grid_auto_columns": null,
            "grid_auto_flow": null,
            "grid_auto_rows": null,
            "grid_column": null,
            "grid_gap": null,
            "grid_row": null,
            "grid_template_areas": null,
            "grid_template_columns": null,
            "grid_template_rows": null,
            "height": null,
            "justify_content": null,
            "justify_items": null,
            "left": null,
            "margin": null,
            "max_height": null,
            "max_width": null,
            "min_height": null,
            "min_width": null,
            "object_fit": null,
            "object_position": null,
            "order": null,
            "overflow": null,
            "overflow_x": null,
            "overflow_y": null,
            "padding": null,
            "right": null,
            "top": null,
            "visibility": null,
            "width": null
          }
        },
        "08e317e3af1748fc8d1b47a3d28745f6": {
          "model_module": "@jupyter-widgets/controls",
          "model_name": "DescriptionStyleModel",
          "model_module_version": "1.5.0",
          "state": {
            "_model_module": "@jupyter-widgets/controls",
            "_model_module_version": "1.5.0",
            "_model_name": "DescriptionStyleModel",
            "_view_count": null,
            "_view_module": "@jupyter-widgets/base",
            "_view_module_version": "1.2.0",
            "_view_name": "StyleView",
            "description_width": ""
          }
        }
      }
    }
  },
  "cells": [
    {
      "cell_type": "code",
      "execution_count": 1,
      "metadata": {
        "colab": {
          "base_uri": "https://localhost:8080/"
        },
        "id": "cz5uiWKnMis8",
        "outputId": "8ff6bb38-b372-412a-9ec6-d81300b44dbb"
      },
      "outputs": [
        {
          "output_type": "stream",
          "name": "stdout",
          "text": [
            "Mounted at /content/gdrive\n"
          ]
        }
      ],
      "source": [
        "from google.colab import drive\n",
        "drive.mount(\"/content/gdrive\", force_remount=True)"
      ]
    },
    {
      "cell_type": "code",
      "source": [
        "%pip install torch torchvision torchaudio\n",
        "%pip install torchtext\n",
        "%pip install pytorch-lightning-bolts\n",
        "%pip install datasets\n",
        "%pip install transformers"
      ],
      "metadata": {
        "colab": {
          "base_uri": "https://localhost:8080/"
        },
        "id": "ntc7K7JKMxNl",
        "outputId": "d2ae7269-fa0b-4c28-e7a2-d91208d69f57"
      },
      "execution_count": 2,
      "outputs": [
        {
          "output_type": "stream",
          "name": "stdout",
          "text": [
            "Requirement already satisfied: torch in /usr/local/lib/python3.7/dist-packages (1.11.0+cu113)\n",
            "Requirement already satisfied: torchvision in /usr/local/lib/python3.7/dist-packages (0.12.0+cu113)\n",
            "Requirement already satisfied: torchaudio in /usr/local/lib/python3.7/dist-packages (0.11.0+cu113)\n",
            "Requirement already satisfied: typing-extensions in /usr/local/lib/python3.7/dist-packages (from torch) (4.2.0)\n",
            "Requirement already satisfied: requests in /usr/local/lib/python3.7/dist-packages (from torchvision) (2.23.0)\n",
            "Requirement already satisfied: numpy in /usr/local/lib/python3.7/dist-packages (from torchvision) (1.21.6)\n",
            "Requirement already satisfied: pillow!=8.3.*,>=5.3.0 in /usr/local/lib/python3.7/dist-packages (from torchvision) (7.1.2)\n",
            "Requirement already satisfied: chardet<4,>=3.0.2 in /usr/local/lib/python3.7/dist-packages (from requests->torchvision) (3.0.4)\n",
            "Requirement already satisfied: idna<3,>=2.5 in /usr/local/lib/python3.7/dist-packages (from requests->torchvision) (2.10)\n",
            "Requirement already satisfied: certifi>=2017.4.17 in /usr/local/lib/python3.7/dist-packages (from requests->torchvision) (2021.10.8)\n",
            "Requirement already satisfied: urllib3!=1.25.0,!=1.25.1,<1.26,>=1.21.1 in /usr/local/lib/python3.7/dist-packages (from requests->torchvision) (1.24.3)\n",
            "Requirement already satisfied: torchtext in /usr/local/lib/python3.7/dist-packages (0.12.0)\n",
            "Requirement already satisfied: torch==1.11.0 in /usr/local/lib/python3.7/dist-packages (from torchtext) (1.11.0+cu113)\n",
            "Requirement already satisfied: tqdm in /usr/local/lib/python3.7/dist-packages (from torchtext) (4.64.0)\n",
            "Requirement already satisfied: numpy in /usr/local/lib/python3.7/dist-packages (from torchtext) (1.21.6)\n",
            "Requirement already satisfied: requests in /usr/local/lib/python3.7/dist-packages (from torchtext) (2.23.0)\n",
            "Requirement already satisfied: typing-extensions in /usr/local/lib/python3.7/dist-packages (from torch==1.11.0->torchtext) (4.2.0)\n",
            "Requirement already satisfied: chardet<4,>=3.0.2 in /usr/local/lib/python3.7/dist-packages (from requests->torchtext) (3.0.4)\n",
            "Requirement already satisfied: idna<3,>=2.5 in /usr/local/lib/python3.7/dist-packages (from requests->torchtext) (2.10)\n",
            "Requirement already satisfied: certifi>=2017.4.17 in /usr/local/lib/python3.7/dist-packages (from requests->torchtext) (2021.10.8)\n",
            "Requirement already satisfied: urllib3!=1.25.0,!=1.25.1,<1.26,>=1.21.1 in /usr/local/lib/python3.7/dist-packages (from requests->torchtext) (1.24.3)\n",
            "Collecting pytorch-lightning-bolts\n",
            "  Downloading pytorch_lightning_bolts-0.3.2.post1-py3-none-any.whl (252 kB)\n",
            "\u001b[K     |████████████████████████████████| 252 kB 5.1 MB/s \n",
            "\u001b[?25hRequirement already satisfied: torch>=1.6 in /usr/local/lib/python3.7/dist-packages (from pytorch-lightning-bolts) (1.11.0+cu113)\n",
            "Collecting pytorch-lightning>=1.1.1\n",
            "  Downloading pytorch_lightning-1.6.3-py3-none-any.whl (584 kB)\n",
            "\u001b[K     |████████████████████████████████| 584 kB 37.4 MB/s \n",
            "\u001b[?25hCollecting torchmetrics>=0.2.0\n",
            "  Downloading torchmetrics-0.8.2-py3-none-any.whl (409 kB)\n",
            "\u001b[K     |████████████████████████████████| 409 kB 46.6 MB/s \n",
            "\u001b[?25hCollecting PyYAML>=5.4\n",
            "  Downloading PyYAML-6.0-cp37-cp37m-manylinux_2_5_x86_64.manylinux1_x86_64.manylinux_2_12_x86_64.manylinux2010_x86_64.whl (596 kB)\n",
            "\u001b[K     |████████████████████████████████| 596 kB 27.7 MB/s \n",
            "\u001b[?25hRequirement already satisfied: tqdm>=4.57.0 in /usr/local/lib/python3.7/dist-packages (from pytorch-lightning>=1.1.1->pytorch-lightning-bolts) (4.64.0)\n",
            "Requirement already satisfied: packaging>=17.0 in /usr/local/lib/python3.7/dist-packages (from pytorch-lightning>=1.1.1->pytorch-lightning-bolts) (21.3)\n",
            "Requirement already satisfied: numpy>=1.17.2 in /usr/local/lib/python3.7/dist-packages (from pytorch-lightning>=1.1.1->pytorch-lightning-bolts) (1.21.6)\n",
            "Collecting pyDeprecate<0.4.0,>=0.3.1\n",
            "  Downloading pyDeprecate-0.3.2-py3-none-any.whl (10 kB)\n",
            "Requirement already satisfied: tensorboard>=2.2.0 in /usr/local/lib/python3.7/dist-packages (from pytorch-lightning>=1.1.1->pytorch-lightning-bolts) (2.8.0)\n",
            "Requirement already satisfied: typing-extensions>=4.0.0 in /usr/local/lib/python3.7/dist-packages (from pytorch-lightning>=1.1.1->pytorch-lightning-bolts) (4.2.0)\n",
            "Collecting fsspec[http]!=2021.06.0,>=2021.05.0\n",
            "  Downloading fsspec-2022.3.0-py3-none-any.whl (136 kB)\n",
            "\u001b[K     |████████████████████████████████| 136 kB 38.6 MB/s \n",
            "\u001b[?25hCollecting aiohttp\n",
            "  Downloading aiohttp-3.8.1-cp37-cp37m-manylinux_2_5_x86_64.manylinux1_x86_64.manylinux_2_12_x86_64.manylinux2010_x86_64.whl (1.1 MB)\n",
            "\u001b[K     |████████████████████████████████| 1.1 MB 41.9 MB/s \n",
            "\u001b[?25hRequirement already satisfied: requests in /usr/local/lib/python3.7/dist-packages (from fsspec[http]!=2021.06.0,>=2021.05.0->pytorch-lightning>=1.1.1->pytorch-lightning-bolts) (2.23.0)\n",
            "Requirement already satisfied: pyparsing!=3.0.5,>=2.0.2 in /usr/local/lib/python3.7/dist-packages (from packaging>=17.0->pytorch-lightning>=1.1.1->pytorch-lightning-bolts) (3.0.8)\n",
            "Requirement already satisfied: google-auth<3,>=1.6.3 in /usr/local/lib/python3.7/dist-packages (from tensorboard>=2.2.0->pytorch-lightning>=1.1.1->pytorch-lightning-bolts) (1.35.0)\n",
            "Requirement already satisfied: tensorboard-plugin-wit>=1.6.0 in /usr/local/lib/python3.7/dist-packages (from tensorboard>=2.2.0->pytorch-lightning>=1.1.1->pytorch-lightning-bolts) (1.8.1)\n",
            "Requirement already satisfied: werkzeug>=0.11.15 in /usr/local/lib/python3.7/dist-packages (from tensorboard>=2.2.0->pytorch-lightning>=1.1.1->pytorch-lightning-bolts) (1.0.1)\n",
            "Requirement already satisfied: absl-py>=0.4 in /usr/local/lib/python3.7/dist-packages (from tensorboard>=2.2.0->pytorch-lightning>=1.1.1->pytorch-lightning-bolts) (1.0.0)\n",
            "Requirement already satisfied: google-auth-oauthlib<0.5,>=0.4.1 in /usr/local/lib/python3.7/dist-packages (from tensorboard>=2.2.0->pytorch-lightning>=1.1.1->pytorch-lightning-bolts) (0.4.6)\n",
            "Requirement already satisfied: protobuf>=3.6.0 in /usr/local/lib/python3.7/dist-packages (from tensorboard>=2.2.0->pytorch-lightning>=1.1.1->pytorch-lightning-bolts) (3.17.3)\n",
            "Requirement already satisfied: tensorboard-data-server<0.7.0,>=0.6.0 in /usr/local/lib/python3.7/dist-packages (from tensorboard>=2.2.0->pytorch-lightning>=1.1.1->pytorch-lightning-bolts) (0.6.1)\n",
            "Requirement already satisfied: markdown>=2.6.8 in /usr/local/lib/python3.7/dist-packages (from tensorboard>=2.2.0->pytorch-lightning>=1.1.1->pytorch-lightning-bolts) (3.3.6)\n",
            "Requirement already satisfied: grpcio>=1.24.3 in /usr/local/lib/python3.7/dist-packages (from tensorboard>=2.2.0->pytorch-lightning>=1.1.1->pytorch-lightning-bolts) (1.44.0)\n",
            "Requirement already satisfied: wheel>=0.26 in /usr/local/lib/python3.7/dist-packages (from tensorboard>=2.2.0->pytorch-lightning>=1.1.1->pytorch-lightning-bolts) (0.37.1)\n",
            "Requirement already satisfied: setuptools>=41.0.0 in /usr/local/lib/python3.7/dist-packages (from tensorboard>=2.2.0->pytorch-lightning>=1.1.1->pytorch-lightning-bolts) (57.4.0)\n",
            "Requirement already satisfied: six in /usr/local/lib/python3.7/dist-packages (from absl-py>=0.4->tensorboard>=2.2.0->pytorch-lightning>=1.1.1->pytorch-lightning-bolts) (1.15.0)\n",
            "Requirement already satisfied: rsa<5,>=3.1.4 in /usr/local/lib/python3.7/dist-packages (from google-auth<3,>=1.6.3->tensorboard>=2.2.0->pytorch-lightning>=1.1.1->pytorch-lightning-bolts) (4.8)\n",
            "Requirement already satisfied: pyasn1-modules>=0.2.1 in /usr/local/lib/python3.7/dist-packages (from google-auth<3,>=1.6.3->tensorboard>=2.2.0->pytorch-lightning>=1.1.1->pytorch-lightning-bolts) (0.2.8)\n",
            "Requirement already satisfied: cachetools<5.0,>=2.0.0 in /usr/local/lib/python3.7/dist-packages (from google-auth<3,>=1.6.3->tensorboard>=2.2.0->pytorch-lightning>=1.1.1->pytorch-lightning-bolts) (4.2.4)\n",
            "Requirement already satisfied: requests-oauthlib>=0.7.0 in /usr/local/lib/python3.7/dist-packages (from google-auth-oauthlib<0.5,>=0.4.1->tensorboard>=2.2.0->pytorch-lightning>=1.1.1->pytorch-lightning-bolts) (1.3.1)\n",
            "Requirement already satisfied: importlib-metadata>=4.4 in /usr/local/lib/python3.7/dist-packages (from markdown>=2.6.8->tensorboard>=2.2.0->pytorch-lightning>=1.1.1->pytorch-lightning-bolts) (4.11.3)\n",
            "Requirement already satisfied: zipp>=0.5 in /usr/local/lib/python3.7/dist-packages (from importlib-metadata>=4.4->markdown>=2.6.8->tensorboard>=2.2.0->pytorch-lightning>=1.1.1->pytorch-lightning-bolts) (3.8.0)\n",
            "Requirement already satisfied: pyasn1<0.5.0,>=0.4.6 in /usr/local/lib/python3.7/dist-packages (from pyasn1-modules>=0.2.1->google-auth<3,>=1.6.3->tensorboard>=2.2.0->pytorch-lightning>=1.1.1->pytorch-lightning-bolts) (0.4.8)\n",
            "Requirement already satisfied: urllib3!=1.25.0,!=1.25.1,<1.26,>=1.21.1 in /usr/local/lib/python3.7/dist-packages (from requests->fsspec[http]!=2021.06.0,>=2021.05.0->pytorch-lightning>=1.1.1->pytorch-lightning-bolts) (1.24.3)\n",
            "Requirement already satisfied: chardet<4,>=3.0.2 in /usr/local/lib/python3.7/dist-packages (from requests->fsspec[http]!=2021.06.0,>=2021.05.0->pytorch-lightning>=1.1.1->pytorch-lightning-bolts) (3.0.4)\n",
            "Requirement already satisfied: certifi>=2017.4.17 in /usr/local/lib/python3.7/dist-packages (from requests->fsspec[http]!=2021.06.0,>=2021.05.0->pytorch-lightning>=1.1.1->pytorch-lightning-bolts) (2021.10.8)\n",
            "Requirement already satisfied: idna<3,>=2.5 in /usr/local/lib/python3.7/dist-packages (from requests->fsspec[http]!=2021.06.0,>=2021.05.0->pytorch-lightning>=1.1.1->pytorch-lightning-bolts) (2.10)\n",
            "Requirement already satisfied: oauthlib>=3.0.0 in /usr/local/lib/python3.7/dist-packages (from requests-oauthlib>=0.7.0->google-auth-oauthlib<0.5,>=0.4.1->tensorboard>=2.2.0->pytorch-lightning>=1.1.1->pytorch-lightning-bolts) (3.2.0)\n",
            "Collecting asynctest==0.13.0\n",
            "  Downloading asynctest-0.13.0-py3-none-any.whl (26 kB)\n",
            "Collecting multidict<7.0,>=4.5\n",
            "  Downloading multidict-6.0.2-cp37-cp37m-manylinux_2_17_x86_64.manylinux2014_x86_64.whl (94 kB)\n",
            "\u001b[K     |████████████████████████████████| 94 kB 3.2 MB/s \n",
            "\u001b[?25hCollecting async-timeout<5.0,>=4.0.0a3\n",
            "  Downloading async_timeout-4.0.2-py3-none-any.whl (5.8 kB)\n",
            "Collecting aiosignal>=1.1.2\n",
            "  Downloading aiosignal-1.2.0-py3-none-any.whl (8.2 kB)\n",
            "Collecting yarl<2.0,>=1.0\n",
            "  Downloading yarl-1.7.2-cp37-cp37m-manylinux_2_5_x86_64.manylinux1_x86_64.manylinux_2_12_x86_64.manylinux2010_x86_64.whl (271 kB)\n",
            "\u001b[K     |████████████████████████████████| 271 kB 52.3 MB/s \n",
            "\u001b[?25hRequirement already satisfied: attrs>=17.3.0 in /usr/local/lib/python3.7/dist-packages (from aiohttp->fsspec[http]!=2021.06.0,>=2021.05.0->pytorch-lightning>=1.1.1->pytorch-lightning-bolts) (21.4.0)\n",
            "Collecting frozenlist>=1.1.1\n",
            "  Downloading frozenlist-1.3.0-cp37-cp37m-manylinux_2_5_x86_64.manylinux1_x86_64.manylinux_2_17_x86_64.manylinux2014_x86_64.whl (144 kB)\n",
            "\u001b[K     |████████████████████████████████| 144 kB 39.0 MB/s \n",
            "\u001b[?25hRequirement already satisfied: charset-normalizer<3.0,>=2.0 in /usr/local/lib/python3.7/dist-packages (from aiohttp->fsspec[http]!=2021.06.0,>=2021.05.0->pytorch-lightning>=1.1.1->pytorch-lightning-bolts) (2.0.12)\n",
            "Installing collected packages: multidict, frozenlist, yarl, asynctest, async-timeout, aiosignal, pyDeprecate, fsspec, aiohttp, torchmetrics, PyYAML, pytorch-lightning, pytorch-lightning-bolts\n",
            "  Attempting uninstall: PyYAML\n",
            "    Found existing installation: PyYAML 3.13\n",
            "    Uninstalling PyYAML-3.13:\n",
            "      Successfully uninstalled PyYAML-3.13\n",
            "Successfully installed PyYAML-6.0 aiohttp-3.8.1 aiosignal-1.2.0 async-timeout-4.0.2 asynctest-0.13.0 frozenlist-1.3.0 fsspec-2022.3.0 multidict-6.0.2 pyDeprecate-0.3.2 pytorch-lightning-1.6.3 pytorch-lightning-bolts-0.3.2.post1 torchmetrics-0.8.2 yarl-1.7.2\n",
            "Collecting datasets\n",
            "  Downloading datasets-2.2.1-py3-none-any.whl (342 kB)\n",
            "\u001b[K     |████████████████████████████████| 342 kB 4.8 MB/s \n",
            "\u001b[?25hRequirement already satisfied: tqdm>=4.62.1 in /usr/local/lib/python3.7/dist-packages (from datasets) (4.64.0)\n",
            "Requirement already satisfied: dill in /usr/local/lib/python3.7/dist-packages (from datasets) (0.3.4)\n",
            "Requirement already satisfied: pyarrow>=6.0.0 in /usr/local/lib/python3.7/dist-packages (from datasets) (6.0.1)\n",
            "Requirement already satisfied: multiprocess in /usr/local/lib/python3.7/dist-packages (from datasets) (0.70.12.2)\n",
            "Collecting responses<0.19\n",
            "  Downloading responses-0.18.0-py3-none-any.whl (38 kB)\n",
            "Requirement already satisfied: importlib-metadata in /usr/local/lib/python3.7/dist-packages (from datasets) (4.11.3)\n",
            "Collecting xxhash\n",
            "  Downloading xxhash-3.0.0-cp37-cp37m-manylinux_2_17_x86_64.manylinux2014_x86_64.whl (212 kB)\n",
            "\u001b[K     |████████████████████████████████| 212 kB 42.2 MB/s \n",
            "\u001b[?25hRequirement already satisfied: packaging in /usr/local/lib/python3.7/dist-packages (from datasets) (21.3)\n",
            "Requirement already satisfied: requests>=2.19.0 in /usr/local/lib/python3.7/dist-packages (from datasets) (2.23.0)\n",
            "Requirement already satisfied: aiohttp in /usr/local/lib/python3.7/dist-packages (from datasets) (3.8.1)\n",
            "Collecting huggingface-hub<1.0.0,>=0.1.0\n",
            "  Downloading huggingface_hub-0.6.0-py3-none-any.whl (84 kB)\n",
            "\u001b[K     |████████████████████████████████| 84 kB 2.8 MB/s \n",
            "\u001b[?25hRequirement already satisfied: pandas in /usr/local/lib/python3.7/dist-packages (from datasets) (1.3.5)\n",
            "Requirement already satisfied: numpy>=1.17 in /usr/local/lib/python3.7/dist-packages (from datasets) (1.21.6)\n",
            "Requirement already satisfied: fsspec[http]>=2021.05.0 in /usr/local/lib/python3.7/dist-packages (from datasets) (2022.3.0)\n",
            "Requirement already satisfied: filelock in /usr/local/lib/python3.7/dist-packages (from huggingface-hub<1.0.0,>=0.1.0->datasets) (3.6.0)\n",
            "Requirement already satisfied: typing-extensions>=3.7.4.3 in /usr/local/lib/python3.7/dist-packages (from huggingface-hub<1.0.0,>=0.1.0->datasets) (4.2.0)\n",
            "Requirement already satisfied: pyyaml in /usr/local/lib/python3.7/dist-packages (from huggingface-hub<1.0.0,>=0.1.0->datasets) (6.0)\n",
            "Requirement already satisfied: pyparsing!=3.0.5,>=2.0.2 in /usr/local/lib/python3.7/dist-packages (from packaging->datasets) (3.0.8)\n",
            "Requirement already satisfied: certifi>=2017.4.17 in /usr/local/lib/python3.7/dist-packages (from requests>=2.19.0->datasets) (2021.10.8)\n",
            "Requirement already satisfied: chardet<4,>=3.0.2 in /usr/local/lib/python3.7/dist-packages (from requests>=2.19.0->datasets) (3.0.4)\n",
            "Requirement already satisfied: urllib3!=1.25.0,!=1.25.1,<1.26,>=1.21.1 in /usr/local/lib/python3.7/dist-packages (from requests>=2.19.0->datasets) (1.24.3)\n",
            "Requirement already satisfied: idna<3,>=2.5 in /usr/local/lib/python3.7/dist-packages (from requests>=2.19.0->datasets) (2.10)\n",
            "Collecting urllib3!=1.25.0,!=1.25.1,<1.26,>=1.21.1\n",
            "  Downloading urllib3-1.25.11-py2.py3-none-any.whl (127 kB)\n",
            "\u001b[K     |████████████████████████████████| 127 kB 43.2 MB/s \n",
            "\u001b[?25hRequirement already satisfied: aiosignal>=1.1.2 in /usr/local/lib/python3.7/dist-packages (from aiohttp->datasets) (1.2.0)\n",
            "Requirement already satisfied: attrs>=17.3.0 in /usr/local/lib/python3.7/dist-packages (from aiohttp->datasets) (21.4.0)\n",
            "Requirement already satisfied: charset-normalizer<3.0,>=2.0 in /usr/local/lib/python3.7/dist-packages (from aiohttp->datasets) (2.0.12)\n",
            "Requirement already satisfied: async-timeout<5.0,>=4.0.0a3 in /usr/local/lib/python3.7/dist-packages (from aiohttp->datasets) (4.0.2)\n",
            "Requirement already satisfied: yarl<2.0,>=1.0 in /usr/local/lib/python3.7/dist-packages (from aiohttp->datasets) (1.7.2)\n",
            "Requirement already satisfied: frozenlist>=1.1.1 in /usr/local/lib/python3.7/dist-packages (from aiohttp->datasets) (1.3.0)\n",
            "Requirement already satisfied: multidict<7.0,>=4.5 in /usr/local/lib/python3.7/dist-packages (from aiohttp->datasets) (6.0.2)\n",
            "Requirement already satisfied: asynctest==0.13.0 in /usr/local/lib/python3.7/dist-packages (from aiohttp->datasets) (0.13.0)\n",
            "Requirement already satisfied: zipp>=0.5 in /usr/local/lib/python3.7/dist-packages (from importlib-metadata->datasets) (3.8.0)\n",
            "Requirement already satisfied: pytz>=2017.3 in /usr/local/lib/python3.7/dist-packages (from pandas->datasets) (2022.1)\n",
            "Requirement already satisfied: python-dateutil>=2.7.3 in /usr/local/lib/python3.7/dist-packages (from pandas->datasets) (2.8.2)\n",
            "Requirement already satisfied: six>=1.5 in /usr/local/lib/python3.7/dist-packages (from python-dateutil>=2.7.3->pandas->datasets) (1.15.0)\n",
            "Installing collected packages: urllib3, xxhash, responses, huggingface-hub, datasets\n",
            "  Attempting uninstall: urllib3\n",
            "    Found existing installation: urllib3 1.24.3\n",
            "    Uninstalling urllib3-1.24.3:\n",
            "      Successfully uninstalled urllib3-1.24.3\n",
            "\u001b[31mERROR: pip's dependency resolver does not currently take into account all the packages that are installed. This behaviour is the source of the following dependency conflicts.\n",
            "datascience 0.10.6 requires folium==0.2.1, but you have folium 0.8.3 which is incompatible.\u001b[0m\n",
            "Successfully installed datasets-2.2.1 huggingface-hub-0.6.0 responses-0.18.0 urllib3-1.25.11 xxhash-3.0.0\n",
            "Collecting transformers\n",
            "  Downloading transformers-4.19.0-py3-none-any.whl (4.2 MB)\n",
            "\u001b[K     |████████████████████████████████| 4.2 MB 5.2 MB/s \n",
            "\u001b[?25hCollecting tokenizers!=0.11.3,<0.13,>=0.11.1\n",
            "  Downloading tokenizers-0.12.1-cp37-cp37m-manylinux_2_12_x86_64.manylinux2010_x86_64.whl (6.6 MB)\n",
            "\u001b[K     |████████████████████████████████| 6.6 MB 34.8 MB/s \n",
            "\u001b[?25hRequirement already satisfied: pyyaml>=5.1 in /usr/local/lib/python3.7/dist-packages (from transformers) (6.0)\n",
            "Requirement already satisfied: numpy>=1.17 in /usr/local/lib/python3.7/dist-packages (from transformers) (1.21.6)\n",
            "Requirement already satisfied: packaging>=20.0 in /usr/local/lib/python3.7/dist-packages (from transformers) (21.3)\n",
            "Requirement already satisfied: filelock in /usr/local/lib/python3.7/dist-packages (from transformers) (3.6.0)\n",
            "Requirement already satisfied: regex!=2019.12.17 in /usr/local/lib/python3.7/dist-packages (from transformers) (2019.12.20)\n",
            "Requirement already satisfied: requests in /usr/local/lib/python3.7/dist-packages (from transformers) (2.23.0)\n",
            "Requirement already satisfied: tqdm>=4.27 in /usr/local/lib/python3.7/dist-packages (from transformers) (4.64.0)\n",
            "Requirement already satisfied: huggingface-hub<1.0,>=0.1.0 in /usr/local/lib/python3.7/dist-packages (from transformers) (0.6.0)\n",
            "Requirement already satisfied: importlib-metadata in /usr/local/lib/python3.7/dist-packages (from transformers) (4.11.3)\n",
            "Requirement already satisfied: typing-extensions>=3.7.4.3 in /usr/local/lib/python3.7/dist-packages (from huggingface-hub<1.0,>=0.1.0->transformers) (4.2.0)\n",
            "Requirement already satisfied: pyparsing!=3.0.5,>=2.0.2 in /usr/local/lib/python3.7/dist-packages (from packaging>=20.0->transformers) (3.0.8)\n",
            "Requirement already satisfied: zipp>=0.5 in /usr/local/lib/python3.7/dist-packages (from importlib-metadata->transformers) (3.8.0)\n",
            "Requirement already satisfied: certifi>=2017.4.17 in /usr/local/lib/python3.7/dist-packages (from requests->transformers) (2021.10.8)\n",
            "Requirement already satisfied: idna<3,>=2.5 in /usr/local/lib/python3.7/dist-packages (from requests->transformers) (2.10)\n",
            "Requirement already satisfied: urllib3!=1.25.0,!=1.25.1,<1.26,>=1.21.1 in /usr/local/lib/python3.7/dist-packages (from requests->transformers) (1.25.11)\n",
            "Requirement already satisfied: chardet<4,>=3.0.2 in /usr/local/lib/python3.7/dist-packages (from requests->transformers) (3.0.4)\n",
            "Installing collected packages: tokenizers, transformers\n",
            "Successfully installed tokenizers-0.12.1 transformers-4.19.0\n"
          ]
        }
      ]
    },
    {
      "cell_type": "code",
      "source": [
        "%load_ext autoreload\n",
        "%autoreload 2"
      ],
      "metadata": {
        "id": "BpwJMegYM4Az"
      },
      "execution_count": 3,
      "outputs": []
    },
    {
      "cell_type": "code",
      "source": [
        "!ls"
      ],
      "metadata": {
        "colab": {
          "base_uri": "https://localhost:8080/"
        },
        "id": "B9RLh5oiNJS2",
        "outputId": "3b5e5a71-6f78-4deb-e227-f54a018e4ddb"
      },
      "execution_count": 4,
      "outputs": [
        {
          "output_type": "stream",
          "name": "stdout",
          "text": [
            "gdrive\tsample_data\n"
          ]
        }
      ]
    },
    {
      "cell_type": "code",
      "source": [
        "%cd \"gdrive/MyDrive/CoLLT/\""
      ],
      "metadata": {
        "colab": {
          "base_uri": "https://localhost:8080/"
        },
        "id": "TtgDb6c7NLzT",
        "outputId": "74bee32f-5548-4ec5-f916-efe47df3c1ae"
      },
      "execution_count": 5,
      "outputs": [
        {
          "output_type": "stream",
          "name": "stdout",
          "text": [
            "/content/gdrive/MyDrive/CoLLT\n"
          ]
        }
      ]
    },
    {
      "cell_type": "code",
      "source": [
        "%pwd"
      ],
      "metadata": {
        "colab": {
          "base_uri": "https://localhost:8080/",
          "height": 35
        },
        "id": "LLM5Z_LlNO-1",
        "outputId": "7f29f25e-eb70-4ea8-d721-f419423a6552"
      },
      "execution_count": 6,
      "outputs": [
        {
          "output_type": "execute_result",
          "data": {
            "text/plain": [
              "'/content/gdrive/MyDrive/CoLLT'"
            ],
            "application/vnd.google.colaboratory.intrinsic+json": {
              "type": "string"
            }
          },
          "metadata": {},
          "execution_count": 6
        }
      ]
    },
    {
      "cell_type": "code",
      "source": [
        "import torch\n",
        "import os.path as osp\n",
        "import losses as L\n",
        "import augmentors as A\n",
        "import models as M\n",
        "import torch.nn.functional as F\n",
        "\n",
        "from tqdm import tqdm\n",
        "from torch.optim import Adam, AdamW\n",
        "import datasets\n",
        "from contrast_models import WithinEmbedContrast\n",
        "from pl_bolts.optimizers import LinearWarmupCosineAnnealingLR\n",
        "import numpy as np\n",
        "device_name = 'cpu'\n",
        "device = torch.device(device_name)"
      ],
      "metadata": {
        "colab": {
          "base_uri": "https://localhost:8080/"
        },
        "id": "SjzfMtgZNRGD",
        "outputId": "7ecd29d9-5662-49fb-c18d-9b70c2b613cc"
      },
      "execution_count": 7,
      "outputs": [
        {
          "output_type": "stream",
          "name": "stderr",
          "text": [
            "/usr/local/lib/python3.7/dist-packages/pl_bolts/utils/warnings.py:32: UserWarning: You want to use `wandb` which is not installed yet, install it with `pip install wandb`.\n",
            "  f' install it with `pip install {pypi_name}`.' + extra_text\n"
          ]
        }
      ]
    },
    {
      "cell_type": "code",
      "source": [
        "train_data, test_data = datasets.load_dataset('imdb', split =['train', 'test'], \n",
        "                                            cache_dir='./data/')"
      ],
      "metadata": {
        "colab": {
          "base_uri": "https://localhost:8080/",
          "height": 130,
          "referenced_widgets": [
            "61089d56afac49bc8457b4b32ad85dcc",
            "85c3f1fc42474dd589040facf1f9131b",
            "2e1c87f5f2f84b5ab3db3c463b6a16c6",
            "6df19a1c8e4842b5a88a1ec2e58b8e56",
            "a84c30d7819f4568a5066d68163bc257",
            "4c0ae41d01914a119d1b40c9c37a3c90",
            "0e99c91e162744739fc7b9f9bc8d81f1",
            "284c4b8fbd5e464dbc359790c925879b",
            "b2b91f264a7f4c40a0faff6182b40e06",
            "5c928dd1f00b4d6dbc975457c93f99d7",
            "6900fcb53ada41e1a5ff36d119649cfd",
            "9c6bab1c2d114d58a869610bffe4b3c9",
            "ff6ea215de854815b9485e951f59c812",
            "3d5bebb8723d46b2aa597c10f898d546",
            "a48a65f7d46d4d868cbcc05135678552",
            "529d6d3659814d69bab5a7a7591ca0dd",
            "69b723e53f1146eab92b252ccf0e04c7",
            "ca38b1f3a25445afa2685e89a8f697ea",
            "b51ad19fbe16460e96b3ca589d4c2dc8",
            "3815ae24131946c795db6aa37e47d61f",
            "c58a3e12589e4f91857ec73278b01faf",
            "78a999428ac4478ca605ffbbd67b347e",
            "aabdae042f3d403aaba8811cb33359ee",
            "c87654dc6d9b4b20a7c1cf7994861bae",
            "0122fc86e7314f1c8ded5824462060a1",
            "be65be57c4b649a8a36c4e2c9e3a1c6d",
            "01a62148cf1e4c5f9a11807f04e5ce54",
            "f96b70ddd14f4a98ab9f87c3214b8f29",
            "b0c2d666ed2b41f1903bb5b5fd15d6d9",
            "5c351470d2e04ba3868937f8f4f222c8",
            "d08316e4d40a4b4fafce9f91309ede3a",
            "6d6d76ca057d47cd84914987e5b7174d",
            "08e317e3af1748fc8d1b47a3d28745f6"
          ]
        },
        "id": "ApyS6ooJNTMh",
        "outputId": "2a008a88-1b2b-430c-e2cc-bd882c6209ba"
      },
      "execution_count": 8,
      "outputs": [
        {
          "output_type": "display_data",
          "data": {
            "text/plain": [
              "Downloading builder script:   0%|          | 0.00/1.79k [00:00<?, ?B/s]"
            ],
            "application/vnd.jupyter.widget-view+json": {
              "version_major": 2,
              "version_minor": 0,
              "model_id": "61089d56afac49bc8457b4b32ad85dcc"
            }
          },
          "metadata": {}
        },
        {
          "output_type": "display_data",
          "data": {
            "text/plain": [
              "Downloading metadata:   0%|          | 0.00/1.05k [00:00<?, ?B/s]"
            ],
            "application/vnd.jupyter.widget-view+json": {
              "version_major": 2,
              "version_minor": 0,
              "model_id": "9c6bab1c2d114d58a869610bffe4b3c9"
            }
          },
          "metadata": {}
        },
        {
          "output_type": "stream",
          "name": "stderr",
          "text": [
            "Reusing dataset imdb (./data/imdb/plain_text/1.0.0/2fdd8b9bcadd6e7055e742a706876ba43f19faee861df134affd7a3f60fc38a1)\n"
          ]
        },
        {
          "output_type": "display_data",
          "data": {
            "text/plain": [
              "  0%|          | 0/2 [00:00<?, ?it/s]"
            ],
            "application/vnd.jupyter.widget-view+json": {
              "version_major": 2,
              "version_minor": 0,
              "model_id": "aabdae042f3d403aaba8811cb33359ee"
            }
          },
          "metadata": {}
        }
      ]
    },
    {
      "cell_type": "code",
      "source": [
        "length_array = []\n",
        "for data in train_data:\n",
        "  split_array = data[\"text\"].split(\" \")\n",
        "  length_array.append(len(split_array))"
      ],
      "metadata": {
        "id": "6BjjDjddNdXx"
      },
      "execution_count": 10,
      "outputs": []
    },
    {
      "cell_type": "code",
      "source": [
        "print(length_array)\n",
        "min_length = min(length_array)\n",
        "max_length = max(length_array)"
      ],
      "metadata": {
        "colab": {
          "base_uri": "https://localhost:8080/"
        },
        "id": "RaE_VOnYNtS8",
        "outputId": "57e1080a-f00e-45ef-c230-91de266c72c9"
      },
      "execution_count": 13,
      "outputs": [
        {
          "output_type": "stream",
          "name": "stdout",
          "text": [
            "[288, 214, 93, 118, 311, 123, 114, 301, 480, 224, 262, 136, 128, 140, 360, 202, 78, 888, 69, 158, 177, 151, 166, 325, 105, 186, 228, 115, 232, 369, 168, 149, 154, 179, 385, 124, 155, 296, 223, 119, 133, 124, 837, 238, 483, 138, 126, 118, 157, 130, 187, 195, 462, 245, 283, 458, 260, 148, 125, 49, 214, 180, 170, 326, 127, 343, 258, 137, 76, 770, 228, 55, 144, 120, 364, 117, 146, 185, 124, 351, 629, 138, 359, 159, 247, 265, 268, 589, 275, 332, 280, 123, 865, 48, 109, 520, 171, 157, 516, 132, 155, 156, 255, 233, 174, 276, 246, 138, 190, 159, 46, 398, 500, 170, 114, 331, 137, 132, 139, 147, 322, 145, 201, 76, 312, 130, 125, 112, 863, 305, 306, 122, 224, 113, 149, 72, 261, 231, 182, 49, 146, 217, 594, 153, 179, 120, 108, 426, 138, 388, 166, 141, 146, 191, 174, 252, 168, 169, 156, 151, 69, 157, 193, 258, 143, 379, 151, 305, 305, 174, 122, 185, 246, 264, 116, 112, 96, 140, 331, 203, 913, 83, 126, 147, 127, 226, 87, 156, 72, 59, 127, 214, 167, 159, 84, 84, 44, 906, 516, 132, 161, 121, 139, 374, 136, 195, 128, 190, 158, 650, 83, 122, 76, 455, 180, 266, 160, 215, 496, 115, 67, 133, 156, 134, 153, 118, 137, 304, 127, 119, 999, 302, 177, 130, 154, 395, 205, 54, 535, 248, 119, 150, 55, 88, 92, 95, 389, 309, 836, 231, 156, 122, 159, 766, 173, 147, 146, 409, 148, 148, 135, 138, 115, 182, 364, 854, 159, 244, 52, 81, 129, 140, 89, 432, 112, 268, 188, 87, 122, 188, 214, 811, 456, 158, 107, 74, 140, 102, 172, 125, 246, 125, 105, 54, 314, 262, 245, 38, 422, 219, 163, 185, 94, 256, 179, 243, 307, 209, 190, 144, 92, 174, 393, 216, 180, 143, 133, 284, 295, 147, 163, 122, 131, 127, 129, 142, 63, 116, 152, 71, 137, 59, 46, 21, 74, 125, 171, 124, 77, 197, 126, 191, 216, 42, 110, 433, 334, 118, 155, 83, 116, 168, 122, 527, 214, 356, 138, 149, 131, 185, 183, 124, 314, 77, 291, 261, 227, 251, 273, 110, 534, 294, 148, 11, 458, 563, 118, 120, 68, 79, 36, 147, 220, 167, 147, 145, 149, 122, 348, 132, 263, 287, 110, 151, 755, 263, 339, 71, 164, 71, 32, 77, 116, 140, 98, 191, 179, 133, 124, 187, 110, 217, 273, 525, 186, 491, 485, 182, 146, 199, 166, 791, 659, 136, 60, 168, 183, 353, 151, 199, 327, 144, 148, 131, 134, 126, 170, 206, 163, 104, 433, 184, 181, 165, 88, 132, 218, 145, 111, 330, 209, 334, 195, 114, 275, 267, 146, 554, 129, 970, 202, 997, 61, 223, 251, 52, 115, 61, 76, 245, 279, 340, 136, 261, 287, 146, 368, 331, 746, 558, 165, 300, 301, 1014, 178, 241, 285, 45, 145, 282, 140, 87, 158, 135, 233, 184, 93, 253, 522, 199, 429, 716, 181, 47, 355, 126, 126, 156, 131, 439, 63, 164, 164, 115, 154, 200, 170, 658, 117, 167, 568, 505, 121, 248, 134, 222, 356, 205, 854, 98, 360, 385, 175, 237, 155, 357, 188, 119, 136, 144, 135, 291, 116, 479, 393, 141, 251, 294, 228, 140, 282, 128, 244, 242, 246, 243, 343, 124, 286, 148, 314, 181, 353, 185, 124, 129, 159, 168, 350, 98, 305, 261, 350, 79, 81, 70, 102, 50, 130, 225, 108, 504, 340, 237, 136, 51, 274, 138, 239, 174, 322, 433, 356, 385, 264, 285, 240, 137, 153, 88, 127, 247, 223, 456, 147, 161, 95, 355, 167, 136, 131, 222, 987, 112, 706, 545, 293, 145, 559, 184, 197, 157, 174, 179, 125, 120, 122, 182, 141, 143, 136, 135, 170, 193, 244, 243, 261, 139, 139, 350, 55, 88, 383, 197, 166, 81, 164, 139, 39, 165, 159, 930, 500, 247, 337, 991, 370, 525, 161, 271, 141, 431, 341, 142, 142, 262, 436, 939, 443, 276, 171, 329, 206, 252, 453, 166, 126, 131, 119, 42, 252, 937, 150, 135, 95, 208, 116, 768, 486, 573, 186, 198, 284, 110, 239, 187, 186, 118, 255, 159, 720, 159, 262, 174, 172, 172, 476, 138, 185, 73, 160, 202, 296, 181, 291, 222, 133, 231, 254, 262, 281, 355, 153, 112, 196, 408, 744, 90, 37, 76, 176, 196, 161, 112, 177, 456, 443, 305, 297, 128, 445, 270, 191, 271, 270, 394, 746, 311, 263, 382, 558, 800, 347, 724, 156, 151, 259, 526, 283, 414, 111, 124, 464, 242, 124, 191, 170, 116, 445, 193, 178, 989, 297, 457, 127, 202, 343, 215, 150, 478, 155, 77, 317, 199, 379, 141, 113, 148, 476, 14, 184, 172, 193, 194, 163, 145, 177, 399, 109, 218, 225, 169, 103, 748, 346, 161, 335, 214, 134, 187, 138, 134, 440, 242, 459, 198, 199, 79, 273, 62, 309, 136, 261, 85, 138, 837, 301, 83, 161, 198, 140, 428, 505, 96, 109, 189, 141, 60, 28, 207, 159, 229, 236, 97, 72, 219, 161, 298, 871, 116, 113, 82, 66, 150, 172, 291, 135, 220, 100, 229, 103, 176, 159, 293, 272, 150, 118, 55, 290, 274, 243, 120, 189, 83, 140, 315, 122, 476, 446, 367, 109, 133, 112, 204, 134, 305, 157, 161, 211, 150, 231, 190, 49, 194, 161, 129, 458, 182, 240, 468, 257, 226, 176, 175, 94, 103, 212, 136, 206, 202, 318, 127, 216, 459, 158, 241, 342, 152, 177, 147, 289, 335, 484, 256, 250, 122, 995, 194, 113, 164, 339, 120, 534, 149, 163, 185, 405, 149, 192, 175, 278, 227, 990, 359, 123, 180, 103, 137, 263, 97, 135, 72, 157, 393, 248, 33, 162, 101, 411, 119, 170, 193, 105, 143, 238, 515, 222, 203, 279, 271, 151, 115, 178, 169, 624, 182, 147, 213, 102, 177, 244, 58, 570, 459, 410, 123, 126, 207, 58, 512, 131, 91, 169, 175, 113, 96, 179, 178, 88, 266, 182, 727, 340, 141, 48, 146, 143, 186, 128, 98, 82, 98, 107, 129, 180, 194, 153, 400, 56, 510, 632, 100, 161, 149, 322, 734, 633, 121, 131, 123, 51, 371, 105, 184, 127, 134, 170, 77, 135, 156, 253, 504, 268, 156, 131, 204, 56, 166, 44, 83, 138, 181, 55, 54, 120, 331, 373, 120, 147, 307, 95, 94, 84, 122, 172, 178, 261, 90, 111, 139, 213, 260, 127, 202, 185, 571, 138, 224, 177, 170, 412, 142, 280, 335, 413, 137, 59, 166, 75, 346, 419, 137, 137, 180, 131, 137, 158, 179, 101, 74, 51, 85, 119, 50, 411, 169, 116, 645, 252, 427, 124, 116, 116, 122, 403, 230, 241, 254, 81, 194, 227, 117, 80, 369, 235, 333, 123, 1263, 300, 52, 169, 421, 133, 167, 163, 109, 129, 116, 193, 83, 117, 127, 177, 158, 209, 55, 236, 597, 252, 211, 156, 236, 201, 70, 203, 256, 85, 191, 158, 118, 152, 134, 220, 329, 142, 190, 167, 397, 122, 133, 104, 230, 232, 1010, 900, 677, 58, 158, 73, 44, 35, 649, 266, 375, 35, 109, 366, 82, 69, 54, 70, 73, 116, 113, 60, 279, 117, 825, 128, 794, 354, 158, 131, 399, 235, 304, 193, 129, 215, 131, 221, 193, 495, 436, 453, 117, 595, 291, 182, 229, 211, 146, 190, 94, 294, 270, 232, 184, 439, 144, 54, 70, 197, 648, 112, 123, 262, 135, 118, 137, 84, 124, 120, 64, 873, 380, 341, 135, 177, 165, 148, 248, 199, 106, 124, 171, 219, 115, 246, 264, 151, 369, 51, 551, 229, 132, 183, 551, 340, 128, 143, 96, 54, 199, 328, 334, 156, 207, 120, 190, 117, 362, 989, 195, 141, 127, 151, 128, 352, 204, 130, 198, 111, 339, 189, 206, 346, 186, 160, 78, 149, 51, 83, 325, 115, 67, 609, 151, 123, 126, 140, 136, 53, 132, 220, 141, 133, 268, 324, 118, 56, 366, 269, 238, 164, 154, 291, 142, 309, 290, 568, 194, 463, 118, 153, 244, 552, 230, 295, 117, 577, 129, 578, 161, 195, 193, 305, 398, 313, 135, 53, 69, 77, 339, 121, 113, 70, 227, 79, 144, 61, 592, 163, 111, 443, 290, 178, 167, 164, 207, 258, 721, 200, 151, 80, 231, 107, 212, 134, 209, 137, 320, 199, 226, 197, 253, 268, 195, 112, 148, 265, 467, 201, 311, 318, 411, 143, 173, 87, 39, 630, 154, 119, 167, 206, 117, 438, 267, 304, 138, 141, 167, 120, 319, 70, 38, 218, 122, 124, 87, 100, 93, 55, 66, 71, 82, 330, 496, 157, 316, 187, 227, 835, 154, 115, 126, 44, 377, 201, 418, 180, 76, 28, 215, 532, 733, 216, 199, 168, 441, 313, 394, 510, 128, 173, 193, 90, 130, 567, 148, 125, 160, 108, 275, 145, 133, 375, 68, 111, 578, 376, 135, 118, 226, 109, 98, 317, 766, 328, 331, 183, 410, 183, 277, 299, 238, 120, 218, 257, 300, 150, 177, 527, 284, 277, 128, 144, 120, 175, 116, 210, 192, 126, 128, 267, 300, 119, 143, 298, 384, 61, 40, 332, 181, 468, 85, 249, 295, 225, 173, 636, 165, 822, 184, 176, 89, 107, 118, 356, 128, 349, 368, 300, 263, 323, 170, 216, 123, 105, 213, 50, 142, 82, 396, 300, 877, 229, 141, 102, 126, 256, 132, 231, 111, 187, 102, 95, 171, 135, 76, 82, 458, 51, 70, 419, 138, 101, 161, 591, 117, 56, 201, 471, 117, 230, 158, 172, 204, 242, 200, 200, 376, 244, 187, 311, 335, 968, 117, 128, 298, 392, 889, 403, 254, 255, 376, 137, 151, 105, 94, 95, 52, 321, 113, 139, 171, 732, 214, 497, 278, 228, 160, 208, 156, 273, 129, 299, 157, 115, 96, 56, 204, 385, 149, 67, 150, 123, 130, 94, 15, 97, 70, 68, 138, 125, 242, 116, 52, 68, 105, 138, 59, 113, 139, 282, 166, 59, 204, 140, 37, 75, 189, 317, 76, 536, 67, 62, 275, 212, 36, 241, 214, 183, 481, 120, 127, 292, 162, 559, 600, 530, 211, 156, 226, 95, 152, 219, 173, 134, 202, 405, 247, 67, 187, 69, 118, 306, 231, 176, 367, 121, 132, 135, 143, 277, 128, 170, 135, 113, 266, 157, 136, 249, 388, 130, 200, 109, 342, 141, 113, 168, 178, 311, 369, 246, 128, 282, 245, 120, 125, 318, 109, 160, 329, 170, 143, 217, 583, 256, 518, 139, 239, 246, 173, 120, 122, 278, 148, 109, 293, 228, 156, 194, 246, 203, 452, 228, 180, 117, 154, 121, 143, 144, 214, 226, 153, 211, 107, 156, 534, 196, 134, 147, 151, 142, 124, 130, 129, 125, 227, 185, 673, 115, 480, 118, 112, 427, 166, 531, 143, 142, 94, 54, 171, 107, 108, 372, 445, 133, 168, 125, 85, 215, 212, 93, 188, 213, 66, 223, 74, 96, 56, 70, 128, 161, 132, 245, 293, 395, 598, 193, 320, 548, 104, 57, 82, 363, 218, 79, 147, 103, 132, 141, 179, 313, 249, 132, 77, 451, 126, 132, 109, 197, 498, 351, 374, 256, 356, 236, 263, 150, 323, 290, 169, 169, 288, 160, 84, 51, 140, 104, 89, 251, 156, 594, 123, 128, 45, 162, 74, 163, 131, 140, 151, 332, 135, 265, 127, 225, 145, 332, 143, 121, 273, 386, 139, 128, 164, 197, 469, 109, 131, 126, 150, 303, 121, 135, 112, 120, 231, 41, 509, 294, 101, 393, 152, 494, 171, 109, 101, 404, 110, 152, 988, 227, 289, 608, 671, 151, 142, 235, 474, 184, 149, 118, 527, 159, 122, 198, 478, 131, 126, 138, 148, 115, 308, 384, 456, 234, 487, 124, 198, 179, 123, 222, 94, 128, 352, 476, 588, 272, 285, 104, 338, 174, 153, 113, 192, 85, 449, 215, 144, 162, 158, 108, 335, 179, 161, 308, 213, 129, 205, 158, 180, 238, 126, 936, 122, 129, 351, 164, 195, 158, 65, 364, 166, 122, 121, 143, 140, 134, 136, 173, 164, 280, 60, 180, 475, 138, 133, 175, 126, 146, 154, 118, 162, 130, 75, 171, 617, 575, 138, 303, 449, 169, 204, 115, 128, 138, 141, 150, 221, 148, 503, 169, 197, 688, 120, 192, 120, 268, 189, 588, 130, 110, 514, 143, 242, 120, 291, 181, 136, 154, 653, 324, 710, 92, 1522, 1475, 342, 711, 273, 312, 656, 266, 121, 320, 161, 179, 128, 406, 155, 124, 223, 143, 111, 146, 424, 348, 133, 291, 156, 203, 419, 473, 136, 223, 192, 233, 135, 140, 433, 74, 232, 219, 352, 347, 138, 141, 136, 275, 126, 119, 386, 215, 352, 188, 92, 142, 138, 519, 145, 138, 398, 147, 112, 140, 147, 238, 180, 167, 106, 267, 297, 463, 133, 253, 134, 397, 145, 206, 324, 118, 736, 122, 236, 102, 72, 98, 338, 147, 49, 328, 162, 975, 110, 191, 307, 239, 142, 187, 188, 215, 127, 133, 119, 441, 189, 174, 127, 410, 227, 120, 343, 145, 130, 125, 156, 448, 608, 257, 167, 134, 264, 208, 166, 474, 160, 132, 122, 135, 327, 133, 155, 158, 143, 63, 78, 123, 366, 78, 95, 262, 256, 238, 181, 296, 993, 135, 863, 266, 257, 158, 271, 118, 67, 214, 255, 660, 430, 243, 289, 120, 506, 122, 137, 208, 169, 122, 404, 389, 637, 252, 136, 123, 295, 119, 314, 119, 113, 298, 67, 31, 163, 63, 341, 174, 481, 80, 158, 122, 118, 761, 261, 178, 130, 825, 278, 130, 214, 181, 105, 78, 138, 128, 345, 90, 373, 173, 431, 143, 63, 113, 127, 56, 153, 184, 157, 149, 132, 117, 188, 582, 115, 186, 174, 113, 123, 187, 126, 149, 342, 475, 211, 196, 230, 442, 339, 135, 120, 221, 616, 287, 132, 166, 371, 225, 130, 141, 330, 129, 280, 206, 315, 154, 148, 123, 115, 242, 204, 46, 66, 92, 156, 308, 215, 152, 198, 70, 185, 180, 143, 661, 119, 118, 975, 125, 316, 255, 205, 181, 512, 151, 119, 106, 191, 135, 136, 744, 187, 288, 370, 703, 134, 291, 111, 175, 125, 241, 138, 226, 140, 139, 59, 169, 243, 94, 379, 287, 93, 96, 121, 713, 231, 261, 174, 181, 208, 174, 190, 178, 50, 108, 191, 71, 57, 102, 143, 33, 112, 305, 597, 654, 311, 125, 821, 230, 213, 59, 76, 149, 119, 127, 384, 228, 146, 174, 154, 370, 134, 381, 201, 166, 165, 156, 146, 239, 96, 220, 230, 127, 223, 490, 126, 704, 68, 131, 167, 129, 200, 139, 175, 36, 109, 10, 216, 543, 231, 347, 145, 130, 110, 61, 231, 235, 221, 389, 144, 166, 149, 393, 152, 225, 154, 45, 151, 148, 120, 118, 128, 191, 524, 132, 106, 122, 174, 152, 221, 182, 169, 186, 204, 127, 122, 156, 84, 129, 317, 169, 195, 239, 178, 65, 336, 56, 149, 500, 947, 171, 283, 646, 158, 126, 82, 77, 352, 123, 701, 136, 113, 120, 267, 155, 186, 288, 130, 135, 147, 164, 131, 121, 198, 494, 183, 266, 56, 177, 147, 289, 305, 210, 158, 175, 358, 189, 261, 664, 162, 183, 143, 105, 207, 286, 182, 322, 48, 188, 71, 286, 329, 320, 458, 140, 256, 129, 102, 117, 122, 137, 313, 217, 148, 126, 383, 320, 435, 124, 139, 154, 117, 127, 146, 998, 127, 153, 1001, 267, 421, 160, 557, 67, 261, 118, 378, 220, 222, 89, 139, 154, 255, 126, 131, 124, 734, 327, 38, 205, 84, 27, 110, 127, 433, 126, 81, 165, 166, 94, 136, 374, 168, 187, 79, 50, 154, 135, 264, 195, 162, 167, 87, 68, 133, 91, 61, 76, 44, 430, 129, 114, 314, 224, 178, 324, 248, 139, 405, 110, 124, 121, 285, 258, 229, 58, 305, 342, 158, 108, 352, 327, 136, 104, 196, 144, 316, 309, 300, 124, 113, 76, 103, 130, 138, 135, 306, 255, 132, 120, 217, 101, 145, 146, 140, 349, 420, 121, 150, 44, 73, 253, 60, 173, 291, 153, 252, 157, 127, 117, 203, 170, 128, 414, 167, 88, 144, 290, 786, 251, 144, 527, 325, 130, 176, 115, 217, 122, 179, 816, 133, 177, 142, 215, 528, 163, 148, 125, 108, 240, 107, 118, 401, 48, 140, 363, 147, 151, 143, 541, 119, 247, 182, 172, 242, 138, 103, 311, 138, 122, 119, 149, 145, 302, 178, 192, 153, 109, 239, 129, 243, 171, 126, 323, 522, 607, 323, 184, 274, 313, 556, 266, 184, 241, 131, 206, 370, 124, 278, 334, 156, 219, 124, 235, 115, 369, 327, 131, 112, 109, 391, 163, 248, 350, 464, 599, 993, 166, 298, 180, 337, 177, 320, 125, 166, 153, 185, 124, 143, 301, 130, 153, 138, 139, 182, 194, 477, 58, 131, 110, 127, 129, 124, 268, 184, 185, 700, 217, 400, 121, 111, 148, 459, 342, 141, 136, 906, 127, 88, 95, 446, 199, 114, 183, 220, 88, 130, 135, 277, 482, 335, 128, 450, 244, 403, 183, 206, 208, 132, 541, 130, 642, 255, 247, 110, 56, 138, 137, 673, 59, 51, 900, 281, 188, 444, 334, 138, 623, 202, 137, 258, 461, 177, 153, 395, 299, 227, 122, 159, 117, 113, 257, 88, 161, 554, 450, 382, 122, 375, 357, 125, 91, 307, 192, 109, 201, 403, 332, 116, 229, 239, 171, 230, 120, 227, 173, 121, 201, 627, 181, 147, 243, 172, 133, 172, 234, 138, 141, 256, 155, 128, 123, 104, 140, 112, 432, 104, 213, 280, 135, 116, 133, 116, 307, 129, 136, 203, 257, 129, 152, 192, 124, 127, 174, 187, 344, 586, 200, 225, 84, 211, 139, 97, 93, 185, 48, 63, 111, 371, 198, 371, 189, 261, 82, 102, 108, 218, 129, 276, 131, 359, 187, 228, 109, 473, 158, 410, 383, 124, 213, 140, 99, 86, 265, 194, 208, 160, 131, 303, 149, 114, 176, 234, 151, 265, 149, 206, 79, 536, 130, 236, 230, 323, 43, 151, 132, 638, 470, 267, 217, 119, 255, 179, 290, 85, 101, 154, 217, 110, 159, 133, 126, 155, 466, 130, 243, 77, 312, 184, 321, 525, 152, 129, 169, 431, 251, 280, 396, 975, 132, 428, 247, 119, 132, 137, 232, 158, 148, 139, 232, 103, 369, 474, 329, 167, 145, 533, 88, 299, 87, 90, 149, 141, 124, 832, 128, 356, 379, 314, 450, 119, 97, 452, 355, 225, 993, 804, 1364, 647, 259, 245, 933, 149, 426, 199, 137, 174, 168, 122, 138, 331, 518, 148, 147, 136, 242, 226, 117, 234, 225, 156, 66, 109, 126, 204, 357, 508, 219, 119, 204, 42, 134, 251, 119, 86, 208, 404, 415, 141, 528, 160, 57, 156, 184, 141, 135, 93, 58, 60, 86, 206, 111, 101, 223, 126, 218, 132, 360, 141, 334, 100, 155, 361, 172, 502, 170, 168, 334, 190, 135, 119, 209, 144, 228, 165, 190, 138, 138, 211, 23, 142, 72, 142, 150, 54, 239, 143, 533, 160, 157, 41, 492, 497, 305, 431, 189, 213, 175, 259, 129, 183, 141, 222, 602, 131, 379, 130, 178, 117, 191, 462, 225, 311, 167, 185, 280, 153, 174, 93, 188, 107, 128, 247, 125, 188, 135, 171, 113, 374, 84, 175, 185, 259, 537, 153, 184, 98, 396, 286, 244, 172, 471, 98, 49, 224, 123, 422, 196, 149, 171, 172, 57, 145, 101, 219, 66, 62, 105, 239, 155, 81, 127, 335, 171, 813, 202, 204, 145, 161, 269, 375, 152, 99, 129, 177, 302, 136, 133, 169, 302, 49, 114, 131, 168, 236, 98, 145, 39, 197, 330, 68, 206, 359, 170, 373, 100, 476, 102, 171, 129, 139, 174, 877, 160, 312, 208, 298, 142, 154, 139, 169, 194, 215, 195, 167, 308, 240, 254, 144, 46, 149, 317, 156, 605, 396, 135, 59, 98, 436, 929, 119, 50, 204, 107, 746, 416, 143, 103, 53, 82, 571, 434, 352, 549, 252, 641, 207, 164, 211, 186, 351, 197, 179, 315, 467, 563, 253, 124, 272, 167, 180, 107, 197, 206, 344, 86, 116, 214, 272, 126, 187, 310, 135, 282, 965, 140, 349, 770, 172, 341, 197, 104, 133, 137, 567, 359, 196, 504, 273, 220, 610, 128, 342, 95, 147, 226, 372, 147, 164, 131, 129, 258, 366, 295, 223, 140, 123, 266, 182, 173, 184, 197, 153, 149, 354, 94, 143, 140, 159, 78, 181, 136, 196, 190, 82, 244, 242, 192, 446, 158, 46, 93, 264, 312, 126, 164, 252, 122, 220, 172, 221, 111, 164, 261, 140, 244, 161, 88, 126, 193, 36, 49, 83, 307, 155, 176, 606, 242, 171, 441, 225, 592, 144, 176, 126, 132, 154, 118, 229, 505, 477, 249, 151, 80, 191, 103, 150, 265, 107, 594, 134, 216, 232, 112, 342, 131, 487, 192, 134, 918, 374, 164, 176, 107, 123, 197, 38, 264, 575, 531, 272, 152, 125, 158, 325, 171, 226, 206, 165, 208, 47, 157, 158, 145, 178, 131, 113, 203, 388, 60, 231, 316, 452, 184, 154, 177, 94, 60, 100, 366, 259, 167, 38, 220, 142, 392, 270, 483, 125, 117, 176, 187, 113, 407, 132, 372, 122, 234, 172, 64, 278, 68, 257, 149, 491, 542, 149, 575, 354, 609, 220, 383, 177, 222, 563, 466, 252, 716, 127, 347, 123, 198, 321, 238, 127, 183, 87, 53, 151, 139, 185, 253, 517, 153, 90, 128, 137, 257, 143, 283, 444, 211, 189, 157, 380, 208, 196, 353, 128, 132, 356, 191, 138, 123, 123, 315, 184, 184, 140, 133, 82, 140, 143, 280, 221, 517, 400, 189, 183, 130, 125, 136, 150, 144, 142, 243, 207, 495, 119, 123, 142, 183, 171, 880, 298, 204, 336, 33, 253, 271, 108, 119, 82, 155, 125, 373, 463, 203, 102, 188, 127, 119, 63, 164, 164, 118, 48, 46, 132, 70, 123, 479, 174, 108, 338, 114, 413, 117, 124, 315, 134, 118, 480, 898, 165, 752, 474, 437, 581, 113, 401, 53, 149, 135, 193, 125, 104, 98, 150, 79, 218, 300, 160, 229, 398, 353, 646, 125, 813, 402, 179, 131, 377, 334, 250, 130, 159, 152, 216, 194, 177, 118, 130, 157, 177, 410, 230, 555, 251, 106, 237, 222, 148, 52, 64, 157, 998, 120, 379, 661, 117, 159, 225, 179, 741, 295, 137, 184, 318, 138, 131, 271, 101, 182, 189, 83, 154, 868, 157, 167, 134, 172, 134, 103, 358, 90, 277, 117, 198, 121, 313, 342, 181, 190, 108, 197, 314, 1000, 258, 148, 120, 141, 70, 278, 246, 226, 154, 183, 191, 829, 146, 59, 440, 212, 213, 155, 258, 125, 82, 617, 251, 596, 989, 500, 293, 200, 426, 117, 130, 117, 278, 136, 258, 122, 279, 161, 647, 247, 172, 140, 146, 467, 147, 138, 280, 57, 375, 272, 53, 994, 436, 242, 168, 167, 115, 827, 172, 108, 169, 126, 439, 263, 204, 395, 883, 172, 66, 175, 520, 170, 76, 197, 93, 142, 175, 486, 308, 134, 120, 154, 206, 133, 380, 149, 214, 196, 146, 131, 261, 154, 121, 109, 129, 131, 156, 139, 111, 30, 365, 173, 328, 300, 55, 46, 227, 145, 177, 417, 114, 178, 75, 71, 146, 144, 260, 133, 247, 84, 129, 278, 208, 149, 85, 166, 169, 307, 960, 165, 150, 208, 180, 695, 319, 666, 99, 355, 151, 261, 197, 292, 134, 226, 157, 214, 114, 586, 133, 111, 121, 456, 162, 241, 251, 168, 392, 229, 178, 383, 126, 118, 163, 47, 192, 238, 229, 31, 185, 139, 103, 849, 128, 219, 508, 95, 136, 178, 97, 677, 51, 127, 47, 54, 304, 148, 262, 100, 49, 90, 37, 30, 282, 168, 235, 154, 69, 95, 302, 360, 306, 117, 274, 207, 132, 115, 226, 272, 214, 364, 260, 658, 54, 320, 258, 183, 183, 122, 241, 546, 301, 704, 300, 174, 525, 200, 58, 67, 213, 90, 106, 136, 128, 338, 94, 272, 183, 140, 156, 351, 135, 102, 102, 164, 150, 138, 195, 85, 91, 102, 156, 200, 168, 142, 198, 196, 291, 188, 145, 560, 129, 44, 138, 178, 439, 185, 134, 357, 999, 138, 138, 140, 214, 144, 251, 112, 319, 60, 99, 128, 340, 189, 198, 199, 149, 83, 113, 588, 143, 185, 283, 150, 300, 317, 117, 376, 117, 92, 316, 103, 143, 146, 453, 372, 345, 396, 484, 194, 118, 340, 145, 973, 161, 725, 145, 161, 145, 390, 170, 518, 141, 129, 227, 321, 145, 141, 141, 713, 195, 258, 928, 110, 55, 41, 299, 180, 155, 164, 399, 116, 118, 212, 111, 128, 65, 532, 830, 410, 399, 449, 133, 374, 982, 712, 119, 151, 128, 154, 273, 550, 336, 370, 264, 365, 393, 173, 255, 238, 104, 229, 326, 125, 120, 180, 137, 152, 125, 103, 163, 266, 301, 229, 105, 190, 256, 304, 515, 141, 125, 169, 146, 32, 182, 122, 101, 160, 209, 110, 418, 703, 130, 164, 140, 108, 105, 161, 150, 650, 141, 89, 556, 247, 275, 46, 39, 76, 455, 152, 148, 281, 201, 593, 77, 150, 204, 157, 220, 172, 180, 138, 460, 168, 330, 457, 367, 137, 377, 168, 250, 163, 138, 275, 367, 316, 198, 165, 138, 135, 130, 61, 303, 256, 175, 102, 131, 152, 217, 435, 178, 305, 266, 381, 615, 209, 403, 167, 151, 183, 168, 639, 727, 144, 124, 163, 230, 100, 131, 242, 139, 160, 392, 135, 198, 125, 82, 120, 96, 174, 127, 187, 664, 96, 51, 65, 119, 92, 120, 90, 139, 133, 181, 113, 117, 292, 181, 162, 117, 612, 199, 182, 534, 149, 163, 128, 310, 253, 223, 151, 132, 132, 491, 149, 173, 132, 369, 140, 129, 477, 140, 133, 251, 156, 168, 259, 212, 248, 377, 143, 124, 172, 180, 267, 219, 81, 484, 192, 201, 126, 171, 120, 210, 209, 172, 125, 540, 446, 681, 204, 108, 234, 255, 166, 46, 133, 140, 443, 301, 202, 583, 152, 62, 121, 90, 158, 178, 124, 528, 186, 165, 37, 365, 133, 52, 138, 320, 178, 195, 236, 163, 366, 103, 195, 170, 343, 576, 196, 117, 246, 328, 200, 160, 212, 208, 161, 351, 114, 147, 117, 151, 211, 160, 235, 317, 149, 174, 661, 119, 174, 124, 76, 80, 415, 155, 391, 125, 136, 524, 196, 151, 141, 146, 126, 165, 180, 299, 422, 142, 95, 158, 246, 203, 171, 132, 115, 363, 162, 235, 178, 245, 194, 283, 129, 94, 130, 570, 100, 174, 538, 260, 155, 36, 92, 40, 402, 143, 160, 121, 166, 128, 745, 555, 326, 375, 204, 288, 157, 145, 118, 317, 234, 437, 155, 242, 649, 147, 139, 347, 212, 106, 163, 82, 131, 273, 171, 166, 181, 173, 104, 97, 619, 40, 191, 170, 123, 167, 252, 150, 381, 626, 230, 163, 187, 177, 86, 56, 303, 61, 124, 366, 750, 186, 176, 615, 144, 355, 138, 71, 147, 142, 138, 120, 277, 119, 315, 111, 322, 187, 64, 128, 766, 170, 516, 330, 63, 272, 267, 137, 153, 233, 608, 139, 145, 226, 344, 255, 127, 371, 356, 113, 233, 535, 145, 115, 137, 182, 122, 102, 655, 380, 254, 233, 122, 205, 153, 287, 308, 491, 314, 141, 264, 236, 779, 147, 253, 252, 292, 181, 51, 413, 408, 215, 590, 122, 135, 158, 878, 77, 114, 577, 132, 137, 342, 197, 255, 141, 394, 187, 318, 259, 976, 111, 214, 243, 163, 166, 175, 784, 406, 635, 345, 188, 59, 187, 158, 173, 337, 158, 235, 155, 145, 732, 366, 271, 120, 135, 232, 367, 212, 158, 142, 504, 747, 112, 164, 128, 148, 142, 129, 141, 460, 249, 168, 103, 128, 154, 548, 304, 243, 468, 235, 151, 114, 133, 284, 366, 138, 226, 324, 911, 164, 133, 124, 125, 392, 230, 244, 138, 294, 176, 266, 452, 128, 192, 138, 542, 141, 324, 788, 1057, 1008, 481, 186, 400, 395, 34, 441, 236, 167, 341, 168, 203, 293, 436, 462, 255, 277, 351, 125, 496, 130, 613, 355, 165, 353, 122, 526, 201, 157, 190, 112, 755, 150, 168, 262, 183, 425, 210, 152, 235, 765, 261, 120, 159, 170, 108, 137, 351, 244, 254, 160, 139, 123, 128, 284, 256, 221, 108, 127, 278, 144, 313, 378, 91, 187, 132, 239, 98, 246, 358, 119, 60, 180, 634, 346, 149, 239, 91, 44, 370, 183, 178, 129, 111, 185, 121, 158, 244, 165, 255, 327, 312, 254, 54, 354, 201, 147, 161, 97, 245, 147, 117, 132, 104, 133, 177, 125, 151, 336, 332, 144, 710, 209, 207, 484, 187, 622, 129, 144, 261, 134, 140, 25, 422, 104, 182, 264, 276, 229, 44, 465, 960, 421, 180, 147, 342, 140, 79, 179, 147, 520, 144, 74, 132, 211, 170, 221, 217, 247, 235, 539, 667, 235, 352, 223, 163, 238, 599, 291, 403, 127, 157, 260, 159, 136, 116, 156, 140, 312, 251, 107, 154, 134, 251, 287, 253, 198, 245, 162, 155, 113, 107, 157, 55, 126, 419, 220, 153, 112, 184, 330, 418, 385, 143, 365, 424, 429, 277, 112, 370, 220, 172, 150, 144, 97, 240, 133, 531, 258, 194, 228, 256, 469, 174, 261, 208, 314, 221, 60, 99, 523, 107, 90, 220, 192, 176, 125, 128, 136, 233, 128, 388, 123, 148, 172, 144, 128, 169, 205, 139, 159, 234, 249, 162, 436, 313, 194, 486, 282, 146, 154, 188, 119, 107, 130, 188, 262, 610, 123, 863, 255, 94, 165, 258, 121, 227, 545, 282, 187, 329, 104, 122, 271, 346, 309, 316, 292, 81, 115, 441, 385, 245, 244, 176, 150, 811, 228, 177, 98, 142, 227, 106, 361, 134, 334, 142, 129, 120, 218, 125, 151, 679, 593, 154, 266, 250, 172, 212, 126, 145, 304, 482, 966, 191, 427, 114, 127, 402, 139, 215, 196, 125, 248, 160, 157, 122, 236, 455, 151, 465, 142, 57, 312, 120, 128, 128, 95, 217, 178, 410, 141, 313, 237, 97, 210, 356, 203, 131, 46, 265, 319, 330, 113, 164, 355, 80, 156, 210, 133, 591, 554, 320, 121, 368, 219, 151, 97, 144, 222, 131, 422, 199, 492, 164, 134, 255, 172, 238, 184, 319, 292, 138, 144, 126, 118, 182, 278, 164, 67, 105, 58, 91, 107, 71, 208, 49, 71, 41, 480, 374, 240, 150, 181, 70, 43, 230, 141, 455, 216, 171, 215, 224, 148, 148, 78, 156, 163, 123, 493, 247, 361, 273, 162, 197, 139, 226, 164, 199, 120, 114, 190, 101, 116, 153, 211, 77, 329, 279, 482, 121, 148, 573, 127, 147, 320, 411, 317, 150, 518, 306, 135, 155, 72, 174, 155, 183, 251, 181, 167, 152, 101, 231, 272, 103, 426, 190, 247, 66, 187, 385, 545, 150, 219, 173, 239, 152, 287, 132, 135, 43, 244, 279, 272, 113, 77, 161, 259, 281, 146, 668, 431, 362, 419, 214, 308, 135, 79, 133, 79, 151, 163, 229, 168, 213, 228, 274, 120, 69, 116, 137, 137, 232, 113, 152, 94, 64, 193, 114, 125, 134, 144, 130, 120, 159, 172, 129, 64, 335, 125, 483, 142, 193, 344, 136, 322, 147, 126, 155, 224, 135, 417, 156, 52, 136, 118, 152, 240, 125, 152, 37, 89, 67, 84, 310, 375, 169, 297, 337, 135, 214, 406, 321, 436, 176, 96, 178, 112, 241, 112, 116, 294, 275, 216, 153, 268, 110, 122, 114, 244, 187, 242, 303, 287, 454, 166, 135, 212, 194, 351, 100, 193, 194, 218, 118, 210, 190, 163, 158, 578, 409, 194, 180, 164, 165, 168, 349, 139, 147, 94, 155, 700, 283, 116, 503, 143, 79, 102, 133, 57, 63, 28, 52, 218, 170, 215, 145, 294, 96, 51, 558, 183, 144, 278, 150, 142, 487, 977, 167, 118, 118, 215, 493, 152, 343, 87, 237, 266, 117, 283, 773, 603, 666, 124, 323, 424, 251, 178, 141, 149, 197, 259, 293, 112, 395, 214, 134, 124, 108, 158, 138, 435, 201, 352, 115, 124, 275, 210, 230, 134, 375, 112, 158, 808, 220, 90, 165, 38, 162, 120, 151, 69, 171, 248, 53, 191, 260, 185, 283, 26, 133, 80, 232, 18, 89, 178, 134, 116, 133, 513, 134, 82, 78, 241, 112, 125, 212, 590, 196, 132, 146, 142, 154, 335, 127, 979, 499, 411, 109, 196, 164, 96, 187, 283, 290, 186, 50, 206, 178, 400, 197, 845, 152, 184, 182, 339, 468, 521, 253, 56, 188, 169, 303, 124, 344, 395, 121, 145, 110, 393, 50, 37, 57, 59, 64, 54, 688, 194, 190, 133, 150, 117, 128, 139, 50, 123, 801, 157, 110, 187, 177, 132, 254, 131, 200, 123, 378, 233, 58, 46, 53, 36, 98, 33, 351, 131, 137, 141, 179, 415, 243, 267, 136, 298, 385, 128, 114, 213, 126, 234, 342, 680, 147, 979, 854, 315, 134, 88, 106, 129, 51, 225, 39, 143, 149, 154, 272, 199, 201, 367, 231, 300, 216, 118, 140, 283, 220, 477, 158, 164, 116, 158, 440, 82, 48, 176, 130, 501, 682, 156, 326, 323, 149, 524, 250, 154, 368, 261, 837, 167, 244, 137, 177, 412, 264, 315, 160, 184, 316, 187, 287, 113, 139, 238, 180, 396, 42, 190, 751, 162, 120, 209, 309, 202, 125, 76, 107, 386, 503, 115, 205, 196, 278, 73, 794, 181, 214, 168, 336, 103, 185, 125, 123, 330, 269, 282, 304, 229, 253, 736, 874, 151, 127, 190, 170, 133, 142, 652, 240, 119, 233, 248, 407, 338, 265, 236, 119, 298, 817, 160, 200, 114, 107, 517, 266, 552, 349, 145, 177, 44, 135, 117, 110, 379, 109, 129, 728, 90, 496, 302, 449, 607, 188, 243, 120, 271, 233, 133, 95, 446, 199, 114, 183, 220, 88, 130, 266, 837, 151, 427, 139, 39, 107, 125, 222, 285, 69, 494, 49, 75, 93, 131, 81, 115, 144, 148, 686, 150, 376, 78, 230, 118, 283, 490, 465, 220, 252, 400, 307, 135, 503, 269, 269, 224, 629, 119, 246, 238, 201, 194, 161, 194, 307, 414, 142, 236, 201, 244, 339, 437, 135, 172, 162, 173, 211, 345, 575, 194, 133, 619, 328, 201, 169, 114, 261, 104, 101, 196, 289, 121, 194, 137, 144, 154, 139, 821, 97, 104, 278, 57, 169, 133, 224, 318, 242, 314, 129, 179, 223, 209, 159, 489, 140, 219, 146, 139, 129, 189, 144, 152, 689, 371, 134, 212, 120, 240, 201, 197, 327, 142, 117, 358, 190, 286, 139, 484, 259, 401, 148, 791, 181, 433, 159, 616, 222, 254, 110, 128, 227, 143, 151, 115, 70, 119, 218, 151, 109, 840, 675, 423, 438, 97, 266, 693, 148, 129, 128, 271, 402, 131, 128, 570, 125, 163, 656, 273, 115, 187, 513, 138, 198, 197, 683, 82, 196, 185, 230, 150, 179, 132, 208, 204, 168, 127, 259, 140, 126, 133, 115, 377, 229, 347, 148, 120, 236, 164, 169, 175, 163, 180, 255, 267, 179, 157, 263, 412, 171, 127, 179, 413, 130, 137, 165, 155, 157, 108, 126, 151, 92, 149, 109, 153, 131, 785, 235, 184, 95, 50, 129, 99, 137, 108, 316, 128, 275, 95, 411, 338, 189, 218, 186, 244, 252, 209, 222, 123, 412, 153, 255, 176, 170, 631, 105, 504, 533, 483, 128, 146, 80, 284, 162, 126, 497, 264, 817, 205, 317, 191, 106, 155, 110, 325, 525, 115, 183, 187, 86, 111, 145, 82, 79, 224, 266, 480, 247, 130, 149, 100, 136, 148, 467, 853, 303, 162, 350, 257, 481, 998, 90, 108, 161, 214, 182, 201, 181, 128, 287, 88, 172, 351, 327, 239, 134, 205, 165, 115, 199, 177, 57, 125, 178, 351, 341, 594, 188, 207, 123, 262, 281, 260, 172, 115, 403, 83, 215, 494, 147, 177, 441, 227, 174, 119, 221, 355, 319, 241, 208, 219, 125, 123, 970, 434, 444, 481, 579, 192, 236, 151, 142, 164, 440, 136, 495, 118, 807, 122, 198, 198, 216, 112, 344, 149, 62, 162, 370, 314, 189, 86, 67, 69, 278, 291, 52, 148, 199, 271, 399, 276, 228, 157, 264, 218, 602, 343, 121, 452, 230, 118, 283, 60, 213, 79, 139, 192, 135, 137, 279, 405, 328, 198, 593, 123, 127, 145, 194, 313, 344, 169, 136, 290, 178, 260, 133, 327, 253, 249, 182, 131, 97, 199, 125, 150, 229, 337, 184, 147, 188, 56, 165, 370, 46, 94, 65, 185, 155, 146, 239, 236, 162, 386, 343, 288, 602, 149, 148, 151, 185, 167, 124, 54, 107, 306, 197, 186, 119, 79, 65, 156, 266, 214, 93, 273, 102, 126, 242, 62, 227, 235, 108, 118, 77, 124, 675, 192, 570, 479, 422, 152, 132, 196, 556, 711, 326, 69, 111, 348, 164, 64, 158, 55, 142, 157, 587, 178, 35, 308, 267, 154, 177, 188, 996, 152, 321, 344, 431, 142, 555, 506, 427, 229, 358, 151, 429, 165, 353, 237, 237, 121, 127, 123, 279, 129, 111, 421, 130, 46, 144, 211, 125, 813, 480, 688, 214, 279, 219, 177, 171, 130, 130, 106, 108, 410, 131, 135, 155, 154, 167, 250, 863, 165, 177, 139, 135, 207, 677, 158, 131, 957, 108, 325, 259, 145, 157, 119, 264, 702, 561, 172, 429, 218, 112, 385, 187, 161, 101, 143, 142, 136, 69, 95, 162, 193, 301, 51, 68, 400, 312, 128, 311, 105, 209, 171, 113, 978, 187, 274, 780, 49, 143, 171, 200, 180, 507, 334, 253, 879, 152, 199, 145, 242, 473, 246, 209, 192, 333, 272, 120, 124, 174, 55, 333, 198, 177, 332, 167, 54, 219, 173, 701, 760, 477, 618, 149, 143, 625, 861, 208, 137, 206, 228, 162, 625, 126, 896, 372, 153, 287, 176, 384, 101, 94, 118, 208, 165, 226, 221, 368, 138, 272, 325, 102, 161, 977, 131, 129, 207, 124, 280, 182, 284, 248, 258, 525, 139, 125, 246, 186, 140, 375, 69, 357, 149, 172, 314, 125, 563, 138, 158, 52, 144, 158, 123, 76, 300, 431, 121, 57, 38, 97, 161, 282, 490, 134, 160, 186, 126, 403, 293, 234, 163, 137, 114, 54, 756, 315, 348, 118, 263, 74, 217, 124, 226, 139, 229, 274, 164, 162, 136, 155, 100, 125, 720, 120, 598, 195, 119, 128, 541, 153, 156, 105, 56, 196, 270, 120, 150, 236, 70, 119, 346, 198, 202, 212, 145, 186, 135, 119, 180, 333, 314, 152, 131, 221, 159, 236, 109, 201, 194, 169, 236, 44, 54, 196, 399, 188, 111, 140, 205, 141, 166, 239, 269, 44, 410, 194, 151, 112, 229, 43, 142, 43, 199, 485, 125, 212, 194, 383, 171, 199, 181, 179, 152, 169, 137, 210, 122, 275, 151, 60, 166, 91, 148, 102, 109, 468, 136, 222, 322, 237, 112, 189, 232, 435, 151, 160, 270, 460, 665, 674, 287, 171, 262, 195, 110, 70, 131, 263, 170, 142, 163, 348, 430, 269, 231, 361, 107, 94, 109, 522, 175, 67, 111, 215, 42, 206, 125, 128, 218, 215, 179, 148, 334, 469, 135, 122, 140, 147, 169, 154, 249, 152, 219, 204, 236, 413, 128, 138, 308, 239, 517, 1000, 207, 129, 334, 69, 398, 152, 460, 133, 561, 350, 188, 428, 94, 230, 128, 318, 212, 192, 57, 173, 121, 116, 41, 582, 125, 688, 149, 126, 206, 117, 151, 108, 254, 130, 186, 204, 156, 152, 324, 182, 146, 355, 238, 312, 689, 216, 263, 126, 221, 284, 435, 224, 173, 46, 102, 356, 175, 116, 50, 237, 315, 443, 176, 157, 115, 245, 259, 306, 127, 133, 193, 133, 160, 622, 220, 282, 57, 101, 153, 114, 185, 115, 201, 232, 300, 248, 203, 129, 81, 176, 197, 119, 989, 120, 114, 190, 101, 116, 153, 211, 77, 213, 125, 120, 129, 146, 225, 354, 158, 230, 200, 161, 308, 114, 144, 282, 330, 144, 131, 735, 121, 487, 122, 337, 223, 467, 202, 196, 517, 198, 349, 129, 239, 354, 138, 123, 121, 87, 57, 293, 552, 147, 203, 211, 233, 137, 112, 115, 597, 308, 285, 167, 552, 141, 474, 280, 121, 383, 64, 39, 586, 158, 67, 147, 110, 320, 216, 235, 160, 305, 312, 472, 129, 153, 99, 153, 121, 496, 130, 190, 79, 75, 278, 265, 199, 225, 408, 238, 95, 513, 122, 297, 404, 97, 465, 133, 190, 123, 375, 143, 267, 367, 117, 69, 429, 100, 69, 249, 272, 131, 104, 451, 209, 207, 176, 181, 238, 269, 148, 140, 307, 252, 856, 439, 190, 135, 145, 336, 137, 224, 297, 575, 126, 107, 314, 99, 187, 323, 218, 476, 212, 118, 622, 184, 123, 440, 117, 128, 214, 442, 108, 205, 69, 209, 310, 431, 255, 293, 196, 223, 263, 182, 267, 132, 147, 90, 112, 56, 541, 200, 211, 186, 118, 131, 45, 275, 132, 116, 254, 135, 121, 57, 127, 104, 130, 62, 85, 195, 198, 108, 285, 120, 156, 49, 147, 272, 109, 550, 400, 731, 159, 63, 175, 164, 232, 180, 190, 162, 466, 157, 123, 104, 131, 121, 53, 82, 275, 154, 210, 345, 104, 341, 131, 157, 174, 188, 210, 307, 151, 129, 333, 354, 429, 364, 401, 212, 196, 458, 119, 135, 121, 170, 54, 142, 59, 227, 138, 373, 96, 306, 151, 129, 130, 142, 128, 177, 199, 188, 108, 226, 160, 151, 117, 97, 114, 116, 158, 999, 100, 288, 377, 324, 351, 171, 307, 283, 140, 160, 329, 101, 142, 253, 421, 320, 217, 129, 231, 789, 393, 75, 105, 486, 497, 292, 121, 616, 120, 34, 100, 87, 352, 122, 194, 77, 175, 73, 190, 278, 128, 114, 108, 129, 106, 194, 229, 103, 316, 239, 68, 147, 123, 57, 72, 152, 115, 188, 244, 120, 209, 170, 146, 123, 186, 186, 46, 291, 202, 413, 136, 147, 203, 142, 161, 502, 740, 208, 165, 191, 212, 200, 312, 274, 142, 165, 116, 114, 124, 72, 117, 134, 126, 136, 154, 113, 354, 584, 139, 245, 43, 162, 140, 183, 141, 892, 273, 212, 120, 156, 467, 559, 403, 148, 358, 134, 107, 174, 376, 260, 317, 160, 523, 370, 151, 73, 75, 134, 115, 362, 447, 117, 132, 142, 633, 724, 308, 153, 50, 311, 534, 222, 139, 581, 300, 138, 152, 152, 107, 117, 72, 122, 387, 310, 561, 182, 166, 201, 620, 77, 139, 615, 115, 177, 71, 100, 352, 130, 208, 199, 120, 259, 71, 669, 44, 335, 108, 78, 153, 140, 153, 47, 118, 146, 152, 412, 640, 156, 898, 521, 373, 182, 84, 213, 177, 142, 177, 135, 71, 219, 262, 207, 273, 108, 953, 207, 108, 163, 363, 164, 245, 186, 157, 423, 142, 136, 364, 99, 182, 170, 300, 168, 162, 439, 219, 144, 363, 203, 61, 112, 50, 148, 198, 130, 123, 596, 272, 99, 172, 136, 89, 241, 426, 161, 216, 307, 142, 149, 101, 193, 153, 166, 335, 126, 130, 113, 150, 153, 170, 128, 257, 281, 211, 856, 340, 146, 168, 104, 211, 146, 331, 245, 149, 302, 221, 73, 167, 226, 289, 120, 155, 172, 239, 138, 286, 121, 252, 123, 169, 260, 45, 77, 222, 290, 187, 61, 46, 140, 100, 148, 114, 590, 151, 163, 246, 198, 149, 78, 166, 246, 240, 160, 123, 133, 71, 345, 74, 210, 420, 262, 148, 189, 160, 184, 364, 148, 248, 707, 152, 138, 215, 339, 116, 453, 175, 128, 435, 193, 158, 169, 325, 125, 154, 136, 171, 398, 257, 114, 102, 166, 119, 157, 229, 87, 124, 138, 194, 46, 457, 268, 75, 90, 97, 442, 193, 193, 59, 634, 822, 183, 466, 461, 183, 75, 267, 743, 276, 270, 210, 208, 131, 179, 107, 199, 238, 174, 140, 107, 278, 186, 348, 485, 172, 160, 133, 157, 92, 188, 221, 228, 134, 127, 158, 128, 287, 50, 79, 67, 17, 96, 398, 45, 66, 92, 101, 240, 241, 254, 435, 209, 291, 257, 269, 347, 200, 114, 160, 410, 234, 139, 120, 212, 126, 145, 181, 204, 140, 689, 248, 250, 315, 350, 190, 392, 57, 121, 106, 179, 53, 61, 374, 99, 86, 87, 184, 728, 352, 142, 112, 169, 117, 441, 154, 198, 149, 139, 233, 133, 101, 209, 114, 352, 140, 113, 363, 141, 358, 164, 546, 205, 169, 85, 68, 101, 237, 101, 212, 236, 181, 140, 125, 536, 278, 407, 203, 113, 200, 218, 327, 303, 262, 216, 126, 510, 225, 324, 111, 138, 996, 401, 87, 316, 506, 671, 215, 366, 178, 194, 225, 129, 163, 147, 160, 336, 166, 196, 126, 259, 189, 637, 187, 179, 150, 149, 244, 217, 125, 135, 130, 249, 287, 334, 159, 124, 156, 181, 101, 270, 219, 1007, 42, 196, 165, 232, 156, 87, 421, 152, 203, 69, 136, 157, 122, 167, 171, 221, 98, 112, 121, 155, 118, 221, 296, 162, 155, 122, 205, 289, 230, 818, 1192, 97, 115, 214, 153, 236, 65, 101, 380, 177, 337, 252, 326, 393, 303, 729, 285, 587, 1000, 357, 222, 191, 476, 563, 159, 123, 191, 264, 121, 144, 239, 108, 144, 213, 482, 526, 822, 144, 263, 377, 353, 156, 142, 497, 145, 128, 173, 518, 137, 112, 315, 115, 140, 163, 208, 144, 524, 204, 476, 455, 132, 144, 575, 169, 471, 469, 332, 165, 87, 95, 76, 216, 231, 219, 379, 261, 225, 53, 186, 167, 484, 111, 103, 310, 137, 102, 98, 83, 348, 992, 177, 213, 595, 129, 158, 166, 183, 51, 173, 114, 229, 76, 118, 568, 40, 119, 67, 140, 144, 148, 183, 114, 761, 284, 128, 267, 430, 103, 50, 283, 73, 214, 506, 71, 93, 525, 123, 129, 47, 88, 64, 77, 287, 142, 123, 457, 148, 188, 110, 228, 145, 147, 118, 152, 143, 157, 140, 177, 111, 60, 169, 454, 187, 112, 518, 477, 719, 255, 121, 321, 392, 308, 117, 221, 204, 722, 110, 245, 136, 131, 338, 135, 785, 991, 116, 159, 113, 694, 671, 150, 219, 357, 765, 305, 393, 566, 212, 321, 853, 188, 169, 173, 106, 152, 115, 188, 244, 111, 134, 234, 137, 163, 131, 294, 209, 158, 511, 350, 321, 121, 134, 123, 46, 135, 425, 103, 177, 447, 235, 364, 175, 140, 150, 587, 151, 136, 114, 806, 192, 157, 236, 230, 340, 343, 117, 217, 65, 258, 149, 128, 286, 432, 103, 153, 118, 268, 127, 543, 288, 136, 165, 224, 471, 335, 186, 508, 128, 206, 340, 199, 333, 292, 205, 39, 266, 202, 160, 111, 123, 384, 182, 285, 197, 1000, 320, 159, 152, 199, 143, 120, 162, 143, 240, 797, 118, 147, 498, 692, 141, 115, 248, 155, 249, 154, 150, 104, 371, 187, 273, 292, 164, 127, 232, 28, 119, 146, 430, 168, 196, 121, 139, 185, 123, 418, 172, 330, 123, 117, 139, 266, 273, 268, 178, 186, 133, 195, 321, 169, 229, 161, 102, 125, 380, 260, 220, 176, 378, 149, 221, 128, 454, 295, 164, 188, 150, 184, 166, 274, 141, 364, 132, 601, 152, 429, 523, 517, 140, 67, 51, 446, 588, 71, 211, 99, 238, 121, 258, 242, 428, 1376, 288, 341, 507, 226, 99, 200, 384, 378, 329, 211, 139, 220, 106, 219, 257, 112, 81, 67, 286, 528, 95, 91, 184, 708, 113, 127, 201, 124, 251, 234, 144, 128, 561, 477, 262, 136, 92, 130, 180, 919, 181, 356, 324, 193, 69, 181, 128, 106, 318, 156, 219, 135, 142, 110, 166, 170, 264, 325, 301, 181, 109, 44, 167, 139, 110, 984, 355, 272, 369, 748, 434, 192, 118, 157, 157, 250, 595, 209, 174, 262, 953, 138, 436, 130, 265, 100, 121, 140, 293, 168, 275, 120, 321, 116, 212, 185, 134, 162, 154, 221, 427, 143, 167, 112, 75, 100, 271, 346, 309, 316, 292, 81, 115, 138, 161, 802, 439, 210, 145, 843, 187, 221, 311, 176, 768, 133, 123, 146, 116, 431, 331, 230, 256, 139, 463, 283, 737, 468, 195, 168, 188, 307, 117, 103, 1000, 201, 296, 218, 592, 154, 681, 223, 156, 71, 883, 186, 884, 745, 998, 182, 167, 726, 296, 120, 133, 471, 177, 244, 198, 431, 575, 231, 100, 205, 106, 58, 204, 138, 190, 209, 344, 164, 482, 120, 87, 117, 50, 114, 86, 134, 422, 341, 187, 330, 247, 130, 62, 296, 124, 567, 117, 358, 106, 278, 287, 145, 142, 130, 169, 145, 95, 198, 468, 791, 260, 321, 134, 185, 290, 143, 310, 532, 552, 188, 193, 111, 198, 121, 62, 227, 211, 947, 612, 368, 225, 130, 375, 323, 148, 158, 280, 162, 191, 181, 440, 315, 298, 140, 307, 390, 130, 693, 448, 170, 283, 402, 173, 142, 81, 593, 84, 241, 239, 137, 183, 154, 154, 152, 157, 775, 777, 715, 51, 410, 274, 153, 324, 102, 203, 243, 171, 166, 306, 123, 113, 471, 180, 190, 712, 164, 360, 92, 302, 41, 107, 441, 261, 190, 128, 295, 143, 384, 454, 439, 443, 279, 142, 118, 133, 190, 158, 45, 241, 114, 151, 239, 232, 461, 120, 427, 143, 110, 992, 123, 761, 813, 198, 248, 173, 162, 248, 87, 157, 113, 69, 130, 869, 123, 138, 131, 109, 347, 104, 183, 131, 127, 119, 162, 186, 122, 160, 120, 145, 169, 248, 501, 181, 40, 59, 327, 150, 618, 66, 159, 509, 80, 569, 378, 130, 126, 229, 80, 146, 136, 197, 185, 96, 48, 132, 210, 220, 215, 247, 119, 834, 309, 82, 173, 150, 184, 147, 154, 132, 281, 103, 126, 308, 96, 759, 317, 129, 135, 407, 221, 160, 183, 208, 248, 518, 910, 169, 182, 357, 73, 126, 662, 128, 60, 400, 333, 103, 117, 253, 359, 225, 345, 141, 90, 165, 57, 119, 187, 126, 147, 266, 498, 119, 245, 103, 163, 377, 161, 204, 136, 148, 247, 199, 198, 135, 124, 90, 71, 138, 244, 175, 122, 636, 418, 68, 223, 141, 244, 185, 295, 225, 384, 267, 212, 118, 116, 167, 429, 127, 128, 249, 289, 153, 437, 638, 123, 358, 162, 276, 114, 175, 145, 171, 113, 120, 192, 522, 184, 213, 122, 75, 123, 140, 160, 409, 167, 233, 114, 111, 188, 184, 274, 179, 195, 126, 155, 110, 224, 144, 124, 451, 336, 137, 172, 278, 583, 461, 191, 132, 311, 144, 117, 256, 218, 195, 609, 151, 128, 878, 483, 207, 467, 146, 181, 329, 380, 213, 207, 421, 131, 90, 372, 43, 225, 115, 113, 111, 372, 369, 417, 190, 166, 298, 170, 478, 114, 229, 602, 154, 344, 120, 462, 553, 192, 197, 205, 62, 98, 222, 228, 407, 649, 153, 228, 340, 393, 106, 395, 400, 928, 844, 73, 231, 250, 290, 132, 113, 77, 813, 356, 189, 364, 94, 394, 57, 146, 313, 382, 129, 137, 175, 79, 183, 254, 992, 139, 364, 144, 189, 484, 192, 428, 51, 304, 219, 267, 99, 277, 277, 118, 266, 123, 246, 143, 210, 186, 494, 114, 195, 134, 201, 656, 250, 273, 110, 178, 115, 79, 134, 148, 552, 400, 124, 267, 170, 201, 166, 294, 186, 132, 127, 121, 120, 158, 126, 129, 140, 362, 164, 340, 138, 115, 125, 106, 246, 193, 125, 110, 186, 413, 459, 339, 410, 176, 124, 427, 141, 140, 345, 281, 486, 149, 110, 820, 187, 177, 86, 234, 217, 90, 96, 581, 119, 114, 91, 236, 175, 317, 841, 250, 298, 267, 367, 115, 180, 271, 158, 443, 329, 697, 132, 324, 438, 145, 144, 145, 453, 176, 297, 54, 52, 297, 165, 50, 517, 240, 95, 432, 175, 296, 205, 534, 36, 945, 40, 35, 329, 123, 61, 129, 237, 140, 126, 130, 68, 78, 137, 196, 324, 122, 96, 152, 132, 686, 164, 111, 99, 405, 121, 498, 322, 268, 544, 187, 238, 113, 135, 158, 125, 473, 168, 173, 130, 157, 579, 191, 199, 210, 306, 153, 205, 203, 193, 154, 47, 125, 47, 196, 83, 117, 161, 97, 187, 276, 123, 125, 118, 171, 263, 295, 121, 109, 156, 122, 217, 288, 162, 247, 126, 906, 218, 392, 183, 66, 376, 128, 94, 341, 128, 119, 134, 143, 127, 123, 232, 146, 122, 373, 153, 145, 329, 166, 530, 286, 676, 201, 134, 72, 590, 190, 799, 167, 176, 801, 403, 261, 108, 144, 163, 162, 299, 120, 160, 128, 138, 370, 430, 161, 108, 119, 248, 127, 132, 132, 134, 141, 130, 128, 251, 162, 148, 166, 482, 243, 51, 117, 196, 63, 162, 100, 404, 134, 92, 332, 169, 119, 152, 160, 154, 203, 133, 176, 144, 246, 49, 121, 155, 49, 110, 132, 296, 70, 399, 58, 98, 220, 434, 242, 135, 229, 387, 195, 203, 87, 196, 65, 40, 188, 221, 554, 978, 131, 228, 198, 265, 232, 520, 129, 165, 40, 130, 365, 72, 543, 362, 139, 289, 101, 279, 145, 135, 445, 174, 274, 129, 150, 517, 309, 288, 171, 269, 171, 370, 123, 365, 373, 53, 146, 252, 118, 298, 321, 84, 139, 52, 203, 231, 199, 377, 119, 266, 216, 130, 255, 190, 289, 258, 136, 326, 78, 145, 311, 147, 409, 201, 133, 141, 687, 421, 301, 127, 205, 195, 139, 165, 201, 202, 188, 211, 153, 188, 368, 119, 279, 386, 282, 188, 125, 492, 89, 51, 91, 75, 215, 141, 130, 121, 139, 136, 218, 102, 121, 117, 171, 111, 156, 420, 308, 118, 152, 49, 236, 657, 552, 225, 100, 632, 95, 121, 447, 184, 79, 342, 318, 566, 391, 75, 170, 94, 132, 104, 179, 223, 107, 251, 157, 138, 548, 270, 176, 245, 165, 165, 191, 148, 91, 129, 394, 338, 122, 155, 172, 623, 569, 337, 229, 244, 142, 211, 133, 162, 171, 202, 405, 119, 439, 226, 102, 237, 1085, 942, 180, 575, 310, 756, 601, 145, 511, 307, 213, 134, 168, 195, 223, 174, 113, 291, 266, 105, 165, 335, 165, 297, 141, 572, 199, 310, 145, 210, 53, 416, 270, 69, 458, 244, 102, 107, 336, 238, 132, 534, 187, 300, 138, 335, 217, 398, 161, 66, 262, 397, 76, 160, 170, 292, 72, 208, 148, 120, 62, 388, 108, 111, 60, 108, 185, 178, 124, 177, 213, 908, 146, 233, 469, 232, 314, 347, 261, 62, 339, 242, 130, 217, 337, 561, 173, 257, 258, 146, 88, 136, 177, 535, 316, 143, 254, 192, 220, 552, 392, 164, 127, 164, 145, 167, 361, 229, 127, 142, 135, 530, 150, 149, 101, 87, 175, 208, 189, 97, 112, 177, 376, 699, 69, 269, 119, 339, 211, 222, 127, 137, 294, 103, 423, 57, 354, 323, 178, 244, 290, 228, 198, 127, 187, 128, 131, 126, 314, 155, 162, 120, 143, 89, 140, 423, 142, 165, 201, 361, 161, 181, 128, 151, 289, 133, 230, 93, 260, 340, 478, 37, 119, 350, 181, 131, 146, 165, 110, 126, 175, 107, 537, 300, 100, 113, 295, 167, 77, 436, 134, 176, 72, 197, 134, 285, 130, 139, 126, 107, 160, 46, 438, 365, 241, 111, 207, 126, 673, 144, 150, 133, 127, 313, 117, 101, 113, 90, 100, 45, 59, 392, 351, 116, 330, 131, 195, 168, 240, 146, 133, 185, 166, 179, 110, 234, 77, 191, 70, 569, 121, 202, 143, 56, 127, 267, 143, 111, 110, 409, 890, 531, 215, 754, 224, 1316, 232, 174, 146, 288, 218, 187, 345, 175, 119, 635, 71, 308, 470, 455, 103, 118, 90, 105, 96, 263, 149, 63, 361, 88, 350, 477, 575, 143, 226, 120, 179, 285, 188, 118, 147, 212, 167, 126, 161, 280, 670, 753, 674, 151, 123, 552, 318, 251, 196, 170, 537, 414, 125, 113, 855, 268, 469, 272, 181, 240, 275, 555, 356, 134, 289, 277, 45, 268, 204, 110, 22, 83, 29, 117, 127, 208, 412, 137, 203, 152, 127, 503, 205, 288, 153, 142, 262, 262, 269, 470, 144, 95, 294, 217, 191, 145, 182, 775, 227, 108, 292, 122, 113, 171, 213, 425, 274, 333, 94, 152, 279, 357, 129, 169, 123, 147, 138, 149, 103, 112, 417, 141, 226, 123, 134, 297, 322, 124, 129, 182, 218, 283, 490, 194, 325, 127, 161, 118, 144, 257, 144, 260, 202, 142, 125, 241, 177, 389, 211, 220, 43, 65, 353, 338, 169, 632, 214, 235, 363, 194, 175, 330, 131, 117, 72, 119, 67, 378, 121, 133, 245, 138, 198, 204, 140, 170, 783, 180, 655, 151, 733, 85, 474, 126, 255, 254, 231, 416, 142, 116, 110, 68, 134, 451, 376, 228, 123, 72, 51, 135, 55, 169, 202, 70, 359, 182, 246, 716, 240, 160, 172, 186, 161, 66, 73, 46, 58, 198, 287, 183, 152, 362, 126, 81, 390, 69, 223, 173, 108, 395, 569, 266, 383, 245, 402, 125, 141, 100, 133, 176, 167, 124, 281, 130, 159, 123, 267, 191, 529, 218, 146, 149, 127, 127, 136, 308, 108, 232, 73, 160, 120, 899, 219, 200, 460, 401, 310, 137, 289, 282, 249, 436, 363, 165, 126, 420, 288, 219, 117, 185, 128, 554, 117, 127, 109, 199, 140, 964, 264, 157, 253, 191, 149, 394, 184, 187, 626, 119, 506, 88, 138, 80, 144, 122, 84, 119, 384, 690, 82, 414, 375, 156, 157, 42, 449, 239, 175, 265, 253, 272, 143, 151, 43, 178, 111, 158, 84, 54, 187, 98, 140, 157, 270, 462, 112, 123, 357, 457, 172, 716, 825, 129, 192, 150, 173, 134, 129, 184, 135, 154, 163, 256, 179, 137, 265, 225, 248, 121, 99, 364, 160, 31, 479, 168, 138, 352, 264, 183, 139, 704, 111, 228, 993, 165, 143, 178, 38, 46, 297, 179, 128, 261, 90, 39, 46, 183, 74, 102, 55, 978, 328, 469, 42, 148, 153, 117, 280, 944, 121, 285, 131, 257, 144, 205, 116, 733, 170, 118, 119, 184, 124, 129, 160, 146, 114, 243, 131, 266, 166, 360, 56, 184, 117, 702, 156, 112, 85, 584, 199, 138, 115, 133, 157, 134, 134, 334, 65, 149, 225, 116, 318, 771, 108, 236, 160, 281, 142, 131, 74, 218, 110, 55, 63, 130, 73, 189, 178, 458, 133, 354, 200, 137, 127, 161, 111, 195, 118, 207, 135, 138, 130, 471, 324, 157, 559, 328, 326, 52, 125, 198, 61, 142, 193, 125, 124, 112, 250, 56, 344, 171, 133, 50, 86, 166, 107, 63, 199, 110, 585, 136, 105, 230, 169, 206, 158, 421, 515, 167, 215, 169, 132, 81, 133, 151, 106, 119, 162, 366, 144, 216, 104, 129, 241, 262, 267, 260, 508, 93, 204, 496, 207, 350, 49, 105, 126, 46, 53, 94, 75, 112, 183, 630, 57, 189, 123, 246, 546, 58, 93, 86, 99, 139, 113, 158, 231, 135, 461, 229, 237, 138, 167, 231, 201, 188, 227, 210, 150, 328, 351, 598, 129, 404, 141, 133, 285, 237, 247, 233, 445, 131, 186, 247, 197, 139, 132, 129, 263, 220, 115, 132, 263, 390, 109, 287, 173, 263, 226, 121, 145, 178, 125, 130, 212, 395, 114, 262, 126, 126, 318, 263, 476, 144, 285, 249, 129, 409, 190, 157, 283, 141, 169, 105, 129, 186, 245, 296, 145, 156, 178, 147, 133, 352, 140, 136, 242, 372, 301, 635, 355, 125, 959, 176, 169, 140, 178, 170, 166, 59, 181, 777, 94, 129, 131, 147, 204, 123, 141, 200, 132, 149, 121, 131, 124, 187, 273, 280, 171, 109, 92, 97, 147, 300, 181, 99, 272, 313, 187, 156, 112, 115, 138, 236, 143, 174, 69, 210, 215, 188, 143, 301, 83, 122, 149, 114, 229, 561, 304, 83, 287, 307, 126, 670, 101, 175, 917, 146, 294, 307, 294, 112, 109, 526, 137, 323, 449, 104, 173, 105, 669, 375, 293, 165, 233, 406, 521, 263, 141, 113, 182, 169, 121, 175, 133, 229, 231, 404, 384, 101, 128, 180, 130, 70, 124, 147, 297, 80, 58, 75, 112, 35, 203, 261, 144, 206, 80, 135, 83, 431, 484, 114, 106, 52, 191, 226, 193, 217, 382, 200, 148, 119, 118, 528, 163, 140, 99, 156, 307, 318, 198, 147, 57, 193, 993, 99, 41, 217, 107, 74, 172, 224, 158, 288, 133, 312, 169, 639, 105, 143, 126, 129, 874, 111, 168, 141, 223, 164, 261, 134, 302, 223, 152, 134, 231, 361, 405, 72, 144, 117, 119, 95, 208, 466, 499, 372, 126, 65, 42, 181, 301, 124, 134, 178, 213, 137, 279, 140, 131, 67, 124, 435, 639, 557, 256, 119, 110, 123, 186, 321, 120, 470, 244, 238, 149, 123, 142, 115, 285, 117, 215, 182, 240, 189, 146, 181, 331, 156, 119, 129, 123, 143, 151, 140, 213, 178, 223, 164, 685, 186, 245, 419, 306, 273, 221, 204, 99, 150, 106, 214, 127, 192, 194, 203, 317, 129, 152, 685, 177, 85, 56, 104, 220, 95, 165, 119, 126, 536, 128, 402, 291, 170, 53, 362, 253, 316, 145, 337, 159, 1002, 144, 51, 138, 137, 194, 132, 113, 169, 136, 967, 184, 342, 160, 164, 189, 187, 170, 192, 685, 161, 152, 131, 118, 411, 212, 683, 251, 225, 116, 115, 195, 115, 253, 155, 239, 341, 506, 311, 328, 129, 240, 501, 197, 225, 833, 117, 173, 504, 19, 173, 123, 87, 66, 137, 178, 139, 105, 342, 283, 66, 155, 323, 97, 395, 154, 141, 801, 152, 280, 241, 195, 53, 562, 779, 275, 476, 216, 133, 83, 51, 130, 124, 64, 108, 123, 687, 314, 123, 133, 181, 121, 137, 117, 117, 184, 384, 168, 399, 187, 158, 178, 992, 168, 400, 303, 50, 485, 212, 180, 215, 438, 153, 177, 287, 243, 174, 213, 197, 150, 271, 337, 103, 55, 46, 50, 383, 112, 131, 197, 235, 113, 67, 106, 131, 294, 106, 194, 122, 132, 146, 143, 198, 118, 118, 97, 47, 615, 342, 108, 215, 173, 186, 335, 237, 67, 70, 291, 367, 129, 177, 298, 151, 188, 721, 176, 179, 130, 327, 123, 203, 76, 593, 144, 297, 643, 111, 192, 117, 188, 174, 583, 388, 108, 204, 184, 174, 218, 164, 226, 135, 317, 154, 306, 180, 351, 153, 576, 588, 139, 564, 203, 125, 143, 142, 60, 192, 113, 122, 147, 145, 251, 121, 141, 193, 121, 124, 121, 200, 146, 173, 194, 125, 402, 306, 208, 210, 369, 133, 992, 161, 173, 420, 473, 190, 222, 133, 90, 194, 152, 131, 237, 160, 46, 99, 95, 149, 131, 185, 183, 124, 128, 482, 551, 136, 123, 206, 186, 199, 231, 223, 267, 119, 287, 163, 200, 156, 296, 149, 186, 241, 143, 320, 455, 205, 178, 248, 209, 226, 113, 146, 163, 931, 195, 117, 135, 167, 233, 194, 112, 145, 108, 498, 187, 506, 239, 548, 136, 132, 132, 117, 269, 129, 165, 131, 201, 291, 220, 182, 212, 123, 123, 42, 178, 131, 172, 91, 296, 266, 66, 131, 168, 231, 144, 353, 527, 54, 169, 127, 71, 186, 192, 75, 260, 136, 177, 139, 321, 148, 436, 119, 134, 138, 43, 50, 275, 234, 194, 142, 284, 147, 125, 128, 243, 97, 193, 406, 111, 42, 144, 101, 62, 153, 108, 426, 144, 160, 101, 177, 514, 358, 216, 208, 74, 130, 43, 108, 263, 232, 127, 188, 445, 147, 235, 266, 131, 773, 956, 170, 103, 148, 192, 143, 120, 169, 291, 126, 115, 158, 545, 152, 389, 120, 137, 281, 461, 135, 131, 128, 52, 180, 130, 135, 136, 213, 436, 180, 109, 307, 96, 332, 214, 145, 59, 204, 254, 161, 164, 148, 369, 217, 111, 44, 188, 376, 174, 132, 54, 124, 295, 401, 113, 557, 418, 576, 401, 408, 306, 31, 238, 570, 159, 151, 637, 270, 482, 245, 398, 42, 125, 50, 188, 113, 103, 361, 169, 201, 243, 134, 124, 107, 133, 120, 349, 119, 146, 119, 80, 90, 263, 194, 799, 487, 135, 372, 358, 127, 148, 200, 128, 230, 123, 308, 89, 142, 118, 54, 44, 457, 472, 420, 52, 176, 50, 342, 127, 76, 250, 158, 126, 130, 199, 730, 351, 139, 169, 505, 186, 366, 285, 134, 55, 128, 335, 157, 97, 141, 161, 192, 111, 192, 234, 366, 194, 102, 297, 291, 118, 127, 126, 170, 299, 172, 539, 84, 80, 42, 360, 204, 278, 648, 191, 454, 180, 130, 263, 116, 51, 328, 370, 390, 187, 245, 230, 213, 88, 49, 302, 166, 411, 138, 118, 147, 115, 799, 614, 161, 199, 130, 123, 314, 293, 189, 151, 268, 947, 174, 159, 121, 290, 613, 628, 228, 167, 339, 209, 146, 866, 368, 247, 283, 353, 49, 144, 75, 154, 457, 124, 119, 88, 535, 204, 340, 128, 499, 174, 201, 138, 243, 121, 210, 173, 145, 129, 255, 519, 195, 155, 152, 231, 270, 771, 171, 157, 118, 140, 344, 214, 151, 214, 165, 149, 378, 79, 88, 351, 127, 206, 297, 371, 256, 444, 133, 42, 233, 372, 135, 156, 169, 140, 123, 205, 118, 132, 465, 214, 158, 347, 203, 154, 160, 187, 121, 117, 122, 123, 133, 115, 125, 136, 243, 306, 145, 89, 124, 50, 166, 96, 250, 726, 246, 174, 377, 180, 222, 289, 142, 191, 476, 227, 255, 122, 136, 177, 87, 120, 49, 382, 113, 91, 120, 240, 157, 289, 132, 171, 342, 429, 114, 345, 250, 125, 162, 311, 127, 66, 49, 94, 53, 111, 172, 175, 785, 196, 90, 288, 116, 237, 103, 194, 127, 229, 197, 175, 142, 72, 145, 248, 394, 481, 416, 198, 492, 257, 251, 342, 143, 129, 167, 372, 127, 737, 257, 196, 155, 367, 154, 297, 146, 129, 127, 139, 90, 130, 306, 326, 251, 187, 244, 154, 389, 155, 114, 205, 192, 210, 975, 127, 173, 123, 122, 101, 58, 62, 61, 209, 187, 77, 132, 800, 162, 200, 165, 125, 201, 486, 126, 75, 94, 50, 176, 170, 126, 260, 140, 310, 157, 134, 132, 84, 61, 102, 109, 42, 284, 48, 47, 185, 61, 131, 122, 122, 276, 180, 128, 289, 161, 102, 390, 130, 145, 126, 194, 402, 179, 135, 224, 703, 105, 115, 132, 315, 152, 239, 205, 150, 132, 207, 74, 71, 137, 50, 140, 134, 190, 57, 130, 199, 155, 401, 418, 512, 281, 964, 160, 124, 283, 260, 218, 116, 247, 138, 406, 173, 186, 338, 119, 124, 150, 269, 171, 830, 291, 440, 178, 268, 122, 10, 615, 142, 206, 415, 511, 135, 274, 170, 142, 209, 174, 137, 112, 134, 56, 329, 109, 278, 374, 89, 141, 251, 87, 183, 177, 183, 468, 237, 122, 120, 142, 163, 136, 109, 151, 167, 126, 388, 113, 161, 233, 179, 263, 168, 128, 239, 112, 262, 233, 178, 72, 408, 164, 213, 176, 68, 127, 79, 236, 133, 237, 264, 108, 132, 147, 548, 91, 184, 174, 73, 124, 65, 98, 114, 112, 310, 548, 259, 89, 186, 154, 110, 179, 102, 64, 189, 246, 939, 112, 456, 174, 287, 130, 334, 476, 132, 349, 363, 249, 172, 90, 151, 139, 43, 140, 209, 222, 243, 177, 224, 151, 464, 147, 302, 331, 604, 462, 324, 611, 409, 82, 232, 45, 196, 261, 555, 124, 70, 91, 154, 130, 173, 210, 65, 139, 167, 405, 126, 129, 170, 150, 555, 117, 58, 179, 114, 104, 78, 278, 179, 78, 119, 192, 314, 121, 132, 139, 70, 142, 201, 705, 163, 270, 690, 113, 231, 242, 134, 368, 26, 124, 162, 47, 125, 52, 140, 131, 259, 188, 381, 121, 142, 247, 160, 138, 361, 210, 196, 951, 284, 549, 168, 695, 188, 672, 258, 467, 355, 147, 83, 117, 137, 276, 155, 160, 824, 179, 172, 149, 132, 108, 162, 139, 351, 73, 320, 192, 209, 167, 117, 148, 657, 470, 146, 343, 138, 249, 412, 426, 378, 667, 180, 284, 273, 154, 80, 150, 113, 460, 170, 132, 122, 150, 132, 147, 124, 421, 353, 227, 373, 109, 161, 86, 128, 161, 210, 168, 129, 219, 167, 363, 116, 147, 127, 176, 242, 376, 341, 296, 249, 341, 650, 47, 635, 90, 270, 356, 97, 449, 83, 286, 122, 714, 145, 144, 125, 234, 159, 144, 123, 192, 198, 166, 130, 144, 97, 229, 210, 122, 127, 103, 313, 184, 76, 121, 189, 185, 287, 122, 112, 137, 148, 841, 160, 83, 126, 424, 214, 213, 203, 261, 128, 665, 221, 549, 203, 121, 156, 96, 302, 353, 119, 127, 96, 102, 513, 121, 126, 145, 153, 200, 294, 219, 163, 461, 199, 226, 238, 171, 123, 127, 167, 133, 407, 185, 123, 364, 609, 123, 165, 224, 116, 142, 198, 124, 123, 123, 191, 152, 294, 186, 169, 151, 116, 360, 135, 163, 145, 209, 135, 124, 867, 606, 60, 144, 188, 121, 310, 293, 134, 486, 442, 807, 802, 160, 173, 220, 206, 146, 104, 120, 352, 432, 118, 146, 411, 125, 87, 154, 147, 259, 51, 73, 163, 47, 244, 295, 114, 166, 404, 122, 85, 63, 180, 171, 155, 74, 447, 183, 211, 170, 439, 229, 514, 315, 195, 602, 153, 138, 147, 139, 179, 380, 337, 181, 85, 155, 403, 303, 125, 130, 190, 123, 309, 146, 110, 87, 126, 44, 92, 97, 73, 201, 97, 200, 232, 90, 570, 102, 859, 112, 141, 347, 403, 194, 61, 228, 141, 120, 97, 244, 142, 294, 138, 116, 109, 123, 217, 117, 133, 125, 198, 146, 129, 423, 300, 248, 307, 404, 323, 410, 156, 226, 133, 170, 266, 509, 175, 149, 771, 152, 127, 40, 83, 257, 805, 157, 130, 586, 489, 230, 106, 257, 236, 184, 142, 149, 152, 116, 125, 225, 153, 169, 157, 173, 372, 435, 191, 121, 131, 125, 182, 359, 92, 204, 149, 136, 199, 459, 409, 201, 715, 150, 192, 345, 210, 118, 124, 174, 250, 135, 217, 584, 141, 454, 150, 122, 86, 108, 245, 599, 51, 389, 357, 113, 81, 370, 133, 121, 66, 137, 254, 341, 190, 185, 209, 132, 245, 121, 129, 154, 302, 363, 253, 140, 157, 304, 344, 139, 416, 335, 997, 595, 557, 294, 179, 185, 180, 125, 209, 355, 107, 147, 269, 132, 177, 134, 171, 118, 250, 355, 128, 163, 148, 194, 328, 348, 159, 155, 233, 150, 130, 238, 257, 80, 89, 267, 62, 261, 451, 329, 71, 188, 105, 238, 264, 188, 120, 256, 488, 196, 134, 46, 45, 83, 339, 754, 85, 151, 98, 96, 71, 204, 35, 128, 141, 192, 233, 295, 131, 573, 163, 159, 356, 145, 121, 121, 354, 335, 111, 465, 572, 488, 162, 153, 83, 204, 165, 132, 573, 117, 180, 136, 162, 131, 1005, 179, 143, 202, 295, 291, 126, 122, 353, 316, 973, 294, 714, 252, 391, 190, 191, 170, 166, 155, 155, 123, 236, 261, 238, 146, 141, 122, 351, 375, 165, 317, 325, 824, 523, 173, 489, 122, 332, 211, 206, 117, 136, 143, 137, 292, 69, 52, 313, 51, 69, 154, 123, 96, 151, 129, 140, 323, 304, 68, 44, 145, 96, 253, 420, 403, 140, 179, 191, 114, 235, 179, 127, 119, 125, 234, 212, 366, 299, 431, 383, 117, 160, 105, 136, 141, 139, 514, 130, 121, 215, 190, 213, 80, 139, 366, 382, 64, 87, 471, 485, 208, 131, 111, 252, 170, 122, 242, 135, 231, 40, 461, 128, 1001, 449, 284, 390, 569, 123, 196, 145, 182, 137, 119, 364, 141, 366, 293, 529, 104, 163, 315, 533, 249, 197, 184, 199, 235, 160, 147, 185, 228, 141, 298, 142, 134, 159, 373, 61, 66, 180, 213, 290, 113, 207, 246, 282, 112, 173, 113, 217, 80, 197, 204, 252, 133, 625, 53, 669, 88, 132, 122, 106, 542, 225, 322, 346, 72, 1014, 250, 135, 246, 246, 243, 380, 46, 82, 76, 177, 82, 157, 204, 223, 119, 193, 350, 292, 732, 221, 148, 128, 169, 149, 208, 134, 200, 240, 135, 169, 450, 167, 161, 189, 114, 81, 175, 94, 94, 483, 293, 144, 128, 112, 428, 144, 157, 110, 193, 163, 199, 218, 202, 107, 428, 41, 234, 117, 130, 318, 106, 243, 159, 234, 176, 233, 539, 221, 303, 237, 144, 446, 580, 304, 161, 389, 223, 221, 148, 461, 139, 281, 204, 154, 56, 94, 233, 164, 123, 55, 118, 164, 42, 134, 43, 67, 118, 103, 384, 883, 256, 852, 253, 199, 132, 501, 178, 101, 130, 88, 320, 102, 202, 147, 216, 137, 193, 228, 363, 95, 109, 165, 78, 90, 161, 159, 177, 874, 172, 370, 298, 164, 129, 395, 112, 224, 437, 281, 109, 489, 243, 600, 786, 543, 141, 160, 182, 367, 157, 143, 239, 206, 148, 229, 155, 396, 991, 532, 131, 230, 118, 283, 113, 258, 396, 152, 212, 216, 175, 184, 172, 128, 189, 490, 234, 288, 123, 120, 832, 149, 104, 139, 192, 141, 36, 26, 75, 190, 124, 426, 42, 69, 59, 184, 140, 385, 414, 246, 64, 63, 1066, 88, 219, 293, 48, 427, 96, 356, 162, 174, 136, 523, 75, 96, 163, 155, 150, 226, 589, 179, 132, 234, 303, 319, 324, 139, 139, 894, 238, 151, 194, 203, 245, 172, 577, 165, 139, 143, 349, 146, 153, 216, 170, 230, 154, 163, 377, 224, 479, 153, 432, 145, 480, 60, 55, 169, 135, 167, 981, 167, 208, 282, 219, 276, 140, 152, 184, 43, 560, 411, 443, 127, 970, 193, 251, 42, 393, 167, 290, 135, 669, 194, 403, 96, 673, 154, 62, 287, 406, 401, 404, 359, 628, 685, 126, 62, 937, 76, 157, 224, 170, 241, 379, 133, 281, 79, 235, 252, 149, 144, 112, 177, 110, 152, 12, 455, 112, 243, 468, 677, 69, 365, 104, 140, 259, 142, 275, 366, 312, 353, 66, 668, 325, 34, 273, 122, 158, 205, 297, 156, 212, 298, 133, 89, 279, 230, 343, 404, 171, 175, 167, 173, 454, 91, 153, 150, 159, 127, 114, 158, 347, 218, 78, 613, 225, 161, 101, 137, 571, 256, 60, 114, 233, 167, 317, 86, 153, 182, 138, 279, 216, 245, 155, 70, 188, 328, 256, 199, 228, 750, 114, 257, 187, 90, 88, 177, 479, 271, 72, 150, 123, 472, 99, 224, 122, 344, 181, 360, 273, 182, 153, 164, 178, 75, 375, 58, 200, 442, 132, 837, 165, 209, 87, 108, 387, 484, 162, 134, 151, 376, 215, 165, 129, 150, 146, 560, 177, 157, 284, 187, 116, 533, 506, 779, 137, 797, 414, 102, 309, 181, 138, 204, 210, 368, 804, 582, 758, 114, 259, 356, 143, 262, 90, 43, 132, 136, 219, 280, 140, 129, 379, 454, 277, 106, 60, 75, 308, 135, 473, 149, 94, 240, 569, 192, 133, 192, 249, 405, 197, 215, 433, 587, 218, 121, 88, 501, 167, 311, 133, 166, 258, 252, 125, 143, 63, 124, 150, 263, 183, 183, 183, 145, 371, 199, 269, 196, 117, 133, 61, 25, 181, 129, 164, 120, 226, 124, 193, 127, 195, 146, 271, 406, 133, 192, 209, 495, 487, 119, 286, 99, 117, 92, 232, 122, 113, 91, 180, 95, 197, 169, 33, 82, 184, 146, 281, 110, 150, 224, 664, 106, 165, 247, 255, 267, 71, 173, 26, 242, 123, 129, 69, 136, 181, 665, 486, 170, 160, 252, 131, 126, 159, 328, 149, 136, 157, 122, 106, 123, 167, 450, 162, 402, 169, 199, 66, 102, 130, 89, 130, 152, 186, 419, 365, 626, 566, 285, 157, 587, 53, 152, 74, 75, 110, 54, 367, 146, 143, 156, 234, 206, 606, 121, 60, 114, 111, 185, 426, 127, 284, 257, 78, 780, 121, 340, 206, 545, 213, 276, 202, 401, 85, 160, 117, 89, 110, 637, 132, 182, 207, 151, 163, 118, 235, 155, 208, 138, 165, 263, 113, 435, 307, 125, 97, 149, 117, 86, 145, 438, 145, 57, 422, 106, 222, 202, 134, 151, 162, 148, 170, 362, 185, 148, 130, 106, 359, 376, 120, 85, 142, 61, 303, 154, 219, 171, 200, 144, 559, 574, 136, 423, 121, 115, 387, 471, 585, 206, 221, 325, 166, 598, 341, 230, 129, 57, 116, 105, 36, 43, 63, 78, 119, 184, 368, 157, 90, 292, 123, 337, 176, 118, 105, 181, 126, 137, 138, 98, 136, 168, 195, 171, 177, 128, 207, 200, 217, 333, 202, 102, 120, 158, 320, 286, 338, 472, 255, 131, 236, 42, 324, 507, 361, 405, 137, 651, 126, 119, 583, 573, 173, 149, 138, 171, 213, 254, 169, 122, 144, 160, 203, 146, 147, 319, 146, 146, 68, 63, 273, 264, 119, 84, 128, 41, 129, 287, 182, 426, 404, 131, 671, 346, 331, 229, 170, 58, 169, 127, 228, 146, 195, 124, 891, 123, 226, 108, 201, 40, 41, 72, 157, 89, 122, 83, 230, 237, 101, 114, 113, 140, 413, 409, 757, 165, 287, 120, 101, 186, 144, 182, 185, 100, 105, 131, 113, 162, 155, 347, 50, 206, 40, 132, 144, 130, 46, 190, 123, 287, 91, 53, 1000, 292, 120, 290, 146, 680, 185, 338, 238, 111, 95, 241, 282, 604, 56, 146, 131, 132, 218, 144, 570, 186, 288, 328, 119, 262, 123, 148, 747, 124, 261, 50, 753, 160, 510, 630, 411, 179, 214, 186, 144, 270, 107, 177, 258, 177, 556, 89, 273, 149, 115, 206, 155, 79, 270, 220, 510, 204, 188, 138, 29, 82, 70, 101, 67, 41, 427, 217, 466, 466, 492, 300, 200, 219, 112, 236, 528, 109, 186, 148, 116, 887, 471, 138, 44, 82, 296, 143, 191, 120, 135, 263, 458, 764, 543, 285, 147, 260, 203, 89, 130, 149, 206, 280, 359, 176, 70, 78, 127, 391, 198, 117, 80, 67, 63, 70, 55, 315, 105, 256, 201, 261, 169, 129, 127, 116, 136, 721, 410, 161, 128, 170, 242, 234, 115, 171, 109, 101, 423, 57, 72, 57, 159, 107, 416, 585, 190, 114, 150, 100, 129, 139, 155, 202, 302, 275, 96, 233, 106, 110, 467, 891, 34, 119, 154, 169, 125, 154, 165, 323, 481, 743, 63, 413, 198, 91, 127, 186, 200, 75, 148, 318, 114, 78, 66, 234, 131, 223, 105, 124, 137, 137, 157, 139, 160, 152, 121, 165, 313, 138, 71, 356, 154, 138, 427, 130, 163, 201, 162, 153, 124, 144, 118, 136, 161, 169, 365, 251, 201, 766, 65, 123, 71, 408, 621, 525, 151, 112, 137, 339, 989, 211, 135, 378, 158, 204, 109, 88, 184, 300, 84, 47, 370, 156, 138, 172, 140, 978, 305, 122, 364, 129, 165, 282, 150, 107, 92, 314, 320, 122, 262, 203, 116, 127, 32, 48, 168, 46, 58, 325, 134, 98, 61, 109, 148, 116, 79, 238, 144, 156, 134, 77, 90, 144, 125, 310, 173, 153, 125, 126, 125, 91, 133, 271, 167, 97, 232, 117, 137, 167, 124, 138, 554, 185, 115, 64, 152, 52, 91, 53, 60, 756, 172, 133, 137, 280, 485, 478, 375, 158, 140, 211, 116, 123, 127, 52, 342, 256, 206, 96, 133, 55, 85, 84, 290, 196, 69, 154, 114, 68, 291, 596, 107, 232, 43, 186, 268, 222, 240, 178, 208, 249, 501, 164, 174, 157, 143, 118, 190, 264, 909, 474, 103, 133, 310, 116, 118, 528, 546, 657, 115, 243, 554, 236, 237, 100, 241, 363, 119, 838, 276, 264, 192, 247, 298, 166, 139, 135, 720, 164, 226, 181, 136, 114, 169, 141, 959, 320, 553, 171, 164, 131, 772, 524, 765, 304, 361, 421, 105, 60, 221, 286, 86, 196, 317, 464, 127, 198, 97, 106, 140, 145, 189, 133, 246, 210, 191, 276, 619, 81, 352, 882, 815, 153, 159, 117, 247, 159, 151, 197, 64, 901, 591, 354, 172, 148, 158, 95, 132, 156, 74, 136, 188, 151, 138, 82, 155, 115, 264, 586, 510, 163, 323, 382, 211, 540, 749, 173, 131, 173, 179, 81, 281, 236, 111, 218, 131, 88, 177, 70, 161, 167, 171, 119, 344, 135, 104, 162, 95, 108, 131, 165, 193, 127, 157, 451, 280, 205, 63, 417, 446, 111, 274, 196, 34, 79, 228, 221, 149, 421, 185, 252, 203, 206, 320, 267, 197, 327, 206, 127, 188, 136, 151, 311, 336, 312, 765, 406, 193, 199, 171, 130, 115, 44, 115, 85, 133, 47, 214, 189, 112, 110, 73, 125, 165, 157, 135, 405, 196, 96, 160, 165, 112, 131, 154, 158, 127, 149, 188, 161, 87, 123, 60, 83, 137, 185, 200, 199, 563, 158, 220, 133, 610, 352, 321, 376, 209, 136, 502, 176, 414, 207, 403, 117, 284, 373, 141, 112, 184, 153, 161, 349, 117, 154, 461, 883, 917, 169, 324, 191, 82, 373, 139, 201, 79, 201, 359, 163, 124, 119, 134, 235, 995, 127, 58, 114, 85, 248, 732, 346, 620, 258, 437, 124, 84, 286, 806, 156, 76, 183, 174, 123, 179, 470, 385, 287, 136, 83, 120, 505, 171, 70, 189, 174, 193, 170, 149, 262, 251, 124, 126, 527, 220, 150, 335, 127, 618, 330, 646, 252, 438, 110, 165, 179, 140, 163, 143, 140, 418, 179, 125, 217, 177, 193, 165, 131, 128, 249, 979, 306, 409, 505, 162, 233, 546, 931, 407, 179, 1296, 272, 645, 170, 645, 827, 245, 580, 205, 169, 251, 133, 249, 334, 196, 228, 175, 170, 135, 127, 322, 119, 221, 135, 192, 48, 197, 124, 253, 202, 47, 305, 164, 53, 171, 128, 76, 42, 253, 139, 641, 166, 327, 119, 101, 102, 201, 136, 163, 172, 231, 154, 159, 635, 947, 52, 150, 132, 133, 391, 329, 303, 145, 222, 225, 166, 169, 326, 103, 715, 112, 165, 168, 86, 414, 127, 125, 77, 77, 135, 158, 85, 321, 117, 118, 76, 47, 135, 174, 193, 66, 124, 54, 377, 139, 408, 795, 170, 848, 397, 179, 179, 420, 333, 301, 900, 859, 229, 357, 329, 281, 274, 426, 153, 291, 76, 47, 173, 56, 545, 188, 290, 185, 95, 85, 137, 155, 382, 570, 832, 51, 74, 177, 201, 363, 196, 249, 586, 49, 449, 305, 253, 230, 187, 240, 247, 161, 104, 420, 121, 146, 288, 773, 83, 189, 241, 191, 997, 163, 200, 410, 314, 418, 183, 250, 263, 112, 368, 953, 146, 321, 128, 120, 130, 454, 140, 228, 962, 285, 968, 150, 109, 78, 82, 383, 484, 284, 165, 245, 119, 234, 114, 327, 201, 137, 147, 172, 126, 133, 121, 995, 108, 262, 142, 167, 119, 327, 111, 137, 384, 843, 109, 523, 34, 138, 265, 229, 456, 155, 123, 199, 161, 206, 201, 351, 334, 140, 250, 227, 336, 821, 299, 173, 128, 43, 115, 68, 499, 85, 355, 125, 128, 223, 131, 90, 188, 92, 146, 62, 220, 103, 578, 142, 472, 65, 56, 259, 132, 177, 56, 163, 175, 554, 59, 143, 62, 49, 58, 92, 122, 75, 44, 60, 119, 64, 146, 196, 334, 183, 124, 119, 197, 261, 119, 444, 510, 235, 315, 663, 129, 427, 178, 771, 61, 149, 312, 338, 165, 468, 298, 157, 339, 290, 533, 305, 735, 98, 231, 111, 139, 238, 263, 133, 77, 317, 444, 412, 320, 112, 122, 122, 685, 235, 125, 60, 49, 39, 24, 334, 78, 127, 143, 344, 160, 218, 350, 471, 102, 460, 78, 207, 207, 177, 148, 298, 329, 133, 61, 72, 105, 124, 119, 60, 136, 62, 124, 84, 204, 114, 158, 135, 32, 176, 206, 360, 118, 76, 167, 133, 331, 195, 335, 353, 143, 144, 86, 126, 102, 119, 47, 185, 117, 168, 133, 317, 180, 324, 444, 125, 123, 190, 155, 102, 437, 144, 631, 362, 59, 243, 211, 85, 446, 127, 48, 126, 43, 509, 216, 708, 75, 2470, 113, 471, 346, 124, 114, 191, 288, 344, 227, 258, 101, 173, 59, 209, 125, 57, 454, 72, 138, 80, 146, 576, 97, 697, 218, 54, 308, 131, 173, 241, 293, 120, 378, 127, 340, 695, 474, 313, 203, 244, 76, 213, 144, 148, 324, 142, 187, 465, 104, 520, 374, 693, 189, 141, 817, 552, 189, 82, 174, 374, 110, 146, 83, 60, 178, 155, 165, 124, 169, 44, 76, 142, 169, 199, 255, 982, 728, 342, 195, 214, 424, 196, 65, 78, 100, 701, 565, 236, 64, 50, 104, 435, 309, 331, 346, 370, 103, 179, 296, 448, 85, 331, 161, 87, 221, 424, 281, 206, 124, 953, 267, 346, 300, 140, 233, 50, 76, 128, 244, 130, 527, 57, 108, 57, 341, 139, 134, 236, 183, 212, 124, 139, 245, 120, 159, 161, 83, 209, 186, 75, 141, 230, 449, 379, 220, 292, 217, 107, 105, 152, 154, 159, 84, 151, 157, 472, 116, 184, 133, 188, 722, 475, 123, 285, 790, 1076, 227, 263, 988, 491, 917, 236, 387, 299, 804, 343, 515, 147, 313, 580, 304, 751, 125, 662, 121, 213, 149, 127, 214, 63, 168, 687, 114, 245, 706, 923, 340, 143, 92, 111, 206, 124, 102, 129, 338, 94, 199, 410, 111, 118, 110, 930, 327, 595, 145, 369, 762, 206, 191, 293, 388, 124, 201, 204, 135, 216, 121, 218, 332, 160, 144, 189, 239, 101, 427, 194, 110, 266, 256, 415, 168, 668, 688, 592, 763, 112, 134, 228, 102, 153, 163, 106, 25, 27, 245, 176, 163, 322, 116, 708, 134, 349, 268, 129, 427, 170, 346, 814, 178, 133, 118, 147, 503, 385, 259, 192, 154, 415, 253, 144, 179, 84, 217, 101, 197, 156, 122, 137, 240, 128, 247, 135, 104, 801, 169, 54, 45, 84, 155, 130, 136, 215, 141, 127, 117, 179, 134, 205, 156, 128, 156, 146, 158, 81, 170, 143, 124, 119, 131, 144, 199, 192, 82, 515, 118, 174, 137, 90, 154, 622, 311, 629, 586, 151, 285, 186, 174, 87, 74, 74, 61, 283, 70, 103, 253, 88, 97, 154, 249, 195, 191, 129, 214, 142, 176, 122, 204, 1186, 709, 546, 893, 182, 433, 270, 301, 231, 140, 194, 59, 124, 122, 112, 210, 124, 268, 198, 562, 99, 182, 140, 152, 197, 142, 434, 296, 296, 132, 150, 133, 45, 38, 245, 548, 215, 253, 133, 124, 44, 172, 128, 91, 105, 310, 117, 107, 116, 129, 203, 232, 361, 774, 125, 493, 944, 146, 407, 468, 116, 213, 143, 183, 346, 212, 141, 259, 222, 130, 142, 908, 212, 182, 342, 187, 739, 219, 148, 715, 657, 208, 327, 214, 612, 183, 364, 140, 748, 517, 292, 273, 233, 310, 208, 202, 282, 124, 374, 110, 218, 119, 179, 88, 190, 117, 182, 124, 25, 280, 151, 56, 207, 128, 70, 249, 132, 443, 355, 961, 126, 199, 582, 381, 482, 239, 486, 181, 202, 118, 381, 385, 165, 169, 82, 45, 147, 139, 197, 89, 103, 82, 65, 43, 140, 125, 84, 77, 50, 223, 152, 98, 110, 53, 58, 121, 256, 146, 263, 321, 133, 184, 413, 418, 358, 403, 424, 277, 111, 180, 429, 198, 321, 98, 566, 250, 88, 87, 268, 162, 135, 128, 133, 309, 222, 143, 154, 138, 133, 202, 159, 314, 190, 354, 55, 207, 108, 238, 292, 119, 199, 477, 165, 362, 127, 230, 361, 194, 125, 151, 263, 166, 298, 247, 151, 183, 163, 122, 208, 414, 112, 129, 205, 135, 158, 472, 363, 177, 321, 119, 221, 155, 515, 126, 326, 835, 92, 70, 194, 443, 53, 325, 246, 300, 87, 501, 68, 193, 77, 531, 122, 220, 780, 269, 384, 131, 370, 159, 67, 986, 143, 658, 184, 121, 314, 314, 123, 625, 228, 104, 243, 155, 247, 364, 355, 207, 152, 142, 231, 299, 121, 144, 163, 90, 180, 184, 646, 260, 138, 417, 142, 311, 124, 162, 561, 363, 124, 212, 135, 195, 570, 591, 700, 449, 136, 162, 178, 298, 590, 428, 253, 271, 410, 168, 145, 122, 165, 343, 154, 247, 122, 51, 284, 439, 137, 64, 243, 500, 120, 84, 440, 124, 337, 220, 47, 132, 145, 551, 134, 140, 639, 169, 115, 90, 49, 158, 164, 339, 583, 261, 254, 118, 234, 142, 245, 117, 533, 279, 113, 953, 248, 118, 176, 487, 275, 311, 124, 156, 326, 107, 184, 230, 585, 164, 561, 230, 95, 112, 340, 327, 234, 223, 117, 681, 246, 453, 124, 138, 120, 168, 238, 145, 124, 333, 601, 451, 148, 388, 131, 194, 217, 115, 228, 140, 683, 138, 128, 346, 308, 175, 383, 145, 211, 137, 192, 185, 392, 241, 134, 213, 110, 174, 418, 136, 140, 202, 84, 118, 207, 217, 967, 430, 116, 219, 527, 323, 190, 345, 119, 201, 111, 202, 148, 167, 107, 262, 326, 288, 201, 234, 238, 246, 209, 195, 225, 145, 127, 153, 250, 60, 116, 157, 124, 474, 71, 91, 69, 87, 152, 61, 205, 142, 132, 39, 139, 193, 258, 182, 299, 145, 91, 163, 155, 409, 276, 156, 121, 366, 141, 116, 126, 1148, 116, 153, 120, 104, 379, 144, 519, 266, 109, 266, 170, 129, 218, 178, 124, 197, 317, 178, 169, 652, 627, 150, 214, 202, 152, 184, 485, 274, 97, 241, 292, 343, 210, 163, 218, 506, 219, 242, 181, 168, 297, 133, 162, 116, 246, 102, 119, 163, 48, 318, 136, 175, 217, 137, 41, 125, 32, 94, 122, 135, 150, 197, 63, 497, 179, 196, 522, 328, 88, 110, 164, 133, 117, 120, 319, 275, 60, 237, 150, 144, 178, 191, 110, 215, 115, 193, 65, 68, 189, 158, 185, 215, 298, 262, 110, 245, 83, 258, 395, 234, 541, 103, 117, 58, 182, 789, 225, 807, 693, 108, 44, 27, 205, 78, 160, 161, 388, 144, 83, 317, 250, 268, 117, 340, 237, 125, 133, 138, 315, 129, 235, 98, 129, 305, 134, 126, 424, 115, 175, 248, 213, 163, 453, 156, 187, 470, 269, 333, 94, 113, 58, 67, 140, 506, 121, 233, 140, 132, 212, 198, 132, 204, 249, 343, 117, 116, 291, 189, 163, 70, 171, 293, 150, 367, 654, 226, 399, 270, 143, 43, 57, 137, 225, 23, 42, 31, 45, 110, 203, 161, 109, 122, 93, 444, 600, 303, 805, 393, 157, 372, 159, 114, 166, 183, 154, 61, 294, 150, 398, 164, 68, 154, 121, 104, 142, 132, 199, 158, 208, 136, 150, 201, 122, 180, 347, 108, 447, 132, 109, 224, 165, 103, 227, 104, 97, 58, 55, 100, 130, 146, 122, 177, 205, 484, 366, 358, 709, 161, 158, 115, 169, 116, 130, 347, 114, 884, 590, 126, 145, 127, 58, 118, 137, 138, 126, 120, 228, 978, 136, 152, 210, 190, 435, 176, 156, 139, 819, 428, 189, 151, 114, 272, 121, 196, 105, 278, 125, 235, 145, 125, 157, 120, 380, 507, 168, 124, 162, 310, 189, 136, 155, 194, 318, 104, 104, 79, 188, 553, 314, 156, 202, 215, 52, 130, 75, 298, 171, 109, 107, 183, 153, 186, 182, 250, 230, 151, 402, 191, 220, 212, 90, 36, 40, 139, 201, 119, 138, 517, 192, 224, 223, 961, 803, 149, 400, 293, 335, 215, 80, 381, 171, 234, 455, 362, 110, 123, 408, 32, 163, 176, 280, 142, 262, 146, 251, 138, 352, 230, 247, 453, 251, 143, 138, 187, 188, 254, 115, 162, 460, 271, 307, 132, 277, 337, 301, 251, 113, 292, 311, 112, 171, 196, 161, 174, 236, 245, 176, 82, 199, 182, 644, 242, 516, 109, 138, 389, 196, 543, 406, 981, 52, 380, 398, 48, 179, 76, 17, 217, 161, 127, 613, 136, 366, 511, 278, 121, 149, 303, 283, 151, 154, 129, 131, 75, 172, 148, 131, 223, 149, 114, 198, 114, 278, 120, 466, 171, 587, 241, 195, 139, 156, 179, 269, 232, 157, 71, 32, 48, 137, 406, 234, 450, 115, 259, 39, 160, 47, 119, 139, 122, 390, 50, 71, 417, 289, 964, 660, 120, 430, 1601, 335, 133, 650, 130, 233, 899, 750, 156, 291, 259, 132, 176, 76, 122, 274, 331, 171, 160, 168, 137, 136, 146, 465, 85, 312, 223, 216, 418, 127, 384, 234, 131, 126, 221, 420, 361, 181, 196, 156, 195, 118, 288, 247, 381, 128, 158, 399, 204, 140, 131, 104, 250, 171, 189, 124, 169, 68, 101, 271, 42, 480, 766, 228, 89, 94, 52, 150, 80, 174, 423, 122, 228, 162, 159, 50, 158, 332, 219, 142, 730, 151, 124, 542, 130, 140, 300, 357, 198, 251, 140, 71, 139, 56, 242, 480, 176, 145, 60, 270, 297, 153, 114, 376, 62, 264, 171, 174, 59, 481, 187, 78, 232, 265, 145, 109, 186, 360, 272, 431, 119, 216, 121, 141, 120, 131, 117, 230, 288, 133, 247, 219, 155, 132, 119, 138, 130, 116, 121, 289, 264, 660, 606, 181, 198, 402, 505, 373, 113, 467, 141, 77, 459, 239, 511, 104, 150, 168, 332, 172, 186, 114, 84, 63, 150, 62, 149, 39, 87, 97, 57, 475, 356, 130, 581, 429, 118, 423, 192, 406, 146, 285, 501, 696, 594, 697, 313, 124, 213, 152, 144, 213, 74, 239, 255, 140, 109, 156, 471, 501, 113, 146, 103, 227, 148, 308, 366, 374, 216, 706, 264, 163, 132, 242, 206, 151, 565, 687, 581, 204, 34, 266, 815, 209, 165, 112, 273, 145, 102, 145, 99, 128, 115, 122, 126, 145, 49, 117, 213, 144, 72, 47, 138, 152, 115, 55, 129, 114, 59, 121, 110, 115, 234, 75, 43, 123, 150, 62, 110, 216, 240, 200, 352, 205, 204, 104, 121, 69, 147, 145, 192, 94, 611, 207, 354, 117, 115, 628, 419, 369, 407, 221, 186, 236, 509, 134, 70, 154, 104, 166, 402, 353, 218, 811, 346, 230, 329, 133, 133, 167, 221, 246, 138, 169, 122, 146, 243, 179, 479, 328, 554, 366, 439, 307, 128, 127, 858, 164, 165, 213, 283, 146, 254, 145, 72, 334, 329, 226, 167, 729, 617, 209, 108, 292, 182, 153, 142, 332, 538, 255, 125, 146, 146, 235, 59, 268, 136, 154, 558, 353, 351, 507, 570, 809, 371, 226, 436, 282, 338, 64, 73, 1007, 274, 171, 67, 65, 67, 185, 156, 250, 406, 432, 105, 121, 150, 300, 159, 203, 99, 47, 59, 429, 123, 51, 296, 201, 137, 423, 260, 930, 393, 578, 783, 1000, 154, 218, 121, 60, 42, 247, 137, 116, 457, 344, 257, 328, 146, 202, 149, 138, 452, 225, 118, 226, 270, 121, 124, 244, 85, 231, 322, 255, 134, 458, 248, 314, 157, 69, 90, 56, 612, 261, 156, 232, 277, 52, 799, 83, 119, 55, 489, 118, 158, 78, 147, 209, 270, 90, 210, 296, 138, 218, 154, 170, 56, 143, 109, 119, 130, 170, 153, 136, 54, 47, 69, 69, 107, 42, 345, 78, 235, 113, 96, 45, 348, 296, 113, 40, 123, 99, 164, 484, 183, 153, 79, 151, 142, 225, 309, 293, 225, 217, 204, 218, 122, 199, 248, 320, 253, 227, 119, 124, 96, 608, 262, 115, 216, 227, 118, 146, 167, 143, 130, 109, 102, 101, 123, 211, 147, 325, 236, 228, 126, 422, 461, 187, 155, 309, 304, 222, 200, 119, 157, 206, 115, 223, 972, 420, 228, 110, 135, 589, 138, 141, 200, 301, 50, 615, 296, 843, 97, 139, 116, 50, 188, 94, 306, 122, 210, 139, 202, 194, 410, 119, 984, 976, 218, 307, 209, 267, 276, 459, 226, 572, 706, 385, 136, 339, 228, 177, 295, 395, 232, 158, 161, 572, 164, 103, 166, 134, 149, 258, 264, 135, 144, 269, 257, 161, 136, 132, 91, 175, 227, 110, 127, 117, 115, 124, 118, 126, 370, 137, 330, 174, 113, 224, 451, 159, 163, 171, 181, 111, 140, 149, 215, 108, 129, 115, 34, 83, 256, 151, 196, 201, 416, 185, 409, 201, 241, 39, 196, 116, 167, 79, 125, 123, 102, 61, 370, 227, 362, 215, 193, 467, 202, 641, 90, 500, 481, 138, 65, 142, 186, 300, 140, 130, 306, 659, 127, 147, 325, 185, 105, 174, 133, 46, 181, 103, 415, 236, 112, 101, 116, 201, 68, 245, 55, 216, 40, 75, 236, 188, 276, 293, 54, 18, 200, 495, 221, 185, 124, 211, 71, 440, 152, 273, 145, 110, 112, 84, 124, 228, 274, 504, 246, 207, 229, 81, 262, 105, 110, 155, 130, 406, 658, 216, 304, 127, 113, 120, 201, 100, 132, 71, 42, 207, 58, 78, 45, 112, 101, 149, 191, 348, 296, 345, 123, 201, 191, 670, 169, 933, 816, 379, 547, 275, 102, 139, 177, 572, 296, 168, 141, 137, 124, 152, 211, 290, 217, 136, 149, 196, 206, 673, 219, 170, 570, 131, 112, 234, 113, 239, 659, 136, 213, 232, 89, 115, 845, 349, 224, 259, 118, 126, 396, 287, 685, 128, 233, 249, 302, 202, 130, 277, 219, 384, 202, 393, 254, 482, 337, 160, 307, 106, 174, 215, 150, 71, 174, 113, 114, 145, 119, 152, 231, 715, 357, 927, 376, 135, 277, 138, 155, 423, 141, 237, 393, 371, 301, 226, 149, 163, 177, 172, 157, 130, 114, 110, 217, 226, 442, 220, 305, 303, 109, 155, 240, 122, 456, 358, 111, 547, 956, 269, 140, 144, 432, 701, 154, 279, 159, 63, 267, 147, 214, 510, 71, 132, 507, 317, 624, 96, 418, 127, 53, 68, 103, 374, 217, 297, 709, 516, 284, 255, 219, 249, 126, 53, 121, 787, 115, 243, 154, 471, 110, 465, 169, 147, 166, 293, 128, 1000, 433, 310, 147, 181, 885, 177, 121, 380, 232, 197, 370, 287, 475, 274, 361, 362, 626, 615, 189, 129, 403, 150, 209, 587, 27, 584, 122, 151, 46, 123, 41, 71, 195, 123, 214, 248, 232, 204, 114, 192, 125, 100, 393, 168, 57, 102, 109, 36, 144, 111, 74, 69, 58, 137, 916, 756, 73, 76, 187, 56, 157, 878, 128, 135, 169, 175, 168, 390, 63, 93, 145, 169, 374, 164, 138, 273, 146, 326, 176, 284, 544, 174, 156, 211, 190, 380, 218, 672, 618, 219, 114, 383, 60, 91, 90, 70, 588, 140, 74, 129, 142, 315, 359, 613, 178, 859, 351, 120, 326, 418, 224, 240, 244, 124, 671, 486, 998, 124, 256, 168, 128, 267, 649, 485, 924, 560, 265, 206, 138, 171, 140, 153, 486, 811, 466, 306, 185, 164, 224, 220, 146, 117, 262, 153, 42, 78, 154, 315, 451, 136, 130, 215, 713, 230, 228, 180, 311, 331, 180, 94, 503, 158, 177, 111, 73, 49, 74, 95, 47, 69, 132, 57, 172, 246, 64, 108, 155, 44, 94, 101, 848, 95, 467, 241, 134, 312, 761, 132, 171, 170, 231, 265, 193, 146, 147, 218, 283, 188, 177, 111, 107, 140, 238, 46, 170, 75, 91, 206, 71, 136, 136, 111, 183, 153, 168, 159, 253, 229, 219, 130, 163, 72, 170, 532, 585, 108, 142, 135, 414, 257, 566, 135, 711, 938, 220, 127, 551, 185, 269, 396, 733, 612, 144, 199, 303, 342, 128, 408, 109, 181, 735, 232, 209, 330, 219, 754, 556, 621, 146, 228, 537, 449, 70, 315, 136, 227, 83, 64, 644, 306, 148, 42, 107, 266, 196, 91, 448, 101, 41, 336, 303, 107, 137, 377, 109, 126, 277, 355, 388, 469, 250, 167, 181, 134, 129, 216, 135, 132, 118, 125, 196, 137, 142, 145, 151, 131, 142, 183, 119, 114, 128, 103, 110, 200, 230, 209, 515, 214, 941, 217, 207, 171, 163, 51, 341, 130, 146, 73, 163, 142, 253, 88, 221, 71, 170, 74, 148, 131, 119, 173, 119, 148, 375, 146, 229, 177, 114, 115, 171, 353, 101, 52, 249, 170, 108, 44, 111, 118, 114, 125, 146, 302, 129, 109, 182, 144, 126, 353, 608, 690, 334, 306, 203, 116, 288, 155, 140, 321, 283, 287, 227, 457, 265, 164, 82, 600, 144, 135, 83, 239, 95, 154, 348, 161, 50, 121, 71, 68, 33, 47, 201, 61, 51, 41, 53, 118, 137, 56, 172, 67, 82, 59, 173, 216, 212, 117, 116, 145, 113, 134, 129, 173, 85, 84, 53, 107, 36, 66, 68, 194, 223, 113, 476, 183, 180, 159, 154, 113, 112, 546, 276, 242, 109, 43, 373, 160, 410, 155, 143, 178, 313, 176, 172, 460, 221, 357, 107, 590, 665, 485, 272, 118, 234, 289, 283, 83, 362, 200, 295, 48, 124, 105, 171, 476, 122, 507, 131, 92, 136, 315, 194, 294, 295, 56, 202, 141, 350, 272, 180, 182, 1723, 160, 1000, 816, 341, 151, 195, 485, 146, 490, 101, 115, 81, 388, 607, 280, 28, 531, 961, 418, 230, 226, 163, 185, 474, 384, 305, 413, 99, 29, 131, 157, 130, 220, 433, 215, 142, 266, 254, 571, 280, 195, 151, 188, 139, 194, 120, 180, 531, 107, 161, 233, 136, 372, 127, 147, 238, 277, 410, 358, 133, 898, 211, 501, 139, 674, 241, 723, 424, 275, 540, 135, 108, 137, 436, 633, 94, 142, 136, 425, 488, 131, 128, 233, 503, 271, 857, 127, 43, 362, 131, 322, 181, 150, 211, 142, 151, 186, 152, 135, 125, 123, 467, 369, 562, 461, 243, 122, 201, 362, 157, 115, 258, 525, 280, 205, 426, 968, 253, 107, 134, 113, 140, 758, 335, 201, 315, 663, 163, 299, 548, 115, 264, 243, 237, 530, 237, 678, 365, 189, 379, 370, 251, 208, 238, 162, 114, 113, 145, 358, 82, 204, 24, 79, 109, 89, 46, 230, 165, 108, 30, 581, 199, 64, 100, 97, 212, 299, 370, 127, 91, 979, 92, 105, 60, 318, 137, 170, 166, 127, 635, 456, 126, 285, 182, 149, 118, 132, 168, 467, 170, 43, 177, 115, 171, 540, 109, 103, 261, 259, 263, 43, 20, 105, 109, 331, 92, 131, 120, 951, 150, 132, 215, 121, 821, 159, 414, 363, 201, 502, 122, 137, 227, 45, 140, 121, 126, 42, 202, 209, 49, 582, 170, 447, 1398, 80, 303, 141, 139, 228, 292, 187, 178, 455, 98, 159, 189, 136, 134, 234, 125, 132, 115, 118, 193, 118, 164, 340, 89, 410, 158, 220, 582, 120, 962, 605, 303, 181, 304, 148, 166, 120, 385, 119, 461, 124, 302, 271, 450, 377, 525, 178, 138, 166, 187, 147, 70, 61, 196, 109, 204, 167, 143, 164, 238, 204, 172, 193, 127, 385, 103, 200, 68, 297, 131, 43, 102, 119, 110, 176, 101, 134, 504, 169, 99, 33, 110, 141, 120, 49, 53, 184, 462, 141, 136, 184, 134, 333, 168, 170, 191, 96, 151, 42, 42, 150, 57, 38, 123, 93, 60, 240, 316, 356, 179, 367, 128, 142, 48, 139, 199, 202, 102, 86, 455, 591, 364, 331, 116, 119, 94, 51, 164, 60, 133, 275, 271, 156, 369, 505, 834, 985, 88, 156, 125, 359, 267, 128, 751, 259, 115, 184, 251, 59, 149, 510, 253, 109, 43, 136, 130, 122, 146, 250, 146, 48, 180, 98, 326, 178, 193, 972, 168, 420, 409, 209, 216, 334, 147, 149, 140, 228, 226, 492, 539, 142, 185, 56, 132, 217, 279, 118, 91, 132, 80, 334, 122, 191, 152, 161, 166, 126, 374, 525, 420, 167, 361, 126, 112, 1013, 513, 178, 101, 139, 99, 375, 399, 85, 131, 166, 645, 167, 121, 425, 119, 287, 618, 86, 187, 87, 747, 1830, 226, 203, 144, 53, 709, 257, 205, 183, 626, 246, 103, 195, 40, 175, 95, 253, 734, 422, 111, 180, 691, 294, 141, 58, 134, 174, 545, 145, 170, 200, 162, 169, 49, 123, 340, 394, 145, 200, 134, 385, 88, 269, 161, 139, 69, 292, 663, 428, 117, 184, 134, 146, 768, 62, 142, 71, 56, 492, 227, 71, 54, 47, 115, 45, 130, 301, 58, 110, 147, 358, 137, 308, 846, 827, 250, 292, 154, 117, 424, 291, 124, 68, 153, 75, 638, 232, 78, 192, 263, 233, 191, 74, 140, 117, 68, 315, 208, 83, 301, 127, 159, 134, 125, 153, 197, 212, 314, 142, 348, 306, 196, 218, 46, 41, 88, 117, 85, 61, 64, 57, 12, 129, 69, 145, 128, 166, 296, 173, 178, 438, 225, 145, 52, 330, 232, 120, 67, 235, 166, 220, 134, 182, 146, 334, 178, 64, 274, 170, 47, 137, 235, 305, 321, 158, 388, 134, 1074, 184, 684, 132, 106, 267, 111, 95, 60, 151, 116, 128, 427, 85, 237, 112, 144, 72, 111, 143, 137, 95, 63, 52, 146, 223, 97, 142, 177, 312, 153, 138, 97, 93, 60, 72, 338, 118, 340, 68, 83, 277, 139, 119, 141, 170, 146, 34, 136, 119, 163, 241, 215, 248, 230, 176, 993, 124, 107, 108, 140, 156, 148, 206, 107, 128, 127, 126, 287, 170, 169, 290, 149, 49, 401, 121, 219, 332, 195, 154, 244, 148, 121, 338, 626, 144, 120, 79, 109, 733, 332, 210, 127, 194, 166, 598, 317, 137, 154, 173, 111, 464, 838, 614, 606, 222, 271, 394, 291, 355, 231, 359, 793, 149, 429, 132, 221, 141, 166, 196, 64, 116, 238, 166, 237, 109, 101, 377, 195, 221, 540, 185, 151, 189, 306, 444, 416, 417, 225, 150, 123, 442, 177, 85, 287, 189, 184, 229, 323, 172, 117, 159, 215, 186, 153, 51, 87, 110, 248, 71, 162, 672, 917, 130, 207, 759, 127, 143, 206, 399, 675, 241, 595, 226, 866, 519, 345, 233, 249, 231, 145, 454, 372, 995, 486, 292, 274, 177, 205, 196, 112, 486, 288, 135, 188, 397, 127, 295, 429, 353, 110, 143, 79, 619, 506, 314, 237, 586, 141, 394, 76, 117, 103, 81, 99, 312, 124, 273, 145, 169, 49, 98, 225, 105, 107, 227, 123, 154, 390, 81, 189, 211, 117, 84, 63, 107, 177, 129, 135, 183, 138, 127, 346, 204, 288, 196, 74, 217, 325, 166, 39, 157, 113, 525, 195, 142, 62, 322, 49, 222, 207, 252, 362, 187, 75, 484, 88, 191, 151, 338, 129, 274, 146, 120, 298, 111, 122, 77, 305, 177, 108, 146, 108, 422, 825, 171, 251, 157, 133, 173, 177, 538, 242, 303, 207, 145, 124, 442, 505, 514, 433, 179, 306, 130, 390, 603, 169, 366, 270, 141, 122, 160, 962, 105, 611, 196, 250, 119, 459, 173, 225, 211, 186, 122, 412, 307, 393, 584, 352, 148, 111, 236, 370, 547, 388, 193, 356, 246, 480, 205, 235, 109, 392, 249, 58, 271, 125, 333, 347, 105, 161, 114, 54, 288, 622, 105, 138, 52, 192, 92, 60, 54, 90, 47, 350, 193, 185, 120, 669, 201, 730, 131, 411, 144, 198, 114, 112, 239, 528, 267, 79, 131, 125, 190, 327, 197, 866, 123, 546, 219, 60, 174, 148, 79, 151, 136, 153, 163, 297, 141, 130, 412, 65, 40, 150, 134, 49, 154, 347, 248, 131, 250, 122, 366, 160, 155, 132, 126, 188, 140, 150, 816, 133, 174, 145, 232, 183, 106, 206, 136, 150, 76, 717, 240, 144, 174, 331, 124, 202, 115, 121, 78, 121, 102, 55, 164, 41, 131, 139, 76, 149, 66, 140, 171, 107, 813, 123, 143, 285, 183, 149, 252, 133, 131, 150, 283, 145, 138, 122, 281, 322, 155, 455, 119, 724, 106, 77, 275, 44, 64, 207, 123, 577, 67, 107, 97, 166, 100, 128, 75, 92, 235, 359, 131, 78, 42, 977, 333, 693, 54, 168, 320, 156, 135, 151, 158, 191, 250, 215, 77, 179, 283, 199, 128, 187, 40, 197, 138, 75, 416, 115, 98, 129, 60, 140, 232, 177, 140, 134, 294, 220, 98, 88, 199, 145, 120, 158, 293, 138, 451, 147, 191, 700, 253, 323, 107, 168, 120, 831, 129, 265, 346, 203, 201, 150, 917, 150, 569, 280, 461, 892, 203, 63, 133, 116, 161, 133, 219, 174, 128, 211, 179, 59, 105, 397, 140, 146, 100, 153, 78, 119, 131, 242, 212, 170, 73, 73, 53, 85, 136, 43, 197, 165, 179, 581, 241, 158, 183, 219, 497, 520, 307, 189, 296, 246, 390, 553, 475, 162, 420, 234, 538, 154, 196, 217, 338, 197, 309, 60, 254, 143, 121, 46, 30, 217, 113, 81, 90, 111, 239, 112, 144, 122, 163, 686, 148, 365, 96, 81, 439, 151, 178, 136, 420, 136, 273, 296, 266, 561, 288, 283, 124, 313, 860, 733, 292, 266, 213, 130, 504, 157, 104, 65, 104, 132, 471, 326, 128, 156, 262, 70, 152, 232, 183, 316, 496, 401, 342, 150, 825, 233, 188, 149, 52, 200, 236, 464, 158, 127, 120, 186, 170, 296, 264, 710, 252, 119, 190, 115, 194, 428, 395, 81, 130, 132, 131, 214, 109, 234, 184, 37, 190, 45, 48, 160, 126, 102, 49, 51, 89, 64, 159, 103, 97, 176, 141, 467, 250, 132, 115, 212, 178, 162, 419, 128, 279, 330, 239, 249, 127, 108, 518, 163, 119, 220, 212, 86, 438, 96, 227, 67, 114, 64, 123, 253, 124, 749, 116, 137, 522, 131, 134, 119, 312, 35, 120, 77, 197, 170, 155, 91, 226, 126, 104, 212, 89, 142, 160, 309, 508, 157, 393, 116, 710, 243, 108, 166, 107, 154, 223, 200, 165, 138, 135, 138, 258, 239, 119, 481, 489, 121, 616, 203, 229, 957, 415, 263, 268, 122, 245, 156, 103, 353, 342, 140, 201, 156, 313, 567, 138, 607, 58, 121, 607, 267, 142, 68, 357, 187, 137, 154, 224, 164, 858, 402, 211, 266, 172, 575, 118, 504, 65, 211, 209, 194, 1051, 149, 153, 289, 172, 168, 134, 455, 262, 258, 61, 93, 33, 268, 61, 254, 755, 133, 141, 474, 116, 209, 205, 131, 100, 134, 76, 587, 490, 310, 222, 39, 101, 115, 196, 96, 154, 290, 423, 177, 241, 132, 326, 484, 251, 123, 125, 150, 222, 354, 469, 256, 250, 641, 155, 239, 127, 223, 139, 215, 150, 146, 41, 45, 150, 491, 336, 144, 504, 163, 178, 277, 704, 168, 288, 269, 484, 242, 342, 166, 175, 283, 500, 166, 751, 149, 340, 724, 183, 73, 344, 607, 111, 216, 131, 519, 217, 259, 534, 328, 256, 966, 176, 446, 199, 412, 174, 257, 120, 142, 126, 162, 150, 74, 178, 87, 201, 140, 89, 76, 148, 132, 67, 115, 211, 169, 47, 146, 238, 54, 179, 308, 173, 791, 389, 190, 228, 154, 152, 376, 244, 249, 51, 157, 59, 168, 331, 284, 132, 134, 212, 683, 469, 151, 153, 150, 180, 122, 341, 275, 144, 890, 851, 448, 782, 439, 789, 518, 169, 511, 201, 278, 246, 113, 459, 534, 613, 169, 174, 139, 214, 225, 577, 145, 292, 283, 250, 125, 179, 50, 77, 287, 201, 69, 207, 119, 911, 136, 82, 87, 131, 520, 102, 125, 131, 582, 161, 207, 131, 234, 632, 122, 137, 150, 808, 153, 282, 123, 201, 322, 222, 133, 158, 265, 241, 203, 117, 257, 581, 367, 312, 222, 188, 154, 111, 137, 108, 225, 63, 151, 570, 243, 282, 135, 104, 306, 266, 111, 239, 202, 363, 176, 252, 148, 535, 320, 116, 168, 345, 268, 156, 163, 226, 178, 112, 197, 137, 427, 164, 152, 122, 187, 98, 138, 605, 243, 303, 607, 198, 144, 154, 123, 165, 214, 121, 146, 188, 127, 125, 120, 140, 143, 214, 179, 191, 183, 292, 283, 307, 377, 172, 122, 243, 129, 167, 129, 678, 404, 184, 360, 128, 80, 76, 100, 131, 109, 127, 160, 133, 158, 159, 164, 142, 135, 290, 181, 113, 313, 166, 176, 175, 974, 131, 234, 183, 70, 69, 63, 175, 440, 136, 112, 133, 232, 201, 789, 387, 113, 125, 168, 155, 122, 544, 83, 144, 240, 129, 310, 151, 693, 245, 296, 199, 525, 125, 144, 381, 237, 182, 132, 184, 199, 191, 44, 182, 143, 207, 735, 141, 130, 144, 164, 169, 433, 341, 122, 126, 421, 64, 56, 188, 62, 475, 150, 125, 43, 117, 118, 119, 143, 208, 788, 155, 39, 286, 92, 112, 306, 182, 124, 136, 126, 165, 133, 179, 360, 193, 115, 293, 117, 112, 506, 111, 244, 132, 114, 156, 48, 158, 257, 399, 617, 547, 170, 226, 210, 135, 227, 111, 190, 189, 208, 60, 275, 308, 352, 118, 76, 190, 216, 103, 69, 173, 197, 233, 162, 225, 405, 348, 216, 126, 199, 142, 189, 357, 160, 321, 115, 116, 274, 137, 215, 368, 107, 473, 159, 127, 234, 147, 404, 168, 59, 169, 41, 66, 170, 309, 217, 153, 390, 168, 318, 112, 129, 167, 156, 121, 251, 127, 211, 258, 202, 196, 131, 50, 217, 195, 551, 699, 457, 128, 332, 128, 111, 555, 249, 306, 91, 111, 132, 621, 127, 112, 124, 111, 204, 258, 277, 63, 253, 111, 123, 187, 280, 163, 93, 265, 324, 370, 284, 652, 752, 625, 178, 155, 157, 119, 116, 654, 182, 118, 224, 206, 144, 246, 304, 148, 124, 118, 140, 273, 233, 131, 616, 273, 184, 148, 180, 181, 54, 128, 298, 195, 128, 164, 145, 203, 123, 55, 80, 352, 213, 123, 140, 194, 64, 239, 150, 64, 43, 112, 112, 377, 206, 152, 122, 129, 123, 440, 279, 112, 147, 77, 126, 156, 195, 140, 241, 123, 152, 477, 220, 123, 255, 436, 150, 309, 165, 212, 175, 133, 138, 130, 160, 131, 77, 161, 152, 303, 344, 129, 123, 169, 108, 450, 86, 202, 257, 186, 139, 190, 117, 187, 236, 269, 157, 84, 110, 334, 58, 77, 78, 125, 114, 170, 252, 171, 111, 146, 220, 168, 153, 323, 149, 148, 128, 119, 117, 127, 121, 158, 160, 143, 309, 309, 203, 210, 206, 345, 1001, 787, 286, 479, 213, 931, 537, 603, 418, 202, 353, 330, 108, 341, 34, 133, 37, 84, 88, 321, 120, 116, 287, 81, 116, 108, 119, 115, 246, 162, 131, 171, 177, 238, 520, 103, 430, 526, 294, 246, 228, 117, 321, 119, 338, 279, 98, 226, 88, 236, 187, 256, 125, 354, 300, 137, 301, 200, 112, 189, 173, 337, 631, 322, 220, 255, 42, 727, 110, 903, 452, 241, 373, 44, 408, 184, 385, 235, 329, 331, 139, 126, 438, 114, 174, 565, 178, 476, 454, 326, 114, 441, 297, 611, 494, 167, 280, 250, 246, 223, 690, 276, 236, 276, 315, 260, 253, 245, 174, 532, 203, 170, 173, 122, 423, 240, 73, 111, 60, 78, 292, 163, 105, 147, 131, 225, 130, 277, 153, 205, 181, 461, 634, 360, 235, 170, 167, 209, 135, 147, 273, 149, 116, 77, 104, 61, 120, 108, 233, 139, 298, 147, 38, 132, 274, 129, 905, 109, 167, 148, 116, 342, 135, 763, 113, 78, 103, 315, 92, 92, 40, 518, 160, 86, 92, 92, 55, 66, 234, 132, 314, 254, 149, 122, 174, 153, 138, 325, 76, 56, 57, 83, 106, 48, 90, 403, 42, 99, 99, 243, 155, 263, 523, 114, 100, 382, 184, 79, 207, 139, 148, 142, 396, 227, 143, 42, 389, 110, 168, 243, 236, 430, 144, 120, 296, 48, 116, 241, 144, 127, 328, 133, 119, 285, 93, 147, 124, 82, 52, 127, 92, 73, 60, 93, 237, 213, 285, 60, 205, 131, 526, 512, 133, 120, 657, 86, 181, 270, 834, 635, 227, 215, 220, 62, 110, 64, 52, 61, 139, 111, 73, 179, 253, 490, 174, 129, 137, 153, 92, 135, 216, 128, 151, 143, 119, 173, 162, 237, 333, 305, 158, 405, 192, 335, 147, 381, 336, 120, 42, 143, 55, 123, 108, 145, 232, 165, 148, 60, 525, 310, 141, 57, 142, 93, 173, 313, 155, 112, 123, 212, 72, 294, 218, 125, 135, 787, 188, 88, 140, 179, 220, 198, 154, 108, 117, 238, 247, 121, 113, 156, 132, 668, 446, 327, 188, 178, 394, 430, 120, 130, 197, 544, 177, 124, 335, 203, 121, 412, 325, 155, 197, 237, 155, 182, 407, 244, 134, 72, 39, 100, 36, 113, 126, 42, 155, 251, 603, 207, 133, 369, 162, 255, 365, 123, 321, 303, 305, 154, 126, 220, 153, 125, 63, 101, 95, 182, 73, 276, 100, 121, 154, 267, 165, 236, 201, 876, 599, 122, 283, 204, 180, 228, 706, 215, 155, 112, 185, 446, 357, 74, 144, 269, 52, 141, 123, 120, 406, 600, 674, 247, 153, 115, 270, 117, 144, 130, 591, 337, 215, 533, 195, 241, 119, 411, 483, 516, 113, 214, 188, 272, 435, 263, 415, 282, 206, 280, 167, 119, 165, 261, 313, 108, 99, 123, 196, 111, 275, 283, 82, 135, 974, 280, 294, 141, 180, 137, 698, 240, 486, 118, 117, 130, 292, 222, 58, 314, 157, 330, 95, 248, 137, 592, 116, 134, 288, 177, 149, 169, 283, 168, 182, 366, 171, 239, 272, 166, 122, 311, 146, 196, 175, 117, 119, 311, 211, 651, 146, 121, 148, 167, 120, 113, 300, 132, 593, 163, 243, 95, 371, 210, 219, 157, 222, 393, 41, 45, 48, 130, 126, 134, 185, 147, 119, 351, 358, 739, 563, 714, 427, 105, 406, 244, 545, 353, 454, 437, 259, 122, 172, 287, 157, 455, 620, 523, 191, 652, 104, 259, 151, 358, 190, 664, 159, 267, 785, 382, 147, 127, 132, 130, 226, 188, 173, 315, 118, 115, 117, 135, 276, 337, 312, 249, 632, 366, 278, 122, 359, 153, 120, 732, 152, 115, 132, 227, 96, 170, 304, 312, 278, 355, 203, 289, 238, 143, 391, 151, 136, 41, 641, 96, 81, 271, 150, 154, 144, 563, 163, 156, 184, 165, 199, 316, 204, 108, 969, 143, 156, 102, 161, 53, 211, 359, 857, 127, 409, 56, 150, 233, 162, 457, 123, 187, 167, 963, 162, 166, 130, 200, 262, 177, 139, 157, 70, 73, 384, 40, 202, 61, 258, 97, 721, 56, 197, 55, 173, 652, 139, 142, 314, 115, 242, 169, 121, 201, 117, 163, 427, 161, 142, 475, 436, 158, 81, 58, 49, 63, 115, 61, 125, 107, 135, 63, 143, 215, 271, 165, 239, 713, 563, 126, 342, 55, 265, 140, 667, 850, 602, 494, 184, 357, 56, 102, 602, 187, 39, 153, 131, 112, 651, 227, 973, 461, 169, 110, 110, 253, 241, 138, 304, 136, 720, 307, 947, 189, 233, 460, 159, 218, 43, 151, 487, 127, 544, 617, 762, 172, 349, 129, 131, 92, 326, 198, 255, 121, 212, 146, 139, 299, 123, 115, 293, 180, 251, 151, 369, 123, 164, 580, 127, 113, 221, 939, 438, 328, 135, 111, 123, 106, 166, 303, 242, 74, 199, 384, 152, 227, 238, 159, 143, 108, 163, 206, 680, 586, 986, 212, 141, 328, 197, 291, 120, 319, 220, 178, 187, 129, 329, 192, 146, 138, 241, 145, 344, 366, 276, 180, 138, 218, 249, 225, 209, 118, 166, 161, 176, 150, 164, 988, 320, 133, 299, 160, 215, 189, 236, 98, 150, 193, 230, 146, 212, 162, 330, 365, 254, 333, 361, 170, 590, 226, 282, 122, 155, 177, 406, 157, 196, 151, 170, 173, 215, 209, 289, 688, 133, 126, 182, 601, 300, 902, 273, 417, 489, 191, 212, 137, 149, 178, 108, 719, 138, 145, 398, 249, 393, 502, 531, 207, 307, 117, 234, 81, 38, 489, 64, 562, 171, 142, 122, 227, 186, 152, 287, 146, 702, 109, 126, 145, 162, 168, 196, 138, 195, 113, 150, 248, 70, 192, 213, 61, 132, 52, 61, 101, 211, 111, 278, 151, 288, 377, 156, 168, 65, 83, 98, 169, 128, 151, 137, 289, 201, 188, 196, 137, 170, 372, 297, 419, 177, 237, 125, 213, 679, 87, 354, 172, 126, 593, 170, 249, 142, 123, 428, 644, 261, 116, 107, 527, 172, 480, 166, 434, 293, 142, 813, 279, 408, 193, 582, 413, 923, 499, 546, 339, 470, 191, 233, 435, 124, 240, 945, 110, 190, 388, 111, 181, 99, 619, 285, 260, 569, 152, 210, 277, 482, 447, 398, 117, 156, 118, 105, 69, 81, 101, 123, 296, 388, 213, 172, 440, 440, 139, 324, 208, 435, 458, 659, 438, 122, 122, 264, 324, 350, 120, 159, 127, 271, 544, 206, 104, 261, 106, 365, 241, 139, 114, 184, 326, 50, 172, 269, 127, 189, 167, 55, 53, 145, 284, 159, 102, 86, 42, 195, 232, 363, 86, 216, 235, 131, 115, 49, 223, 214, 77, 281, 328, 122, 312, 136, 131, 131, 340, 134, 291, 70, 199, 308, 51, 527, 167, 468, 313, 201, 134, 223, 114, 97, 152, 97, 145, 320, 377, 104, 372, 255, 251, 320, 140, 114, 634, 262, 793, 301, 55, 260, 286, 141, 363, 86, 154, 164, 47, 109, 75, 127, 237, 141, 127, 477, 134, 60, 997, 252, 127, 174, 120, 230, 217, 264, 329, 119, 315, 129, 126, 268, 299, 685, 160, 154, 48, 100, 110, 607, 590, 140, 153, 428, 126, 129, 390, 124, 198, 166, 129, 119, 157, 72, 106, 51, 305, 194, 91, 170, 170, 125, 55, 71, 39, 60, 82, 56, 156, 250, 363, 128, 185, 120, 77, 124, 712, 38, 337, 64, 241, 248, 289, 168, 228, 57, 247, 68, 55, 141, 111, 75, 87, 82, 531, 257, 65, 121, 143, 136, 189, 148, 135, 244, 154, 157, 180, 220, 400, 213, 181, 123, 118, 180, 118, 100, 112, 285, 178, 47, 260, 112, 59, 209, 90, 597, 266, 232, 94, 276, 148, 293, 283, 596, 146, 384, 306, 166, 180, 119, 974, 597, 116, 387, 314, 258, 132, 819, 338, 529, 356, 360, 291, 219, 280, 201, 127, 154, 545, 242, 126, 643, 251, 889, 136, 304, 277, 185, 187, 231, 122, 125, 181, 138, 162, 358, 144, 121, 107, 199, 319, 434, 427, 116, 150, 52, 161, 198, 136, 126, 179, 767, 459, 126, 228, 349, 340, 220, 189, 171, 268, 652, 388, 552, 691, 171, 486, 241, 420, 659, 779, 381, 999, 569, 526, 136, 322, 920, 315, 147, 133, 129, 57, 112, 120, 61, 128, 142, 60, 226, 515, 284, 315, 290, 158, 329, 437, 433, 155, 1006, 169, 129, 363, 180, 157, 279, 119, 124, 239, 173, 88, 146, 214, 241, 67, 176, 312, 67, 1527, 70, 308, 291, 60, 223, 436, 136, 135, 723, 296, 285, 399, 146, 154, 161, 38, 108, 180, 149, 42, 51, 216, 165, 63, 119, 245, 43, 518, 166, 221, 871, 89, 737, 125, 135, 146, 141, 213, 203, 188, 399, 129, 235, 155, 131, 192, 148, 949, 433, 157, 372, 152, 119, 372, 68, 45, 41, 193, 307, 159, 151, 97, 329, 57, 51, 167, 998, 50, 233, 182, 112, 63, 88, 354, 71, 139, 156, 144, 199, 80, 746, 188, 285, 156, 309, 167, 91, 361, 489, 108, 133, 146, 122, 226, 150, 120, 255, 421, 135, 706, 128, 221, 181, 119, 223, 156, 135, 119, 157, 300, 143, 126, 143, 190, 107, 183, 357, 144, 276, 123, 148, 159, 115, 386, 231, 180, 180, 243, 343, 361, 150, 392, 714, 183, 432, 93, 174, 214, 136, 428, 245, 537, 103, 142, 130, 163, 80, 69, 84, 69, 301, 179, 141, 140, 443, 427, 496, 825, 427, 146, 80, 76, 96, 218, 114, 168, 251, 141, 155, 111, 162, 409, 163, 213, 89, 117, 129, 365, 148, 459, 141, 125, 149, 149, 160, 109, 49, 34, 115, 143, 297, 127, 110, 158, 111, 643, 351, 181, 1147, 175, 178, 170, 386, 227, 333, 259, 351, 187, 221, 160, 269, 131, 305, 286, 218, 550, 323, 101, 235, 552, 141, 175, 272, 168, 365, 147, 162, 169, 156, 392, 298, 181, 59, 148, 160, 130, 176, 168, 534, 122, 40, 82, 132, 59, 64, 103, 178, 93, 93, 146, 397, 418, 206, 190, 574, 515, 460, 302, 518, 103, 437, 216, 220, 138, 134, 156, 756, 212, 116, 338, 760, 205, 121, 118, 635, 300, 187, 138, 190, 109, 299, 178, 126, 114, 472, 350, 649, 135, 126, 568, 490, 108, 140, 269, 154, 217, 132, 434, 305, 211, 163, 248, 258, 432, 184, 707, 500, 74, 452, 709, 210, 140, 170, 243, 209, 404, 278, 179, 100, 67, 129, 145, 83, 169, 74, 209, 163, 163, 124, 293, 83, 270, 124, 159, 218, 250, 62, 188, 108, 388, 171, 354, 243, 190, 190, 208, 158, 334, 299, 120, 227, 28, 181, 173, 139, 588, 185, 449, 470, 201, 157, 183, 223, 366, 184, 231, 446, 152, 363, 101, 263, 425, 180, 437, 141, 701, 436, 300, 49, 390, 291, 150, 465, 78, 218, 234, 209, 146, 221, 169, 181, 253, 200, 203, 200, 323, 520, 213, 501, 475, 411, 121, 112, 51, 118, 106, 114, 557, 137, 107, 212, 184, 790, 516, 156, 493, 433, 98, 38, 56, 351, 275, 301, 146, 255, 228, 560, 99, 717, 108, 444, 505, 164, 569, 199, 157, 587, 283, 122, 79, 56, 76, 164, 191, 123, 126, 452, 236, 182, 98, 149, 134, 277, 110, 75, 108, 54, 170, 95, 215, 57, 114, 278, 82, 270, 700, 124, 316, 153, 513, 247, 218, 145, 77, 66, 304, 130, 165, 223, 308, 307, 338, 232, 252, 939, 147, 137, 136, 134, 139, 270, 111, 179, 213, 151, 176, 402, 468, 730, 429, 139, 246, 142, 990, 312, 207, 142, 236, 231, 268, 262, 267, 140, 341, 166, 125, 150, 133, 83, 67, 375, 292, 229, 153, 91, 49, 220, 412, 251, 136, 112, 138, 119, 133, 133, 191, 154, 140, 144, 665, 469, 137, 264, 211, 256, 204, 79, 416, 396, 151, 270, 199, 537, 125, 159, 158, 128, 138, 167, 49, 462, 534, 478, 73, 136, 333, 416, 237, 471, 136, 150, 146, 407, 112, 168, 115, 679, 49, 124, 316, 96, 278, 158, 144, 445, 78, 66, 203, 43, 113, 684, 123, 161, 159, 142, 314, 201, 58, 495, 78, 79, 56, 80, 66, 196, 47, 163, 118, 209, 124, 57, 118, 124, 156, 50, 593, 136, 133, 873, 313, 259, 765, 78, 328, 190, 60, 166, 126, 640, 780, 371, 161, 175, 256, 110, 115, 133, 137, 291, 464, 233, 388, 356, 392, 964, 557, 412, 859, 187, 404, 216, 139, 224, 919, 323, 591, 991, 161, 341, 248, 194, 95, 70, 23, 206, 166, 117, 218, 173, 268, 307, 117, 69, 127, 557, 372, 296, 174, 303, 466, 532, 255, 75, 453, 130, 120, 148, 124, 291, 69, 52, 134, 112, 161, 117, 198, 268, 88, 183, 327, 243, 261, 92, 195, 148, 115, 140, 269, 42, 271, 130, 50, 61, 759, 337, 548, 308, 97, 338, 371, 144, 50, 164, 56, 162, 295, 107, 164, 256, 234, 174, 226, 332, 103, 246, 160, 151, 315, 137, 312, 207, 370, 299, 350, 111, 149, 317, 166, 526, 174, 318, 154, 213, 396, 569, 104, 215, 403, 150, 332, 138, 439, 134, 326, 254, 376, 117, 139, 215, 260, 179, 122, 144, 137, 100, 118, 134, 103, 1007, 140, 163, 134, 100, 208, 525, 506, 253, 197, 493, 87, 60, 749, 262, 217, 143, 496, 229, 634, 155, 296, 238, 283, 93, 129, 89, 56, 173, 924, 115, 268, 50, 126, 469, 94, 130, 84, 209, 107, 106, 58, 95, 202, 106, 72, 204, 319, 181, 161, 310, 542, 420, 114, 113, 559, 164, 133, 849, 155, 195, 200, 1001, 151, 451, 184, 165, 142, 292, 172, 107, 158, 147, 261, 115, 145, 77, 126, 130, 188, 179, 110, 169, 793, 787, 890, 198, 340, 80, 150, 105, 145, 53, 164, 182, 338, 118, 117, 144, 158, 73, 207, 141, 85, 83, 146, 122, 43, 43, 246, 32, 56, 90, 636, 181, 169, 120, 307, 110, 201, 173, 147, 161, 178, 138, 199, 81, 254, 164, 189, 541, 144, 315, 135, 162, 322, 71, 161, 272, 114, 84, 215, 87, 126, 554, 136, 147, 144, 307, 55, 44, 130, 180, 225, 60, 76, 67, 94, 168, 246, 426, 207, 147, 180, 242, 87, 165, 139, 100, 71, 258, 106, 260, 142, 113, 154, 128, 320, 90, 219, 162, 138, 175, 178, 365, 150, 99, 151, 144, 126, 365, 179, 213, 155, 140, 83, 41, 41, 133, 108, 325, 161, 209, 117, 106, 84, 129, 121, 108, 155, 141, 146, 181, 133, 141, 139, 195, 238, 152, 76, 97, 202, 162, 138, 286, 249, 160, 180, 142, 1001, 250, 530, 130, 88, 182, 51, 76, 46, 207, 754, 400, 146, 261, 264, 129, 133, 260, 176, 42, 58, 52, 123, 335, 374, 176, 203, 184, 108, 168, 133, 110, 282, 133, 115, 409, 105, 127, 164, 128, 235, 236, 616, 211, 745, 204, 387, 416, 133, 169, 153, 425, 346, 397, 189, 617, 180, 89, 136, 223, 300, 166, 51, 130, 146, 119, 59, 176, 169, 154, 192, 302, 89, 299, 221, 79, 448, 138, 439, 162, 280, 356, 170, 170, 79, 122, 196, 76, 1000, 338, 712, 950, 180, 916, 360, 360, 208, 246, 88, 309, 171, 179, 157, 413, 170, 917, 180, 170, 340, 462, 170, 79, 271, 273, 76, 295, 565, 416, 93, 215, 549, 166, 144, 333, 314, 110, 66, 166, 117, 81, 705, 622, 498, 124, 63, 315, 252, 419, 326, 133, 24, 177, 400, 306, 261, 584, 177, 127, 369, 195, 274, 111, 152, 133, 158, 116, 138, 76, 345, 200, 200, 266, 138, 520, 306, 100, 124, 140, 130, 170, 137, 116, 292, 206, 368, 168, 266, 52, 264, 105, 107, 28, 248, 82, 54, 61, 381, 172, 208, 138, 117, 164, 107, 114, 146, 110, 346, 151, 53, 577, 559, 208, 356, 470, 168, 250, 355, 219, 110, 506, 278, 373, 160, 210, 279, 197, 181, 350, 105, 511, 70, 667, 86, 197, 44, 194, 63, 88, 33, 314, 151, 576, 825, 467, 180, 377, 295, 144, 394, 479, 44, 151, 212, 330, 334, 339, 282, 155, 154, 215, 197, 391, 201, 128, 119, 123, 136, 168, 699, 399, 178, 208, 470, 171, 137, 309, 473, 254, 179, 95, 302, 46, 244, 107, 114, 675, 126, 85, 190, 69, 137, 295, 993, 133, 193, 526, 721, 166, 152, 522, 136, 252, 85, 62, 59, 145, 129, 456, 103, 58, 145, 30, 69, 34, 43, 676, 135, 129, 141, 117, 332, 363, 233, 211, 160, 113, 155, 111, 275, 540, 399, 246, 700, 241, 71, 108, 72, 108, 127, 133, 213, 162, 167, 228, 154, 151, 67, 131, 507, 268, 295, 306, 297, 559, 165, 766, 338, 297, 290, 119, 123, 157, 145, 289, 310, 101, 198, 168, 484, 124, 102, 257, 311, 221, 141, 172, 125, 165, 216, 459, 243, 128, 999, 140, 546, 248, 133, 131, 131, 53, 122, 100, 120, 72, 160, 84, 72, 125, 63, 147, 342, 233, 463, 272, 80, 58, 172, 44, 49, 135, 308, 153, 144, 530, 92, 105, 106, 125, 622, 562, 306, 495, 264, 961, 465, 636, 181, 288, 165, 651, 361, 565, 228, 223, 254, 414, 146, 137, 136, 686, 137, 681, 102, 204, 278, 157, 145, 134, 295, 60, 189, 272, 264, 165, 125, 226, 220, 458, 98, 133, 116, 119, 232, 200, 129, 167, 225, 317, 128, 371, 362, 193, 157, 250, 589, 180, 442, 130, 210, 133, 179, 110, 94, 113, 155, 365, 135, 208, 185, 156, 540, 277, 460, 266, 221, 139, 363, 163, 375, 177, 159, 124, 625, 57, 121, 126, 146, 50, 908, 111, 74, 48, 72, 59, 85, 188, 80, 93, 123, 116, 99, 320, 125, 46, 229, 171, 138, 479, 169, 144, 128, 66, 41, 48, 45, 89, 236, 55, 51, 64, 210, 44, 412, 622, 277, 413, 166, 142, 149, 621, 451, 268, 285, 118, 127, 130, 122, 115, 295, 628, 187, 703, 146, 354, 426, 123, 171, 271, 253, 251, 228, 117, 389, 171, 78, 213, 260, 457, 269, 138, 408, 755, 145, 139, 109, 157, 246, 122, 328, 197, 331, 424, 203, 171, 159, 155, 261, 117, 179, 146, 344, 128, 120, 341, 437, 178, 461, 221, 401, 266, 171, 543, 342, 347, 197, 996, 122, 72, 111, 260, 1001, 171, 164, 320, 365, 724, 162, 157, 118, 243, 208, 423, 313, 166, 491, 60, 464, 352, 130, 166, 164, 160, 174, 217, 112, 53, 107, 440, 320, 363, 269, 111, 306, 131, 306, 144, 132, 118, 128, 278, 169, 159, 196, 294, 123, 518, 182, 216, 141, 73, 38, 111, 229, 117, 360, 136, 114, 134, 123, 256, 144, 232, 194, 153, 107, 102, 171, 191, 405, 164, 235, 140, 185, 344, 376, 127, 37, 111, 177, 140, 152, 129, 165, 125, 200, 295, 974, 629, 378, 216, 129, 129, 147, 196, 133, 158, 387, 173, 302, 34, 118, 161, 162, 197, 170, 428, 162, 217, 148, 143, 104, 196, 190, 117, 155, 334, 133, 119, 169, 151, 140, 118, 128, 128, 149, 99, 97, 131, 131, 119, 247, 200, 314, 65, 49, 182, 234, 284, 117, 125, 125, 559, 348, 397, 226, 662, 137, 329, 466, 133, 261, 145, 202, 126, 214, 166, 836, 299, 176, 132, 262, 186, 295, 409, 149, 327, 359, 622, 177, 164, 989, 261, 126, 429, 148, 58, 157, 154, 141, 43, 120, 188, 200, 299, 197, 254, 247, 152, 188, 279, 131, 124, 191, 140, 124, 195, 361, 148, 155, 301, 206, 351, 470, 688, 309, 611, 112, 149, 305, 692, 263, 145, 111, 145, 255, 62, 235, 145, 390, 199, 148, 344, 154, 300, 406, 123, 205, 216, 186, 278, 567, 270, 673, 390, 212, 366, 151, 243, 300, 169, 269, 128, 208, 903, 173, 515, 107, 160, 252, 408, 668, 686, 409, 175, 150, 209, 153, 155, 154, 188, 872, 117, 124, 243, 153, 67, 450, 332, 142, 132, 301, 557, 671, 229, 390, 76, 149, 163, 107, 446, 500, 250, 113, 285, 146, 163, 201, 299, 130, 236, 314, 245, 106, 510, 147, 231, 181, 94, 199, 207, 222, 413, 322, 421, 417, 442, 122, 364, 172, 84, 119, 29, 80, 590, 151, 92, 139, 325, 92, 163, 268, 495, 189, 996, 164, 332, 128, 671, 166, 500, 207, 881, 550, 513, 159, 118, 521, 190, 564, 746, 634, 155, 506, 514, 115, 196, 155, 121, 276, 133, 124, 275, 117, 356, 232, 154, 145, 125, 137, 128, 354, 177, 112, 468, 448, 81, 833, 106, 530, 124, 398, 520, 596, 799, 379, 335, 358, 203, 334, 156, 115, 531, 203, 414, 639, 158, 145, 168, 151, 190, 34, 44, 121, 109, 162, 137, 135, 399, 322, 109, 228, 192, 235, 281, 122, 412, 287, 222, 344, 379, 485, 267, 569, 160, 319, 515, 130, 471, 377, 634, 241, 285, 204, 208, 377, 113, 49, 166, 256, 90, 108, 170, 148, 224, 168, 202, 414, 209, 47, 181, 65, 54, 168, 121, 92, 203, 199, 479, 367, 296, 112, 158, 142, 213, 142, 162, 43, 95, 70, 59, 117, 149, 68, 38, 133, 228, 151, 191, 280, 199, 166, 828, 116, 173, 291, 170, 399, 668, 127, 110, 154, 255, 261, 154, 128, 599, 274, 122, 216, 118, 120, 198, 138, 386, 801, 384, 166, 169, 658, 281, 121, 360, 93, 89, 130, 86, 127, 67, 47, 233, 55, 894, 185, 194, 45, 103, 89, 171, 86, 42, 58, 154, 129, 157, 325, 379, 224, 129, 159, 164, 88, 72, 58, 108, 129, 115, 34, 83, 256, 231, 121, 573, 615, 44, 463, 161, 563, 670, 194, 375, 114, 82, 95, 130, 136, 156, 112, 114, 60, 73, 71, 145, 115, 307, 67, 481, 207, 171, 99, 142, 456, 234, 69, 173, 109, 127, 301, 113, 407, 129, 126, 150, 387, 281, 100, 53, 179, 106, 308, 110, 145, 54, 289, 162, 213, 116, 136, 248, 224, 198, 122, 53, 53, 273, 90, 172, 83, 86, 84, 193, 117, 92, 192, 429, 298, 310, 116, 131, 501, 138, 222, 78, 306, 163, 187, 311, 204, 99, 36, 353, 124, 107, 168, 177, 276, 190, 136, 415, 133, 81, 72, 166, 122, 307, 412, 131, 401, 674, 113, 259, 332, 272, 173, 549, 331, 565, 72, 490, 340, 373, 246, 180, 117, 132, 119, 364, 123, 134, 176, 113, 235, 497, 308, 360, 618, 108, 261, 366, 89, 568, 159, 100, 259, 190, 179, 125, 101, 140, 560, 674, 171, 111, 149, 343, 107, 127, 130, 150, 78, 49, 118, 70, 189, 184, 621, 76, 126, 108, 227, 274, 130, 229, 605, 213, 160, 469, 164, 130, 119, 179, 263, 245, 126, 230, 464, 367, 313, 115, 161, 190, 612, 196, 150, 183, 578, 128, 60, 138, 132, 196, 64, 50, 213, 159, 211, 187, 193, 311, 157, 188, 215, 229, 126, 245, 241, 736, 151, 76, 44, 192, 140, 54, 132, 154, 63, 80, 127, 179, 168, 110, 175, 126, 140, 297, 206, 123, 361, 481, 148, 305, 163, 157, 219, 504, 244, 218, 146, 330, 1001, 147, 148, 696, 109, 486, 143, 350, 124, 238, 128, 127, 46, 46, 224, 416, 331, 116, 289, 389, 341, 878, 565, 316, 526, 153, 194, 237, 278, 164, 220, 173, 435, 216, 305, 179, 185, 120, 82, 309, 157, 323, 359, 204, 458, 79, 200, 64, 207, 115, 236, 85, 143, 257, 198, 236, 301, 121, 90, 247, 209, 248, 605, 120, 157, 198, 65, 113, 140, 197, 104, 187, 354, 272, 394, 274, 116, 163, 54, 193, 507, 146, 242, 272, 159, 588, 160, 114, 216, 168, 137, 101, 63, 55, 164, 119, 196, 76, 249, 159, 129, 268, 56, 55, 117, 111, 262, 115, 224, 71, 107, 148, 44, 322, 291, 194, 124, 96, 106, 223, 165, 316, 216, 133, 181, 93, 278, 54, 162, 180, 202, 539, 182, 541, 436, 1839, 87, 544, 966, 331, 242, 527, 160, 356, 331, 221, 298, 54, 453, 437, 159, 119, 244, 142, 150, 310, 109, 104, 141, 179, 556, 214, 152, 129, 279, 195, 158, 145, 224, 282, 280, 324, 436, 339, 108, 171, 120, 124, 147, 428, 53, 117, 178, 152, 93, 154, 89, 116, 162, 297, 352, 157, 147, 114, 117, 388, 121, 135, 393, 81, 196, 130, 208, 115, 741, 207, 334, 467, 399, 100, 79, 232, 211, 357, 175, 305, 458, 359, 122, 89, 432, 214, 326, 79, 544, 202, 186, 373, 44, 193, 97, 160, 149, 152, 136, 132, 372, 165, 259, 95, 254, 98, 594, 158, 151, 504, 419, 535, 120, 141, 493, 626, 135, 134, 183, 267, 155, 161, 401, 421, 161, 273, 457, 135, 200, 147, 133, 129, 220, 157, 147, 137, 123, 145, 390, 114, 124, 110, 74, 173, 145, 148, 95, 149, 154, 333, 90, 499, 295, 136, 133, 185, 185, 153, 153, 392, 498, 299, 414, 172, 141, 649, 121, 160, 130, 103, 135, 341, 199, 319, 237, 629, 211, 143, 171, 323, 221, 142, 157, 110, 112, 159, 512, 221, 203, 158, 186, 342, 353, 348, 212, 336, 161, 193, 692, 855, 185, 567, 354, 139, 218, 132, 232, 30, 259, 191, 171, 248, 185, 140, 184, 172, 907, 264, 236, 173, 250, 244, 348, 196, 485, 191, 110, 192, 674, 105, 161, 202, 232, 365, 123, 260, 357, 999, 203, 200, 602, 120, 184, 44, 1277, 448, 284, 133, 395, 157, 67, 238, 147, 127, 84, 55, 154, 177, 112, 75, 62, 151, 223, 114, 196, 343, 57, 37, 95, 255, 556, 436, 328, 260, 636, 490, 161, 216, 107, 142, 244, 117, 382, 125, 78, 37, 72, 153, 132, 135, 67, 63, 276, 39, 158, 142, 377, 456, 92, 211, 139, 62, 130, 235, 79, 137, 312, 267, 246, 323, 115, 169, 166, 425, 357, 195, 171, 122, 72, 118, 91, 129, 105, 145, 158, 165, 144, 420, 205, 109, 204, 49, 123, 217, 168, 193, 153, 219, 82, 144, 188, 459, 264, 106, 166, 208, 137, 301, 714, 36, 114, 117, 83, 95, 100, 213, 253, 625, 187, 251, 170, 144, 143, 71, 235, 181, 272, 253, 84, 247, 756, 233, 401, 543, 262, 369, 246, 109, 177, 190, 157, 619, 111, 135, 150, 269, 254, 439, 133, 562, 206, 144, 142, 395, 233, 178, 222, 278, 83, 261, 408, 154, 724, 97, 890, 486, 292, 76, 295, 134, 245, 101, 305, 182, 457, 500, 236, 160, 63, 47, 126, 239, 138, 247, 289, 160, 137, 186, 164, 146, 142, 142, 183, 125, 107, 128, 156, 215, 170, 183, 115, 187, 133, 143, 206, 95, 64, 184, 227, 745, 219, 430, 83, 174, 327, 185, 78, 134, 153, 57, 95, 143, 41, 34, 355, 123, 154, 171, 252, 43, 173, 124, 967, 504, 108, 176, 234, 122, 105, 357, 77, 473, 283, 328, 440, 174, 530, 132, 465, 230, 120, 550, 129, 73, 218, 300, 394, 801, 144, 108, 88, 129, 281, 50, 328, 45, 481, 392, 199, 104, 123, 82, 1196, 250, 121, 640, 281, 277, 113, 767, 143, 182, 507, 298, 215, 394, 114, 135, 122, 124, 143, 162, 119, 107, 124, 173, 133, 269, 109, 325, 137, 887, 274, 99, 193, 192, 419, 291, 146, 281, 122, 809, 70, 179, 112, 66, 277, 147, 241, 250, 126, 150, 86, 129, 332, 148, 152, 130, 49, 104, 118, 107, 1002, 469, 130, 154, 233, 67, 213, 113, 385, 144, 151, 137, 149, 280, 82, 52, 62, 191, 109, 145, 99, 217, 174, 134, 216, 169, 112, 166, 222, 136, 134, 111, 357, 238, 204, 313, 135, 534, 179, 120, 451, 216, 437, 181, 155, 127, 114, 319, 129, 178, 129, 100, 376, 295, 115, 130, 47, 349, 375, 128, 91, 46, 54, 132, 123, 118, 154, 107, 303, 559, 237, 169, 265, 118, 471, 290, 116, 417, 81, 278, 54, 49, 22, 292, 287, 653, 235, 145, 509, 341, 386, 123, 135, 127, 137, 174, 158, 189, 192, 133, 146, 70, 91, 135, 171, 221, 314, 193, 487, 213, 143, 480, 635, 91, 69, 125, 105, 210, 150, 262, 145, 130, 142, 89, 449, 180, 262, 179, 134, 162, 156, 171, 308, 259, 190, 358, 173, 143, 143, 128, 153, 169, 136, 400, 615, 252, 686, 131, 173, 124, 150, 187, 154, 389, 311, 378, 247, 143, 117, 286, 123, 366, 174, 73, 385, 166, 38, 373, 233, 142, 118, 115, 139, 121, 175, 74, 109, 89, 58, 33, 128, 120, 97, 131, 301, 204, 130, 487, 158, 357, 84, 169, 94, 239, 190, 612, 130, 75, 83, 50, 171, 71, 47, 190, 140, 113, 176, 110, 281, 179, 270, 103, 124, 60, 263, 55, 159, 119, 127, 153, 140, 130, 128, 67, 151, 274, 113, 121, 123, 157, 230, 206, 66, 55, 159, 44, 150, 48, 129, 235, 139, 104, 98, 58, 128, 472, 739, 53, 531, 601, 372, 50, 125, 143, 329, 242, 247, 376, 910, 204, 360, 425, 909, 221, 265, 438, 93, 187, 117, 104, 247, 215, 123, 580, 495, 179, 305, 114, 199, 474, 130, 403, 382, 367, 360, 183, 179, 287, 142, 173, 63, 234, 57, 313, 246, 123, 136, 188, 256, 441, 103, 347, 89, 160, 132, 251, 170, 154, 308, 155, 124, 189, 163, 329, 129, 173, 281, 173, 123, 109, 154, 119, 137, 618, 153, 218, 364, 238, 202, 138, 285, 557, 220, 522, 348, 413, 113, 120, 188, 83, 116, 191, 225, 107, 126, 55, 173, 149, 278, 141, 346, 181, 183, 181, 999, 131, 166, 136, 189, 148, 147, 176, 128, 191, 149, 151, 341, 192, 129, 107, 141, 142, 158, 124, 150, 207, 174, 471, 425, 324, 336, 102, 239, 112, 146, 811, 977, 686, 170, 282, 560, 207, 874, 269, 197, 255, 163, 246, 182, 265, 276, 181, 421, 139, 285, 435, 152, 170, 198, 330, 227, 198, 205, 791, 495, 231, 243, 514, 163, 95, 133, 125, 580, 171, 174, 141, 115, 89, 738, 237, 28, 138, 548, 141, 48, 139, 105, 90, 538, 132, 142, 182, 293, 205, 253, 363, 255, 132, 195, 111, 119, 699, 225, 135, 190, 70, 156, 41, 67, 45, 372, 73, 127, 161, 252, 137, 544, 211, 657, 134, 739, 117, 211, 686, 450, 394, 344, 201, 576, 160, 164, 271, 187, 148, 399, 59, 316, 180, 133, 1010, 334, 144, 140, 606, 280, 114, 204, 215, 308, 316, 64, 49, 268, 80, 128, 81, 213, 185, 173, 194, 148, 335, 124, 274, 76, 61, 57, 146, 122, 182, 215, 447, 159, 471, 700, 523, 202, 256, 216, 155, 67, 133, 131, 119, 155, 93, 185, 176, 145, 244, 383, 114, 380, 359, 137, 181, 134, 167, 267, 311, 53, 57, 323, 57, 34, 351, 946, 293, 247, 137, 206, 197, 355, 161, 141, 316, 125, 234, 73, 128, 63, 122, 623, 108, 176, 306, 574, 193, 215, 340, 432, 72, 289, 139, 133, 47, 56, 348, 248, 409, 178, 569, 499, 92, 373, 665, 433, 178, 288, 329, 119, 289, 132, 132, 127, 170, 191, 288, 170, 249, 135, 101, 145, 174, 101, 85, 129, 178, 1015, 228, 351, 302, 179, 156, 648, 534, 392, 210, 510, 141, 303, 823, 236, 268, 498, 606, 241, 243, 180, 256, 273, 139, 231, 448, 292, 919, 290, 563, 100, 714, 118, 153, 834, 410, 256, 267, 116, 316, 231, 107, 200, 185, 549, 134, 650, 243, 441, 204, 153, 76, 92, 169, 132, 169, 258, 154, 80, 1003, 135, 160, 69, 152, 89, 131, 47, 166, 108, 278, 144, 259, 240, 526, 142, 130, 87, 152, 154, 99, 121, 168, 387, 151, 138, 58, 180, 118, 148, 251, 377, 209, 176, 61, 559, 177, 477, 765, 471, 344, 161, 108, 50, 410, 136, 160, 144, 448, 913, 174, 65, 301, 803, 156, 412, 481, 556, 333, 337, 98, 269, 117, 133, 776, 81, 267, 152, 271, 345, 365, 432, 573, 446, 61, 49, 89, 248, 815, 452, 409, 494, 726, 404, 235, 237, 193, 141, 185, 126, 137, 138, 87, 109, 264, 158, 70, 207, 503, 303, 588, 437, 182, 187, 221, 696, 559, 110, 222, 129, 162, 159, 750, 106, 138, 229, 205, 108, 651, 151, 174, 156, 441, 453, 54, 134, 367, 134, 159, 251, 145, 170, 190, 275, 241, 976, 230, 193, 235, 128, 230, 230, 303, 117, 310, 62, 167, 199, 333, 130, 542, 228, 186, 651, 179, 420, 154, 72, 495, 172, 71, 165, 245, 142, 102, 99, 98, 121, 135, 165, 285, 283, 136, 66, 104, 55, 44, 172, 621, 202, 112, 642, 286, 95, 154, 190, 433, 149, 210, 115, 117, 96, 185, 241, 62, 70, 60, 65, 163, 250, 185, 101, 326, 532, 520, 412, 667, 586, 215, 529, 627, 191, 140, 87, 68, 143, 104, 247, 79, 388, 167, 245, 156, 385, 425, 380, 181, 167, 121, 535, 198, 421, 127, 289, 275, 802, 219, 198, 325, 145, 204, 728, 226, 134, 351, 181, 388, 135, 218, 220, 421, 526, 485, 167, 188, 216, 57, 398, 152, 132, 55, 79, 309, 162, 327, 150, 151, 51, 52, 316, 129, 28, 148, 139, 183, 138, 144, 125, 192, 151, 992, 455, 799, 313, 166, 467, 182, 129, 47, 115, 150, 141, 95, 378, 462, 250, 213, 267, 269, 603, 168, 342, 148, 176, 377, 267, 36, 154, 127, 108, 175, 113, 528, 442, 193, 183, 109, 132, 239, 106, 118, 516, 687, 118, 179, 129, 215, 277, 345, 264, 664, 884, 157, 243, 122, 126, 141, 323, 130, 328, 164, 215, 127, 234, 113, 79, 148, 114, 175, 134, 126, 53, 79, 124, 163, 65, 190, 71, 111, 124, 217, 96, 41, 124, 57, 78, 127, 150, 59, 145, 321, 92, 110, 226, 107, 143, 114, 127, 382, 150, 433, 152, 186, 352, 357, 165, 273, 323, 282, 218, 266, 122, 190, 57, 177, 49, 171, 150, 165, 796, 131, 267, 246, 227, 155, 491, 338, 140, 297, 222, 91, 223, 209, 203, 144, 128, 151, 64, 507, 169, 335, 298, 144, 138, 121, 74, 134, 242, 459, 157, 129, 129, 75, 336, 55, 75, 48, 82, 395, 329, 376, 113, 148, 84, 83, 122, 202, 439, 134, 144, 177, 130, 127, 55, 608, 258, 207, 328, 682, 713, 202, 636, 252, 253, 492, 300, 124, 116, 234, 149, 119, 142, 86, 65, 247, 200, 186, 130, 114, 617, 154, 139, 64, 126, 126, 147, 195, 126, 233, 164, 128, 324, 129, 140, 91, 222, 316, 381, 519, 111, 754, 127, 635, 345, 284, 927, 712, 178, 47, 45, 54, 617, 94, 125, 591, 182, 79, 82, 184, 139, 222, 63, 51, 171, 118, 188, 147, 82, 63, 78, 135, 152, 86, 216, 216, 372, 58, 142, 401, 101, 148, 170, 242, 147, 173, 150, 428, 156, 269, 264, 211, 138, 272, 62, 128, 149, 221, 454, 280, 155, 623, 223, 130, 155, 241, 407, 168, 325, 372, 143, 488, 170, 252, 114, 165, 619, 141, 368, 46, 116, 73, 58, 175, 150, 136, 396, 249, 117, 72, 229, 251, 169, 164, 70, 180, 151, 412, 129, 187, 256, 154, 112, 177, 342, 158, 72, 36, 140, 198, 510, 121, 238, 185, 370, 309, 175, 463, 324, 107, 124, 226, 146, 184, 192, 575, 149, 438, 118, 124, 143, 118, 201, 106, 105, 166, 139, 126, 28, 447, 143, 642, 130, 126, 641, 162, 366, 129, 302, 189, 258, 775, 133, 213, 176, 133, 196, 156, 130, 123, 161, 733, 117, 195, 241, 175, 286, 297, 151, 146, 126, 143, 100, 422, 166, 778, 413, 643, 129, 128, 217, 191, 856, 315, 428, 139, 240, 182, 138, 126, 112, 135, 445, 260, 314, 184, 144, 181, 127, 184, 500, 94, 92, 136, 117, 120, 169, 260, 123, 420, 146, 32, 53, 53, 58, 121, 35, 341, 118, 174, 238, 169, 179, 219, 49, 127, 189, 190, 129, 199, 539, 376, 302, 421, 302, 427, 363, 166, 53, 134, 130, 233, 69, 74, 202, 419, 42, 387, 122, 538, 281, 695, 172, 262, 211, 503, 609, 795, 657, 73, 217, 445, 197, 347, 403, 159, 152, 412, 805, 130, 271, 691, 411, 467, 164, 237, 147, 172, 85, 125, 161, 169, 159, 219, 308, 121, 472, 117, 246, 181, 165, 355, 458, 703, 242, 119, 217, 179, 400, 285, 274, 199, 232, 101, 139, 239, 193, 219, 123, 210, 258, 184, 261, 360, 180, 143, 211, 271, 54, 356, 320, 473, 121, 86, 569, 785, 216, 113, 249, 120, 264, 162, 308, 152, 36, 431, 523, 247, 63, 115, 55, 585, 235, 68, 253, 268, 200, 208, 199, 139, 148, 583, 210, 112, 316, 172, 135, 105, 195, 291, 96, 249, 348, 113, 229, 206, 50, 225, 49, 116, 96, 96, 110, 61, 27, 976, 306, 196, 203, 107, 121, 224, 156, 124, 119, 185, 356, 81, 308, 161, 81, 199, 242, 96, 189, 263, 228, 129, 122, 511, 129, 204, 341, 430, 83, 170, 526, 149, 138, 456, 148, 215, 246, 691, 408, 178, 43, 385, 131, 458, 340, 229, 148, 77, 200, 191, 115, 59, 789, 368, 338, 290, 141, 83, 43, 116, 106, 119, 121, 657, 275, 251, 680, 321, 129, 450, 233, 344, 544, 996, 798, 264, 373, 98, 40, 245, 735, 486, 981, 129, 392, 1001, 122, 104, 261, 364, 267, 137, 258, 114, 184, 291, 331, 425, 104, 313, 460, 800, 251, 159, 266, 128, 264, 223, 116, 431, 101, 156, 103, 75, 62, 501, 528, 94, 372, 169, 559, 308, 115, 146, 189, 184, 481, 246, 577, 141, 48, 71, 72, 59, 234, 251, 404, 166, 227, 161, 169, 203, 285, 832, 285, 225, 163, 367, 129, 247, 680, 294, 533, 408, 178, 331, 387, 486, 746, 178, 154, 131, 233, 193, 198, 306, 615, 127, 128, 109, 152, 143, 133, 125, 147, 89, 441, 338, 68, 113, 145, 125, 173, 145, 166, 426, 173, 226, 111, 107, 206, 144, 108, 109, 495, 141, 148, 386, 57, 72, 1070, 86, 361, 59, 127, 112, 491, 393, 202, 287, 207, 296, 103, 508, 47, 77, 54, 63, 37, 37, 36, 272, 187, 138, 59, 635, 228, 65, 349, 632, 326, 818, 155, 262, 103, 83, 71, 189, 292, 139, 466, 72, 120, 219, 183, 200, 217, 104, 146, 157, 345, 357, 134, 243, 147, 132, 156, 171, 282, 127, 63, 176, 127, 44, 49, 46, 97, 60, 221, 114, 143, 187, 624, 315, 280, 152, 187, 100, 342, 235, 178, 409, 469, 172, 147, 119, 271, 465, 222, 123, 153, 346, 346, 167, 136, 133, 161, 147, 168, 357, 140, 134, 294, 183, 152, 113, 177, 301, 96, 80, 140, 59, 260, 120, 56, 164, 55, 61, 33, 108, 183, 134, 717, 55]\n"
          ]
        }
      ]
    },
    {
      "cell_type": "code",
      "source": [
        "import matplotlib.pyplot as plt\n",
        "plt.hist(length_array, range=(0,1200),edgecolor='black')\n",
        "plt.xlabel('Length', fontsize=18)\n",
        "plt.ylabel('Frequency', fontsize=18)\n",
        "\n",
        "plt.show()"
      ],
      "metadata": {
        "colab": {
          "base_uri": "https://localhost:8080/",
          "height": 287
        },
        "id": "bs5V6nkiNyO_",
        "outputId": "d4ba8e54-642c-44ef-d386-bfc58ac1f17c"
      },
      "execution_count": 67,
      "outputs": [
        {
          "output_type": "display_data",
          "data": {
            "text/plain": [
              "<Figure size 432x288 with 1 Axes>"
            ],
            "image/png": "[encoded data removed]"
          },
          "metadata": {
            "needs_background": "light"
          }
        }
      ]
    },
    {
      "cell_type": "code",
      "source": [
        "min_length = min(length_array)\n",
        "max_length = max(length_array)\n",
        "print(min_length)\n",
        "print(max_length)\n"
      ],
      "metadata": {
        "colab": {
          "base_uri": "https://localhost:8080/"
        },
        "id": "vpBhD-Ti8Ypb",
        "outputId": "896ced82-21b2-412a-c141-242923b255bf"
      },
      "execution_count": 66,
      "outputs": [
        {
          "output_type": "stream",
          "name": "stdout",
          "text": [
            "10\n",
            "2470\n"
          ]
        }
      ]
    },
    {
      "cell_type": "code",
      "source": [
        "import pickle\n",
        "with open(\"data.pickle\",\"rb\") as f:\n",
        "    train_data_dev = pickle.load(f)\n",
        "\n"
      ],
      "metadata": {
        "id": "u8_0behBOApQ"
      },
      "execution_count": 34,
      "outputs": []
    },
    {
      "cell_type": "code",
      "source": [
        "train_length_array = []\n",
        "for data in train_data_dev:\n",
        "  split_array = data[\"text\"].split(\" \")\n",
        "  train_length_array.append(len(split_array))"
      ],
      "metadata": {
        "id": "IZY_RdAoReXi"
      },
      "execution_count": 35,
      "outputs": []
    },
    {
      "cell_type": "code",
      "source": [
        "import matplotlib.pyplot as plt\n",
        "plt.hist(train_length_array, range=(0,1200),edgecolor='black')\n",
        "plt.xlabel('Length', fontsize=18)\n",
        "plt.ylabel('Frequency', fontsize=18)\n",
        "# plt.title('Frequency distribution of text length for training sample')\n",
        "plt.show()"
      ],
      "metadata": {
        "colab": {
          "base_uri": "https://localhost:8080/",
          "height": 287
        },
        "id": "FOw0LbHFRmM4",
        "outputId": "b296d82d-b5af-4728-c76d-4b36c4ff2e99"
      },
      "execution_count": 68,
      "outputs": [
        {
          "output_type": "display_data",
          "data": {
            "text/plain": [
              "<Figure size 432x288 with 1 Axes>"
            ],
            "image/png": "[encoded data removed]"
          },
          "metadata": {
            "needs_background": "light"
          }
        }
      ]
    },
    {
      "cell_type": "code",
      "source": [
        "with open(\"data_val.pickle\",\"rb\") as f:\n",
        "    test_data_dev = pickle.load(f)\n"
      ],
      "metadata": {
        "id": "qqyqCh0fRYTz"
      },
      "execution_count": 48,
      "outputs": []
    },
    {
      "cell_type": "code",
      "source": [
        "test_length_array = []\n",
        "for data in test_data_dev:\n",
        "  split_array = data[\"text\"].split(\" \")\n",
        "  test_length_array.append(len(split_array))\n",
        "print(len(test_length_array))"
      ],
      "metadata": {
        "colab": {
          "base_uri": "https://localhost:8080/"
        },
        "id": "sHI206dHR10G",
        "outputId": "2cc8292b-3816-47c7-e340-f0deb296b6a7"
      },
      "execution_count": 49,
      "outputs": [
        {
          "output_type": "stream",
          "name": "stdout",
          "text": [
            "600\n"
          ]
        }
      ]
    },
    {
      "cell_type": "code",
      "source": [
        "test_data_dev[1][\"text\"]"
      ],
      "metadata": {
        "colab": {
          "base_uri": "https://localhost:8080/",
          "height": 120
        },
        "id": "Hqo4LYczE-rK",
        "outputId": "c661d414-fb6b-4045-8b2b-bdcc026cec22"
      },
      "execution_count": 73,
      "outputs": [
        {
          "output_type": "execute_result",
          "data": {
            "text/plain": [
              "\"Here's another Antonioni that will be rediscovered again and again as soon as it comes out on tape or DVD. I saw it a few months ago when it ran for the first time (even in metropolitan movie capital L.A.!)for a couple of weeks and then disappeared (art house audiences seem to have opted for their own special territory, where older favorites like Antonioni and Resnais are only welcome as occasional curiosities).<br /><br />At first I was disappointed, thought the pace to be unbearably boring, and that the man had lost a chance (for years Antonioni had found it difficult to find financing)at an advanced age to add another masterpiece to his canon; but knowing Antonioni for what he was and how I had at first reacted to Blow-Up and the Passenger, I refused to pass judgment until I had seen the film again. I went back the next day and I should not have been surprised that the film kept pulling me in, making me aware of things I had thought about and lost track of throughout my life, driving home, in a contemporary setting, points exposed for the first time some forty years ago in 'L'Aventurra,' forming an environment of subtle moods so characteristcally and fascinatingly alienated in tone (and quite comedic actually) that I couldn't get enough. The scene with Malkovich sitting on the fancy colored swings on the windswept beach, with the weather so beautifully silver skied, and the Eno/U2 track in the background flowing through at just its rhythm, had been my favorite; it still was, but now the whole film was just as great! What a strange phenomenon, the complex simplicity or the invisible complex which Antonioni's eye alone seems to be able to pick up and communicate. The odd thing is, though it does look at first glance like a softcore porno of some kind and it does feature plenty of sex and the maddeningly gorgeous Sophie Marceau and plently of other international stars to distract you, this film is unmistakably Antonioni's to its core, but you will not sense to what a profound extent, until you have seen it a few times and got used to its rhythm. For example, it is quite a funny film with a deep sense of humor, something I did not notice at first, but was turned on to by another critic, and noticed to much delight on further viewings (4 before they pulled it and would've gone back for more). If this film had been promoted right and people guided to a certain extent as to how to approach it, I have no doubt it would have succeeded on the art house circuit like most of Antonioni's '60s films. But the '60s are no more and the film will have to find its audience on the small screen where half its beauty will be lost even in a letterboxed DVD version (if and when it's released). I urge all film nuts general or esoteric to see 'Beyond the Clouds' and add a piece of magic to the tragic.\""
            ],
            "application/vnd.google.colaboratory.intrinsic+json": {
              "type": "string"
            }
          },
          "metadata": {},
          "execution_count": 73
        }
      ]
    },
    {
      "cell_type": "code",
      "source": [
        "import matplotlib.pyplot as plt\n",
        "plt.hist(test_length_array, range=(0,1200),edgecolor='black')\n",
        "plt.xlabel('Length', fontsize=18)\n",
        "plt.ylabel('Frequency', fontsize=18)\n",
        "# plt.title('Frequency distribution of text length for validation sample')\n",
        "plt.show()"
      ],
      "metadata": {
        "colab": {
          "base_uri": "https://localhost:8080/",
          "height": 287
        },
        "id": "23ElwQmoSEfM",
        "outputId": "b94c9929-2e5b-4412-bb82-8ec5cb33d966"
      },
      "execution_count": 69,
      "outputs": [
        {
          "output_type": "display_data",
          "data": {
            "text/plain": [
              "<Figure size 432x288 with 1 Axes>"
            ],
            "image/png": "[encoded data removed]"
          },
          "metadata": {
            "needs_background": "light"
          }
        }
      ]
    },
    {
      "cell_type": "code",
      "source": [
        "with open(\"data_test.pickle\",\"rb\") as f:\n",
        "    test_data_dev = pickle.load(f)\n"
      ],
      "metadata": {
        "id": "SnEkqAWySKOf"
      },
      "execution_count": 56,
      "outputs": []
    },
    {
      "cell_type": "code",
      "source": [
        "test_length_array = []\n",
        "for data in test_data_dev:\n",
        "  split_array = data[\"text\"].split(\" \")\n",
        "  test_length_array.append(len(split_array))\n",
        "print(len(test_length_array))"
      ],
      "metadata": {
        "colab": {
          "base_uri": "https://localhost:8080/"
        },
        "id": "WrjDcxQYTbk2",
        "outputId": "775dfdd2-a469-42d9-c20a-53c8ca7b8a44"
      },
      "execution_count": 57,
      "outputs": [
        {
          "output_type": "stream",
          "name": "stdout",
          "text": [
            "1000\n"
          ]
        }
      ]
    },
    {
      "cell_type": "code",
      "source": [
        "import matplotlib.pyplot as plt\n",
        "plt.hist(test_length_array, range=(0,1200),edgecolor='black')\n",
        "plt.xlabel('Length', fontsize=18)\n",
        "plt.ylabel('Frequency', fontsize=18)\n",
        "# plt.title('Frequency distribution of text length for test sample')\n",
        "plt.show()"
      ],
      "metadata": {
        "colab": {
          "base_uri": "https://localhost:8080/",
          "height": 287
        },
        "id": "9tqWoqdVTeV_",
        "outputId": "52dd415b-2683-4024-eed5-26d988680601"
      },
      "execution_count": 70,
      "outputs": [
        {
          "output_type": "display_data",
          "data": {
            "text/plain": [
              "<Figure size 432x288 with 1 Axes>"
            ],
            "image/png": "[encoded data removed]"
          },
          "metadata": {
            "needs_background": "light"
          }
        }
      ]
    },
    {
      "cell_type": "code",
      "source": [
        ""
      ],
      "metadata": {
        "id": "LLJ5BD6tTfEF"
      },
      "execution_count": null,
      "outputs": []
    }
  ]
}
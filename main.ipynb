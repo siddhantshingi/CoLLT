{
 "cells": [
  {
   "cell_type": "code",
   "execution_count": 1,
   "metadata": {},
   "outputs": [
    {
     "name": "stdout",
     "output_type": "stream",
     "text": [
      "Collecting pandas\n",
      "  Downloading pandas-1.4.2-cp310-cp310-macosx_10_9_x86_64.whl (11.1 MB)\n",
      "\u001b[K     |████████████████████████████████| 11.1 MB 977 kB/s eta 0:00:01\n",
      "\u001b[?25hCollecting numpy>=1.21.0\n",
      "  Using cached numpy-1.22.3-cp310-cp310-macosx_10_14_x86_64.whl (17.6 MB)\n",
      "Collecting pytz>=2020.1\n",
      "  Using cached pytz-2022.1-py2.py3-none-any.whl (503 kB)\n",
      "Requirement already satisfied: python-dateutil>=2.8.1 in /Users/siddhantshingi/opt/anaconda3/envs/cs685/lib/python3.10/site-packages (from pandas) (2.8.2)\n",
      "Requirement already satisfied: six>=1.5 in /Users/siddhantshingi/opt/anaconda3/envs/cs685/lib/python3.10/site-packages (from python-dateutil>=2.8.1->pandas) (1.16.0)\n",
      "Installing collected packages: pytz, numpy, pandas\n",
      "Successfully installed numpy-1.22.3 pandas-1.4.2 pytz-2022.1\n",
      "Note: you may need to restart the kernel to use updated packages.\n",
      "Collecting sklearn\n",
      "  Downloading sklearn-0.0.tar.gz (1.1 kB)\n",
      "Collecting scikit-learn\n",
      "  Using cached scikit_learn-1.0.2-cp310-cp310-macosx_10_13_x86_64.whl (8.0 MB)\n",
      "Requirement already satisfied: numpy>=1.14.6 in /Users/siddhantshingi/opt/anaconda3/envs/cs685/lib/python3.10/site-packages (from scikit-learn->sklearn) (1.22.3)\n",
      "Collecting threadpoolctl>=2.0.0\n",
      "  Using cached threadpoolctl-3.1.0-py3-none-any.whl (14 kB)\n",
      "Collecting joblib>=0.11\n",
      "  Using cached joblib-1.1.0-py2.py3-none-any.whl (306 kB)\n",
      "Collecting scipy>=1.1.0\n",
      "  Using cached scipy-1.8.0-cp310-cp310-macosx_12_0_universal2.macosx_10_9_x86_64.whl (55.6 MB)\n",
      "Building wheels for collected packages: sklearn\n",
      "  Building wheel for sklearn (setup.py) ... \u001b[?25ldone\n",
      "\u001b[?25h  Created wheel for sklearn: filename=sklearn-0.0-py2.py3-none-any.whl size=1310 sha256=474964e72112223bfd62c1d8dd85c8eb9c3008c601b183913d835783d9cd0be0\n",
      "  Stored in directory: /Users/siddhantshingi/Library/Caches/pip/wheels/9b/13/01/6f3a7fd641f90e1f6c8c7cded057f3394f451f340371c68f3d\n",
      "Successfully built sklearn\n",
      "Installing collected packages: threadpoolctl, scipy, joblib, scikit-learn, sklearn\n",
      "Successfully installed joblib-1.1.0 scikit-learn-1.0.2 scipy-1.8.0 sklearn-0.0 threadpoolctl-3.1.0\n",
      "Note: you may need to restart the kernel to use updated packages.\n",
      "Collecting simpletransformers\n",
      "  Downloading simpletransformers-0.63.6-py3-none-any.whl (249 kB)\n",
      "\u001b[K     |████████████████████████████████| 249 kB 4.3 MB/s eta 0:00:01\n",
      "\u001b[?25hRequirement already satisfied: pandas in /Users/siddhantshingi/opt/anaconda3/envs/cs685/lib/python3.10/site-packages (from simpletransformers) (1.4.2)\n",
      "Collecting sentencepiece\n",
      "  Downloading sentencepiece-0.1.96.tar.gz (508 kB)\n",
      "\u001b[K     |████████████████████████████████| 508 kB 12.9 MB/s eta 0:00:01\n",
      "\u001b[?25hRequirement already satisfied: scipy in /Users/siddhantshingi/opt/anaconda3/envs/cs685/lib/python3.10/site-packages (from simpletransformers) (1.8.0)\n",
      "Requirement already satisfied: scikit-learn in /Users/siddhantshingi/opt/anaconda3/envs/cs685/lib/python3.10/site-packages (from simpletransformers) (1.0.2)\n",
      "Collecting seqeval\n",
      "  Downloading seqeval-1.2.2.tar.gz (43 kB)\n",
      "\u001b[K     |████████████████████████████████| 43 kB 3.0 MB/s eta 0:00:011\n",
      "\u001b[?25hCollecting requests\n",
      "  Using cached requests-2.27.1-py2.py3-none-any.whl (63 kB)\n",
      "Collecting tensorboard\n",
      "  Downloading tensorboard-2.9.0-py3-none-any.whl (5.8 MB)\n",
      "\u001b[K     |████████████████████████████████| 5.8 MB 14.4 MB/s eta 0:00:01\n",
      "\u001b[?25hCollecting regex\n",
      "  Downloading regex-2022.4.24-cp310-cp310-macosx_10_9_x86_64.whl (288 kB)\n",
      "\u001b[K     |████████████████████████████████| 288 kB 14.3 MB/s eta 0:00:01\n",
      "\u001b[?25hCollecting tqdm>=4.47.0\n",
      "  Downloading tqdm-4.64.0-py2.py3-none-any.whl (78 kB)\n",
      "\u001b[K     |████████████████████████████████| 78 kB 5.3 MB/s eta 0:00:011\n",
      "\u001b[?25hCollecting streamlit\n",
      "  Downloading streamlit-1.9.0-py2.py3-none-any.whl (10.1 MB)\n",
      "\u001b[K     |████████████████████████████████| 10.1 MB 9.5 MB/s eta 0:00:01\n",
      "\u001b[?25hCollecting tokenizers\n",
      "  Downloading tokenizers-0.12.1-cp310-cp310-macosx_10_11_x86_64.whl (3.6 MB)\n",
      "\u001b[K     |████████████████████████████████| 3.6 MB 16.0 MB/s eta 0:00:01\n",
      "\u001b[?25hCollecting datasets\n",
      "  Downloading datasets-2.2.0-py3-none-any.whl (342 kB)\n",
      "\u001b[K     |████████████████████████████████| 342 kB 15.9 MB/s eta 0:00:01\n",
      "\u001b[?25hCollecting wandb>=0.10.32\n",
      "  Downloading wandb-0.12.16-py2.py3-none-any.whl (1.8 MB)\n",
      "\u001b[K     |████████████████████████████████| 1.8 MB 15.5 MB/s eta 0:00:01\n",
      "\u001b[?25hRequirement already satisfied: numpy in /Users/siddhantshingi/opt/anaconda3/envs/cs685/lib/python3.10/site-packages (from simpletransformers) (1.22.3)\n",
      "Collecting transformers>=4.6.0\n",
      "  Downloading transformers-4.18.0-py3-none-any.whl (4.0 MB)\n",
      "\u001b[K     |████████████████████████████████| 4.0 MB 17.8 MB/s eta 0:00:01\n",
      "\u001b[?25hRequirement already satisfied: packaging>=20.0 in /Users/siddhantshingi/opt/anaconda3/envs/cs685/lib/python3.10/site-packages (from transformers>=4.6.0->simpletransformers) (21.3)\n",
      "Collecting pyyaml>=5.1\n",
      "  Downloading PyYAML-6.0-cp310-cp310-macosx_10_9_x86_64.whl (197 kB)\n",
      "\u001b[K     |████████████████████████████████| 197 kB 12.7 MB/s eta 0:00:01\n",
      "\u001b[?25hCollecting huggingface-hub<1.0,>=0.1.0\n",
      "  Downloading huggingface_hub-0.5.1-py3-none-any.whl (77 kB)\n",
      "\u001b[K     |████████████████████████████████| 77 kB 13.6 MB/s eta 0:00:01\n",
      "\u001b[?25hCollecting sacremoses\n",
      "  Downloading sacremoses-0.0.53.tar.gz (880 kB)\n",
      "\u001b[K     |████████████████████████████████| 880 kB 16.7 MB/s eta 0:00:01\n",
      "\u001b[?25hCollecting filelock\n",
      "  Downloading filelock-3.6.0-py3-none-any.whl (10.0 kB)\n",
      "Collecting typing-extensions>=3.7.4.3\n",
      "  Downloading typing_extensions-4.2.0-py3-none-any.whl (24 kB)\n",
      "Requirement already satisfied: pyparsing!=3.0.5,>=2.0.2 in /Users/siddhantshingi/opt/anaconda3/envs/cs685/lib/python3.10/site-packages (from packaging>=20.0->transformers>=4.6.0->simpletransformers) (3.0.9)\n",
      "Collecting promise<3,>=2.0\n",
      "  Using cached promise-2.3.tar.gz (19 kB)\n",
      "Requirement already satisfied: six>=1.13.0 in /Users/siddhantshingi/opt/anaconda3/envs/cs685/lib/python3.10/site-packages (from wandb>=0.10.32->simpletransformers) (1.16.0)\n",
      "Collecting shortuuid>=0.5.0\n",
      "  Downloading shortuuid-1.0.9-py3-none-any.whl (9.4 kB)\n",
      "Requirement already satisfied: python-dateutil>=2.6.1 in /Users/siddhantshingi/opt/anaconda3/envs/cs685/lib/python3.10/site-packages (from wandb>=0.10.32->simpletransformers) (2.8.2)\n",
      "Collecting sentry-sdk>=1.0.0\n",
      "  Downloading sentry_sdk-1.5.12-py2.py3-none-any.whl (145 kB)\n",
      "\u001b[K     |████████████████████████████████| 145 kB 12.7 MB/s eta 0:00:01\n",
      "\u001b[?25hCollecting Click!=8.0.0,>=7.0\n",
      "  Downloading click-8.1.3-py3-none-any.whl (96 kB)\n",
      "\u001b[K     |████████████████████████████████| 96 kB 9.5 MB/s  eta 0:00:01\n",
      "\u001b[?25hCollecting GitPython>=1.0.0\n",
      "  Downloading GitPython-3.1.27-py3-none-any.whl (181 kB)\n",
      "\u001b[K     |████████████████████████████████| 181 kB 13.5 MB/s eta 0:00:01\n",
      "\u001b[?25hRequirement already satisfied: setuptools in /Users/siddhantshingi/opt/anaconda3/envs/cs685/lib/python3.10/site-packages (from wandb>=0.10.32->simpletransformers) (61.2.0)\n",
      "Collecting pathtools\n",
      "  Using cached pathtools-0.1.2.tar.gz (11 kB)\n",
      "Requirement already satisfied: psutil>=5.0.0 in /Users/siddhantshingi/opt/anaconda3/envs/cs685/lib/python3.10/site-packages (from wandb>=0.10.32->simpletransformers) (5.9.0)\n",
      "Collecting docker-pycreds>=0.4.0\n",
      "  Using cached docker_pycreds-0.4.0-py2.py3-none-any.whl (9.0 kB)\n",
      "Collecting protobuf>=3.12.0\n",
      "  Downloading protobuf-3.20.1-cp310-cp310-macosx_10_9_universal2.whl (962 kB)\n",
      "\u001b[K     |████████████████████████████████| 962 kB 15.5 MB/s eta 0:00:01\n",
      "\u001b[?25hCollecting setproctitle\n",
      "  Downloading setproctitle-1.2.3-cp310-cp310-macosx_10_9_x86_64.whl (10 kB)\n",
      "Collecting gitdb<5,>=4.0.1\n",
      "  Using cached gitdb-4.0.9-py3-none-any.whl (63 kB)\n",
      "Collecting smmap<6,>=3.0.1\n",
      "  Using cached smmap-5.0.0-py3-none-any.whl (24 kB)\n",
      "Collecting idna<4,>=2.5\n",
      "  Using cached idna-3.3-py3-none-any.whl (61 kB)\n",
      "Requirement already satisfied: certifi>=2017.4.17 in /Users/siddhantshingi/opt/anaconda3/envs/cs685/lib/python3.10/site-packages (from requests->simpletransformers) (2021.10.8)\n",
      "Collecting urllib3<1.27,>=1.21.1\n",
      "  Using cached urllib3-1.26.9-py2.py3-none-any.whl (138 kB)\n",
      "Collecting charset-normalizer~=2.0.0\n",
      "  Using cached charset_normalizer-2.0.12-py3-none-any.whl (39 kB)\n",
      "Collecting pyarrow>=6.0.0\n",
      "  Downloading pyarrow-8.0.0-cp310-cp310-macosx_10_13_x86_64.whl (22.4 MB)\n",
      "\u001b[K     |████████████████████████████████| 22.4 MB 2.5 kB/s  eta 0:00:01     |████████████████████            | 13.9 MB 12.0 MB/s eta 0:00:01\n",
      "\u001b[?25hCollecting aiohttp\n",
      "  Downloading aiohttp-3.8.1-cp310-cp310-macosx_10_9_x86_64.whl (575 kB)\n",
      "\u001b[K     |████████████████████████████████| 575 kB 13.4 MB/s eta 0:00:01\n",
      "\u001b[?25hCollecting responses<0.19\n",
      "  Downloading responses-0.18.0-py3-none-any.whl (38 kB)\n",
      "Collecting fsspec[http]>=2021.05.0\n",
      "  Downloading fsspec-2022.3.0-py3-none-any.whl (136 kB)\n",
      "\u001b[K     |████████████████████████████████| 136 kB 10.9 MB/s eta 0:00:01\n",
      "\u001b[?25hCollecting multiprocess\n",
      "  Downloading multiprocess-0.70.12.2-py39-none-any.whl (128 kB)\n",
      "\u001b[K     |████████████████████████████████| 128 kB 17.0 MB/s eta 0:00:01\n",
      "\u001b[?25hCollecting dill\n",
      "  Downloading dill-0.3.4-py2.py3-none-any.whl (86 kB)\n",
      "\u001b[K     |████████████████████████████████| 86 kB 10.0 MB/s eta 0:00:01\n",
      "\u001b[?25hCollecting xxhash\n",
      "  Downloading xxhash-3.0.0-cp310-cp310-macosx_10_9_x86_64.whl (34 kB)\n",
      "Collecting frozenlist>=1.1.1\n",
      "  Downloading frozenlist-1.3.0-cp310-cp310-macosx_10_9_x86_64.whl (36 kB)\n",
      "Collecting aiosignal>=1.1.2\n",
      "  Downloading aiosignal-1.2.0-py3-none-any.whl (8.2 kB)\n",
      "Collecting attrs>=17.3.0\n",
      "  Downloading attrs-21.4.0-py2.py3-none-any.whl (60 kB)\n",
      "\u001b[K     |████████████████████████████████| 60 kB 2.5 MB/s eta 0:00:011\n",
      "\u001b[?25hCollecting yarl<2.0,>=1.0\n",
      "  Downloading yarl-1.7.2-cp310-cp310-macosx_10_9_x86_64.whl (121 kB)\n",
      "\u001b[K     |████████████████████████████████| 121 kB 15.9 MB/s eta 0:00:01\n",
      "\u001b[?25hCollecting async-timeout<5.0,>=4.0.0a3\n",
      "  Using cached async_timeout-4.0.2-py3-none-any.whl (5.8 kB)\n",
      "Collecting multidict<7.0,>=4.5\n",
      "  Downloading multidict-6.0.2-cp310-cp310-macosx_10_9_x86_64.whl (28 kB)\n",
      "Requirement already satisfied: pytz>=2020.1 in /Users/siddhantshingi/opt/anaconda3/envs/cs685/lib/python3.10/site-packages (from pandas->simpletransformers) (2022.1)\n",
      "Requirement already satisfied: joblib in /Users/siddhantshingi/opt/anaconda3/envs/cs685/lib/python3.10/site-packages (from sacremoses->transformers>=4.6.0->simpletransformers) (1.1.0)\n",
      "Requirement already satisfied: threadpoolctl>=2.0.0 in /Users/siddhantshingi/opt/anaconda3/envs/cs685/lib/python3.10/site-packages (from scikit-learn->simpletransformers) (3.1.0)\n",
      "Collecting cachetools>=4.0\n",
      "  Downloading cachetools-5.0.0-py3-none-any.whl (9.1 kB)\n",
      "Collecting pydeck>=0.1.dev5\n",
      "  Downloading pydeck-0.7.1-py2.py3-none-any.whl (4.3 MB)\n",
      "\u001b[K     |████████████████████████████████| 4.3 MB 11.7 MB/s eta 0:00:01\n",
      "\u001b[?25hCollecting altair>=3.2.0\n",
      "  Downloading altair-4.2.0-py3-none-any.whl (812 kB)\n",
      "\u001b[K     |████████████████████████████████| 812 kB 11.5 MB/s eta 0:00:01\n",
      "\u001b[?25hCollecting toml\n",
      "  Using cached toml-0.10.2-py2.py3-none-any.whl (16 kB)\n",
      "Collecting pympler>=0.9\n",
      "  Downloading Pympler-1.0.1-py3-none-any.whl (164 kB)\n",
      "\u001b[K     |████████████████████████████████| 164 kB 14.5 MB/s eta 0:00:01\n",
      "\u001b[?25hCollecting tzlocal\n",
      "  Downloading tzlocal-4.2-py3-none-any.whl (19 kB)\n",
      "Collecting blinker\n",
      "  Using cached blinker-1.4.tar.gz (111 kB)\n",
      "Collecting semver\n",
      "  Downloading semver-2.13.0-py2.py3-none-any.whl (12 kB)\n",
      "Collecting Click!=8.0.0,>=7.0\n",
      "  Downloading click-8.0.4-py3-none-any.whl (97 kB)\n",
      "\u001b[K     |████████████████████████████████| 97 kB 9.9 MB/s  eta 0:00:01\n",
      "\u001b[?25hCollecting pillow>=6.2.0\n",
      "  Using cached Pillow-9.1.0-cp310-cp310-macosx_10_9_x86_64.whl (3.1 MB)\n",
      "Requirement already satisfied: tornado>=5.0 in /Users/siddhantshingi/opt/anaconda3/envs/cs685/lib/python3.10/site-packages (from streamlit->simpletransformers) (6.1)\n",
      "Collecting validators\n",
      "  Downloading validators-0.19.0.tar.gz (30 kB)\n",
      "Collecting importlib-metadata>=1.4\n",
      "  Downloading importlib_metadata-4.11.3-py3-none-any.whl (18 kB)\n",
      "Collecting jinja2\n",
      "  Downloading Jinja2-3.1.2-py3-none-any.whl (133 kB)\n",
      "\u001b[K     |████████████████████████████████| 133 kB 14.1 MB/s eta 0:00:01\n",
      "\u001b[?25hRequirement already satisfied: entrypoints in /Users/siddhantshingi/opt/anaconda3/envs/cs685/lib/python3.10/site-packages (from altair>=3.2.0->streamlit->simpletransformers) (0.4)\n",
      "Collecting toolz\n",
      "  Downloading toolz-0.11.2-py3-none-any.whl (55 kB)\n",
      "\u001b[K     |████████████████████████████████| 55 kB 10.3 MB/s eta 0:00:01\n",
      "\u001b[?25hCollecting jsonschema>=3.0\n",
      "  Downloading jsonschema-4.5.1-py3-none-any.whl (72 kB)\n",
      "\u001b[K     |████████████████████████████████| 72 kB 3.1 MB/s eta 0:00:011\n",
      "\u001b[?25hCollecting zipp>=0.5\n",
      "  Downloading zipp-3.8.0-py3-none-any.whl (5.4 kB)\n",
      "Collecting pyrsistent!=0.17.0,!=0.17.1,!=0.17.2,>=0.14.0\n",
      "  Downloading pyrsistent-0.18.1-cp310-cp310-macosx_10_9_universal2.whl (81 kB)\n",
      "\u001b[K     |████████████████████████████████| 81 kB 9.8 MB/s  eta 0:00:01\n",
      "\u001b[?25hCollecting ipywidgets>=7.0.0\n",
      "  Downloading ipywidgets-7.7.0-py2.py3-none-any.whl (123 kB)\n",
      "\u001b[K     |████████████████████████████████| 123 kB 10.3 MB/s eta 0:00:01\n",
      "\u001b[?25hRequirement already satisfied: ipykernel>=5.1.2 in /Users/siddhantshingi/opt/anaconda3/envs/cs685/lib/python3.10/site-packages (from pydeck>=0.1.dev5->streamlit->simpletransformers) (6.13.0)\n",
      "Requirement already satisfied: traitlets>=4.3.2 in /Users/siddhantshingi/opt/anaconda3/envs/cs685/lib/python3.10/site-packages (from pydeck>=0.1.dev5->streamlit->simpletransformers) (5.2.0)\n",
      "Requirement already satisfied: appnope in /Users/siddhantshingi/opt/anaconda3/envs/cs685/lib/python3.10/site-packages (from ipykernel>=5.1.2->pydeck>=0.1.dev5->streamlit->simpletransformers) (0.1.3)\n",
      "Requirement already satisfied: ipython>=7.23.1 in /Users/siddhantshingi/opt/anaconda3/envs/cs685/lib/python3.10/site-packages (from ipykernel>=5.1.2->pydeck>=0.1.dev5->streamlit->simpletransformers) (8.3.0)\n",
      "Requirement already satisfied: jupyter-client>=6.1.12 in /Users/siddhantshingi/opt/anaconda3/envs/cs685/lib/python3.10/site-packages (from ipykernel>=5.1.2->pydeck>=0.1.dev5->streamlit->simpletransformers) (7.3.1)\n",
      "Requirement already satisfied: nest-asyncio in /Users/siddhantshingi/opt/anaconda3/envs/cs685/lib/python3.10/site-packages (from ipykernel>=5.1.2->pydeck>=0.1.dev5->streamlit->simpletransformers) (1.5.5)\n",
      "Requirement already satisfied: debugpy>=1.0 in /Users/siddhantshingi/opt/anaconda3/envs/cs685/lib/python3.10/site-packages (from ipykernel>=5.1.2->pydeck>=0.1.dev5->streamlit->simpletransformers) (1.5.1)\n",
      "Requirement already satisfied: matplotlib-inline>=0.1 in /Users/siddhantshingi/opt/anaconda3/envs/cs685/lib/python3.10/site-packages (from ipykernel>=5.1.2->pydeck>=0.1.dev5->streamlit->simpletransformers) (0.1.3)\n",
      "Requirement already satisfied: backcall in /Users/siddhantshingi/opt/anaconda3/envs/cs685/lib/python3.10/site-packages (from ipython>=7.23.1->ipykernel>=5.1.2->pydeck>=0.1.dev5->streamlit->simpletransformers) (0.2.0)\n",
      "Requirement already satisfied: prompt-toolkit!=3.0.0,!=3.0.1,<3.1.0,>=2.0.0 in /Users/siddhantshingi/opt/anaconda3/envs/cs685/lib/python3.10/site-packages (from ipython>=7.23.1->ipykernel>=5.1.2->pydeck>=0.1.dev5->streamlit->simpletransformers) (3.0.29)\n",
      "Requirement already satisfied: stack-data in /Users/siddhantshingi/opt/anaconda3/envs/cs685/lib/python3.10/site-packages (from ipython>=7.23.1->ipykernel>=5.1.2->pydeck>=0.1.dev5->streamlit->simpletransformers) (0.2.0)\n",
      "Requirement already satisfied: pexpect>4.3 in /Users/siddhantshingi/opt/anaconda3/envs/cs685/lib/python3.10/site-packages (from ipython>=7.23.1->ipykernel>=5.1.2->pydeck>=0.1.dev5->streamlit->simpletransformers) (4.8.0)\n",
      "Requirement already satisfied: jedi>=0.16 in /Users/siddhantshingi/opt/anaconda3/envs/cs685/lib/python3.10/site-packages (from ipython>=7.23.1->ipykernel>=5.1.2->pydeck>=0.1.dev5->streamlit->simpletransformers) (0.18.1)\n",
      "Requirement already satisfied: pygments>=2.4.0 in /Users/siddhantshingi/opt/anaconda3/envs/cs685/lib/python3.10/site-packages (from ipython>=7.23.1->ipykernel>=5.1.2->pydeck>=0.1.dev5->streamlit->simpletransformers) (2.12.0)\n",
      "Requirement already satisfied: decorator in /Users/siddhantshingi/opt/anaconda3/envs/cs685/lib/python3.10/site-packages (from ipython>=7.23.1->ipykernel>=5.1.2->pydeck>=0.1.dev5->streamlit->simpletransformers) (5.1.1)\n",
      "Requirement already satisfied: pickleshare in /Users/siddhantshingi/opt/anaconda3/envs/cs685/lib/python3.10/site-packages (from ipython>=7.23.1->ipykernel>=5.1.2->pydeck>=0.1.dev5->streamlit->simpletransformers) (0.7.5)\n",
      "Collecting ipython-genutils~=0.2.0\n",
      "  Using cached ipython_genutils-0.2.0-py2.py3-none-any.whl (26 kB)\n",
      "Collecting nbformat>=4.2.0\n",
      "  Downloading nbformat-5.4.0-py3-none-any.whl (73 kB)\n",
      "\u001b[K     |████████████████████████████████| 73 kB 3.4 MB/s eta 0:00:011\n",
      "\u001b[?25hCollecting widgetsnbextension~=3.6.0\n",
      "  Downloading widgetsnbextension-3.6.0-py2.py3-none-any.whl (1.6 MB)\n",
      "\u001b[K     |████████████████████████████████| 1.6 MB 11.1 MB/s eta 0:00:01\n",
      "\u001b[?25hCollecting jupyterlab-widgets>=1.0.0\n",
      "  Downloading jupyterlab_widgets-1.1.0-py3-none-any.whl (245 kB)\n",
      "\u001b[K     |████████████████████████████████| 245 kB 9.6 MB/s eta 0:00:01\n",
      "\u001b[?25hRequirement already satisfied: parso<0.9.0,>=0.8.0 in /Users/siddhantshingi/opt/anaconda3/envs/cs685/lib/python3.10/site-packages (from jedi>=0.16->ipython>=7.23.1->ipykernel>=5.1.2->pydeck>=0.1.dev5->streamlit->simpletransformers) (0.8.3)\n",
      "Collecting MarkupSafe>=2.0\n",
      "  Using cached MarkupSafe-2.1.1-cp310-cp310-macosx_10_9_x86_64.whl (13 kB)\n",
      "Requirement already satisfied: jupyter-core>=4.9.2 in /Users/siddhantshingi/opt/anaconda3/envs/cs685/lib/python3.10/site-packages (from jupyter-client>=6.1.12->ipykernel>=5.1.2->pydeck>=0.1.dev5->streamlit->simpletransformers) (4.9.2)\n",
      "Requirement already satisfied: pyzmq>=22.3 in /Users/siddhantshingi/opt/anaconda3/envs/cs685/lib/python3.10/site-packages (from jupyter-client>=6.1.12->ipykernel>=5.1.2->pydeck>=0.1.dev5->streamlit->simpletransformers) (22.3.0)\n",
      "Collecting fastjsonschema\n",
      "  Downloading fastjsonschema-2.15.3-py3-none-any.whl (22 kB)\n",
      "Requirement already satisfied: ptyprocess>=0.5 in /Users/siddhantshingi/opt/anaconda3/envs/cs685/lib/python3.10/site-packages (from pexpect>4.3->ipython>=7.23.1->ipykernel>=5.1.2->pydeck>=0.1.dev5->streamlit->simpletransformers) (0.7.0)\n",
      "Requirement already satisfied: wcwidth in /Users/siddhantshingi/opt/anaconda3/envs/cs685/lib/python3.10/site-packages (from prompt-toolkit!=3.0.0,!=3.0.1,<3.1.0,>=2.0.0->ipython>=7.23.1->ipykernel>=5.1.2->pydeck>=0.1.dev5->streamlit->simpletransformers) (0.2.5)\n",
      "Collecting notebook>=4.4.1\n",
      "  Downloading notebook-6.4.11-py3-none-any.whl (9.9 MB)\n",
      "\u001b[K     |████████████████████████████████| 9.9 MB 15.7 MB/s eta 0:00:01\n",
      "\u001b[?25hCollecting terminado>=0.8.3\n",
      "  Downloading terminado-0.13.3-py3-none-any.whl (14 kB)\n",
      "Collecting nbconvert>=5\n",
      "  Downloading nbconvert-6.5.0-py3-none-any.whl (561 kB)\n",
      "\u001b[K     |████████████████████████████████| 561 kB 16.4 MB/s eta 0:00:01\n",
      "\u001b[?25hCollecting argon2-cffi\n",
      "  Downloading argon2_cffi-21.3.0-py3-none-any.whl (14 kB)\n",
      "Collecting Send2Trash>=1.8.0\n",
      "  Using cached Send2Trash-1.8.0-py3-none-any.whl (18 kB)\n",
      "Collecting prometheus-client\n",
      "  Downloading prometheus_client-0.14.1-py3-none-any.whl (59 kB)\n",
      "\u001b[K     |████████████████████████████████| 59 kB 12.5 MB/s eta 0:00:01\n",
      "\u001b[?25hCollecting nbclient>=0.5.0\n",
      "  Downloading nbclient-0.6.3-py3-none-any.whl (71 kB)\n",
      "\u001b[K     |████████████████████████████████| 71 kB 9.3 MB/s  eta 0:00:01\n",
      "\u001b[?25hCollecting bleach\n",
      "  Downloading bleach-5.0.0-py3-none-any.whl (160 kB)\n",
      "\u001b[K     |████████████████████████████████| 160 kB 15.8 MB/s eta 0:00:01\n",
      "\u001b[?25hCollecting jupyterlab-pygments\n",
      "  Downloading jupyterlab_pygments-0.2.2-py2.py3-none-any.whl (21 kB)\n",
      "Collecting pandocfilters>=1.4.1\n",
      "  Using cached pandocfilters-1.5.0-py2.py3-none-any.whl (8.7 kB)\n",
      "Collecting beautifulsoup4\n",
      "  Downloading beautifulsoup4-4.11.1-py3-none-any.whl (128 kB)\n",
      "\u001b[K     |████████████████████████████████| 128 kB 15.4 MB/s eta 0:00:01\n",
      "\u001b[?25hCollecting mistune<2,>=0.8.1\n",
      "  Using cached mistune-0.8.4-py2.py3-none-any.whl (16 kB)\n",
      "Collecting tinycss2\n",
      "  Downloading tinycss2-1.1.1-py3-none-any.whl (21 kB)\n",
      "Collecting defusedxml\n",
      "  Using cached defusedxml-0.7.1-py2.py3-none-any.whl (25 kB)\n",
      "Collecting argon2-cffi-bindings\n",
      "  Downloading argon2_cffi_bindings-21.2.0-cp38-abi3-macosx_10_9_universal2.whl (53 kB)\n",
      "\u001b[K     |████████████████████████████████| 53 kB 4.3 MB/s  eta 0:00:01\n",
      "\u001b[?25hCollecting cffi>=1.0.1\n",
      "  Downloading cffi-1.15.0-cp310-cp310-macosx_10_9_x86_64.whl (178 kB)\n",
      "\u001b[K     |████████████████████████████████| 178 kB 6.2 MB/s eta 0:00:01\n",
      "\u001b[?25hCollecting pycparser\n",
      "  Using cached pycparser-2.21-py2.py3-none-any.whl (118 kB)\n",
      "Collecting soupsieve>1.2\n",
      "  Downloading soupsieve-2.3.2.post1-py3-none-any.whl (37 kB)\n",
      "Collecting webencodings\n",
      "  Using cached webencodings-0.5.1-py2.py3-none-any.whl (11 kB)\n",
      "Requirement already satisfied: pure-eval in /Users/siddhantshingi/opt/anaconda3/envs/cs685/lib/python3.10/site-packages (from stack-data->ipython>=7.23.1->ipykernel>=5.1.2->pydeck>=0.1.dev5->streamlit->simpletransformers) (0.2.2)\n",
      "Requirement already satisfied: asttokens in /Users/siddhantshingi/opt/anaconda3/envs/cs685/lib/python3.10/site-packages (from stack-data->ipython>=7.23.1->ipykernel>=5.1.2->pydeck>=0.1.dev5->streamlit->simpletransformers) (2.0.5)\n",
      "Requirement already satisfied: executing in /Users/siddhantshingi/opt/anaconda3/envs/cs685/lib/python3.10/site-packages (from stack-data->ipython>=7.23.1->ipykernel>=5.1.2->pydeck>=0.1.dev5->streamlit->simpletransformers) (0.8.3)\n",
      "Requirement already satisfied: wheel>=0.26 in /Users/siddhantshingi/opt/anaconda3/envs/cs685/lib/python3.10/site-packages (from tensorboard->simpletransformers) (0.37.1)\n",
      "Collecting markdown>=2.6.8\n",
      "  Downloading Markdown-3.3.7-py3-none-any.whl (97 kB)\n",
      "\u001b[K     |████████████████████████████████| 97 kB 6.2 MB/s eta 0:00:01\n",
      "\u001b[?25hCollecting werkzeug>=1.0.1\n",
      "  Downloading Werkzeug-2.1.2-py3-none-any.whl (224 kB)\n",
      "\u001b[K     |████████████████████████████████| 224 kB 11.8 MB/s eta 0:00:01\n",
      "\u001b[?25hCollecting tensorboard-data-server<0.7.0,>=0.6.0\n",
      "  Using cached tensorboard_data_server-0.6.1-py3-none-macosx_10_9_x86_64.whl (3.5 MB)\n",
      "Collecting grpcio>=1.24.3\n",
      "  Downloading grpcio-1.46.0-cp310-cp310-macosx_10_10_universal2.whl (4.2 MB)\n",
      "\u001b[K     |████████████████████████████████| 4.2 MB 11.0 MB/s eta 0:00:01\n",
      "\u001b[?25hCollecting google-auth-oauthlib<0.5,>=0.4.1\n",
      "  Using cached google_auth_oauthlib-0.4.6-py2.py3-none-any.whl (18 kB)\n",
      "Collecting tensorboard-plugin-wit>=1.6.0\n",
      "  Downloading tensorboard_plugin_wit-1.8.1-py3-none-any.whl (781 kB)\n",
      "\u001b[K     |████████████████████████████████| 781 kB 13.3 MB/s eta 0:00:01\n",
      "\u001b[?25hCollecting google-auth<3,>=1.6.3\n",
      "  Downloading google_auth-2.6.6-py2.py3-none-any.whl (156 kB)\n",
      "\u001b[K     |████████████████████████████████| 156 kB 14.5 MB/s eta 0:00:01\n",
      "\u001b[?25hCollecting absl-py>=0.4\n",
      "  Downloading absl_py-1.0.0-py3-none-any.whl (126 kB)\n",
      "\u001b[K     |████████████████████████████████| 126 kB 13.6 MB/s eta 0:00:01\n",
      "\u001b[?25hCollecting pyasn1-modules>=0.2.1\n",
      "  Using cached pyasn1_modules-0.2.8-py2.py3-none-any.whl (155 kB)\n",
      "Collecting rsa<5,>=3.1.4\n",
      "  Downloading rsa-4.8-py3-none-any.whl (39 kB)\n",
      "Collecting requests-oauthlib>=0.7.0\n",
      "  Downloading requests_oauthlib-1.3.1-py2.py3-none-any.whl (23 kB)\n",
      "Collecting pyasn1<0.5.0,>=0.4.6\n",
      "  Using cached pyasn1-0.4.8-py2.py3-none-any.whl (77 kB)\n",
      "Collecting oauthlib>=3.0.0\n",
      "  Downloading oauthlib-3.2.0-py3-none-any.whl (151 kB)\n",
      "\u001b[K     |████████████████████████████████| 151 kB 14.1 MB/s eta 0:00:01\n",
      "\u001b[?25hCollecting pytz-deprecation-shim\n",
      "  Downloading pytz_deprecation_shim-0.1.0.post0-py2.py3-none-any.whl (15 kB)\n",
      "Collecting tzdata\n",
      "  Downloading tzdata-2022.1-py2.py3-none-any.whl (339 kB)\n",
      "\u001b[K     |████████████████████████████████| 339 kB 11.3 MB/s eta 0:00:01\n",
      "\u001b[?25hBuilding wheels for collected packages: promise, pathtools, sacremoses, sentencepiece, seqeval, blinker, validators\n",
      "  Building wheel for promise (setup.py) ... \u001b[?25ldone\n",
      "\u001b[?25h  Created wheel for promise: filename=promise-2.3-py3-none-any.whl size=21503 sha256=11066cd2922290fa5634693db232989f2aed919592784cbe7d0639e2de685324\n",
      "  Stored in directory: /Users/siddhantshingi/Library/Caches/pip/wheels/54/4e/28/3ed0e1c8a752867445bab994d2340724928aa3ab059c57c8db\n",
      "  Building wheel for pathtools (setup.py) ... \u001b[?25ldone\n",
      "\u001b[?25h  Created wheel for pathtools: filename=pathtools-0.1.2-py3-none-any.whl size=8806 sha256=bfb987c64b08cef010104bde39ee62289ed3d1f9fb3e16139940595fe88849cc\n",
      "  Stored in directory: /Users/siddhantshingi/Library/Caches/pip/wheels/e7/f3/22/152153d6eb222ee7a56ff8617d80ee5207207a8c00a7aab794\n",
      "  Building wheel for sacremoses (setup.py) ... \u001b[?25ldone\n",
      "\u001b[?25h  Created wheel for sacremoses: filename=sacremoses-0.0.53-py3-none-any.whl size=895260 sha256=84ee529d839b88d25c4de18070ca16dac188bf527ff1013eb55db27c945ce659\n",
      "  Stored in directory: /Users/siddhantshingi/Library/Caches/pip/wheels/00/24/97/a2ea5324f36bc626e1ea0267f33db6aa80d157ee977e9e42fb\n",
      "  Building wheel for sentencepiece (setup.py) ... \u001b[?25lerror\n",
      "\u001b[31m  ERROR: Command errored out with exit status 1:\n",
      "   command: /Users/siddhantshingi/opt/anaconda3/envs/cs685/bin/python -u -c 'import io, os, sys, setuptools, tokenize; sys.argv[0] = '\"'\"'/private/var/folders/rb/wp8v48xd6fs8pbczdv86mrfh0000gn/T/pip-install-1llc75uw/sentencepiece_0aa4d578f4664bffa41e7df8186b579a/setup.py'\"'\"'; __file__='\"'\"'/private/var/folders/rb/wp8v48xd6fs8pbczdv86mrfh0000gn/T/pip-install-1llc75uw/sentencepiece_0aa4d578f4664bffa41e7df8186b579a/setup.py'\"'\"';f = getattr(tokenize, '\"'\"'open'\"'\"', open)(__file__) if os.path.exists(__file__) else io.StringIO('\"'\"'from setuptools import setup; setup()'\"'\"');code = f.read().replace('\"'\"'\\r\\n'\"'\"', '\"'\"'\\n'\"'\"');f.close();exec(compile(code, __file__, '\"'\"'exec'\"'\"'))' bdist_wheel -d /private/var/folders/rb/wp8v48xd6fs8pbczdv86mrfh0000gn/T/pip-wheel-vatbixxn\n",
      "       cwd: /private/var/folders/rb/wp8v48xd6fs8pbczdv86mrfh0000gn/T/pip-install-1llc75uw/sentencepiece_0aa4d578f4664bffa41e7df8186b579a/\n",
      "  Complete output (38 lines):\n",
      "  /Users/siddhantshingi/opt/anaconda3/envs/cs685/lib/python3.10/site-packages/setuptools/dist.py:757: UserWarning: Usage of dash-separated 'description-file' will not be supported in future versions. Please use the underscore name 'description_file' instead\n",
      "    warnings.warn(\n",
      "  running bdist_wheel\n",
      "  running build\n",
      "  running build_py\n",
      "  creating build\n",
      "  creating build/lib.macosx-10.9-x86_64-3.10\n",
      "  creating build/lib.macosx-10.9-x86_64-3.10/sentencepiece\n",
      "  copying src/sentencepiece/__init__.py -> build/lib.macosx-10.9-x86_64-3.10/sentencepiece\n",
      "  copying src/sentencepiece/sentencepiece_model_pb2.py -> build/lib.macosx-10.9-x86_64-3.10/sentencepiece\n",
      "  copying src/sentencepiece/sentencepiece_pb2.py -> build/lib.macosx-10.9-x86_64-3.10/sentencepiece\n",
      "  running build_ext\n",
      "  /bin/sh: pkg-config: command not found\n",
      "  Cloning into 'sentencepiece'...\n",
      "  Note: switching to 'd8711f55d9b2cb9c77a00adcc18108482b29b675'.\n",
      "  \n",
      "  You are in 'detached HEAD' state. You can look around, make experimental\n",
      "  changes and commit them, and you can discard any commits you make in this\n",
      "  state without impacting any branches by switching back to a branch.\n",
      "  \n",
      "  If you want to create a new branch to retain commits you create, you may\n",
      "  do so (now or later) by using -c with the switch command. Example:\n",
      "  \n",
      "    git switch -c <new-branch-name>\n",
      "  \n",
      "  Or undo this operation with:\n",
      "  \n",
      "    git switch -\n",
      "  \n",
      "  Turn off this advice by setting config variable advice.detachedHead to false\n",
      "  \n",
      "  \"*.ipynb is not a valid attribute name: /Users/siddhantshingi/.gitattributes:1\n",
      "  ./build_bundled.sh: line 15: cmake: command not found\n",
      "  ./build_bundled.sh: line 16: nproc: command not found\n",
      "  make: *** No targets specified and no makefile found.  Stop.\n",
      "  make: *** No rule to make target `install'.  Stop.\n",
      "  env: pkg-config: No such file or directory\n",
      "  Failed to find sentencepiece pkg-config\n",
      "  ----------------------------------------\u001b[0m\n",
      "\u001b[31m  ERROR: Failed building wheel for sentencepiece\u001b[0m\n",
      "\u001b[?25h  Running setup.py clean for sentencepiece\n",
      "  Building wheel for seqeval (setup.py) ... \u001b[?25ldone\n",
      "\u001b[?25h  Created wheel for seqeval: filename=seqeval-1.2.2-py3-none-any.whl size=16180 sha256=4f1d579b240258fa9b9ee55c13ae276334780a21f77cfce83e63ae82511b0434\n",
      "  Stored in directory: /Users/siddhantshingi/Library/Caches/pip/wheels/1a/67/4a/ad4082dd7dfc30f2abfe4d80a2ed5926a506eb8a972b4767fa\n",
      "  Building wheel for blinker (setup.py) ... \u001b[?25ldone\n",
      "\u001b[?25h  Created wheel for blinker: filename=blinker-1.4-py3-none-any.whl size=13478 sha256=71255a00b8450ff6712d1d86efd6f6e6f6211a6aa73979c88426e35bc00e27e3\n",
      "  Stored in directory: /Users/siddhantshingi/Library/Caches/pip/wheels/46/d1/36/f5bd574e4181b8e1ca3e12dd8d243aa9218725603566fd3c1d\n",
      "  Building wheel for validators (setup.py) ... \u001b[?25ldone\n",
      "\u001b[?25h  Created wheel for validators: filename=validators-0.19.0-py3-none-any.whl size=19553 sha256=11fa6ee694fb28ac380873ab84a79b2e523c740c1edbcb9dad8d19f749c4de3a\n",
      "  Stored in directory: /Users/siddhantshingi/Library/Caches/pip/wheels/6d/32/0f/3022ff423e5a8312695418cd048860d4dd0345529dcdbe3cd1\n",
      "Successfully built promise pathtools sacremoses seqeval blinker validators\n",
      "Failed to build sentencepiece\n",
      "Installing collected packages: pyrsistent, attrs, pycparser, jsonschema, fastjsonschema, webencodings, soupsieve, nbformat, MarkupSafe, cffi, tinycss2, pandocfilters, nbclient, mistune, jupyterlab-pygments, jinja2, defusedxml, bleach, beautifulsoup4, argon2-cffi-bindings, terminado, Send2Trash, prometheus-client, nbconvert, ipython-genutils, argon2-cffi, urllib3, pyasn1, notebook, multidict, idna, frozenlist, charset-normalizer, yarl, widgetsnbextension, tzdata, smmap, rsa, requests, pyasn1-modules, oauthlib, jupyterlab-widgets, cachetools, async-timeout, aiosignal, zipp, typing-extensions, tqdm, toolz, requests-oauthlib, regex, pyyaml, pytz-deprecation-shim, ipywidgets, google-auth, gitdb, fsspec, filelock, dill, Click, aiohttp, xxhash, werkzeug, validators, tzlocal, toml, tokenizers, tensorboard-plugin-wit, tensorboard-data-server, shortuuid, setproctitle, sentry-sdk, semver, sacremoses, responses, pympler, pydeck, pyarrow, protobuf, promise, pillow, pathtools, multiprocess, markdown, importlib-metadata, huggingface-hub, grpcio, google-auth-oauthlib, GitPython, docker-pycreds, blinker, altair, absl-py, wandb, transformers, tensorboard, streamlit, seqeval, sentencepiece, datasets, simpletransformers\n",
      "    Running setup.py install for sentencepiece ... \u001b[?25lerror\n",
      "\u001b[31m    ERROR: Command errored out with exit status 1:\n",
      "     command: /Users/siddhantshingi/opt/anaconda3/envs/cs685/bin/python -u -c 'import io, os, sys, setuptools, tokenize; sys.argv[0] = '\"'\"'/private/var/folders/rb/wp8v48xd6fs8pbczdv86mrfh0000gn/T/pip-install-1llc75uw/sentencepiece_0aa4d578f4664bffa41e7df8186b579a/setup.py'\"'\"'; __file__='\"'\"'/private/var/folders/rb/wp8v48xd6fs8pbczdv86mrfh0000gn/T/pip-install-1llc75uw/sentencepiece_0aa4d578f4664bffa41e7df8186b579a/setup.py'\"'\"';f = getattr(tokenize, '\"'\"'open'\"'\"', open)(__file__) if os.path.exists(__file__) else io.StringIO('\"'\"'from setuptools import setup; setup()'\"'\"');code = f.read().replace('\"'\"'\\r\\n'\"'\"', '\"'\"'\\n'\"'\"');f.close();exec(compile(code, __file__, '\"'\"'exec'\"'\"'))' install --record /private/var/folders/rb/wp8v48xd6fs8pbczdv86mrfh0000gn/T/pip-record-bprmhrg4/install-record.txt --single-version-externally-managed --compile --install-headers /Users/siddhantshingi/opt/anaconda3/envs/cs685/include/python3.10/sentencepiece\n",
      "         cwd: /private/var/folders/rb/wp8v48xd6fs8pbczdv86mrfh0000gn/T/pip-install-1llc75uw/sentencepiece_0aa4d578f4664bffa41e7df8186b579a/\n",
      "    Complete output (25 lines):\n",
      "    /Users/siddhantshingi/opt/anaconda3/envs/cs685/lib/python3.10/site-packages/setuptools/dist.py:757: UserWarning: Usage of dash-separated 'description-file' will not be supported in future versions. Please use the underscore name 'description_file' instead\n",
      "      warnings.warn(\n",
      "    running install\n",
      "    /Users/siddhantshingi/opt/anaconda3/envs/cs685/lib/python3.10/site-packages/setuptools/command/install.py:34: SetuptoolsDeprecationWarning: setup.py install is deprecated. Use build and pip and other standards-based tools.\n",
      "      warnings.warn(\n",
      "    running build\n",
      "    running build_py\n",
      "    creating build\n",
      "    creating build/lib.macosx-10.9-x86_64-3.10\n",
      "    creating build/lib.macosx-10.9-x86_64-3.10/sentencepiece\n",
      "    copying src/sentencepiece/__init__.py -> build/lib.macosx-10.9-x86_64-3.10/sentencepiece\n",
      "    copying src/sentencepiece/sentencepiece_model_pb2.py -> build/lib.macosx-10.9-x86_64-3.10/sentencepiece\n",
      "    copying src/sentencepiece/sentencepiece_pb2.py -> build/lib.macosx-10.9-x86_64-3.10/sentencepiece\n",
      "    running build_ext\n",
      "    /bin/sh: pkg-config: command not found\n",
      "    mkdir: bundled: File exists\n",
      "    fatal: destination path 'sentencepiece' already exists and is not an empty directory.\n",
      "    fatal: destination path 'sentencepiece' already exists and is not an empty directory.\n",
      "    mkdir: build: File exists\n",
      "    ./build_bundled.sh: line 15: cmake: command not found\n",
      "    ./build_bundled.sh: line 16: nproc: command not found\n",
      "    make: *** No targets specified and no makefile found.  Stop.\n",
      "    make: *** No rule to make target `install'.  Stop.\n",
      "    env: pkg-config: No such file or directory\n",
      "    Failed to find sentencepiece pkg-config\n",
      "    ----------------------------------------\u001b[0m\n",
      "\u001b[?25h\u001b[31mERROR: Command errored out with exit status 1: /Users/siddhantshingi/opt/anaconda3/envs/cs685/bin/python -u -c 'import io, os, sys, setuptools, tokenize; sys.argv[0] = '\"'\"'/private/var/folders/rb/wp8v48xd6fs8pbczdv86mrfh0000gn/T/pip-install-1llc75uw/sentencepiece_0aa4d578f4664bffa41e7df8186b579a/setup.py'\"'\"'; __file__='\"'\"'/private/var/folders/rb/wp8v48xd6fs8pbczdv86mrfh0000gn/T/pip-install-1llc75uw/sentencepiece_0aa4d578f4664bffa41e7df8186b579a/setup.py'\"'\"';f = getattr(tokenize, '\"'\"'open'\"'\"', open)(__file__) if os.path.exists(__file__) else io.StringIO('\"'\"'from setuptools import setup; setup()'\"'\"');code = f.read().replace('\"'\"'\\r\\n'\"'\"', '\"'\"'\\n'\"'\"');f.close();exec(compile(code, __file__, '\"'\"'exec'\"'\"'))' install --record /private/var/folders/rb/wp8v48xd6fs8pbczdv86mrfh0000gn/T/pip-record-bprmhrg4/install-record.txt --single-version-externally-managed --compile --install-headers /Users/siddhantshingi/opt/anaconda3/envs/cs685/include/python3.10/sentencepiece Check the logs for full command output.\u001b[0m\n",
      "Note: you may need to restart the kernel to use updated packages.\n",
      "Collecting torch\n",
      "  Using cached torch-1.11.0-cp310-none-macosx_10_9_x86_64.whl (130.1 MB)\n",
      "Collecting torchvision\n",
      "  Downloading torchvision-0.12.0-cp310-cp310-macosx_10_9_x86_64.whl (1.3 MB)\n",
      "\u001b[K     |████████████████████████████████| 1.3 MB 4.3 MB/s eta 0:00:01\n",
      "\u001b[?25hCollecting torchaudio\n",
      "  Downloading torchaudio-0.11.0-cp310-cp310-macosx_10_15_x86_64.whl (2.4 MB)\n",
      "\u001b[K     |████████████████████████████████| 2.4 MB 14.2 MB/s eta 0:00:01\n",
      "\u001b[?25hRequirement already satisfied: typing-extensions in /Users/siddhantshingi/opt/anaconda3/envs/cs685/lib/python3.10/site-packages (from torch) (4.2.0)\n",
      "Requirement already satisfied: requests in /Users/siddhantshingi/opt/anaconda3/envs/cs685/lib/python3.10/site-packages (from torchvision) (2.27.1)\n",
      "Requirement already satisfied: pillow!=8.3.*,>=5.3.0 in /Users/siddhantshingi/opt/anaconda3/envs/cs685/lib/python3.10/site-packages (from torchvision) (9.1.0)\n",
      "Requirement already satisfied: numpy in /Users/siddhantshingi/opt/anaconda3/envs/cs685/lib/python3.10/site-packages (from torchvision) (1.22.3)\n",
      "Requirement already satisfied: charset-normalizer~=2.0.0 in /Users/siddhantshingi/opt/anaconda3/envs/cs685/lib/python3.10/site-packages (from requests->torchvision) (2.0.12)\n",
      "Requirement already satisfied: certifi>=2017.4.17 in /Users/siddhantshingi/opt/anaconda3/envs/cs685/lib/python3.10/site-packages (from requests->torchvision) (2021.10.8)\n",
      "Requirement already satisfied: idna<4,>=2.5 in /Users/siddhantshingi/opt/anaconda3/envs/cs685/lib/python3.10/site-packages (from requests->torchvision) (3.3)\n",
      "Requirement already satisfied: urllib3<1.27,>=1.21.1 in /Users/siddhantshingi/opt/anaconda3/envs/cs685/lib/python3.10/site-packages (from requests->torchvision) (1.26.9)\n",
      "Installing collected packages: torch, torchvision, torchaudio\n",
      "Successfully installed torch-1.11.0 torchaudio-0.11.0 torchvision-0.12.0\n",
      "Note: you may need to restart the kernel to use updated packages.\n"
     ]
    }
   ],
   "source": [
    "%pip install pandas\n",
    "%pip install sklearn\n",
    "%pip install simpletransformers\n",
    "%pip install torch torchvision torchaudio\n",
    "%pip install torchtext"
   ]
  },
  {
   "cell_type": "code",
   "execution_count": 35,
   "metadata": {},
   "outputs": [
    {
     "name": "stderr",
     "output_type": "stream",
     "text": [
      "Reusing dataset imdb (./data/imdb/plain_text/1.0.0/2fdd8b9bcadd6e7055e742a706876ba43f19faee861df134affd7a3f60fc38a1)\n"
     ]
    },
    {
     "data": {
      "application/vnd.jupyter.widget-view+json": {
       "model_id": "dafd6c6886ef494fbbc3f462220fa73c",
       "version_major": 2,
       "version_minor": 0
      },
      "text/plain": [
       "  0%|          | 0/2 [00:00<?, ?it/s]"
      ]
     },
     "metadata": {},
     "output_type": "display_data"
    }
   ],
   "source": [
    "import datasets\n",
    "train_data, test_data = datasets.load_dataset('imdb', split =['train', 'test'], \n",
    "                                             cache_dir='./data/')"
   ]
  },
  {
   "cell_type": "code",
   "execution_count": 36,
   "metadata": {},
   "outputs": [],
   "source": [
    "train_data_dev, test_data_dev = train_data.select([0, 10, 20, 30, 40, 50]), test_data.select([0, 10, 20, 30, 40, 50])"
   ]
  },
  {
   "cell_type": "code",
   "execution_count": 74,
   "metadata": {},
   "outputs": [],
   "source": [
    "from transformers import BertTokenizer, BertModel\n",
    "import torch\n",
    "import numpy as np\n",
    "device = torch.device('cpu')"
   ]
  },
  {
   "cell_type": "code",
   "execution_count": null,
   "metadata": {},
   "outputs": [],
   "source": [
    "def get_encoder():\n",
    "    tokenizer = BertTokenizer.from_pretrained('bert-base-uncased')\n",
    "    model = BertModel.from_pretrained('bert-base-uncased')\n",
    "\n",
    "    return model, tokenizer"
   ]
  },
  {
   "cell_type": "code",
   "execution_count": 3,
   "metadata": {},
   "outputs": [
    {
     "data": {
      "application/vnd.jupyter.widget-view+json": {
       "model_id": "e6827b947fa1410b884d476fc8951288",
       "version_major": 2,
       "version_minor": 0
      },
      "text/plain": [
       "Downloading:   0%|          | 0.00/226k [00:00<?, ?B/s]"
      ]
     },
     "metadata": {},
     "output_type": "display_data"
    },
    {
     "data": {
      "application/vnd.jupyter.widget-view+json": {
       "model_id": "4bd7099f800a43a4bfa0b88779c2c8a8",
       "version_major": 2,
       "version_minor": 0
      },
      "text/plain": [
       "Downloading:   0%|          | 0.00/28.0 [00:00<?, ?B/s]"
      ]
     },
     "metadata": {},
     "output_type": "display_data"
    },
    {
     "data": {
      "application/vnd.jupyter.widget-view+json": {
       "model_id": "ce8554ac9d594c4eac2eb14161f2efb3",
       "version_major": 2,
       "version_minor": 0
      },
      "text/plain": [
       "Downloading:   0%|          | 0.00/570 [00:00<?, ?B/s]"
      ]
     },
     "metadata": {},
     "output_type": "display_data"
    },
    {
     "data": {
      "application/vnd.jupyter.widget-view+json": {
       "model_id": "fc7d21ee09c142149074a659737a5896",
       "version_major": 2,
       "version_minor": 0
      },
      "text/plain": [
       "Downloading:   0%|          | 0.00/420M [00:00<?, ?B/s]"
      ]
     },
     "metadata": {},
     "output_type": "display_data"
    },
    {
     "name": "stderr",
     "output_type": "stream",
     "text": [
      "Some weights of the model checkpoint at bert-base-uncased were not used when initializing BertModel: ['cls.predictions.transform.dense.weight', 'cls.predictions.bias', 'cls.predictions.transform.LayerNorm.weight', 'cls.seq_relationship.bias', 'cls.predictions.transform.dense.bias', 'cls.predictions.decoder.weight', 'cls.seq_relationship.weight', 'cls.predictions.transform.LayerNorm.bias']\n",
      "- This IS expected if you are initializing BertModel from the checkpoint of a model trained on another task or with another architecture (e.g. initializing a BertForSequenceClassification model from a BertForPreTraining model).\n",
      "- This IS NOT expected if you are initializing BertModel from the checkpoint of a model that you expect to be exactly identical (initializing a BertForSequenceClassification model from a BertForSequenceClassification model).\n"
     ]
    }
   ],
   "source": [
    "tokenizer, model = get_encoder()"
   ]
  },
  {
   "cell_type": "code",
   "execution_count": 64,
   "metadata": {},
   "outputs": [
    {
     "data": {
      "application/vnd.jupyter.widget-view+json": {
       "model_id": "9bcedabc24a148ffabccc37a30c36e19",
       "version_major": 2,
       "version_minor": 0
      },
      "text/plain": [
       "  0%|          | 0/1 [00:00<?, ?ba/s]"
      ]
     },
     "metadata": {},
     "output_type": "display_data"
    },
    {
     "data": {
      "application/vnd.jupyter.widget-view+json": {
       "model_id": "914ab7250f4344139bb518382a1470e1",
       "version_major": 2,
       "version_minor": 0
      },
      "text/plain": [
       "  0%|          | 0/1 [00:00<?, ?ba/s]"
      ]
     },
     "metadata": {},
     "output_type": "display_data"
    }
   ],
   "source": [
    "def tokenization(batched_text):\n",
    "    return tokenizer(batched_text['text'], padding = 'max_length', truncation=True, max_length = 512)\n",
    "train_data_dev = train_data_dev.map(tokenization, batched = True, batch_size = len(train_data_dev))\n",
    "test_data_dev = test_data_dev.map(tokenization, batched = True, batch_size = len(test_data_dev))"
   ]
  },
  {
   "cell_type": "code",
   "execution_count": 75,
   "metadata": {},
   "outputs": [],
   "source": [
    "ids = torch.tensor(train_data_dev['input_ids']).to(device)\n",
    "mask = torch.tensor(train_data_dev['attention_mask']).to(device)\n",
    "\n",
    "output = model(ids, mask)"
   ]
  },
  {
   "cell_type": "code",
   "execution_count": 76,
   "metadata": {},
   "outputs": [],
   "source": [
    "final_layer = output.last_hidden_state"
   ]
  },
  {
   "cell_type": "code",
   "execution_count": 77,
   "metadata": {},
   "outputs": [
    {
     "data": {
      "text/plain": [
       "torch.Size([6, 768])"
      ]
     },
     "execution_count": 77,
     "metadata": {},
     "output_type": "execute_result"
    }
   ],
   "source": [
    "final_layer[:,0,:].size()"
   ]
  },
  {
   "cell_type": "code",
   "execution_count": 72,
   "metadata": {},
   "outputs": [],
   "source": []
  },
  {
   "cell_type": "code",
   "execution_count": 73,
   "metadata": {},
   "outputs": [
    {
     "ename": "AttributeError",
     "evalue": "'Dataset' object has no attribute 'to'",
     "output_type": "error",
     "traceback": [
      "\u001b[0;31m---------------------------------------------------------------------------\u001b[0m",
      "\u001b[0;31mAttributeError\u001b[0m                            Traceback (most recent call last)",
      "\u001b[1;32m/Users/siddhantshingi/Documents/UMass/685/CoLLT/main.ipynb Cell 12'\u001b[0m in \u001b[0;36m<cell line: 1>\u001b[0;34m()\u001b[0m\n\u001b[0;32m----> <a href='vscode-notebook-cell:/Users/siddhantshingi/Documents/UMass/685/CoLLT/main.ipynb#ch0000036?line=0'>1</a>\u001b[0m train_data_dev\u001b[39m.\u001b[39;49mto(device)\n",
      "\u001b[0;31mAttributeError\u001b[0m: 'Dataset' object has no attribute 'to'"
     ]
    }
   ],
   "source": []
  },
  {
   "cell_type": "code",
   "execution_count": 78,
   "metadata": {},
   "outputs": [
    {
     "data": {
      "text/plain": [
       "Dataset({\n",
       "    features: ['text', 'label', 'input_ids', 'token_type_ids', 'attention_mask'],\n",
       "    num_rows: 6\n",
       "})"
      ]
     },
     "execution_count": 78,
     "metadata": {},
     "output_type": "execute_result"
    }
   ],
   "source": [
    "train_data_dev"
   ]
  },
  {
   "cell_type": "code",
   "execution_count": 80,
   "metadata": {},
   "outputs": [],
   "source": [
    "from datasets import Dataset\n",
    "from typing import Optional, Tuple, NamedTuple, List"
   ]
  },
  {
   "cell_type": "code",
   "execution_count": 84,
   "metadata": {},
   "outputs": [],
   "source": [
    "class Augmentor():\n",
    "    \"\"\"Base class for text augmentors.\"\"\"\n",
    "    def __init__(self):\n",
    "        pass\n",
    "\n",
    "    def augment(self, x: Dataset) -> Dataset:\n",
    "        raise NotImplementedError(f\"Dataset.augment should be implemented.\")\n",
    "\n",
    "    def __call__(\n",
    "            self, x: Dataset,\n",
    "    ) -> Tuple[torch.Tensor, torch.Tensor]:\n",
    "        return self.augment(x)\n"
   ]
  },
  {
   "cell_type": "code",
   "execution_count": 85,
   "metadata": {},
   "outputs": [],
   "source": [
    "class Identity(Augmentor):\n",
    "    def __init__(self):\n",
    "        super(Identity, self).__init__()\n",
    "\n",
    "    def augment(self, x: Dataset) -> Dataset:\n",
    "        return x\n"
   ]
  },
  {
   "cell_type": "code",
   "execution_count": 86,
   "metadata": {},
   "outputs": [
    {
     "data": {
      "text/plain": [
       "Dataset({\n",
       "    features: ['text', 'label'],\n",
       "    num_rows: 25000\n",
       "})"
      ]
     },
     "execution_count": 86,
     "metadata": {},
     "output_type": "execute_result"
    }
   ],
   "source": [
    "aug = Identity()\n",
    "aug(train_data)"
   ]
  },
  {
   "cell_type": "code",
   "execution_count": null,
   "metadata": {},
   "outputs": [],
   "source": []
  }
 ],
 "metadata": {
  "interpreter": {
   "hash": "1571208aba22c915cc4506ea41cd5f2d3f3c58a4f788d47ec451478218c02234"
  },
  "kernelspec": {
   "display_name": "Python 3.10.4 ('cs685')",
   "language": "python",
   "name": "python3"
  },
  "language_info": {
   "codemirror_mode": {
    "name": "ipython",
    "version": 3
   },
   "file_extension": ".py",
   "mimetype": "text/x-python",
   "name": "python",
   "nbconvert_exporter": "python",
   "pygments_lexer": "ipython3",
   "version": "3.10.4"
  },
  "orig_nbformat": 4
 },
 "nbformat": 4,
 "nbformat_minor": 2
}

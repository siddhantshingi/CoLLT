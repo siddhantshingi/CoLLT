{
  "cells": [
    {
      "cell_type": "code",
      "execution_count": null,
      "metadata": {
        "colab": {
          "base_uri": "https://localhost:8080/"
        },
        "id": "ee232c84-94ee-4e82-bb30-fc2c893764c6",
        "outputId": "560e8e1f-f834-4ed4-a209-1499e13178ce"
      },
      "outputs": [
        {
          "name": "stdout",
          "output_type": "stream",
          "text": [
            "Requirement already satisfied: torch in /usr/local/lib/python3.7/dist-packages (1.11.0+cu113)\n",
            "Requirement already satisfied: torchvision in /usr/local/lib/python3.7/dist-packages (0.12.0+cu113)\n",
            "Requirement already satisfied: torchaudio in /usr/local/lib/python3.7/dist-packages (0.11.0+cu113)\n",
            "Requirement already satisfied: typing-extensions in /usr/local/lib/python3.7/dist-packages (from torch) (4.2.0)\n",
            "Requirement already satisfied: numpy in /usr/local/lib/python3.7/dist-packages (from torchvision) (1.21.6)\n",
            "Requirement already satisfied: pillow!=8.3.*,>=5.3.0 in /usr/local/lib/python3.7/dist-packages (from torchvision) (7.1.2)\n",
            "Requirement already satisfied: requests in /usr/local/lib/python3.7/dist-packages (from torchvision) (2.23.0)\n",
            "Requirement already satisfied: certifi>=2017.4.17 in /usr/local/lib/python3.7/dist-packages (from requests->torchvision) (2021.10.8)\n",
            "Requirement already satisfied: idna<3,>=2.5 in /usr/local/lib/python3.7/dist-packages (from requests->torchvision) (2.10)\n",
            "Requirement already satisfied: urllib3!=1.25.0,!=1.25.1,<1.26,>=1.21.1 in /usr/local/lib/python3.7/dist-packages (from requests->torchvision) (1.24.3)\n",
            "Requirement already satisfied: chardet<4,>=3.0.2 in /usr/local/lib/python3.7/dist-packages (from requests->torchvision) (3.0.4)\n",
            "Requirement already satisfied: torchtext in /usr/local/lib/python3.7/dist-packages (0.12.0)\n",
            "Requirement already satisfied: tqdm in /usr/local/lib/python3.7/dist-packages (from torchtext) (4.64.0)\n",
            "Requirement already satisfied: numpy in /usr/local/lib/python3.7/dist-packages (from torchtext) (1.21.6)\n",
            "Requirement already satisfied: requests in /usr/local/lib/python3.7/dist-packages (from torchtext) (2.23.0)\n",
            "Requirement already satisfied: torch==1.11.0 in /usr/local/lib/python3.7/dist-packages (from torchtext) (1.11.0+cu113)\n",
            "Requirement already satisfied: typing-extensions in /usr/local/lib/python3.7/dist-packages (from torch==1.11.0->torchtext) (4.2.0)\n",
            "Requirement already satisfied: idna<3,>=2.5 in /usr/local/lib/python3.7/dist-packages (from requests->torchtext) (2.10)\n",
            "Requirement already satisfied: certifi>=2017.4.17 in /usr/local/lib/python3.7/dist-packages (from requests->torchtext) (2021.10.8)\n",
            "Requirement already satisfied: chardet<4,>=3.0.2 in /usr/local/lib/python3.7/dist-packages (from requests->torchtext) (3.0.4)\n",
            "Requirement already satisfied: urllib3!=1.25.0,!=1.25.1,<1.26,>=1.21.1 in /usr/local/lib/python3.7/dist-packages (from requests->torchtext) (1.24.3)\n",
            "Collecting pytorch-lightning-bolts\n",
            "  Downloading pytorch_lightning_bolts-0.3.2.post1-py3-none-any.whl (252 kB)\n",
            "\u001b[K     |████████████████████████████████| 252 kB 8.5 MB/s \n",
            "\u001b[?25hCollecting torchmetrics>=0.2.0\n",
            "  Downloading torchmetrics-0.8.2-py3-none-any.whl (409 kB)\n",
            "\u001b[K     |████████████████████████████████| 409 kB 66.5 MB/s \n",
            "\u001b[?25hRequirement already satisfied: torch>=1.6 in /usr/local/lib/python3.7/dist-packages (from pytorch-lightning-bolts) (1.11.0+cu113)\n",
            "Collecting pytorch-lightning>=1.1.1\n",
            "  Downloading pytorch_lightning-1.6.3-py3-none-any.whl (584 kB)\n",
            "\u001b[K     |████████████████████████████████| 584 kB 55.9 MB/s \n",
            "\u001b[?25hRequirement already satisfied: typing-extensions>=4.0.0 in /usr/local/lib/python3.7/dist-packages (from pytorch-lightning>=1.1.1->pytorch-lightning-bolts) (4.2.0)\n",
            "Requirement already satisfied: tensorboard>=2.2.0 in /usr/local/lib/python3.7/dist-packages (from pytorch-lightning>=1.1.1->pytorch-lightning-bolts) (2.8.0)\n",
            "Collecting fsspec[http]!=2021.06.0,>=2021.05.0\n",
            "  Downloading fsspec-2022.3.0-py3-none-any.whl (136 kB)\n",
            "\u001b[K     |████████████████████████████████| 136 kB 75.3 MB/s \n",
            "\u001b[?25hRequirement already satisfied: numpy>=1.17.2 in /usr/local/lib/python3.7/dist-packages (from pytorch-lightning>=1.1.1->pytorch-lightning-bolts) (1.21.6)\n",
            "Collecting PyYAML>=5.4\n",
            "  Downloading PyYAML-6.0-cp37-cp37m-manylinux_2_5_x86_64.manylinux1_x86_64.manylinux_2_12_x86_64.manylinux2010_x86_64.whl (596 kB)\n",
            "\u001b[K     |████████████████████████████████| 596 kB 53.6 MB/s \n",
            "\u001b[?25hCollecting pyDeprecate<0.4.0,>=0.3.1\n",
            "  Downloading pyDeprecate-0.3.2-py3-none-any.whl (10 kB)\n",
            "Requirement already satisfied: packaging>=17.0 in /usr/local/lib/python3.7/dist-packages (from pytorch-lightning>=1.1.1->pytorch-lightning-bolts) (21.3)\n",
            "Requirement already satisfied: tqdm>=4.57.0 in /usr/local/lib/python3.7/dist-packages (from pytorch-lightning>=1.1.1->pytorch-lightning-bolts) (4.64.0)\n",
            "Requirement already satisfied: requests in /usr/local/lib/python3.7/dist-packages (from fsspec[http]!=2021.06.0,>=2021.05.0->pytorch-lightning>=1.1.1->pytorch-lightning-bolts) (2.23.0)\n",
            "Collecting aiohttp\n",
            "  Downloading aiohttp-3.8.1-cp37-cp37m-manylinux_2_5_x86_64.manylinux1_x86_64.manylinux_2_12_x86_64.manylinux2010_x86_64.whl (1.1 MB)\n",
            "\u001b[K     |████████████████████████████████| 1.1 MB 53.0 MB/s \n",
            "\u001b[?25hRequirement already satisfied: pyparsing!=3.0.5,>=2.0.2 in /usr/local/lib/python3.7/dist-packages (from packaging>=17.0->pytorch-lightning>=1.1.1->pytorch-lightning-bolts) (3.0.8)\n",
            "Requirement already satisfied: setuptools>=41.0.0 in /usr/local/lib/python3.7/dist-packages (from tensorboard>=2.2.0->pytorch-lightning>=1.1.1->pytorch-lightning-bolts) (57.4.0)\n",
            "Requirement already satisfied: wheel>=0.26 in /usr/local/lib/python3.7/dist-packages (from tensorboard>=2.2.0->pytorch-lightning>=1.1.1->pytorch-lightning-bolts) (0.37.1)\n",
            "Requirement already satisfied: tensorboard-data-server<0.7.0,>=0.6.0 in /usr/local/lib/python3.7/dist-packages (from tensorboard>=2.2.0->pytorch-lightning>=1.1.1->pytorch-lightning-bolts) (0.6.1)\n",
            "Requirement already satisfied: google-auth<3,>=1.6.3 in /usr/local/lib/python3.7/dist-packages (from tensorboard>=2.2.0->pytorch-lightning>=1.1.1->pytorch-lightning-bolts) (1.35.0)\n",
            "Requirement already satisfied: google-auth-oauthlib<0.5,>=0.4.1 in /usr/local/lib/python3.7/dist-packages (from tensorboard>=2.2.0->pytorch-lightning>=1.1.1->pytorch-lightning-bolts) (0.4.6)\n",
            "Requirement already satisfied: absl-py>=0.4 in /usr/local/lib/python3.7/dist-packages (from tensorboard>=2.2.0->pytorch-lightning>=1.1.1->pytorch-lightning-bolts) (1.0.0)\n",
            "Requirement already satisfied: protobuf>=3.6.0 in /usr/local/lib/python3.7/dist-packages (from tensorboard>=2.2.0->pytorch-lightning>=1.1.1->pytorch-lightning-bolts) (3.17.3)\n",
            "Requirement already satisfied: markdown>=2.6.8 in /usr/local/lib/python3.7/dist-packages (from tensorboard>=2.2.0->pytorch-lightning>=1.1.1->pytorch-lightning-bolts) (3.3.6)\n",
            "Requirement already satisfied: grpcio>=1.24.3 in /usr/local/lib/python3.7/dist-packages (from tensorboard>=2.2.0->pytorch-lightning>=1.1.1->pytorch-lightning-bolts) (1.44.0)\n",
            "Requirement already satisfied: tensorboard-plugin-wit>=1.6.0 in /usr/local/lib/python3.7/dist-packages (from tensorboard>=2.2.0->pytorch-lightning>=1.1.1->pytorch-lightning-bolts) (1.8.1)\n",
            "Requirement already satisfied: werkzeug>=0.11.15 in /usr/local/lib/python3.7/dist-packages (from tensorboard>=2.2.0->pytorch-lightning>=1.1.1->pytorch-lightning-bolts) (1.0.1)\n",
            "Requirement already satisfied: six in /usr/local/lib/python3.7/dist-packages (from absl-py>=0.4->tensorboard>=2.2.0->pytorch-lightning>=1.1.1->pytorch-lightning-bolts) (1.15.0)\n",
            "Requirement already satisfied: rsa<5,>=3.1.4 in /usr/local/lib/python3.7/dist-packages (from google-auth<3,>=1.6.3->tensorboard>=2.2.0->pytorch-lightning>=1.1.1->pytorch-lightning-bolts) (4.8)\n",
            "Requirement already satisfied: pyasn1-modules>=0.2.1 in /usr/local/lib/python3.7/dist-packages (from google-auth<3,>=1.6.3->tensorboard>=2.2.0->pytorch-lightning>=1.1.1->pytorch-lightning-bolts) (0.2.8)\n",
            "Requirement already satisfied: cachetools<5.0,>=2.0.0 in /usr/local/lib/python3.7/dist-packages (from google-auth<3,>=1.6.3->tensorboard>=2.2.0->pytorch-lightning>=1.1.1->pytorch-lightning-bolts) (4.2.4)\n",
            "Requirement already satisfied: requests-oauthlib>=0.7.0 in /usr/local/lib/python3.7/dist-packages (from google-auth-oauthlib<0.5,>=0.4.1->tensorboard>=2.2.0->pytorch-lightning>=1.1.1->pytorch-lightning-bolts) (1.3.1)\n",
            "Requirement already satisfied: importlib-metadata>=4.4 in /usr/local/lib/python3.7/dist-packages (from markdown>=2.6.8->tensorboard>=2.2.0->pytorch-lightning>=1.1.1->pytorch-lightning-bolts) (4.11.3)\n",
            "Requirement already satisfied: zipp>=0.5 in /usr/local/lib/python3.7/dist-packages (from importlib-metadata>=4.4->markdown>=2.6.8->tensorboard>=2.2.0->pytorch-lightning>=1.1.1->pytorch-lightning-bolts) (3.8.0)\n",
            "Requirement already satisfied: pyasn1<0.5.0,>=0.4.6 in /usr/local/lib/python3.7/dist-packages (from pyasn1-modules>=0.2.1->google-auth<3,>=1.6.3->tensorboard>=2.2.0->pytorch-lightning>=1.1.1->pytorch-lightning-bolts) (0.4.8)\n",
            "Requirement already satisfied: urllib3!=1.25.0,!=1.25.1,<1.26,>=1.21.1 in /usr/local/lib/python3.7/dist-packages (from requests->fsspec[http]!=2021.06.0,>=2021.05.0->pytorch-lightning>=1.1.1->pytorch-lightning-bolts) (1.24.3)\n",
            "Requirement already satisfied: chardet<4,>=3.0.2 in /usr/local/lib/python3.7/dist-packages (from requests->fsspec[http]!=2021.06.0,>=2021.05.0->pytorch-lightning>=1.1.1->pytorch-lightning-bolts) (3.0.4)\n",
            "Requirement already satisfied: certifi>=2017.4.17 in /usr/local/lib/python3.7/dist-packages (from requests->fsspec[http]!=2021.06.0,>=2021.05.0->pytorch-lightning>=1.1.1->pytorch-lightning-bolts) (2021.10.8)\n",
            "Requirement already satisfied: idna<3,>=2.5 in /usr/local/lib/python3.7/dist-packages (from requests->fsspec[http]!=2021.06.0,>=2021.05.0->pytorch-lightning>=1.1.1->pytorch-lightning-bolts) (2.10)\n",
            "Requirement already satisfied: oauthlib>=3.0.0 in /usr/local/lib/python3.7/dist-packages (from requests-oauthlib>=0.7.0->google-auth-oauthlib<0.5,>=0.4.1->tensorboard>=2.2.0->pytorch-lightning>=1.1.1->pytorch-lightning-bolts) (3.2.0)\n",
            "Collecting yarl<2.0,>=1.0\n",
            "  Downloading yarl-1.7.2-cp37-cp37m-manylinux_2_5_x86_64.manylinux1_x86_64.manylinux_2_12_x86_64.manylinux2010_x86_64.whl (271 kB)\n",
            "\u001b[K     |████████████████████████████████| 271 kB 77.0 MB/s \n",
            "\u001b[?25hCollecting asynctest==0.13.0\n",
            "  Downloading asynctest-0.13.0-py3-none-any.whl (26 kB)\n",
            "Collecting frozenlist>=1.1.1\n",
            "  Downloading frozenlist-1.3.0-cp37-cp37m-manylinux_2_5_x86_64.manylinux1_x86_64.manylinux_2_17_x86_64.manylinux2014_x86_64.whl (144 kB)\n",
            "\u001b[K     |████████████████████████████████| 144 kB 72.8 MB/s \n",
            "\u001b[?25hCollecting multidict<7.0,>=4.5\n",
            "  Downloading multidict-6.0.2-cp37-cp37m-manylinux_2_17_x86_64.manylinux2014_x86_64.whl (94 kB)\n",
            "\u001b[K     |████████████████████████████████| 94 kB 4.8 MB/s \n",
            "\u001b[?25hCollecting aiosignal>=1.1.2\n",
            "  Downloading aiosignal-1.2.0-py3-none-any.whl (8.2 kB)\n",
            "Collecting async-timeout<5.0,>=4.0.0a3\n",
            "  Downloading async_timeout-4.0.2-py3-none-any.whl (5.8 kB)\n",
            "Requirement already satisfied: charset-normalizer<3.0,>=2.0 in /usr/local/lib/python3.7/dist-packages (from aiohttp->fsspec[http]!=2021.06.0,>=2021.05.0->pytorch-lightning>=1.1.1->pytorch-lightning-bolts) (2.0.12)\n",
            "Requirement already satisfied: attrs>=17.3.0 in /usr/local/lib/python3.7/dist-packages (from aiohttp->fsspec[http]!=2021.06.0,>=2021.05.0->pytorch-lightning>=1.1.1->pytorch-lightning-bolts) (21.4.0)\n",
            "Installing collected packages: multidict, frozenlist, yarl, asynctest, async-timeout, aiosignal, pyDeprecate, fsspec, aiohttp, torchmetrics, PyYAML, pytorch-lightning, pytorch-lightning-bolts\n",
            "  Attempting uninstall: PyYAML\n",
            "    Found existing installation: PyYAML 3.13\n",
            "    Uninstalling PyYAML-3.13:\n",
            "      Successfully uninstalled PyYAML-3.13\n",
            "Successfully installed PyYAML-6.0 aiohttp-3.8.1 aiosignal-1.2.0 async-timeout-4.0.2 asynctest-0.13.0 frozenlist-1.3.0 fsspec-2022.3.0 multidict-6.0.2 pyDeprecate-0.3.2 pytorch-lightning-1.6.3 pytorch-lightning-bolts-0.3.2.post1 torchmetrics-0.8.2 yarl-1.7.2\n"
          ]
        }
      ],
      "source": [
        "%pip install torch torchvision torchaudio\n",
        "%pip install torchtext\n",
        "%pip install pytorch-lightning-bolts"
      ],
      "id": "ee232c84-94ee-4e82-bb30-fc2c893764c6"
    },
    {
      "cell_type": "code",
      "execution_count": null,
      "metadata": {
        "colab": {
          "base_uri": "https://localhost:8080/",
          "height": 1000
        },
        "id": "ecd709f3-1658-4920-9f34-a843c2ab63b6",
        "outputId": "ecb116ee-4c24-4bc5-e2ad-d9d87f0d76e5"
      },
      "outputs": [
        {
          "name": "stdout",
          "output_type": "stream",
          "text": [
            "Collecting datasets\n",
            "  Downloading datasets-2.2.1-py3-none-any.whl (342 kB)\n",
            "\u001b[?25l\r\u001b[K     |█                               | 10 kB 33.8 MB/s eta 0:00:01\r\u001b[K     |██                              | 20 kB 32.4 MB/s eta 0:00:01\r\u001b[K     |██▉                             | 30 kB 19.6 MB/s eta 0:00:01\r\u001b[K     |███▉                            | 40 kB 8.8 MB/s eta 0:00:01\r\u001b[K     |████▉                           | 51 kB 9.9 MB/s eta 0:00:01\r\u001b[K     |█████▊                          | 61 kB 11.7 MB/s eta 0:00:01\r\u001b[K     |██████▊                         | 71 kB 9.0 MB/s eta 0:00:01\r\u001b[K     |███████▋                        | 81 kB 9.7 MB/s eta 0:00:01\r\u001b[K     |████████▋                       | 92 kB 10.8 MB/s eta 0:00:01\r\u001b[K     |█████████▋                      | 102 kB 9.7 MB/s eta 0:00:01\r\u001b[K     |██████████▌                     | 112 kB 9.7 MB/s eta 0:00:01\r\u001b[K     |███████████▌                    | 122 kB 9.7 MB/s eta 0:00:01\r\u001b[K     |████████████▌                   | 133 kB 9.7 MB/s eta 0:00:01\r\u001b[K     |█████████████▍                  | 143 kB 9.7 MB/s eta 0:00:01\r\u001b[K     |██████████████▍                 | 153 kB 9.7 MB/s eta 0:00:01\r\u001b[K     |███████████████▎                | 163 kB 9.7 MB/s eta 0:00:01\r\u001b[K     |████████████████▎               | 174 kB 9.7 MB/s eta 0:00:01\r\u001b[K     |█████████████████▎              | 184 kB 9.7 MB/s eta 0:00:01\r\u001b[K     |██████████████████▏             | 194 kB 9.7 MB/s eta 0:00:01\r\u001b[K     |███████████████████▏            | 204 kB 9.7 MB/s eta 0:00:01\r\u001b[K     |████████████████████            | 215 kB 9.7 MB/s eta 0:00:01\r\u001b[K     |█████████████████████           | 225 kB 9.7 MB/s eta 0:00:01\r\u001b[K     |██████████████████████          | 235 kB 9.7 MB/s eta 0:00:01\r\u001b[K     |███████████████████████         | 245 kB 9.7 MB/s eta 0:00:01\r\u001b[K     |████████████████████████        | 256 kB 9.7 MB/s eta 0:00:01\r\u001b[K     |█████████████████████████       | 266 kB 9.7 MB/s eta 0:00:01\r\u001b[K     |█████████████████████████▉      | 276 kB 9.7 MB/s eta 0:00:01\r\u001b[K     |██████████████████████████▉     | 286 kB 9.7 MB/s eta 0:00:01\r\u001b[K     |███████████████████████████▊    | 296 kB 9.7 MB/s eta 0:00:01\r\u001b[K     |████████████████████████████▊   | 307 kB 9.7 MB/s eta 0:00:01\r\u001b[K     |█████████████████████████████▊  | 317 kB 9.7 MB/s eta 0:00:01\r\u001b[K     |██████████████████████████████▋ | 327 kB 9.7 MB/s eta 0:00:01\r\u001b[K     |███████████████████████████████▋| 337 kB 9.7 MB/s eta 0:00:01\r\u001b[K     |████████████████████████████████| 342 kB 9.7 MB/s \n",
            "\u001b[?25hRequirement already satisfied: importlib-metadata in /usr/local/lib/python3.7/dist-packages (from datasets) (4.11.3)\n",
            "Collecting responses<0.19\n",
            "  Downloading responses-0.18.0-py3-none-any.whl (38 kB)\n",
            "Requirement already satisfied: numpy>=1.17 in /usr/local/lib/python3.7/dist-packages (from datasets) (1.21.6)\n",
            "Requirement already satisfied: tqdm>=4.62.1 in /usr/local/lib/python3.7/dist-packages (from datasets) (4.64.0)\n",
            "Requirement already satisfied: multiprocess in /usr/local/lib/python3.7/dist-packages (from datasets) (0.70.12.2)\n",
            "Requirement already satisfied: fsspec[http]>=2021.05.0 in /usr/local/lib/python3.7/dist-packages (from datasets) (2022.3.0)\n",
            "Collecting huggingface-hub<1.0.0,>=0.1.0\n",
            "  Downloading huggingface_hub-0.6.0-py3-none-any.whl (84 kB)\n",
            "\u001b[K     |████████████████████████████████| 84 kB 4.2 MB/s \n",
            "\u001b[?25hRequirement already satisfied: packaging in /usr/local/lib/python3.7/dist-packages (from datasets) (21.3)\n",
            "Requirement already satisfied: pandas in /usr/local/lib/python3.7/dist-packages (from datasets) (1.3.5)\n",
            "Requirement already satisfied: pyarrow>=6.0.0 in /usr/local/lib/python3.7/dist-packages (from datasets) (6.0.1)\n",
            "Collecting xxhash\n",
            "  Downloading xxhash-3.0.0-cp37-cp37m-manylinux_2_17_x86_64.manylinux2014_x86_64.whl (212 kB)\n",
            "\u001b[K     |████████████████████████████████| 212 kB 70.7 MB/s \n",
            "\u001b[?25hRequirement already satisfied: dill in /usr/local/lib/python3.7/dist-packages (from datasets) (0.3.4)\n",
            "Requirement already satisfied: requests>=2.19.0 in /usr/local/lib/python3.7/dist-packages (from datasets) (2.23.0)\n",
            "Requirement already satisfied: aiohttp in /usr/local/lib/python3.7/dist-packages (from datasets) (3.8.1)\n",
            "Requirement already satisfied: pyyaml in /usr/local/lib/python3.7/dist-packages (from huggingface-hub<1.0.0,>=0.1.0->datasets) (6.0)\n",
            "Requirement already satisfied: typing-extensions>=3.7.4.3 in /usr/local/lib/python3.7/dist-packages (from huggingface-hub<1.0.0,>=0.1.0->datasets) (4.2.0)\n",
            "Requirement already satisfied: filelock in /usr/local/lib/python3.7/dist-packages (from huggingface-hub<1.0.0,>=0.1.0->datasets) (3.6.0)\n",
            "Requirement already satisfied: pyparsing!=3.0.5,>=2.0.2 in /usr/local/lib/python3.7/dist-packages (from packaging->datasets) (3.0.8)\n",
            "Requirement already satisfied: chardet<4,>=3.0.2 in /usr/local/lib/python3.7/dist-packages (from requests>=2.19.0->datasets) (3.0.4)\n",
            "Requirement already satisfied: idna<3,>=2.5 in /usr/local/lib/python3.7/dist-packages (from requests>=2.19.0->datasets) (2.10)\n",
            "Requirement already satisfied: certifi>=2017.4.17 in /usr/local/lib/python3.7/dist-packages (from requests>=2.19.0->datasets) (2021.10.8)\n",
            "Requirement already satisfied: urllib3!=1.25.0,!=1.25.1,<1.26,>=1.21.1 in /usr/local/lib/python3.7/dist-packages (from requests>=2.19.0->datasets) (1.24.3)\n",
            "Collecting urllib3!=1.25.0,!=1.25.1,<1.26,>=1.21.1\n",
            "  Downloading urllib3-1.25.11-py2.py3-none-any.whl (127 kB)\n",
            "\u001b[K     |████████████████████████████████| 127 kB 73.9 MB/s \n",
            "\u001b[?25hRequirement already satisfied: yarl<2.0,>=1.0 in /usr/local/lib/python3.7/dist-packages (from aiohttp->datasets) (1.7.2)\n",
            "Requirement already satisfied: frozenlist>=1.1.1 in /usr/local/lib/python3.7/dist-packages (from aiohttp->datasets) (1.3.0)\n",
            "Requirement already satisfied: aiosignal>=1.1.2 in /usr/local/lib/python3.7/dist-packages (from aiohttp->datasets) (1.2.0)\n",
            "Requirement already satisfied: attrs>=17.3.0 in /usr/local/lib/python3.7/dist-packages (from aiohttp->datasets) (21.4.0)\n",
            "Requirement already satisfied: asynctest==0.13.0 in /usr/local/lib/python3.7/dist-packages (from aiohttp->datasets) (0.13.0)\n",
            "Requirement already satisfied: multidict<7.0,>=4.5 in /usr/local/lib/python3.7/dist-packages (from aiohttp->datasets) (6.0.2)\n",
            "Requirement already satisfied: async-timeout<5.0,>=4.0.0a3 in /usr/local/lib/python3.7/dist-packages (from aiohttp->datasets) (4.0.2)\n",
            "Requirement already satisfied: charset-normalizer<3.0,>=2.0 in /usr/local/lib/python3.7/dist-packages (from aiohttp->datasets) (2.0.12)\n",
            "Requirement already satisfied: zipp>=0.5 in /usr/local/lib/python3.7/dist-packages (from importlib-metadata->datasets) (3.8.0)\n",
            "Requirement already satisfied: python-dateutil>=2.7.3 in /usr/local/lib/python3.7/dist-packages (from pandas->datasets) (2.8.2)\n",
            "Requirement already satisfied: pytz>=2017.3 in /usr/local/lib/python3.7/dist-packages (from pandas->datasets) (2022.1)\n",
            "Requirement already satisfied: six>=1.5 in /usr/local/lib/python3.7/dist-packages (from python-dateutil>=2.7.3->pandas->datasets) (1.15.0)\n",
            "Installing collected packages: urllib3, xxhash, responses, huggingface-hub, datasets\n",
            "  Attempting uninstall: urllib3\n",
            "    Found existing installation: urllib3 1.24.3\n",
            "    Uninstalling urllib3-1.24.3:\n",
            "      Successfully uninstalled urllib3-1.24.3\n",
            "\u001b[31mERROR: pip's dependency resolver does not currently take into account all the packages that are installed. This behaviour is the source of the following dependency conflicts.\n",
            "datascience 0.10.6 requires folium==0.2.1, but you have folium 0.8.3 which is incompatible.\u001b[0m\n",
            "Successfully installed datasets-2.2.1 huggingface-hub-0.6.0 responses-0.18.0 urllib3-1.25.11 xxhash-3.0.0\n"
          ]
        },
        {
          "data": {
            "application/vnd.colab-display-data+json": {
              "pip_warning": {
                "packages": [
                  "urllib3"
                ]
              }
            }
          },
          "metadata": {},
          "output_type": "display_data"
        }
      ],
      "source": [
        "% pip install datasets"
      ],
      "id": "ecd709f3-1658-4920-9f34-a843c2ab63b6"
    },
    {
      "cell_type": "code",
      "execution_count": null,
      "metadata": {
        "id": "51ba90aa-cb3b-47b0-8431-e8dffcc46bf9"
      },
      "outputs": [],
      "source": [
        "import datasets\n",
        "import numpy as np\n"
      ],
      "id": "51ba90aa-cb3b-47b0-8431-e8dffcc46bf9"
    },
    {
      "cell_type": "code",
      "execution_count": 26,
      "metadata": {
        "colab": {
          "base_uri": "https://localhost:8080/",
          "height": 103,
          "referenced_widgets": [
            "5c4e0ba70bcd4a1ba0a9006420dd181e",
            "6ef9686d8faa459eaa78a500ca08dc43",
            "c80fe22821194751b3f7a10a46b4e21e",
            "7ba5140250d64146a6cea6f9c8348e30",
            "b19d66f5eb5846ad87783e9356c33b91",
            "ecce5527e21b4c97858505501d419756",
            "1debdcf8a4b64e629b53417595e29fb5",
            "290e29c476374caa98008fb9504688dc",
            "86f999cdc8d74e6ab14d5edd10cd6fe8",
            "21d4fb2246d14284b0a5720b0fffa706",
            "7ef1bce767624e8588bf00cbec541c1e"
          ]
        },
        "id": "97537cda-bdea-46ad-a753-b865385901e1",
        "outputId": "e33212c3-eb59-43da-8a44-39d62b0efc0e"
      },
      "outputs": [
        {
          "output_type": "stream",
          "name": "stderr",
          "text": [
            "Reusing dataset imdb (./data/imdb/plain_text/1.0.0/2fdd8b9bcadd6e7055e742a706876ba43f19faee861df134affd7a3f60fc38a1)\n"
          ]
        },
        {
          "output_type": "display_data",
          "data": {
            "text/plain": [
              "  0%|          | 0/2 [00:00<?, ?it/s]"
            ],
            "application/vnd.jupyter.widget-view+json": {
              "version_major": 2,
              "version_minor": 0,
              "model_id": "5c4e0ba70bcd4a1ba0a9006420dd181e"
            }
          },
          "metadata": {}
        },
        {
          "output_type": "stream",
          "name": "stdout",
          "text": [
            "{'text': 'Notorious for more than a quarter century (and often banned), it\\'s obscurity was its greatest asset it seems. Hey, it\\'s often better to be talked about, rather than actually seen when you can\\'t back the \"legend\" up with substance.<br /><br />The film has played in Los Angeles a couple of times recently, and is available on home video, so that veil is slowly being lifted. While there is still plenty to offend the masses, it is more likely to bore them, than arouse much real passion. Except for a gratuitous and protracted XXX sex scene between a pair of horses (\"Nature Documentary\" anyone?), there follows nearly an hour of a dull arranged marriage melodrama. <br /><br />Once the sex and nudity begins, it is a nonstop sequence involving masturbation, a looooooooong flashback to an alleged \\'beauty and the beast\\' encounter, and a naked woman running around the mansion (nobody, even her supposedly protective Aunt, seems to even think of putting some clothes on her!). On video, I guess you can fast-forward thru the banality, but it\\'s not really worth the effort. The nudity doesn\\'t go beyond what is seen in something much more substantive such as Bertolucci\\'s THE DREAMERS.<br /><br />Try as one might to find some \\'moral\\' or \\'symbolism\\' in the carnality, I doubt it\\'s worthy of anyone\\'s effort. Unfortunately, for LA BETE, now that you can more easily see the film, the notoriety of something once \\'forbidden\\' has been lifted. And this beast has been tamed.', 'label': 0}\n"
          ]
        }
      ],
      "source": [
        "train_data, test_data = datasets.load_dataset('imdb', split =['train', 'test'], \n",
        "                                            cache_dir='./data/')\n",
        "# train_data_dev, test_data_dev = train_data.select([0, 10, 20, 30, 40, 50]), test_data.select([0, 10, 20, 30, 40, 50])\n",
        "# num_dev = 25000\n",
        "# num_dev_test = 1000\n",
        "# train_data_dev, test_data_dev = train_data.select(list(np.random.randint(len(train_data), size=num_dev))), test_data.select(list(np.random.randint(len(test_data), size=num_dev_test)))\n",
        "print(train_data_dev[0])"
      ],
      "id": "97537cda-bdea-46ad-a753-b865385901e1"
    },
    {
      "cell_type": "code",
      "execution_count": 28,
      "metadata": {
        "id": "a0823a32-4ea2-4e5f-93ad-0688c5ab36ec",
        "colab": {
          "base_uri": "https://localhost:8080/"
        },
        "outputId": "5b690655-6b82-4f2b-8fca-42e06971db43"
      },
      "outputs": [
        {
          "output_type": "stream",
          "name": "stdout",
          "text": [
            "12500\n",
            "12500\n",
            "[12500, 12501, 12502, 12503, 12504]\n",
            "[0, 1, 2, 3, 4]\n"
          ]
        }
      ],
      "source": [
        "counter = 0\n",
        "# # print(type(train_data_dev))\n",
        "# # for data in train_data_dev:\n",
        "# #   if counter>0:\n",
        "# #     break\n",
        "# #   counter+=1\n",
        "\n",
        "# #   print(type(data))\n",
        "# train_data_dev[12683]\n",
        "label_zero = []\n",
        "label_one = []\n",
        "for i, data in enumerate(train_data):\n",
        "  if data[\"label\"] == 0:\n",
        "    label_zero.append(i)\n",
        "  if data[\"label\"] == 1:\n",
        "    label_one.append(i)\n",
        "sampled_zero = []"
      ],
      "id": "a0823a32-4ea2-4e5f-93ad-0688c5ab36ec"
    },
    {
      "cell_type": "code",
      "execution_count": 22,
      "metadata": {
        "id": "007826ba-4ae3-4b0a-8535-2766f03d5e3b",
        "colab": {
          "base_uri": "https://localhost:8080/"
        },
        "outputId": "358c2175-d9bd-40b6-d29a-1bb29a727a3f"
      },
      "outputs": [
        {
          "output_type": "execute_result",
          "data": {
            "text/plain": [
              "array([12683, 12895,  2110, ..., 18157, 20779,  7740])"
            ]
          },
          "metadata": {},
          "execution_count": 22
        }
      ],
      "source": [
        "np.random.randint(len(train_data), size=num_dev)"
      ],
      "id": "007826ba-4ae3-4b0a-8535-2766f03d5e3b"
    },
    {
      "cell_type": "code",
      "execution_count": 34,
      "metadata": {
        "id": "c0d22b65-40b4-4eee-a8da-19a613760023"
      },
      "outputs": [],
      "source": [
        "sampled_zero = list(np.random.choice(label_zero, size=500, replace=False))"
      ],
      "id": "c0d22b65-40b4-4eee-a8da-19a613760023"
    },
    {
      "cell_type": "code",
      "execution_count": 35,
      "metadata": {
        "id": "c6e7e62d-3215-4725-8646-43ffbfe3e583",
        "colab": {
          "base_uri": "https://localhost:8080/"
        },
        "outputId": "06b2ca9f-128c-4db7-f5a6-c57903cd9639"
      },
      "outputs": [
        {
          "output_type": "stream",
          "name": "stdout",
          "text": [
            "500\n"
          ]
        }
      ],
      "source": [
        "print(len(sampled_zero))\n"
      ],
      "id": "c6e7e62d-3215-4725-8646-43ffbfe3e583"
    },
    {
      "cell_type": "code",
      "execution_count": 36,
      "metadata": {
        "id": "a9160e59-5147-420c-b6de-bab805e1a1fc"
      },
      "outputs": [],
      "source": [
        "sampled_ones = list(np.random.choice(label_one,size = 500,replace=False))"
      ],
      "id": "a9160e59-5147-420c-b6de-bab805e1a1fc"
    },
    {
      "cell_type": "code",
      "execution_count": 37,
      "metadata": {
        "id": "340977ee-936c-422a-a956-c90829beb195",
        "colab": {
          "base_uri": "https://localhost:8080/"
        },
        "outputId": "94813eda-f61c-4144-9e60-7b253b204f2b"
      },
      "outputs": [
        {
          "output_type": "stream",
          "name": "stdout",
          "text": [
            "500\n"
          ]
        }
      ],
      "source": [
        "print(len(sampled_ones))"
      ],
      "id": "340977ee-936c-422a-a956-c90829beb195"
    },
    {
      "cell_type": "code",
      "execution_count": 38,
      "metadata": {
        "id": "4abbe8f9-3f86-4710-a627-e5175896e4cf"
      },
      "outputs": [],
      "source": [
        "sampled_ones.extend(sampled_zero)"
      ],
      "id": "4abbe8f9-3f86-4710-a627-e5175896e4cf"
    },
    {
      "cell_type": "code",
      "execution_count": 39,
      "metadata": {
        "id": "kTxqOzkih6m8",
        "colab": {
          "base_uri": "https://localhost:8080/"
        },
        "outputId": "740aa7da-2cff-4654-d0f8-87f7837e92ac"
      },
      "outputs": [
        {
          "output_type": "stream",
          "name": "stdout",
          "text": [
            "1000\n"
          ]
        }
      ],
      "source": [
        "print(len(sampled_ones))"
      ],
      "id": "kTxqOzkih6m8"
    },
    {
      "cell_type": "code",
      "execution_count": 40,
      "metadata": {
        "id": "lWfId1Ujh9cy",
        "colab": {
          "base_uri": "https://localhost:8080/"
        },
        "outputId": "9f1f15d3-d399-4b78-9773-c24c9175afc7"
      },
      "outputs": [
        {
          "output_type": "stream",
          "name": "stdout",
          "text": [
            "[14908, 16444, 22448, 20988, 12562, 17040, 23732, 21253, 15045, 23622, 24796, 22980, 24941, 15323, 19398, 13151, 14704, 20623, 15738, 22572, 17717, 16138, 24947, 16912, 18820, 17788, 21807, 16047, 24702, 14889, 22110, 17932, 15408, 19469, 15640, 23286, 19596, 15627, 17862, 21764, 20048, 23757, 14106, 16537, 21096, 21035, 17752, 20593, 24593, 15848, 14454, 16327, 23433, 20218, 18428, 23098, 21271, 12990, 14561, 23971, 18696, 19835, 20506, 17269, 13101, 13763, 15523, 12622, 24040, 12871, 21747, 13041, 19169, 22726, 14427, 17008, 19991, 19587, 22042, 21245, 19679, 18400, 19549, 21181, 17963, 12887, 13525, 13750, 22243, 21217, 21442, 20516, 12659, 13928, 17033, 21564, 12760, 15030, 13714, 13590, 20892, 17937, 20339, 13284, 23769, 16100, 15424, 14993, 18720, 20068, 20423, 15710, 13325, 17189, 16108, 18459, 13887, 18888, 13299, 23473, 19598, 14626, 24865, 24235, 15536, 13184, 17908, 18208, 24286, 17880, 22223, 13743, 16899, 19626, 13787, 17891, 16954, 19844, 15825, 12769, 23445, 21346, 16996, 20421, 23007, 17092, 21950, 21424, 16348, 12959, 21582, 22656, 14358, 18143, 17085, 23579, 16226, 13484, 23215, 19913, 24546, 20883, 13056, 17217, 16792, 17892, 23183, 22534, 18306, 17591, 15548, 15438, 18729, 22276, 12730, 24665, 13416, 12983, 20675, 12542, 22773, 17990, 20699, 24544, 23834, 24910, 18370, 13291, 19938, 17867, 24462, 19914, 24838, 16982, 19622, 14244, 24056, 19866, 22723, 23346, 20102, 16384, 24358, 18893, 24687, 12785, 12873, 14052, 13201, 14257, 21690, 17282, 15088, 19623, 20994, 16491, 19923, 21404, 18190, 20302, 15200, 13304, 20154, 21856, 20560, 13520, 22922, 18849, 15792, 24065, 23004, 17281, 16211, 24834, 20936, 17388, 17036, 22720, 21313, 19143, 15370, 12817, 22839, 12911, 19614, 24943, 14612, 23038, 19162, 19533, 13561, 19535, 20694, 14359, 12655, 12561, 20187, 20288, 20354, 13556, 16646, 16584, 24453, 17373, 19868, 21150, 23600, 22416, 21421, 22126, 15069, 20298, 24249, 18426, 22892, 22678, 19102, 20678, 22214, 24935, 23256, 20315, 18776, 13332, 23986, 15861, 17951, 13957, 12634, 20238, 13847, 23530, 16066, 15764, 14022, 19094, 14468, 19121, 23275, 18020, 20021, 22034, 18680, 24439, 16379, 20793, 23466, 14355, 19664, 24336, 15744, 15644, 22203, 21112, 21608, 13271, 14397, 24360, 21053, 17858, 22382, 22268, 13961, 18397, 14629, 13982, 21367, 20002, 24243, 14323, 23941, 18900, 23933, 20402, 13024, 22931, 15082, 24806, 21840, 16965, 21422, 14548, 21691, 13637, 20020, 15358, 24189, 24949, 23540, 20820, 23712, 12762, 22682, 22967, 22255, 24557, 23874, 19899, 24600, 20348, 13092, 22163, 16031, 15384, 13774, 17474, 17729, 19571, 18404, 13348, 22953, 23716, 15756, 15362, 15684, 13551, 19475, 23812, 13069, 16568, 18984, 19980, 17041, 22732, 21600, 24836, 17273, 23289, 17903, 13793, 15398, 20633, 12902, 17905, 19919, 14864, 16300, 21574, 13392, 21195, 23985, 17179, 16284, 18062, 19646, 15414, 12709, 20718, 17462, 24653, 22090, 13862, 19335, 22412, 19566, 18935, 13180, 14748, 21851, 13259, 13711, 20165, 16820, 20519, 13605, 24839, 21207, 16343, 19126, 19783, 22476, 21992, 19369, 15854, 24042, 17761, 18891, 18037, 24741, 20634, 13257, 16499, 23980, 18889, 13604, 23294, 14651, 21011, 23739, 18613, 21599, 23884, 20083, 23921, 23909, 22999, 22004, 20464, 21651, 19391, 12968, 22364, 13731, 17663, 12781, 16621, 20337, 20458, 22394, 24896, 15940, 13328, 23090, 20921, 24519, 17105, 22699, 15534, 17516, 24674, 23393, 20407, 23597, 21360, 22387, 13693, 12834, 19855, 16386, 20774, 24704, 24342, 16735, 21724, 15393, 19033, 21576, 14589, 22988, 19024, 475, 8377, 8290, 2708, 8308, 11126, 10303, 11238, 2100, 6314, 7471, 1765, 4979, 8292, 2320, 1640, 8228, 2644, 6792, 10292, 9957, 716, 11689, 10555, 8304, 4156, 5447, 1057, 7006, 15, 2301, 9694, 5948, 9768, 2562, 8599, 2723, 5717, 4451, 10029, 3491, 10357, 1340, 10999, 4899, 1747, 3181, 8092, 4553, 12424, 2835, 2367, 11569, 5332, 7289, 10106, 8264, 4326, 9843, 1112, 3733, 6378, 7597, 11436, 5242, 5522, 11230, 5472, 4559, 11193, 7965, 5665, 5805, 6348, 4023, 9311, 573, 4704, 12452, 1123, 10934, 5177, 3, 1039, 4337, 10853, 4320, 11032, 1668, 12300, 1275, 2468, 1708, 9358, 1173, 8177, 10284, 5442, 2238, 8839, 9844, 6237, 7445, 8560, 12478, 7108, 8494, 2248, 10277, 6357, 5141, 1653, 3720, 10074, 11117, 11386, 8051, 4497, 5721, 3361, 164, 2226, 8492, 1532, 2716, 7188, 9216, 1406, 6770, 9129, 3966, 9979, 1126, 2252, 5373, 6586, 10219, 6571, 5196, 10097, 11250, 11712, 4379, 5334, 8039, 7084, 2652, 4322, 7970, 5521, 2704, 10477, 7165, 7474, 4274, 4914, 7376, 7598, 11318, 7082, 10422, 9687, 7519, 289, 332, 12031, 8834, 9575, 7260, 316, 5958, 4715, 1669, 2374, 8435, 6322, 10986, 12321, 3548, 3734, 3334, 5868, 12227, 8430, 6982, 812, 10453, 1580, 9766, 5988, 6863, 2802, 3589, 8407, 9907, 3937, 7344, 2814, 10438, 12449, 9580, 8565, 3683, 2800, 7401, 1937, 2914, 4398, 325, 8934, 1813, 1979, 8010, 9925, 12180, 3607, 7942, 11078, 12265, 11224, 3025, 9457, 4816, 9242, 4843, 6306, 6733, 6351, 10088, 7121, 5768, 10480, 5499, 3431, 10204, 2785, 5811, 2592, 12264, 10038, 1949, 5631, 3153, 2928, 1364, 5218, 3517, 7358, 9159, 5915, 7441, 7948, 10222, 5027, 7267, 3655, 9353, 3489, 10409, 1745, 11874, 4131, 5180, 10379, 1402, 10753, 9064, 924, 650, 3475, 352, 1634, 5634, 3881, 11921, 7510, 406, 2037, 10790, 7793, 6101, 882, 7726, 8787, 4033, 1296, 8189, 3001, 9849, 11632, 3131, 11925, 806, 2117, 10998, 12033, 8295, 7906, 10018, 4797, 1629, 7076, 902, 10937, 10141, 7593, 7832, 7747, 8833, 1722, 10128, 10706, 4360, 8104, 5902, 3479, 11253, 1738, 1254, 5065, 9922, 1256, 5968, 9678, 852, 1859, 11966, 4381, 11682, 4569, 11760, 9253, 4473, 11621, 12437, 985, 2403, 9015, 979, 2980, 8372, 9468, 1181, 5703, 11181, 374, 1355, 4329, 6842, 9088, 6264, 4272, 343, 5828, 3916, 2096, 8898, 7304, 6562, 9654, 2029, 5773, 7168, 6333, 664, 9351, 11477, 4017, 4691, 4312, 10725, 9204, 11789, 10346, 6784, 185, 789, 6347, 10792, 3184, 7549, 7127, 11450, 5148, 7684, 1863, 872, 5745, 12133, 12238, 1325, 3859, 9346, 12010, 4582, 1802, 9666, 4201, 939, 11085, 2135, 1571, 1927, 6824, 1073, 4692, 2597, 3753, 10911, 2118, 1810, 10439, 8616, 3606, 7284, 2032, 1737, 2317, 2488, 11016, 7068, 4635, 4713, 5296, 12220, 11055, 4449, 6309, 12384, 7421, 8203, 9117, 1678, 7764, 10887, 2373, 9977, 9424, 1233, 5562, 2127, 2726, 6761, 527, 2589, 11544, 10773, 5593, 1521, 10524, 4365, 3546, 11419, 10394, 10626, 4089, 7104, 6889, 1020, 9177, 10095, 9299, 11449, 12373, 318, 8114, 166, 1778, 11661, 3054, 10019, 1079, 9329, 3955, 4762, 2558, 10021, 4351, 11239, 8972, 9686, 6867, 6786, 8792, 1651, 10186, 11164, 5098, 1676, 4078, 6481, 10152, 10502, 5879, 10331, 2675, 5716, 743, 5146, 5033]\n"
          ]
        }
      ],
      "source": [
        "print(sampled_ones)"
      ],
      "id": "lWfId1Ujh9cy"
    },
    {
      "cell_type": "code",
      "source": [
        "train_data_dev= train_data.select(sampled_ones)"
      ],
      "metadata": {
        "id": "9S-NBWAmjcSv"
      },
      "id": "9S-NBWAmjcSv",
      "execution_count": 41,
      "outputs": []
    },
    {
      "cell_type": "code",
      "source": [
        "import pickle\n",
        "import io"
      ],
      "metadata": {
        "id": "CRWnrlBckg_K"
      },
      "id": "CRWnrlBckg_K",
      "execution_count": 46,
      "outputs": []
    },
    {
      "cell_type": "code",
      "source": [
        "number_of_zeros = 0\n",
        "number_of_ones = 0\n",
        "for data in train_data_dev:\n",
        "  if data[\"label\"] == 0:\n",
        "    number_of_zeros+=1\n",
        "  else:\n",
        "    number_of_ones+=1\n",
        "\n",
        "assert number_of_zeros == number_of_ones"
      ],
      "metadata": {
        "id": "ij4hCsU5jul4"
      },
      "id": "ij4hCsU5jul4",
      "execution_count": 45,
      "outputs": []
    },
    {
      "cell_type": "code",
      "source": [
        "pickleBuffer = io.BytesIO()"
      ],
      "metadata": {
        "id": "bs-VoDzJkGCq"
      },
      "id": "bs-VoDzJkGCq",
      "execution_count": 47,
      "outputs": []
    },
    {
      "cell_type": "code",
      "source": [
        "pickle.dump(train_data_dev,pickleBuffer)"
      ],
      "metadata": {
        "id": "gWV2CMmTksBi"
      },
      "id": "gWV2CMmTksBi",
      "execution_count": 48,
      "outputs": []
    },
    {
      "cell_type": "code",
      "source": [
        "with open('mypickle.pickle', 'wb') as f:\n",
        "    pickle.dump(train_data_dev, f)"
      ],
      "metadata": {
        "id": "ag4_nHEzkwpk"
      },
      "id": "ag4_nHEzkwpk",
      "execution_count": 49,
      "outputs": []
    },
    {
      "cell_type": "code",
      "source": [
        ""
      ],
      "metadata": {
        "id": "QSY9anohk_4G"
      },
      "id": "QSY9anohk_4G",
      "execution_count": null,
      "outputs": []
    }
  ],
  "metadata": {
    "accelerator": "GPU",
    "colab": {
      "name": "Data_filter.ipynb",
      "provenance": []
    },
    "kernelspec": {
      "display_name": "Python 3",
      "name": "python3"
    },
    "language_info": {
      "name": "python"
    },
    "widgets": {
      "application/vnd.jupyter.widget-state+json": {
        "5c4e0ba70bcd4a1ba0a9006420dd181e": {
          "model_module": "@jupyter-widgets/controls",
          "model_name": "HBoxModel",
          "model_module_version": "1.5.0",
          "state": {
            "_dom_classes": [],
            "_model_module": "@jupyter-widgets/controls",
            "_model_module_version": "1.5.0",
            "_model_name": "HBoxModel",
            "_view_count": null,
            "_view_module": "@jupyter-widgets/controls",
            "_view_module_version": "1.5.0",
            "_view_name": "HBoxView",
            "box_style": "",
            "children": [
              "IPY_MODEL_6ef9686d8faa459eaa78a500ca08dc43",
              "IPY_MODEL_c80fe22821194751b3f7a10a46b4e21e",
              "IPY_MODEL_7ba5140250d64146a6cea6f9c8348e30"
            ],
            "layout": "IPY_MODEL_b19d66f5eb5846ad87783e9356c33b91"
          }
        },
        "6ef9686d8faa459eaa78a500ca08dc43": {
          "model_module": "@jupyter-widgets/controls",
          "model_name": "HTMLModel",
          "model_module_version": "1.5.0",
          "state": {
            "_dom_classes": [],
            "_model_module": "@jupyter-widgets/controls",
            "_model_module_version": "1.5.0",
            "_model_name": "HTMLModel",
            "_view_count": null,
            "_view_module": "@jupyter-widgets/controls",
            "_view_module_version": "1.5.0",
            "_view_name": "HTMLView",
            "description": "",
            "description_tooltip": null,
            "layout": "IPY_MODEL_ecce5527e21b4c97858505501d419756",
            "placeholder": "​",
            "style": "IPY_MODEL_1debdcf8a4b64e629b53417595e29fb5",
            "value": "100%"
          }
        },
        "c80fe22821194751b3f7a10a46b4e21e": {
          "model_module": "@jupyter-widgets/controls",
          "model_name": "FloatProgressModel",
          "model_module_version": "1.5.0",
          "state": {
            "_dom_classes": [],
            "_model_module": "@jupyter-widgets/controls",
            "_model_module_version": "1.5.0",
            "_model_name": "FloatProgressModel",
            "_view_count": null,
            "_view_module": "@jupyter-widgets/controls",
            "_view_module_version": "1.5.0",
            "_view_name": "ProgressView",
            "bar_style": "success",
            "description": "",
            "description_tooltip": null,
            "layout": "IPY_MODEL_290e29c476374caa98008fb9504688dc",
            "max": 2,
            "min": 0,
            "orientation": "horizontal",
            "style": "IPY_MODEL_86f999cdc8d74e6ab14d5edd10cd6fe8",
            "value": 2
          }
        },
        "7ba5140250d64146a6cea6f9c8348e30": {
          "model_module": "@jupyter-widgets/controls",
          "model_name": "HTMLModel",
          "model_module_version": "1.5.0",
          "state": {
            "_dom_classes": [],
            "_model_module": "@jupyter-widgets/controls",
            "_model_module_version": "1.5.0",
            "_model_name": "HTMLModel",
            "_view_count": null,
            "_view_module": "@jupyter-widgets/controls",
            "_view_module_version": "1.5.0",
            "_view_name": "HTMLView",
            "description": "",
            "description_tooltip": null,
            "layout": "IPY_MODEL_21d4fb2246d14284b0a5720b0fffa706",
            "placeholder": "​",
            "style": "IPY_MODEL_7ef1bce767624e8588bf00cbec541c1e",
            "value": " 2/2 [00:00&lt;00:00, 56.62it/s]"
          }
        },
        "b19d66f5eb5846ad87783e9356c33b91": {
          "model_module": "@jupyter-widgets/base",
          "model_name": "LayoutModel",
          "model_module_version": "1.2.0",
          "state": {
            "_model_module": "@jupyter-widgets/base",
            "_model_module_version": "1.2.0",
            "_model_name": "LayoutModel",
            "_view_count": null,
            "_view_module": "@jupyter-widgets/base",
            "_view_module_version": "1.2.0",
            "_view_name": "LayoutView",
            "align_content": null,
            "align_items": null,
            "align_self": null,
            "border": null,
            "bottom": null,
            "display": null,
            "flex": null,
            "flex_flow": null,
            "grid_area": null,
            "grid_auto_columns": null,
            "grid_auto_flow": null,
            "grid_auto_rows": null,
            "grid_column": null,
            "grid_gap": null,
            "grid_row": null,
            "grid_template_areas": null,
            "grid_template_columns": null,
            "grid_template_rows": null,
            "height": null,
            "justify_content": null,
            "justify_items": null,
            "left": null,
            "margin": null,
            "max_height": null,
            "max_width": null,
            "min_height": null,
            "min_width": null,
            "object_fit": null,
            "object_position": null,
            "order": null,
            "overflow": null,
            "overflow_x": null,
            "overflow_y": null,
            "padding": null,
            "right": null,
            "top": null,
            "visibility": null,
            "width": null
          }
        },
        "ecce5527e21b4c97858505501d419756": {
          "model_module": "@jupyter-widgets/base",
          "model_name": "LayoutModel",
          "model_module_version": "1.2.0",
          "state": {
            "_model_module": "@jupyter-widgets/base",
            "_model_module_version": "1.2.0",
            "_model_name": "LayoutModel",
            "_view_count": null,
            "_view_module": "@jupyter-widgets/base",
            "_view_module_version": "1.2.0",
            "_view_name": "LayoutView",
            "align_content": null,
            "align_items": null,
            "align_self": null,
            "border": null,
            "bottom": null,
            "display": null,
            "flex": null,
            "flex_flow": null,
            "grid_area": null,
            "grid_auto_columns": null,
            "grid_auto_flow": null,
            "grid_auto_rows": null,
            "grid_column": null,
            "grid_gap": null,
            "grid_row": null,
            "grid_template_areas": null,
            "grid_template_columns": null,
            "grid_template_rows": null,
            "height": null,
            "justify_content": null,
            "justify_items": null,
            "left": null,
            "margin": null,
            "max_height": null,
            "max_width": null,
            "min_height": null,
            "min_width": null,
            "object_fit": null,
            "object_position": null,
            "order": null,
            "overflow": null,
            "overflow_x": null,
            "overflow_y": null,
            "padding": null,
            "right": null,
            "top": null,
            "visibility": null,
            "width": null
          }
        },
        "1debdcf8a4b64e629b53417595e29fb5": {
          "model_module": "@jupyter-widgets/controls",
          "model_name": "DescriptionStyleModel",
          "model_module_version": "1.5.0",
          "state": {
            "_model_module": "@jupyter-widgets/controls",
            "_model_module_version": "1.5.0",
            "_model_name": "DescriptionStyleModel",
            "_view_count": null,
            "_view_module": "@jupyter-widgets/base",
            "_view_module_version": "1.2.0",
            "_view_name": "StyleView",
            "description_width": ""
          }
        },
        "290e29c476374caa98008fb9504688dc": {
          "model_module": "@jupyter-widgets/base",
          "model_name": "LayoutModel",
          "model_module_version": "1.2.0",
          "state": {
            "_model_module": "@jupyter-widgets/base",
            "_model_module_version": "1.2.0",
            "_model_name": "LayoutModel",
            "_view_count": null,
            "_view_module": "@jupyter-widgets/base",
            "_view_module_version": "1.2.0",
            "_view_name": "LayoutView",
            "align_content": null,
            "align_items": null,
            "align_self": null,
            "border": null,
            "bottom": null,
            "display": null,
            "flex": null,
            "flex_flow": null,
            "grid_area": null,
            "grid_auto_columns": null,
            "grid_auto_flow": null,
            "grid_auto_rows": null,
            "grid_column": null,
            "grid_gap": null,
            "grid_row": null,
            "grid_template_areas": null,
            "grid_template_columns": null,
            "grid_template_rows": null,
            "height": null,
            "justify_content": null,
            "justify_items": null,
            "left": null,
            "margin": null,
            "max_height": null,
            "max_width": null,
            "min_height": null,
            "min_width": null,
            "object_fit": null,
            "object_position": null,
            "order": null,
            "overflow": null,
            "overflow_x": null,
            "overflow_y": null,
            "padding": null,
            "right": null,
            "top": null,
            "visibility": null,
            "width": null
          }
        },
        "86f999cdc8d74e6ab14d5edd10cd6fe8": {
          "model_module": "@jupyter-widgets/controls",
          "model_name": "ProgressStyleModel",
          "model_module_version": "1.5.0",
          "state": {
            "_model_module": "@jupyter-widgets/controls",
            "_model_module_version": "1.5.0",
            "_model_name": "ProgressStyleModel",
            "_view_count": null,
            "_view_module": "@jupyter-widgets/base",
            "_view_module_version": "1.2.0",
            "_view_name": "StyleView",
            "bar_color": null,
            "description_width": ""
          }
        },
        "21d4fb2246d14284b0a5720b0fffa706": {
          "model_module": "@jupyter-widgets/base",
          "model_name": "LayoutModel",
          "model_module_version": "1.2.0",
          "state": {
            "_model_module": "@jupyter-widgets/base",
            "_model_module_version": "1.2.0",
            "_model_name": "LayoutModel",
            "_view_count": null,
            "_view_module": "@jupyter-widgets/base",
            "_view_module_version": "1.2.0",
            "_view_name": "LayoutView",
            "align_content": null,
            "align_items": null,
            "align_self": null,
            "border": null,
            "bottom": null,
            "display": null,
            "flex": null,
            "flex_flow": null,
            "grid_area": null,
            "grid_auto_columns": null,
            "grid_auto_flow": null,
            "grid_auto_rows": null,
            "grid_column": null,
            "grid_gap": null,
            "grid_row": null,
            "grid_template_areas": null,
            "grid_template_columns": null,
            "grid_template_rows": null,
            "height": null,
            "justify_content": null,
            "justify_items": null,
            "left": null,
            "margin": null,
            "max_height": null,
            "max_width": null,
            "min_height": null,
            "min_width": null,
            "object_fit": null,
            "object_position": null,
            "order": null,
            "overflow": null,
            "overflow_x": null,
            "overflow_y": null,
            "padding": null,
            "right": null,
            "top": null,
            "visibility": null,
            "width": null
          }
        },
        "7ef1bce767624e8588bf00cbec541c1e": {
          "model_module": "@jupyter-widgets/controls",
          "model_name": "DescriptionStyleModel",
          "model_module_version": "1.5.0",
          "state": {
            "_model_module": "@jupyter-widgets/controls",
            "_model_module_version": "1.5.0",
            "_model_name": "DescriptionStyleModel",
            "_view_count": null,
            "_view_module": "@jupyter-widgets/base",
            "_view_module_version": "1.2.0",
            "_view_name": "StyleView",
            "description_width": ""
          }
        }
      }
    }
  },
  "nbformat": 4,
  "nbformat_minor": 5
}
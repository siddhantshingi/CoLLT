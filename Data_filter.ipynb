{
  "cells": [
    {
      "cell_type": "code",
      "execution_count": 3,
      "metadata": {
        "colab": {
          "base_uri": "https://localhost:8080/"
        },
        "id": "ee232c84-94ee-4e82-bb30-fc2c893764c6",
        "outputId": "0315f4de-4d7a-4f3a-9dc3-e0b22a51e3b7"
      },
      "outputs": [
        {
          "output_type": "stream",
          "name": "stdout",
          "text": [
            "Requirement already satisfied: torch in /usr/local/lib/python3.7/dist-packages (1.11.0+cu113)\n",
            "Requirement already satisfied: torchvision in /usr/local/lib/python3.7/dist-packages (0.12.0+cu113)\n",
            "Requirement already satisfied: torchaudio in /usr/local/lib/python3.7/dist-packages (0.11.0+cu113)\n",
            "Requirement already satisfied: typing-extensions in /usr/local/lib/python3.7/dist-packages (from torch) (4.2.0)\n",
            "Requirement already satisfied: pillow!=8.3.*,>=5.3.0 in /usr/local/lib/python3.7/dist-packages (from torchvision) (7.1.2)\n",
            "Requirement already satisfied: numpy in /usr/local/lib/python3.7/dist-packages (from torchvision) (1.21.6)\n",
            "Requirement already satisfied: requests in /usr/local/lib/python3.7/dist-packages (from torchvision) (2.23.0)\n",
            "Requirement already satisfied: certifi>=2017.4.17 in /usr/local/lib/python3.7/dist-packages (from requests->torchvision) (2021.10.8)\n",
            "Requirement already satisfied: chardet<4,>=3.0.2 in /usr/local/lib/python3.7/dist-packages (from requests->torchvision) (3.0.4)\n",
            "Requirement already satisfied: idna<3,>=2.5 in /usr/local/lib/python3.7/dist-packages (from requests->torchvision) (2.10)\n",
            "Requirement already satisfied: urllib3!=1.25.0,!=1.25.1,<1.26,>=1.21.1 in /usr/local/lib/python3.7/dist-packages (from requests->torchvision) (1.24.3)\n",
            "Requirement already satisfied: torchtext in /usr/local/lib/python3.7/dist-packages (0.12.0)\n",
            "Requirement already satisfied: torch==1.11.0 in /usr/local/lib/python3.7/dist-packages (from torchtext) (1.11.0+cu113)\n",
            "Requirement already satisfied: tqdm in /usr/local/lib/python3.7/dist-packages (from torchtext) (4.64.0)\n",
            "Requirement already satisfied: numpy in /usr/local/lib/python3.7/dist-packages (from torchtext) (1.21.6)\n",
            "Requirement already satisfied: requests in /usr/local/lib/python3.7/dist-packages (from torchtext) (2.23.0)\n",
            "Requirement already satisfied: typing-extensions in /usr/local/lib/python3.7/dist-packages (from torch==1.11.0->torchtext) (4.2.0)\n",
            "Requirement already satisfied: idna<3,>=2.5 in /usr/local/lib/python3.7/dist-packages (from requests->torchtext) (2.10)\n",
            "Requirement already satisfied: certifi>=2017.4.17 in /usr/local/lib/python3.7/dist-packages (from requests->torchtext) (2021.10.8)\n",
            "Requirement already satisfied: urllib3!=1.25.0,!=1.25.1,<1.26,>=1.21.1 in /usr/local/lib/python3.7/dist-packages (from requests->torchtext) (1.24.3)\n",
            "Requirement already satisfied: chardet<4,>=3.0.2 in /usr/local/lib/python3.7/dist-packages (from requests->torchtext) (3.0.4)\n",
            "Collecting pytorch-lightning-bolts\n",
            "  Downloading pytorch_lightning_bolts-0.3.2.post1-py3-none-any.whl (252 kB)\n",
            "\u001b[K     |████████████████████████████████| 252 kB 9.8 MB/s \n",
            "\u001b[?25hCollecting torchmetrics>=0.2.0\n",
            "  Downloading torchmetrics-0.8.2-py3-none-any.whl (409 kB)\n",
            "\u001b[K     |████████████████████████████████| 409 kB 39.6 MB/s \n",
            "\u001b[?25hCollecting pytorch-lightning>=1.1.1\n",
            "  Downloading pytorch_lightning-1.6.3-py3-none-any.whl (584 kB)\n",
            "\u001b[K     |████████████████████████████████| 584 kB 42.8 MB/s \n",
            "\u001b[?25hRequirement already satisfied: torch>=1.6 in /usr/local/lib/python3.7/dist-packages (from pytorch-lightning-bolts) (1.11.0+cu113)\n",
            "Requirement already satisfied: typing-extensions>=4.0.0 in /usr/local/lib/python3.7/dist-packages (from pytorch-lightning>=1.1.1->pytorch-lightning-bolts) (4.2.0)\n",
            "Collecting PyYAML>=5.4\n",
            "  Downloading PyYAML-6.0-cp37-cp37m-manylinux_2_5_x86_64.manylinux1_x86_64.manylinux_2_12_x86_64.manylinux2010_x86_64.whl (596 kB)\n",
            "\u001b[K     |████████████████████████████████| 596 kB 49.4 MB/s \n",
            "\u001b[?25hRequirement already satisfied: tensorboard>=2.2.0 in /usr/local/lib/python3.7/dist-packages (from pytorch-lightning>=1.1.1->pytorch-lightning-bolts) (2.8.0)\n",
            "Requirement already satisfied: numpy>=1.17.2 in /usr/local/lib/python3.7/dist-packages (from pytorch-lightning>=1.1.1->pytorch-lightning-bolts) (1.21.6)\n",
            "Collecting pyDeprecate<0.4.0,>=0.3.1\n",
            "  Downloading pyDeprecate-0.3.2-py3-none-any.whl (10 kB)\n",
            "Requirement already satisfied: packaging>=17.0 in /usr/local/lib/python3.7/dist-packages (from pytorch-lightning>=1.1.1->pytorch-lightning-bolts) (21.3)\n",
            "Requirement already satisfied: tqdm>=4.57.0 in /usr/local/lib/python3.7/dist-packages (from pytorch-lightning>=1.1.1->pytorch-lightning-bolts) (4.64.0)\n",
            "Collecting fsspec[http]!=2021.06.0,>=2021.05.0\n",
            "  Downloading fsspec-2022.3.0-py3-none-any.whl (136 kB)\n",
            "\u001b[K     |████████████████████████████████| 136 kB 29.5 MB/s \n",
            "\u001b[?25hCollecting aiohttp\n",
            "  Downloading aiohttp-3.8.1-cp37-cp37m-manylinux_2_5_x86_64.manylinux1_x86_64.manylinux_2_12_x86_64.manylinux2010_x86_64.whl (1.1 MB)\n",
            "\u001b[K     |████████████████████████████████| 1.1 MB 40.7 MB/s \n",
            "\u001b[?25hRequirement already satisfied: requests in /usr/local/lib/python3.7/dist-packages (from fsspec[http]!=2021.06.0,>=2021.05.0->pytorch-lightning>=1.1.1->pytorch-lightning-bolts) (2.23.0)\n",
            "Requirement already satisfied: pyparsing!=3.0.5,>=2.0.2 in /usr/local/lib/python3.7/dist-packages (from packaging>=17.0->pytorch-lightning>=1.1.1->pytorch-lightning-bolts) (3.0.8)\n",
            "Requirement already satisfied: werkzeug>=0.11.15 in /usr/local/lib/python3.7/dist-packages (from tensorboard>=2.2.0->pytorch-lightning>=1.1.1->pytorch-lightning-bolts) (1.0.1)\n",
            "Requirement already satisfied: tensorboard-data-server<0.7.0,>=0.6.0 in /usr/local/lib/python3.7/dist-packages (from tensorboard>=2.2.0->pytorch-lightning>=1.1.1->pytorch-lightning-bolts) (0.6.1)\n",
            "Requirement already satisfied: google-auth<3,>=1.6.3 in /usr/local/lib/python3.7/dist-packages (from tensorboard>=2.2.0->pytorch-lightning>=1.1.1->pytorch-lightning-bolts) (1.35.0)\n",
            "Requirement already satisfied: wheel>=0.26 in /usr/local/lib/python3.7/dist-packages (from tensorboard>=2.2.0->pytorch-lightning>=1.1.1->pytorch-lightning-bolts) (0.37.1)\n",
            "Requirement already satisfied: google-auth-oauthlib<0.5,>=0.4.1 in /usr/local/lib/python3.7/dist-packages (from tensorboard>=2.2.0->pytorch-lightning>=1.1.1->pytorch-lightning-bolts) (0.4.6)\n",
            "Requirement already satisfied: markdown>=2.6.8 in /usr/local/lib/python3.7/dist-packages (from tensorboard>=2.2.0->pytorch-lightning>=1.1.1->pytorch-lightning-bolts) (3.3.6)\n",
            "Requirement already satisfied: setuptools>=41.0.0 in /usr/local/lib/python3.7/dist-packages (from tensorboard>=2.2.0->pytorch-lightning>=1.1.1->pytorch-lightning-bolts) (57.4.0)\n",
            "Requirement already satisfied: tensorboard-plugin-wit>=1.6.0 in /usr/local/lib/python3.7/dist-packages (from tensorboard>=2.2.0->pytorch-lightning>=1.1.1->pytorch-lightning-bolts) (1.8.1)\n",
            "Requirement already satisfied: protobuf>=3.6.0 in /usr/local/lib/python3.7/dist-packages (from tensorboard>=2.2.0->pytorch-lightning>=1.1.1->pytorch-lightning-bolts) (3.17.3)\n",
            "Requirement already satisfied: absl-py>=0.4 in /usr/local/lib/python3.7/dist-packages (from tensorboard>=2.2.0->pytorch-lightning>=1.1.1->pytorch-lightning-bolts) (1.0.0)\n",
            "Requirement already satisfied: grpcio>=1.24.3 in /usr/local/lib/python3.7/dist-packages (from tensorboard>=2.2.0->pytorch-lightning>=1.1.1->pytorch-lightning-bolts) (1.44.0)\n",
            "Requirement already satisfied: six in /usr/local/lib/python3.7/dist-packages (from absl-py>=0.4->tensorboard>=2.2.0->pytorch-lightning>=1.1.1->pytorch-lightning-bolts) (1.15.0)\n",
            "Requirement already satisfied: pyasn1-modules>=0.2.1 in /usr/local/lib/python3.7/dist-packages (from google-auth<3,>=1.6.3->tensorboard>=2.2.0->pytorch-lightning>=1.1.1->pytorch-lightning-bolts) (0.2.8)\n",
            "Requirement already satisfied: cachetools<5.0,>=2.0.0 in /usr/local/lib/python3.7/dist-packages (from google-auth<3,>=1.6.3->tensorboard>=2.2.0->pytorch-lightning>=1.1.1->pytorch-lightning-bolts) (4.2.4)\n",
            "Requirement already satisfied: rsa<5,>=3.1.4 in /usr/local/lib/python3.7/dist-packages (from google-auth<3,>=1.6.3->tensorboard>=2.2.0->pytorch-lightning>=1.1.1->pytorch-lightning-bolts) (4.8)\n",
            "Requirement already satisfied: requests-oauthlib>=0.7.0 in /usr/local/lib/python3.7/dist-packages (from google-auth-oauthlib<0.5,>=0.4.1->tensorboard>=2.2.0->pytorch-lightning>=1.1.1->pytorch-lightning-bolts) (1.3.1)\n",
            "Requirement already satisfied: importlib-metadata>=4.4 in /usr/local/lib/python3.7/dist-packages (from markdown>=2.6.8->tensorboard>=2.2.0->pytorch-lightning>=1.1.1->pytorch-lightning-bolts) (4.11.3)\n",
            "Requirement already satisfied: zipp>=0.5 in /usr/local/lib/python3.7/dist-packages (from importlib-metadata>=4.4->markdown>=2.6.8->tensorboard>=2.2.0->pytorch-lightning>=1.1.1->pytorch-lightning-bolts) (3.8.0)\n",
            "Requirement already satisfied: pyasn1<0.5.0,>=0.4.6 in /usr/local/lib/python3.7/dist-packages (from pyasn1-modules>=0.2.1->google-auth<3,>=1.6.3->tensorboard>=2.2.0->pytorch-lightning>=1.1.1->pytorch-lightning-bolts) (0.4.8)\n",
            "Requirement already satisfied: chardet<4,>=3.0.2 in /usr/local/lib/python3.7/dist-packages (from requests->fsspec[http]!=2021.06.0,>=2021.05.0->pytorch-lightning>=1.1.1->pytorch-lightning-bolts) (3.0.4)\n",
            "Requirement already satisfied: idna<3,>=2.5 in /usr/local/lib/python3.7/dist-packages (from requests->fsspec[http]!=2021.06.0,>=2021.05.0->pytorch-lightning>=1.1.1->pytorch-lightning-bolts) (2.10)\n",
            "Requirement already satisfied: urllib3!=1.25.0,!=1.25.1,<1.26,>=1.21.1 in /usr/local/lib/python3.7/dist-packages (from requests->fsspec[http]!=2021.06.0,>=2021.05.0->pytorch-lightning>=1.1.1->pytorch-lightning-bolts) (1.24.3)\n",
            "Requirement already satisfied: certifi>=2017.4.17 in /usr/local/lib/python3.7/dist-packages (from requests->fsspec[http]!=2021.06.0,>=2021.05.0->pytorch-lightning>=1.1.1->pytorch-lightning-bolts) (2021.10.8)\n",
            "Requirement already satisfied: oauthlib>=3.0.0 in /usr/local/lib/python3.7/dist-packages (from requests-oauthlib>=0.7.0->google-auth-oauthlib<0.5,>=0.4.1->tensorboard>=2.2.0->pytorch-lightning>=1.1.1->pytorch-lightning-bolts) (3.2.0)\n",
            "Requirement already satisfied: attrs>=17.3.0 in /usr/local/lib/python3.7/dist-packages (from aiohttp->fsspec[http]!=2021.06.0,>=2021.05.0->pytorch-lightning>=1.1.1->pytorch-lightning-bolts) (21.4.0)\n",
            "Collecting multidict<7.0,>=4.5\n",
            "  Downloading multidict-6.0.2-cp37-cp37m-manylinux_2_17_x86_64.manylinux2014_x86_64.whl (94 kB)\n",
            "\u001b[K     |████████████████████████████████| 94 kB 2.5 MB/s \n",
            "\u001b[?25hCollecting aiosignal>=1.1.2\n",
            "  Downloading aiosignal-1.2.0-py3-none-any.whl (8.2 kB)\n",
            "Requirement already satisfied: charset-normalizer<3.0,>=2.0 in /usr/local/lib/python3.7/dist-packages (from aiohttp->fsspec[http]!=2021.06.0,>=2021.05.0->pytorch-lightning>=1.1.1->pytorch-lightning-bolts) (2.0.12)\n",
            "Collecting frozenlist>=1.1.1\n",
            "  Downloading frozenlist-1.3.0-cp37-cp37m-manylinux_2_5_x86_64.manylinux1_x86_64.manylinux_2_17_x86_64.manylinux2014_x86_64.whl (144 kB)\n",
            "\u001b[K     |████████████████████████████████| 144 kB 50.8 MB/s \n",
            "\u001b[?25hCollecting async-timeout<5.0,>=4.0.0a3\n",
            "  Downloading async_timeout-4.0.2-py3-none-any.whl (5.8 kB)\n",
            "Collecting asynctest==0.13.0\n",
            "  Downloading asynctest-0.13.0-py3-none-any.whl (26 kB)\n",
            "Collecting yarl<2.0,>=1.0\n",
            "  Downloading yarl-1.7.2-cp37-cp37m-manylinux_2_5_x86_64.manylinux1_x86_64.manylinux_2_12_x86_64.manylinux2010_x86_64.whl (271 kB)\n",
            "\u001b[K     |████████████████████████████████| 271 kB 51.4 MB/s \n",
            "\u001b[?25hInstalling collected packages: multidict, frozenlist, yarl, asynctest, async-timeout, aiosignal, pyDeprecate, fsspec, aiohttp, torchmetrics, PyYAML, pytorch-lightning, pytorch-lightning-bolts\n",
            "  Attempting uninstall: PyYAML\n",
            "    Found existing installation: PyYAML 3.13\n",
            "    Uninstalling PyYAML-3.13:\n",
            "      Successfully uninstalled PyYAML-3.13\n",
            "Successfully installed PyYAML-6.0 aiohttp-3.8.1 aiosignal-1.2.0 async-timeout-4.0.2 asynctest-0.13.0 frozenlist-1.3.0 fsspec-2022.3.0 multidict-6.0.2 pyDeprecate-0.3.2 pytorch-lightning-1.6.3 pytorch-lightning-bolts-0.3.2.post1 torchmetrics-0.8.2 yarl-1.7.2\n"
          ]
        }
      ],
      "source": [
        "%pip install torch torchvision torchaudio\n",
        "%pip install torchtext\n",
        "%pip install pytorch-lightning-bolts"
      ],
      "id": "ee232c84-94ee-4e82-bb30-fc2c893764c6"
    },
    {
      "cell_type": "code",
      "execution_count": 4,
      "metadata": {
        "colab": {
          "base_uri": "https://localhost:8080/",
          "height": 1000
        },
        "id": "ecd709f3-1658-4920-9f34-a843c2ab63b6",
        "outputId": "a6979eb0-f96f-4606-d515-b010bc952728"
      },
      "outputs": [
        {
          "output_type": "stream",
          "name": "stdout",
          "text": [
            "Collecting datasets\n",
            "  Downloading datasets-2.2.1-py3-none-any.whl (342 kB)\n",
            "\u001b[K     |████████████████████████████████| 342 kB 9.6 MB/s \n",
            "\u001b[?25hRequirement already satisfied: requests>=2.19.0 in /usr/local/lib/python3.7/dist-packages (from datasets) (2.23.0)\n",
            "Requirement already satisfied: dill in /usr/local/lib/python3.7/dist-packages (from datasets) (0.3.4)\n",
            "Collecting huggingface-hub<1.0.0,>=0.1.0\n",
            "  Downloading huggingface_hub-0.6.0-py3-none-any.whl (84 kB)\n",
            "\u001b[K     |████████████████████████████████| 84 kB 2.9 MB/s \n",
            "\u001b[?25hRequirement already satisfied: aiohttp in /usr/local/lib/python3.7/dist-packages (from datasets) (3.8.1)\n",
            "Requirement already satisfied: pyarrow>=6.0.0 in /usr/local/lib/python3.7/dist-packages (from datasets) (6.0.1)\n",
            "Requirement already satisfied: numpy>=1.17 in /usr/local/lib/python3.7/dist-packages (from datasets) (1.21.6)\n",
            "Collecting responses<0.19\n",
            "  Downloading responses-0.18.0-py3-none-any.whl (38 kB)\n",
            "Requirement already satisfied: fsspec[http]>=2021.05.0 in /usr/local/lib/python3.7/dist-packages (from datasets) (2022.3.0)\n",
            "Collecting xxhash\n",
            "  Downloading xxhash-3.0.0-cp37-cp37m-manylinux_2_17_x86_64.manylinux2014_x86_64.whl (212 kB)\n",
            "\u001b[K     |████████████████████████████████| 212 kB 46.8 MB/s \n",
            "\u001b[?25hRequirement already satisfied: multiprocess in /usr/local/lib/python3.7/dist-packages (from datasets) (0.70.12.2)\n",
            "Requirement already satisfied: importlib-metadata in /usr/local/lib/python3.7/dist-packages (from datasets) (4.11.3)\n",
            "Requirement already satisfied: tqdm>=4.62.1 in /usr/local/lib/python3.7/dist-packages (from datasets) (4.64.0)\n",
            "Requirement already satisfied: packaging in /usr/local/lib/python3.7/dist-packages (from datasets) (21.3)\n",
            "Requirement already satisfied: pandas in /usr/local/lib/python3.7/dist-packages (from datasets) (1.3.5)\n",
            "Requirement already satisfied: pyyaml in /usr/local/lib/python3.7/dist-packages (from huggingface-hub<1.0.0,>=0.1.0->datasets) (6.0)\n",
            "Requirement already satisfied: typing-extensions>=3.7.4.3 in /usr/local/lib/python3.7/dist-packages (from huggingface-hub<1.0.0,>=0.1.0->datasets) (4.2.0)\n",
            "Requirement already satisfied: filelock in /usr/local/lib/python3.7/dist-packages (from huggingface-hub<1.0.0,>=0.1.0->datasets) (3.6.0)\n",
            "Requirement already satisfied: pyparsing!=3.0.5,>=2.0.2 in /usr/local/lib/python3.7/dist-packages (from packaging->datasets) (3.0.8)\n",
            "Requirement already satisfied: certifi>=2017.4.17 in /usr/local/lib/python3.7/dist-packages (from requests>=2.19.0->datasets) (2021.10.8)\n",
            "Requirement already satisfied: urllib3!=1.25.0,!=1.25.1,<1.26,>=1.21.1 in /usr/local/lib/python3.7/dist-packages (from requests>=2.19.0->datasets) (1.24.3)\n",
            "Requirement already satisfied: idna<3,>=2.5 in /usr/local/lib/python3.7/dist-packages (from requests>=2.19.0->datasets) (2.10)\n",
            "Requirement already satisfied: chardet<4,>=3.0.2 in /usr/local/lib/python3.7/dist-packages (from requests>=2.19.0->datasets) (3.0.4)\n",
            "Collecting urllib3!=1.25.0,!=1.25.1,<1.26,>=1.21.1\n",
            "  Downloading urllib3-1.25.11-py2.py3-none-any.whl (127 kB)\n",
            "\u001b[K     |████████████████████████████████| 127 kB 52.4 MB/s \n",
            "\u001b[?25hRequirement already satisfied: aiosignal>=1.1.2 in /usr/local/lib/python3.7/dist-packages (from aiohttp->datasets) (1.2.0)\n",
            "Requirement already satisfied: charset-normalizer<3.0,>=2.0 in /usr/local/lib/python3.7/dist-packages (from aiohttp->datasets) (2.0.12)\n",
            "Requirement already satisfied: asynctest==0.13.0 in /usr/local/lib/python3.7/dist-packages (from aiohttp->datasets) (0.13.0)\n",
            "Requirement already satisfied: yarl<2.0,>=1.0 in /usr/local/lib/python3.7/dist-packages (from aiohttp->datasets) (1.7.2)\n",
            "Requirement already satisfied: attrs>=17.3.0 in /usr/local/lib/python3.7/dist-packages (from aiohttp->datasets) (21.4.0)\n",
            "Requirement already satisfied: multidict<7.0,>=4.5 in /usr/local/lib/python3.7/dist-packages (from aiohttp->datasets) (6.0.2)\n",
            "Requirement already satisfied: async-timeout<5.0,>=4.0.0a3 in /usr/local/lib/python3.7/dist-packages (from aiohttp->datasets) (4.0.2)\n",
            "Requirement already satisfied: frozenlist>=1.1.1 in /usr/local/lib/python3.7/dist-packages (from aiohttp->datasets) (1.3.0)\n",
            "Requirement already satisfied: zipp>=0.5 in /usr/local/lib/python3.7/dist-packages (from importlib-metadata->datasets) (3.8.0)\n",
            "Requirement already satisfied: pytz>=2017.3 in /usr/local/lib/python3.7/dist-packages (from pandas->datasets) (2022.1)\n",
            "Requirement already satisfied: python-dateutil>=2.7.3 in /usr/local/lib/python3.7/dist-packages (from pandas->datasets) (2.8.2)\n",
            "Requirement already satisfied: six>=1.5 in /usr/local/lib/python3.7/dist-packages (from python-dateutil>=2.7.3->pandas->datasets) (1.15.0)\n",
            "Installing collected packages: urllib3, xxhash, responses, huggingface-hub, datasets\n",
            "  Attempting uninstall: urllib3\n",
            "    Found existing installation: urllib3 1.24.3\n",
            "    Uninstalling urllib3-1.24.3:\n",
            "      Successfully uninstalled urllib3-1.24.3\n",
            "\u001b[31mERROR: pip's dependency resolver does not currently take into account all the packages that are installed. This behaviour is the source of the following dependency conflicts.\n",
            "datascience 0.10.6 requires folium==0.2.1, but you have folium 0.8.3 which is incompatible.\u001b[0m\n",
            "Successfully installed datasets-2.2.1 huggingface-hub-0.6.0 responses-0.18.0 urllib3-1.25.11 xxhash-3.0.0\n"
          ]
        },
        {
          "output_type": "display_data",
          "data": {
            "application/vnd.colab-display-data+json": {
              "pip_warning": {
                "packages": [
                  "urllib3"
                ]
              }
            }
          },
          "metadata": {}
        }
      ],
      "source": [
        "% pip install datasets"
      ],
      "id": "ecd709f3-1658-4920-9f34-a843c2ab63b6"
    },
    {
      "cell_type": "code",
      "execution_count": 5,
      "metadata": {
        "id": "51ba90aa-cb3b-47b0-8431-e8dffcc46bf9"
      },
      "outputs": [],
      "source": [
        "import datasets\n",
        "import numpy as np\n"
      ],
      "id": "51ba90aa-cb3b-47b0-8431-e8dffcc46bf9"
    },
    {
      "cell_type": "code",
      "execution_count": 7,
      "metadata": {
        "colab": {
          "base_uri": "https://localhost:8080/",
          "height": 66,
          "referenced_widgets": [
            "c05bf00065c84746b3a60f546a4c2a7d",
            "8e87cb3266a44a8e90bfaff6ec50f20e",
            "d714298483cf421d922fc4ad0ab40737",
            "35f873f1c4af43d48ad5bd7426c17b78",
            "8aff0fccb204424c819e9bd7a075cb8d",
            "e5fec691bd96476fbf73e18eff1ca993",
            "b000d22cab044ac28729594c160d01ab",
            "848a6e770b504feab0ee3fe51a94d278",
            "abfd11f6c57b4067bddd04c867e6f190",
            "a54c7a0d294a418299ce7234fb5e7dfb",
            "e50be0e26d9a42e0b69779119a99f83f"
          ]
        },
        "id": "97537cda-bdea-46ad-a753-b865385901e1",
        "outputId": "8ed8152b-f567-4d86-df5a-94a445ba45b5"
      },
      "outputs": [
        {
          "output_type": "stream",
          "name": "stderr",
          "text": [
            "Reusing dataset imdb (./data/imdb/plain_text/1.0.0/2fdd8b9bcadd6e7055e742a706876ba43f19faee861df134affd7a3f60fc38a1)\n"
          ]
        },
        {
          "output_type": "display_data",
          "data": {
            "text/plain": [
              "  0%|          | 0/2 [00:00<?, ?it/s]"
            ],
            "application/vnd.jupyter.widget-view+json": {
              "version_major": 2,
              "version_minor": 0,
              "model_id": "c05bf00065c84746b3a60f546a4c2a7d"
            }
          },
          "metadata": {}
        }
      ],
      "source": [
        "train_data, test_data = datasets.load_dataset('imdb', split =['train', 'test'], \n",
        "                                            cache_dir='./data/')\n",
        "# train_data_dev, test_data_dev = train_data.select([0, 10, 20, 30, 40, 50]), test_data.select([0, 10, 20, 30, 40, 50])\n",
        "# num_dev = 25000\n",
        "# num_dev_test = 1000\n",
        "# train_data_dev, test_data_dev = train_data.select(list(np.random.randint(len(train_data), size=num_dev))), test_data.select(list(np.random.randint(len(test_data), size=num_dev_test)))\n",
        "# print(train_data_dev[0])"
      ],
      "id": "97537cda-bdea-46ad-a753-b865385901e1"
    },
    {
      "cell_type": "code",
      "source": [
        ""
      ],
      "metadata": {
        "id": "5fNP_JX0YfZU"
      },
      "id": "5fNP_JX0YfZU",
      "execution_count": null,
      "outputs": []
    },
    {
      "cell_type": "code",
      "execution_count": 8,
      "metadata": {
        "id": "a0823a32-4ea2-4e5f-93ad-0688c5ab36ec"
      },
      "outputs": [],
      "source": [
        "counter = 0\n",
        "# # print(type(train_data_dev))\n",
        "# # for data in train_data_dev:\n",
        "# #   if counter>0:\n",
        "# #     break\n",
        "# #   counter+=1\n",
        "\n",
        "# #   print(type(data))\n",
        "# train_data_dev[12683]\n",
        "label_zero = []\n",
        "label_one = []\n",
        "for i, data in enumerate(train_data):\n",
        "  data_arr = data[\"text\"].split(\" \")\n",
        "  if len(data_arr)<512:\n",
        "    continue\n",
        "  if data[\"label\"] == 0:\n",
        "    label_zero.append(i)\n",
        "  if data[\"label\"] == 1:\n",
        "    label_one.append(i)\n",
        "sampled_zero = []"
      ],
      "id": "a0823a32-4ea2-4e5f-93ad-0688c5ab36ec"
    },
    {
      "cell_type": "code",
      "source": [
        "sampled_zero = list(np.random.choice(label_zero, size=500, replace=False))"
      ],
      "metadata": {
        "id": "AssZeA4Emxsi"
      },
      "id": "AssZeA4Emxsi",
      "execution_count": 9,
      "outputs": []
    },
    {
      "cell_type": "code",
      "execution_count": 10,
      "metadata": {
        "id": "c6e7e62d-3215-4725-8646-43ffbfe3e583",
        "colab": {
          "base_uri": "https://localhost:8080/"
        },
        "outputId": "39e1eb75-012b-4150-8269-9afb67f4cf22"
      },
      "outputs": [
        {
          "output_type": "stream",
          "name": "stdout",
          "text": [
            "[4424, 5244, 5035, 667, 2311, 4667, 8799, 1127, 5528, 1654, 4126, 7877, 4745, 6197, 2824, 5622, 12034, 3035, 4035, 10203, 8337, 1906, 825, 12011, 2394, 422, 6572, 6947, 10047, 6488, 9398, 9483, 5682, 11120, 3436, 4954, 4444, 10016, 10470, 4064, 461, 2222, 11655, 128, 1469, 1729, 6675, 11654, 4465, 8171, 6442, 10414, 5917, 8685, 7392, 5844, 11441, 8328, 12068, 10814, 483, 8345, 5619, 4112, 8686, 12358, 3610, 11529, 10926, 479, 5945, 3840, 4032, 7752, 7249, 6946, 7000, 2666, 9063, 8457, 6411, 2460, 10415, 11283, 3504, 12404, 1342, 8177, 11789, 9680, 1903, 2535, 12431, 11250, 11927, 11941, 6194, 11818, 5876, 9585, 3435, 5042, 6633, 11528, 6966, 11607, 2226, 9609, 5963, 10028, 11753, 10717, 4744, 11089, 370, 3926, 3833, 501, 1771, 5539, 9153, 7881, 9289, 9812, 746, 11131, 6452, 5717, 8940, 2025, 3170, 9657, 10175, 8475, 2808, 4593, 7546, 10102, 8291, 2655, 3852, 2149, 80, 2658, 1545, 2903, 3032, 4058, 5526, 7794, 2090, 8753, 69, 5725, 3038, 1568, 11582, 3013, 10226, 4024, 7785, 2252, 10353, 4710, 9359, 6037, 6069, 4851, 4705, 6917, 4374, 5560, 12084, 4472, 9951, 7439, 8252, 6111, 3033, 11496, 8406, 3729, 517, 5903, 3654, 4388, 5404, 9287, 9108, 12092, 9835, 7574, 1181, 7187, 7827, 1282, 11956, 6117, 5817, 10540, 9172, 1173, 7303, 4625, 6666, 1306, 7665, 4174, 9617, 5510, 4953, 459, 4215, 10625, 11051, 3266, 8600, 8370, 1020, 6276, 7920, 5850, 8519, 3924, 6225, 4896, 10659, 11041, 974, 3292, 10427, 1606, 11261, 11002, 7679, 6235, 9911, 4261, 9165, 11957, 1907, 5245, 2815, 1147, 8855, 10281, 12189, 7916, 6536, 8449, 3271, 2361, 4018, 932, 6998, 8086, 353, 5446, 198, 12243, 4050, 1759, 657, 4560, 9538, 1492, 2532, 8032, 6604, 1586, 3398, 1267, 6811, 6156, 10619, 2037, 11866, 9037, 989, 4620, 2671, 9987, 10919, 614, 7180, 8013, 10789, 2000, 2995, 11086, 11318, 2035, 7139, 7615, 10130, 11319, 1330, 11943, 1591, 10038, 2113, 11899, 6743, 3743, 7994, 3762, 4751, 520, 6563, 2322, 2712, 2362, 4860, 7619, 11156, 1444, 5406, 4879, 2124, 7898, 1371, 687, 7842, 12255, 9882, 11749, 7838, 498, 6191, 9341, 2177, 253, 7016, 1520, 3884, 528, 8497, 12131, 8087, 9291, 11942, 615, 1522, 7984, 4359, 10481, 11621, 3726, 12445, 8346, 6469, 1727, 11393, 4634, 3492, 6391, 7407, 11633, 7923, 9208, 5318, 10901, 9407, 7484, 1001, 5083, 10653, 3704, 926, 6168, 11359, 9161, 753, 11013, 8033, 8861, 1107, 11615, 12058, 7570, 6686, 6092, 3929, 9751, 8858, 2179, 7993, 12496, 2318, 5192, 5714, 6300, 9760, 4320, 8880, 7975, 6934, 8598, 10200, 681, 8170, 6712, 7886, 7290, 12435, 4725, 1199, 4375, 4259, 1668, 5825, 6467, 7983, 4594, 10310, 6055, 1999, 12168, 651, 6159, 8926, 7391, 2539, 6741, 8397, 6063, 7639, 5487, 5579, 7267, 803, 11208, 965, 4212, 7932, 726, 1340, 3426, 10571, 7047, 4503, 2686, 10225, 1174, 3633, 11307, 11794, 12256, 7557, 4273, 5503, 9552, 12000, 11527, 11872, 2188, 8490, 2773, 3838, 3716, 3034, 7910, 6888, 1216, 1244, 6909, 7781, 8123, 3666, 394, 12254, 7906, 3615, 12373, 4281, 1809, 11596, 10613, 6592, 2743, 9110, 5302, 8978, 180, 1336, 2201, 8699, 6596, 3728, 7415, 8160, 8098, 5359, 11114, 9392, 3280, 3570, 3327, 5721, 5310]\n"
          ]
        }
      ],
      "source": [
        "print(sampled_zero)\n"
      ],
      "id": "c6e7e62d-3215-4725-8646-43ffbfe3e583"
    },
    {
      "cell_type": "code",
      "execution_count": 11,
      "metadata": {
        "id": "a9160e59-5147-420c-b6de-bab805e1a1fc"
      },
      "outputs": [],
      "source": [
        "sampled_ones = list(np.random.choice(label_one,size = 500,replace=False))"
      ],
      "id": "a9160e59-5147-420c-b6de-bab805e1a1fc"
    },
    {
      "cell_type": "code",
      "execution_count": 12,
      "metadata": {
        "id": "340977ee-936c-422a-a956-c90829beb195",
        "colab": {
          "base_uri": "https://localhost:8080/"
        },
        "outputId": "4b67ccfb-e7e3-4ec2-848b-403d11e5ff8d"
      },
      "outputs": [
        {
          "output_type": "stream",
          "name": "stdout",
          "text": [
            "500\n",
            "500\n"
          ]
        }
      ],
      "source": [
        "print(len(sampled_ones))\n",
        "print(len(sampled_zero))"
      ],
      "id": "340977ee-936c-422a-a956-c90829beb195"
    },
    {
      "cell_type": "code",
      "execution_count": 13,
      "metadata": {
        "id": "4abbe8f9-3f86-4710-a627-e5175896e4cf"
      },
      "outputs": [],
      "source": [
        "sampled_ones.extend(sampled_zero)"
      ],
      "id": "4abbe8f9-3f86-4710-a627-e5175896e4cf"
    },
    {
      "cell_type": "code",
      "execution_count": 14,
      "metadata": {
        "id": "kTxqOzkih6m8",
        "colab": {
          "base_uri": "https://localhost:8080/"
        },
        "outputId": "081ed891-268d-47d7-cc7d-fb0bb81344c4"
      },
      "outputs": [
        {
          "output_type": "stream",
          "name": "stdout",
          "text": [
            "1000\n"
          ]
        }
      ],
      "source": [
        "print(len(sampled_ones))"
      ],
      "id": "kTxqOzkih6m8"
    },
    {
      "cell_type": "code",
      "execution_count": 15,
      "metadata": {
        "id": "lWfId1Ujh9cy",
        "colab": {
          "base_uri": "https://localhost:8080/"
        },
        "outputId": "37177698-7b89-42e6-bb7e-93880005e762"
      },
      "outputs": [
        {
          "output_type": "stream",
          "name": "stdout",
          "text": [
            "[20874, 16937, 20632, 23815, 20572, 19345, 13968, 14089, 12829, 21999, 19591, 16382, 19885, 19518, 17105, 22043, 13444, 13226, 19901, 18729, 15975, 23839, 15515, 18151, 20933, 24036, 19406, 16562, 19750, 14088, 22753, 14198, 14947, 16554, 13342, 13970, 17906, 15836, 17432, 23537, 19636, 21795, 16489, 22717, 23865, 16975, 17389, 24777, 15912, 17280, 22358, 20297, 24461, 18635, 23748, 13925, 23719, 16237, 16604, 24451, 17022, 23749, 16943, 18738, 21996, 18666, 22478, 21106, 16624, 24907, 20691, 14497, 23478, 22909, 13086, 24010, 13608, 15091, 20847, 21551, 17033, 24425, 24312, 19606, 14882, 18722, 20266, 24083, 13756, 23906, 23373, 21773, 16552, 18048, 20808, 13811, 13952, 21516, 18101, 24477, 24200, 19846, 13099, 13808, 19956, 22780, 24042, 16020, 21715, 17270, 14605, 15082, 21020, 17799, 23979, 18490, 15303, 17943, 17660, 15378, 18888, 24280, 20281, 12882, 24804, 20765, 23382, 18126, 23071, 22658, 24530, 14780, 15626, 18381, 12504, 17699, 20418, 12960, 17267, 19247, 24007, 24636, 19304, 13254, 21878, 14193, 23511, 21111, 19336, 22554, 21941, 21623, 21304, 22822, 13483, 21449, 16022, 12888, 19056, 18464, 20077, 16122, 19525, 13090, 21960, 18224, 23617, 14001, 15081, 18513, 15006, 15013, 19181, 13046, 16052, 12678, 16315, 17966, 16238, 12752, 15837, 17194, 21858, 19953, 13938, 21028, 20277, 16573, 20447, 18792, 22933, 19915, 15270, 22175, 15867, 20152, 13597, 18458, 15307, 21888, 23801, 23043, 13877, 15438, 19893, 13386, 19120, 19791, 20249, 19337, 20802, 13100, 21837, 17665, 21149, 13832, 20386, 15147, 24113, 19877, 14115, 12693, 14349, 19727, 21498, 14625, 14913, 22954, 22275, 17716, 14626, 24303, 24761, 24123, 13866, 23936, 14236, 13948, 17475, 18785, 18351, 23836, 16614, 16701, 22768, 23759, 13806, 15965, 19057, 23742, 24750, 22126, 18309, 19910, 14422, 22620, 23913, 23755, 16535, 16230, 22317, 18883, 17459, 19357, 15659, 15085, 14800, 13353, 15026, 12877, 17404, 17537, 14167, 24706, 16119, 16313, 14408, 14133, 22553, 16229, 22437, 13842, 15415, 14486, 19969, 20091, 18629, 20439, 22438, 23592, 18887, 23001, 12509, 23700, 23049, 23516, 21900, 13030, 24758, 24376, 13465, 15294, 23715, 15088, 15476, 17705, 15521, 13089, 22956, 18034, 16177, 22281, 13060, 15268, 17275, 13780, 15996, 22139, 22169, 16658, 22751, 16752, 21673, 17925, 23648, 17526, 21018, 13451, 17208, 24905, 20873, 18112, 16111, 16718, 19074, 16926, 21427, 22105, 18117, 23907, 18281, 16257, 15910, 23613, 15873, 23873, 17001, 24739, 23268, 21181, 21392, 13514, 15446, 19899, 24624, 19432, 19410, 13442, 20902, 14414, 18045, 20563, 13124, 21250, 17950, 24259, 17266, 14612, 21426, 20656, 13546, 16058, 23919, 14366, 20265, 14518, 14714, 16365, 24948, 19254, 19344, 20480, 13316, 20664, 23556, 18880, 14000, 15881, 17312, 18190, 18003, 18761, 13346, 19534, 15437, 21447, 21293, 13812, 19271, 18295, 16969, 22551, 20038, 18630, 19613, 15752, 12567, 16865, 24713, 19508, 24819, 14202, 19191, 13351, 17473, 21968, 12999, 13778, 16183, 22047, 15401, 15952, 23124, 17209, 18132, 20626, 15477, 16454, 19748, 21439, 16227, 16600, 16077, 21784, 20818, 16622, 16842, 24742, 24998, 13348, 21967, 12785, 14080, 13523, 21217, 20726, 19543, 22667, 18698, 17759, 23597, 23552, 16084, 20058, 15658, 13843, 19621, 21073, 24004, 13998, 21218, 21899, 15621, 22941, 24131, 12734, 21062, 19982, 19263, 12969, 19602, 23879, 24728, 22362, 17217, 20601, 16526, 22925, 19617, 23982, 16947, 17493, 19221, 17021, 21879, 22922, 19770, 23510, 16610, 19892, 14415, 24299, 15809, 16487, 19466, 14116, 18037, 14185, 18111, 18022, 4424, 5244, 5035, 667, 2311, 4667, 8799, 1127, 5528, 1654, 4126, 7877, 4745, 6197, 2824, 5622, 12034, 3035, 4035, 10203, 8337, 1906, 825, 12011, 2394, 422, 6572, 6947, 10047, 6488, 9398, 9483, 5682, 11120, 3436, 4954, 4444, 10016, 10470, 4064, 461, 2222, 11655, 128, 1469, 1729, 6675, 11654, 4465, 8171, 6442, 10414, 5917, 8685, 7392, 5844, 11441, 8328, 12068, 10814, 483, 8345, 5619, 4112, 8686, 12358, 3610, 11529, 10926, 479, 5945, 3840, 4032, 7752, 7249, 6946, 7000, 2666, 9063, 8457, 6411, 2460, 10415, 11283, 3504, 12404, 1342, 8177, 11789, 9680, 1903, 2535, 12431, 11250, 11927, 11941, 6194, 11818, 5876, 9585, 3435, 5042, 6633, 11528, 6966, 11607, 2226, 9609, 5963, 10028, 11753, 10717, 4744, 11089, 370, 3926, 3833, 501, 1771, 5539, 9153, 7881, 9289, 9812, 746, 11131, 6452, 5717, 8940, 2025, 3170, 9657, 10175, 8475, 2808, 4593, 7546, 10102, 8291, 2655, 3852, 2149, 80, 2658, 1545, 2903, 3032, 4058, 5526, 7794, 2090, 8753, 69, 5725, 3038, 1568, 11582, 3013, 10226, 4024, 7785, 2252, 10353, 4710, 9359, 6037, 6069, 4851, 4705, 6917, 4374, 5560, 12084, 4472, 9951, 7439, 8252, 6111, 3033, 11496, 8406, 3729, 517, 5903, 3654, 4388, 5404, 9287, 9108, 12092, 9835, 7574, 1181, 7187, 7827, 1282, 11956, 6117, 5817, 10540, 9172, 1173, 7303, 4625, 6666, 1306, 7665, 4174, 9617, 5510, 4953, 459, 4215, 10625, 11051, 3266, 8600, 8370, 1020, 6276, 7920, 5850, 8519, 3924, 6225, 4896, 10659, 11041, 974, 3292, 10427, 1606, 11261, 11002, 7679, 6235, 9911, 4261, 9165, 11957, 1907, 5245, 2815, 1147, 8855, 10281, 12189, 7916, 6536, 8449, 3271, 2361, 4018, 932, 6998, 8086, 353, 5446, 198, 12243, 4050, 1759, 657, 4560, 9538, 1492, 2532, 8032, 6604, 1586, 3398, 1267, 6811, 6156, 10619, 2037, 11866, 9037, 989, 4620, 2671, 9987, 10919, 614, 7180, 8013, 10789, 2000, 2995, 11086, 11318, 2035, 7139, 7615, 10130, 11319, 1330, 11943, 1591, 10038, 2113, 11899, 6743, 3743, 7994, 3762, 4751, 520, 6563, 2322, 2712, 2362, 4860, 7619, 11156, 1444, 5406, 4879, 2124, 7898, 1371, 687, 7842, 12255, 9882, 11749, 7838, 498, 6191, 9341, 2177, 253, 7016, 1520, 3884, 528, 8497, 12131, 8087, 9291, 11942, 615, 1522, 7984, 4359, 10481, 11621, 3726, 12445, 8346, 6469, 1727, 11393, 4634, 3492, 6391, 7407, 11633, 7923, 9208, 5318, 10901, 9407, 7484, 1001, 5083, 10653, 3704, 926, 6168, 11359, 9161, 753, 11013, 8033, 8861, 1107, 11615, 12058, 7570, 6686, 6092, 3929, 9751, 8858, 2179, 7993, 12496, 2318, 5192, 5714, 6300, 9760, 4320, 8880, 7975, 6934, 8598, 10200, 681, 8170, 6712, 7886, 7290, 12435, 4725, 1199, 4375, 4259, 1668, 5825, 6467, 7983, 4594, 10310, 6055, 1999, 12168, 651, 6159, 8926, 7391, 2539, 6741, 8397, 6063, 7639, 5487, 5579, 7267, 803, 11208, 965, 4212, 7932, 726, 1340, 3426, 10571, 7047, 4503, 2686, 10225, 1174, 3633, 11307, 11794, 12256, 7557, 4273, 5503, 9552, 12000, 11527, 11872, 2188, 8490, 2773, 3838, 3716, 3034, 7910, 6888, 1216, 1244, 6909, 7781, 8123, 3666, 394, 12254, 7906, 3615, 12373, 4281, 1809, 11596, 10613, 6592, 2743, 9110, 5302, 8978, 180, 1336, 2201, 8699, 6596, 3728, 7415, 8160, 8098, 5359, 11114, 9392, 3280, 3570, 3327, 5721, 5310]\n"
          ]
        }
      ],
      "source": [
        "print(sampled_ones)"
      ],
      "id": "lWfId1Ujh9cy"
    },
    {
      "cell_type": "code",
      "source": [
        "train_data_dev= train_data.select(sampled_ones)"
      ],
      "metadata": {
        "id": "9S-NBWAmjcSv"
      },
      "id": "9S-NBWAmjcSv",
      "execution_count": 16,
      "outputs": []
    },
    {
      "cell_type": "code",
      "source": [
        "import pickle\n",
        "import io"
      ],
      "metadata": {
        "id": "CRWnrlBckg_K"
      },
      "id": "CRWnrlBckg_K",
      "execution_count": 17,
      "outputs": []
    },
    {
      "cell_type": "code",
      "source": [
        "number_of_zeros = 0\n",
        "number_of_ones = 0\n",
        "for data in train_data_dev:\n",
        "  if data[\"label\"] == 0:\n",
        "    number_of_zeros+=1\n",
        "  else:\n",
        "    number_of_ones+=1\n",
        "\n",
        "assert number_of_zeros == number_of_ones"
      ],
      "metadata": {
        "id": "ij4hCsU5jul4"
      },
      "id": "ij4hCsU5jul4",
      "execution_count": 18,
      "outputs": []
    },
    {
      "cell_type": "code",
      "source": [
        "pickleBuffer = io.BytesIO()"
      ],
      "metadata": {
        "id": "bs-VoDzJkGCq"
      },
      "id": "bs-VoDzJkGCq",
      "execution_count": 19,
      "outputs": []
    },
    {
      "cell_type": "code",
      "source": [
        "pickle.dump(train_data_dev,pickleBuffer)"
      ],
      "metadata": {
        "id": "gWV2CMmTksBi"
      },
      "id": "gWV2CMmTksBi",
      "execution_count": 20,
      "outputs": []
    },
    {
      "cell_type": "code",
      "source": [
        "with open('data.pickle', 'wb') as f:\n",
        "    pickle.dump(train_data_dev, f)"
      ],
      "metadata": {
        "id": "ag4_nHEzkwpk"
      },
      "id": "ag4_nHEzkwpk",
      "execution_count": 21,
      "outputs": []
    },
    {
      "cell_type": "code",
      "source": [
        "sampled_ones_set = set(sampled_ones[:])"
      ],
      "metadata": {
        "id": "QSY9anohk_4G"
      },
      "id": "QSY9anohk_4G",
      "execution_count": 22,
      "outputs": []
    },
    {
      "cell_type": "code",
      "source": [
        "print(len(sampled_ones_set))"
      ],
      "metadata": {
        "colab": {
          "base_uri": "https://localhost:8080/"
        },
        "id": "1s4KrOyPY7W8",
        "outputId": "6c786ffb-40bb-41b7-a8f7-942056962357"
      },
      "id": "1s4KrOyPY7W8",
      "execution_count": 26,
      "outputs": [
        {
          "output_type": "stream",
          "name": "stdout",
          "text": [
            "1000\n"
          ]
        }
      ]
    },
    {
      "cell_type": "code",
      "source": [
        "counter = 0\n",
        "# # print(type(train_data_dev))\n",
        "# # for data in train_data_dev:\n",
        "# #   if counter>0:\n",
        "# #     break\n",
        "# #   counter+=1\n",
        "\n",
        "# #   print(type(data))\n",
        "# train_data_dev[12683]\n",
        "label_zero_val = []\n",
        "label_one_val = []\n",
        "for i, data in enumerate(train_data):\n",
        "  if i in sampled_ones_set:\n",
        "    continue\n",
        "  data_arr = data[\"text\"].split(\" \")\n",
        "  if len(data_arr)<512:\n",
        "    continue\n",
        "  if data[\"label\"] == 0:\n",
        "    label_zero_val.append(i)\n",
        "  if data[\"label\"] == 1:\n",
        "    label_one_val.append(i)\n"
      ],
      "metadata": {
        "id": "W8SNeI2OZo7u"
      },
      "id": "W8SNeI2OZo7u",
      "execution_count": 24,
      "outputs": []
    },
    {
      "cell_type": "code",
      "source": [
        "print(len(label_zero_val))\n",
        "print(len(label_one_val))"
      ],
      "metadata": {
        "colab": {
          "base_uri": "https://localhost:8080/"
        },
        "id": "OgYj9h_4b1S0",
        "outputId": "ec8b34d0-f895-4336-eb16-1c3c3403e6cc"
      },
      "id": "OgYj9h_4b1S0",
      "execution_count": 29,
      "outputs": [
        {
          "output_type": "stream",
          "name": "stdout",
          "text": [
            "366\n",
            "542\n"
          ]
        }
      ]
    },
    {
      "cell_type": "code",
      "source": [
        "sampled_zero_val = list(np.random.choice(label_zero_val, size=300, replace=False))"
      ],
      "metadata": {
        "id": "u1Me4QjwbSkM"
      },
      "id": "u1Me4QjwbSkM",
      "execution_count": 28,
      "outputs": []
    },
    {
      "cell_type": "code",
      "source": [
        "print(len(sampled_zero_val))"
      ],
      "metadata": {
        "colab": {
          "base_uri": "https://localhost:8080/"
        },
        "id": "HFxgGH9ddXCD",
        "outputId": "4b03b891-2677-4ec7-bb66-862da9569774"
      },
      "id": "HFxgGH9ddXCD",
      "execution_count": 43,
      "outputs": [
        {
          "output_type": "stream",
          "name": "stdout",
          "text": [
            "300\n"
          ]
        }
      ]
    },
    {
      "cell_type": "code",
      "source": [
        "sampled_one_val = list(np.random.choice(label_one_val, size=300, replace=False))"
      ],
      "metadata": {
        "id": "v3DGSxYEbgfi"
      },
      "id": "v3DGSxYEbgfi",
      "execution_count": 45,
      "outputs": []
    },
    {
      "cell_type": "code",
      "source": [
        "print(len(sampled_one_val))"
      ],
      "metadata": {
        "colab": {
          "base_uri": "https://localhost:8080/"
        },
        "id": "7qzTi87kdaiz",
        "outputId": "6df43ccb-c30f-4879-b9b9-44bb33a36a92"
      },
      "id": "7qzTi87kdaiz",
      "execution_count": 46,
      "outputs": [
        {
          "output_type": "stream",
          "name": "stdout",
          "text": [
            "300\n"
          ]
        }
      ]
    },
    {
      "cell_type": "code",
      "source": [
        "for val in sampled_zero_val:\n",
        "  sampled_one_val.append(val)"
      ],
      "metadata": {
        "id": "0k2nLaJocPDK"
      },
      "id": "0k2nLaJocPDK",
      "execution_count": 48,
      "outputs": []
    },
    {
      "cell_type": "code",
      "source": [
        "print(len(sampled_one_val))"
      ],
      "metadata": {
        "colab": {
          "base_uri": "https://localhost:8080/"
        },
        "id": "XN6DklDqcXUT",
        "outputId": "46347494-04b0-4142-d805-9d852c0c80b0"
      },
      "id": "XN6DklDqcXUT",
      "execution_count": 49,
      "outputs": [
        {
          "output_type": "stream",
          "name": "stdout",
          "text": [
            "600\n"
          ]
        }
      ]
    },
    {
      "cell_type": "code",
      "source": [
        "val_data_dev= train_data.select(sampled_one_val)"
      ],
      "metadata": {
        "id": "SlejlR1NcZyg"
      },
      "id": "SlejlR1NcZyg",
      "execution_count": 50,
      "outputs": []
    },
    {
      "cell_type": "code",
      "source": [
        "pickleBuffer = io.BytesIO()"
      ],
      "metadata": {
        "id": "yLSZkQbQcka1"
      },
      "id": "yLSZkQbQcka1",
      "execution_count": 51,
      "outputs": []
    },
    {
      "cell_type": "code",
      "source": [
        "pickle.dump(train_data_dev,pickleBuffer)"
      ],
      "metadata": {
        "id": "BpARtiLYcwAL"
      },
      "id": "BpARtiLYcwAL",
      "execution_count": 52,
      "outputs": []
    },
    {
      "cell_type": "code",
      "source": [
        "with open('data_val.pickle', 'wb') as f:\n",
        "    pickle.dump(val_data_dev, f)"
      ],
      "metadata": {
        "id": "F8I3gA5Dd-YH"
      },
      "id": "F8I3gA5Dd-YH",
      "execution_count": 53,
      "outputs": []
    },
    {
      "cell_type": "code",
      "source": [
        "counter = 0\n",
        "# # print(type(train_data_dev))\n",
        "# # for data in train_data_dev:\n",
        "# #   if counter>0:\n",
        "# #     break\n",
        "# #   counter+=1\n",
        "\n",
        "# #   print(type(data))\n",
        "# train_data_dev[12683]\n",
        "label_zero_test = []\n",
        "label_one_test = []\n",
        "for i, data in enumerate(test_data):\n",
        "  data_arr = data[\"text\"].split(\" \")\n",
        "  if len(data_arr)<512:\n",
        "    continue\n",
        "  if data[\"label\"] == 0:\n",
        "    label_zero_test.append(i)\n",
        "  if data[\"label\"] == 1:\n",
        "    label_one_test.append(i)"
      ],
      "metadata": {
        "id": "Dcs91DoLeKkQ"
      },
      "id": "Dcs91DoLeKkQ",
      "execution_count": 54,
      "outputs": []
    },
    {
      "cell_type": "code",
      "source": [
        "sampled_zero_test = list(np.random.choice(label_zero_test, size=500, replace=False))"
      ],
      "metadata": {
        "id": "CH0hCYBxelI6"
      },
      "id": "CH0hCYBxelI6",
      "execution_count": 55,
      "outputs": []
    },
    {
      "cell_type": "code",
      "source": [
        "sampled_one_test = list(np.random.choice(label_one_test, size=500, replace=False))"
      ],
      "metadata": {
        "id": "FQXafZD7esW3"
      },
      "id": "FQXafZD7esW3",
      "execution_count": 56,
      "outputs": []
    },
    {
      "cell_type": "code",
      "source": [
        "for val in sampled_zero_test:\n",
        "  sampled_one_test.append(val)"
      ],
      "metadata": {
        "id": "BKr5B08Oew5u"
      },
      "id": "BKr5B08Oew5u",
      "execution_count": 57,
      "outputs": []
    },
    {
      "cell_type": "code",
      "source": [
        "print(len(sampled_one_test))"
      ],
      "metadata": {
        "colab": {
          "base_uri": "https://localhost:8080/"
        },
        "id": "2Oj1ggnte8Lu",
        "outputId": "d25319d9-1c39-414d-a938-aab011398df0"
      },
      "id": "2Oj1ggnte8Lu",
      "execution_count": 59,
      "outputs": [
        {
          "output_type": "stream",
          "name": "stdout",
          "text": [
            "1000\n"
          ]
        }
      ]
    },
    {
      "cell_type": "code",
      "source": [
        "test_data_dev= train_data.select(sampled_one_test)"
      ],
      "metadata": {
        "id": "1ZMMNHQte-TN"
      },
      "id": "1ZMMNHQte-TN",
      "execution_count": 62,
      "outputs": []
    },
    {
      "cell_type": "code",
      "source": [
        "with open('data_test.pickle', 'wb') as f:\n",
        "    pickle.dump(test_data_dev, f)"
      ],
      "metadata": {
        "id": "rJaiprUmfDM1"
      },
      "id": "rJaiprUmfDM1",
      "execution_count": 64,
      "outputs": []
    },
    {
      "cell_type": "code",
      "source": [
        ""
      ],
      "metadata": {
        "id": "MPip3laJfMdu"
      },
      "id": "MPip3laJfMdu",
      "execution_count": null,
      "outputs": []
    }
  ],
  "metadata": {
    "accelerator": "GPU",
    "colab": {
      "name": "Data_filter.ipynb",
      "provenance": []
    },
    "kernelspec": {
      "display_name": "Python 3",
      "name": "python3"
    },
    "language_info": {
      "name": "python"
    },
    "widgets": {
      "application/vnd.jupyter.widget-state+json": {
        "c05bf00065c84746b3a60f546a4c2a7d": {
          "model_module": "@jupyter-widgets/controls",
          "model_name": "HBoxModel",
          "model_module_version": "1.5.0",
          "state": {
            "_dom_classes": [],
            "_model_module": "@jupyter-widgets/controls",
            "_model_module_version": "1.5.0",
            "_model_name": "HBoxModel",
            "_view_count": null,
            "_view_module": "@jupyter-widgets/controls",
            "_view_module_version": "1.5.0",
            "_view_name": "HBoxView",
            "box_style": "",
            "children": [
              "IPY_MODEL_8e87cb3266a44a8e90bfaff6ec50f20e",
              "IPY_MODEL_d714298483cf421d922fc4ad0ab40737",
              "IPY_MODEL_35f873f1c4af43d48ad5bd7426c17b78"
            ],
            "layout": "IPY_MODEL_8aff0fccb204424c819e9bd7a075cb8d"
          }
        },
        "8e87cb3266a44a8e90bfaff6ec50f20e": {
          "model_module": "@jupyter-widgets/controls",
          "model_name": "HTMLModel",
          "model_module_version": "1.5.0",
          "state": {
            "_dom_classes": [],
            "_model_module": "@jupyter-widgets/controls",
            "_model_module_version": "1.5.0",
            "_model_name": "HTMLModel",
            "_view_count": null,
            "_view_module": "@jupyter-widgets/controls",
            "_view_module_version": "1.5.0",
            "_view_name": "HTMLView",
            "description": "",
            "description_tooltip": null,
            "layout": "IPY_MODEL_e5fec691bd96476fbf73e18eff1ca993",
            "placeholder": "​",
            "style": "IPY_MODEL_b000d22cab044ac28729594c160d01ab",
            "value": "100%"
          }
        },
        "d714298483cf421d922fc4ad0ab40737": {
          "model_module": "@jupyter-widgets/controls",
          "model_name": "FloatProgressModel",
          "model_module_version": "1.5.0",
          "state": {
            "_dom_classes": [],
            "_model_module": "@jupyter-widgets/controls",
            "_model_module_version": "1.5.0",
            "_model_name": "FloatProgressModel",
            "_view_count": null,
            "_view_module": "@jupyter-widgets/controls",
            "_view_module_version": "1.5.0",
            "_view_name": "ProgressView",
            "bar_style": "success",
            "description": "",
            "description_tooltip": null,
            "layout": "IPY_MODEL_848a6e770b504feab0ee3fe51a94d278",
            "max": 2,
            "min": 0,
            "orientation": "horizontal",
            "style": "IPY_MODEL_abfd11f6c57b4067bddd04c867e6f190",
            "value": 2
          }
        },
        "35f873f1c4af43d48ad5bd7426c17b78": {
          "model_module": "@jupyter-widgets/controls",
          "model_name": "HTMLModel",
          "model_module_version": "1.5.0",
          "state": {
            "_dom_classes": [],
            "_model_module": "@jupyter-widgets/controls",
            "_model_module_version": "1.5.0",
            "_model_name": "HTMLModel",
            "_view_count": null,
            "_view_module": "@jupyter-widgets/controls",
            "_view_module_version": "1.5.0",
            "_view_name": "HTMLView",
            "description": "",
            "description_tooltip": null,
            "layout": "IPY_MODEL_a54c7a0d294a418299ce7234fb5e7dfb",
            "placeholder": "​",
            "style": "IPY_MODEL_e50be0e26d9a42e0b69779119a99f83f",
            "value": " 2/2 [00:00&lt;00:00, 31.97it/s]"
          }
        },
        "8aff0fccb204424c819e9bd7a075cb8d": {
          "model_module": "@jupyter-widgets/base",
          "model_name": "LayoutModel",
          "model_module_version": "1.2.0",
          "state": {
            "_model_module": "@jupyter-widgets/base",
            "_model_module_version": "1.2.0",
            "_model_name": "LayoutModel",
            "_view_count": null,
            "_view_module": "@jupyter-widgets/base",
            "_view_module_version": "1.2.0",
            "_view_name": "LayoutView",
            "align_content": null,
            "align_items": null,
            "align_self": null,
            "border": null,
            "bottom": null,
            "display": null,
            "flex": null,
            "flex_flow": null,
            "grid_area": null,
            "grid_auto_columns": null,
            "grid_auto_flow": null,
            "grid_auto_rows": null,
            "grid_column": null,
            "grid_gap": null,
            "grid_row": null,
            "grid_template_areas": null,
            "grid_template_columns": null,
            "grid_template_rows": null,
            "height": null,
            "justify_content": null,
            "justify_items": null,
            "left": null,
            "margin": null,
            "max_height": null,
            "max_width": null,
            "min_height": null,
            "min_width": null,
            "object_fit": null,
            "object_position": null,
            "order": null,
            "overflow": null,
            "overflow_x": null,
            "overflow_y": null,
            "padding": null,
            "right": null,
            "top": null,
            "visibility": null,
            "width": null
          }
        },
        "e5fec691bd96476fbf73e18eff1ca993": {
          "model_module": "@jupyter-widgets/base",
          "model_name": "LayoutModel",
          "model_module_version": "1.2.0",
          "state": {
            "_model_module": "@jupyter-widgets/base",
            "_model_module_version": "1.2.0",
            "_model_name": "LayoutModel",
            "_view_count": null,
            "_view_module": "@jupyter-widgets/base",
            "_view_module_version": "1.2.0",
            "_view_name": "LayoutView",
            "align_content": null,
            "align_items": null,
            "align_self": null,
            "border": null,
            "bottom": null,
            "display": null,
            "flex": null,
            "flex_flow": null,
            "grid_area": null,
            "grid_auto_columns": null,
            "grid_auto_flow": null,
            "grid_auto_rows": null,
            "grid_column": null,
            "grid_gap": null,
            "grid_row": null,
            "grid_template_areas": null,
            "grid_template_columns": null,
            "grid_template_rows": null,
            "height": null,
            "justify_content": null,
            "justify_items": null,
            "left": null,
            "margin": null,
            "max_height": null,
            "max_width": null,
            "min_height": null,
            "min_width": null,
            "object_fit": null,
            "object_position": null,
            "order": null,
            "overflow": null,
            "overflow_x": null,
            "overflow_y": null,
            "padding": null,
            "right": null,
            "top": null,
            "visibility": null,
            "width": null
          }
        },
        "b000d22cab044ac28729594c160d01ab": {
          "model_module": "@jupyter-widgets/controls",
          "model_name": "DescriptionStyleModel",
          "model_module_version": "1.5.0",
          "state": {
            "_model_module": "@jupyter-widgets/controls",
            "_model_module_version": "1.5.0",
            "_model_name": "DescriptionStyleModel",
            "_view_count": null,
            "_view_module": "@jupyter-widgets/base",
            "_view_module_version": "1.2.0",
            "_view_name": "StyleView",
            "description_width": ""
          }
        },
        "848a6e770b504feab0ee3fe51a94d278": {
          "model_module": "@jupyter-widgets/base",
          "model_name": "LayoutModel",
          "model_module_version": "1.2.0",
          "state": {
            "_model_module": "@jupyter-widgets/base",
            "_model_module_version": "1.2.0",
            "_model_name": "LayoutModel",
            "_view_count": null,
            "_view_module": "@jupyter-widgets/base",
            "_view_module_version": "1.2.0",
            "_view_name": "LayoutView",
            "align_content": null,
            "align_items": null,
            "align_self": null,
            "border": null,
            "bottom": null,
            "display": null,
            "flex": null,
            "flex_flow": null,
            "grid_area": null,
            "grid_auto_columns": null,
            "grid_auto_flow": null,
            "grid_auto_rows": null,
            "grid_column": null,
            "grid_gap": null,
            "grid_row": null,
            "grid_template_areas": null,
            "grid_template_columns": null,
            "grid_template_rows": null,
            "height": null,
            "justify_content": null,
            "justify_items": null,
            "left": null,
            "margin": null,
            "max_height": null,
            "max_width": null,
            "min_height": null,
            "min_width": null,
            "object_fit": null,
            "object_position": null,
            "order": null,
            "overflow": null,
            "overflow_x": null,
            "overflow_y": null,
            "padding": null,
            "right": null,
            "top": null,
            "visibility": null,
            "width": null
          }
        },
        "abfd11f6c57b4067bddd04c867e6f190": {
          "model_module": "@jupyter-widgets/controls",
          "model_name": "ProgressStyleModel",
          "model_module_version": "1.5.0",
          "state": {
            "_model_module": "@jupyter-widgets/controls",
            "_model_module_version": "1.5.0",
            "_model_name": "ProgressStyleModel",
            "_view_count": null,
            "_view_module": "@jupyter-widgets/base",
            "_view_module_version": "1.2.0",
            "_view_name": "StyleView",
            "bar_color": null,
            "description_width": ""
          }
        },
        "a54c7a0d294a418299ce7234fb5e7dfb": {
          "model_module": "@jupyter-widgets/base",
          "model_name": "LayoutModel",
          "model_module_version": "1.2.0",
          "state": {
            "_model_module": "@jupyter-widgets/base",
            "_model_module_version": "1.2.0",
            "_model_name": "LayoutModel",
            "_view_count": null,
            "_view_module": "@jupyter-widgets/base",
            "_view_module_version": "1.2.0",
            "_view_name": "LayoutView",
            "align_content": null,
            "align_items": null,
            "align_self": null,
            "border": null,
            "bottom": null,
            "display": null,
            "flex": null,
            "flex_flow": null,
            "grid_area": null,
            "grid_auto_columns": null,
            "grid_auto_flow": null,
            "grid_auto_rows": null,
            "grid_column": null,
            "grid_gap": null,
            "grid_row": null,
            "grid_template_areas": null,
            "grid_template_columns": null,
            "grid_template_rows": null,
            "height": null,
            "justify_content": null,
            "justify_items": null,
            "left": null,
            "margin": null,
            "max_height": null,
            "max_width": null,
            "min_height": null,
            "min_width": null,
            "object_fit": null,
            "object_position": null,
            "order": null,
            "overflow": null,
            "overflow_x": null,
            "overflow_y": null,
            "padding": null,
            "right": null,
            "top": null,
            "visibility": null,
            "width": null
          }
        },
        "e50be0e26d9a42e0b69779119a99f83f": {
          "model_module": "@jupyter-widgets/controls",
          "model_name": "DescriptionStyleModel",
          "model_module_version": "1.5.0",
          "state": {
            "_model_module": "@jupyter-widgets/controls",
            "_model_module_version": "1.5.0",
            "_model_name": "DescriptionStyleModel",
            "_view_count": null,
            "_view_module": "@jupyter-widgets/base",
            "_view_module_version": "1.2.0",
            "_view_name": "StyleView",
            "description_width": ""
          }
        }
      }
    }
  },
  "nbformat": 4,
  "nbformat_minor": 5
}
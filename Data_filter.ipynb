{
  "cells": [
    {
      "cell_type": "code",
      "execution_count": null,
      "metadata": {
        "colab": {
          "base_uri": "https://localhost:8080/"
        },
        "id": "ee232c84-94ee-4e82-bb30-fc2c893764c6",
        "outputId": "560e8e1f-f834-4ed4-a209-1499e13178ce"
      },
      "outputs": [
        {
          "name": "stdout",
          "output_type": "stream",
          "text": [
            "Requirement already satisfied: torch in /usr/local/lib/python3.7/dist-packages (1.11.0+cu113)\n",
            "Requirement already satisfied: torchvision in /usr/local/lib/python3.7/dist-packages (0.12.0+cu113)\n",
            "Requirement already satisfied: torchaudio in /usr/local/lib/python3.7/dist-packages (0.11.0+cu113)\n",
            "Requirement already satisfied: typing-extensions in /usr/local/lib/python3.7/dist-packages (from torch) (4.2.0)\n",
            "Requirement already satisfied: numpy in /usr/local/lib/python3.7/dist-packages (from torchvision) (1.21.6)\n",
            "Requirement already satisfied: pillow!=8.3.*,>=5.3.0 in /usr/local/lib/python3.7/dist-packages (from torchvision) (7.1.2)\n",
            "Requirement already satisfied: requests in /usr/local/lib/python3.7/dist-packages (from torchvision) (2.23.0)\n",
            "Requirement already satisfied: certifi>=2017.4.17 in /usr/local/lib/python3.7/dist-packages (from requests->torchvision) (2021.10.8)\n",
            "Requirement already satisfied: idna<3,>=2.5 in /usr/local/lib/python3.7/dist-packages (from requests->torchvision) (2.10)\n",
            "Requirement already satisfied: urllib3!=1.25.0,!=1.25.1,<1.26,>=1.21.1 in /usr/local/lib/python3.7/dist-packages (from requests->torchvision) (1.24.3)\n",
            "Requirement already satisfied: chardet<4,>=3.0.2 in /usr/local/lib/python3.7/dist-packages (from requests->torchvision) (3.0.4)\n",
            "Requirement already satisfied: torchtext in /usr/local/lib/python3.7/dist-packages (0.12.0)\n",
            "Requirement already satisfied: tqdm in /usr/local/lib/python3.7/dist-packages (from torchtext) (4.64.0)\n",
            "Requirement already satisfied: numpy in /usr/local/lib/python3.7/dist-packages (from torchtext) (1.21.6)\n",
            "Requirement already satisfied: requests in /usr/local/lib/python3.7/dist-packages (from torchtext) (2.23.0)\n",
            "Requirement already satisfied: torch==1.11.0 in /usr/local/lib/python3.7/dist-packages (from torchtext) (1.11.0+cu113)\n",
            "Requirement already satisfied: typing-extensions in /usr/local/lib/python3.7/dist-packages (from torch==1.11.0->torchtext) (4.2.0)\n",
            "Requirement already satisfied: idna<3,>=2.5 in /usr/local/lib/python3.7/dist-packages (from requests->torchtext) (2.10)\n",
            "Requirement already satisfied: certifi>=2017.4.17 in /usr/local/lib/python3.7/dist-packages (from requests->torchtext) (2021.10.8)\n",
            "Requirement already satisfied: chardet<4,>=3.0.2 in /usr/local/lib/python3.7/dist-packages (from requests->torchtext) (3.0.4)\n",
            "Requirement already satisfied: urllib3!=1.25.0,!=1.25.1,<1.26,>=1.21.1 in /usr/local/lib/python3.7/dist-packages (from requests->torchtext) (1.24.3)\n",
            "Collecting pytorch-lightning-bolts\n",
            "  Downloading pytorch_lightning_bolts-0.3.2.post1-py3-none-any.whl (252 kB)\n",
            "\u001b[K     |████████████████████████████████| 252 kB 8.5 MB/s \n",
            "\u001b[?25hCollecting torchmetrics>=0.2.0\n",
            "  Downloading torchmetrics-0.8.2-py3-none-any.whl (409 kB)\n",
            "\u001b[K     |████████████████████████████████| 409 kB 66.5 MB/s \n",
            "\u001b[?25hRequirement already satisfied: torch>=1.6 in /usr/local/lib/python3.7/dist-packages (from pytorch-lightning-bolts) (1.11.0+cu113)\n",
            "Collecting pytorch-lightning>=1.1.1\n",
            "  Downloading pytorch_lightning-1.6.3-py3-none-any.whl (584 kB)\n",
            "\u001b[K     |████████████████████████████████| 584 kB 55.9 MB/s \n",
            "\u001b[?25hRequirement already satisfied: typing-extensions>=4.0.0 in /usr/local/lib/python3.7/dist-packages (from pytorch-lightning>=1.1.1->pytorch-lightning-bolts) (4.2.0)\n",
            "Requirement already satisfied: tensorboard>=2.2.0 in /usr/local/lib/python3.7/dist-packages (from pytorch-lightning>=1.1.1->pytorch-lightning-bolts) (2.8.0)\n",
            "Collecting fsspec[http]!=2021.06.0,>=2021.05.0\n",
            "  Downloading fsspec-2022.3.0-py3-none-any.whl (136 kB)\n",
            "\u001b[K     |████████████████████████████████| 136 kB 75.3 MB/s \n",
            "\u001b[?25hRequirement already satisfied: numpy>=1.17.2 in /usr/local/lib/python3.7/dist-packages (from pytorch-lightning>=1.1.1->pytorch-lightning-bolts) (1.21.6)\n",
            "Collecting PyYAML>=5.4\n",
            "  Downloading PyYAML-6.0-cp37-cp37m-manylinux_2_5_x86_64.manylinux1_x86_64.manylinux_2_12_x86_64.manylinux2010_x86_64.whl (596 kB)\n",
            "\u001b[K     |████████████████████████████████| 596 kB 53.6 MB/s \n",
            "\u001b[?25hCollecting pyDeprecate<0.4.0,>=0.3.1\n",
            "  Downloading pyDeprecate-0.3.2-py3-none-any.whl (10 kB)\n",
            "Requirement already satisfied: packaging>=17.0 in /usr/local/lib/python3.7/dist-packages (from pytorch-lightning>=1.1.1->pytorch-lightning-bolts) (21.3)\n",
            "Requirement already satisfied: tqdm>=4.57.0 in /usr/local/lib/python3.7/dist-packages (from pytorch-lightning>=1.1.1->pytorch-lightning-bolts) (4.64.0)\n",
            "Requirement already satisfied: requests in /usr/local/lib/python3.7/dist-packages (from fsspec[http]!=2021.06.0,>=2021.05.0->pytorch-lightning>=1.1.1->pytorch-lightning-bolts) (2.23.0)\n",
            "Collecting aiohttp\n",
            "  Downloading aiohttp-3.8.1-cp37-cp37m-manylinux_2_5_x86_64.manylinux1_x86_64.manylinux_2_12_x86_64.manylinux2010_x86_64.whl (1.1 MB)\n",
            "\u001b[K     |████████████████████████████████| 1.1 MB 53.0 MB/s \n",
            "\u001b[?25hRequirement already satisfied: pyparsing!=3.0.5,>=2.0.2 in /usr/local/lib/python3.7/dist-packages (from packaging>=17.0->pytorch-lightning>=1.1.1->pytorch-lightning-bolts) (3.0.8)\n",
            "Requirement already satisfied: setuptools>=41.0.0 in /usr/local/lib/python3.7/dist-packages (from tensorboard>=2.2.0->pytorch-lightning>=1.1.1->pytorch-lightning-bolts) (57.4.0)\n",
            "Requirement already satisfied: wheel>=0.26 in /usr/local/lib/python3.7/dist-packages (from tensorboard>=2.2.0->pytorch-lightning>=1.1.1->pytorch-lightning-bolts) (0.37.1)\n",
            "Requirement already satisfied: tensorboard-data-server<0.7.0,>=0.6.0 in /usr/local/lib/python3.7/dist-packages (from tensorboard>=2.2.0->pytorch-lightning>=1.1.1->pytorch-lightning-bolts) (0.6.1)\n",
            "Requirement already satisfied: google-auth<3,>=1.6.3 in /usr/local/lib/python3.7/dist-packages (from tensorboard>=2.2.0->pytorch-lightning>=1.1.1->pytorch-lightning-bolts) (1.35.0)\n",
            "Requirement already satisfied: google-auth-oauthlib<0.5,>=0.4.1 in /usr/local/lib/python3.7/dist-packages (from tensorboard>=2.2.0->pytorch-lightning>=1.1.1->pytorch-lightning-bolts) (0.4.6)\n",
            "Requirement already satisfied: absl-py>=0.4 in /usr/local/lib/python3.7/dist-packages (from tensorboard>=2.2.0->pytorch-lightning>=1.1.1->pytorch-lightning-bolts) (1.0.0)\n",
            "Requirement already satisfied: protobuf>=3.6.0 in /usr/local/lib/python3.7/dist-packages (from tensorboard>=2.2.0->pytorch-lightning>=1.1.1->pytorch-lightning-bolts) (3.17.3)\n",
            "Requirement already satisfied: markdown>=2.6.8 in /usr/local/lib/python3.7/dist-packages (from tensorboard>=2.2.0->pytorch-lightning>=1.1.1->pytorch-lightning-bolts) (3.3.6)\n",
            "Requirement already satisfied: grpcio>=1.24.3 in /usr/local/lib/python3.7/dist-packages (from tensorboard>=2.2.0->pytorch-lightning>=1.1.1->pytorch-lightning-bolts) (1.44.0)\n",
            "Requirement already satisfied: tensorboard-plugin-wit>=1.6.0 in /usr/local/lib/python3.7/dist-packages (from tensorboard>=2.2.0->pytorch-lightning>=1.1.1->pytorch-lightning-bolts) (1.8.1)\n",
            "Requirement already satisfied: werkzeug>=0.11.15 in /usr/local/lib/python3.7/dist-packages (from tensorboard>=2.2.0->pytorch-lightning>=1.1.1->pytorch-lightning-bolts) (1.0.1)\n",
            "Requirement already satisfied: six in /usr/local/lib/python3.7/dist-packages (from absl-py>=0.4->tensorboard>=2.2.0->pytorch-lightning>=1.1.1->pytorch-lightning-bolts) (1.15.0)\n",
            "Requirement already satisfied: rsa<5,>=3.1.4 in /usr/local/lib/python3.7/dist-packages (from google-auth<3,>=1.6.3->tensorboard>=2.2.0->pytorch-lightning>=1.1.1->pytorch-lightning-bolts) (4.8)\n",
            "Requirement already satisfied: pyasn1-modules>=0.2.1 in /usr/local/lib/python3.7/dist-packages (from google-auth<3,>=1.6.3->tensorboard>=2.2.0->pytorch-lightning>=1.1.1->pytorch-lightning-bolts) (0.2.8)\n",
            "Requirement already satisfied: cachetools<5.0,>=2.0.0 in /usr/local/lib/python3.7/dist-packages (from google-auth<3,>=1.6.3->tensorboard>=2.2.0->pytorch-lightning>=1.1.1->pytorch-lightning-bolts) (4.2.4)\n",
            "Requirement already satisfied: requests-oauthlib>=0.7.0 in /usr/local/lib/python3.7/dist-packages (from google-auth-oauthlib<0.5,>=0.4.1->tensorboard>=2.2.0->pytorch-lightning>=1.1.1->pytorch-lightning-bolts) (1.3.1)\n",
            "Requirement already satisfied: importlib-metadata>=4.4 in /usr/local/lib/python3.7/dist-packages (from markdown>=2.6.8->tensorboard>=2.2.0->pytorch-lightning>=1.1.1->pytorch-lightning-bolts) (4.11.3)\n",
            "Requirement already satisfied: zipp>=0.5 in /usr/local/lib/python3.7/dist-packages (from importlib-metadata>=4.4->markdown>=2.6.8->tensorboard>=2.2.0->pytorch-lightning>=1.1.1->pytorch-lightning-bolts) (3.8.0)\n",
            "Requirement already satisfied: pyasn1<0.5.0,>=0.4.6 in /usr/local/lib/python3.7/dist-packages (from pyasn1-modules>=0.2.1->google-auth<3,>=1.6.3->tensorboard>=2.2.0->pytorch-lightning>=1.1.1->pytorch-lightning-bolts) (0.4.8)\n",
            "Requirement already satisfied: urllib3!=1.25.0,!=1.25.1,<1.26,>=1.21.1 in /usr/local/lib/python3.7/dist-packages (from requests->fsspec[http]!=2021.06.0,>=2021.05.0->pytorch-lightning>=1.1.1->pytorch-lightning-bolts) (1.24.3)\n",
            "Requirement already satisfied: chardet<4,>=3.0.2 in /usr/local/lib/python3.7/dist-packages (from requests->fsspec[http]!=2021.06.0,>=2021.05.0->pytorch-lightning>=1.1.1->pytorch-lightning-bolts) (3.0.4)\n",
            "Requirement already satisfied: certifi>=2017.4.17 in /usr/local/lib/python3.7/dist-packages (from requests->fsspec[http]!=2021.06.0,>=2021.05.0->pytorch-lightning>=1.1.1->pytorch-lightning-bolts) (2021.10.8)\n",
            "Requirement already satisfied: idna<3,>=2.5 in /usr/local/lib/python3.7/dist-packages (from requests->fsspec[http]!=2021.06.0,>=2021.05.0->pytorch-lightning>=1.1.1->pytorch-lightning-bolts) (2.10)\n",
            "Requirement already satisfied: oauthlib>=3.0.0 in /usr/local/lib/python3.7/dist-packages (from requests-oauthlib>=0.7.0->google-auth-oauthlib<0.5,>=0.4.1->tensorboard>=2.2.0->pytorch-lightning>=1.1.1->pytorch-lightning-bolts) (3.2.0)\n",
            "Collecting yarl<2.0,>=1.0\n",
            "  Downloading yarl-1.7.2-cp37-cp37m-manylinux_2_5_x86_64.manylinux1_x86_64.manylinux_2_12_x86_64.manylinux2010_x86_64.whl (271 kB)\n",
            "\u001b[K     |████████████████████████████████| 271 kB 77.0 MB/s \n",
            "\u001b[?25hCollecting asynctest==0.13.0\n",
            "  Downloading asynctest-0.13.0-py3-none-any.whl (26 kB)\n",
            "Collecting frozenlist>=1.1.1\n",
            "  Downloading frozenlist-1.3.0-cp37-cp37m-manylinux_2_5_x86_64.manylinux1_x86_64.manylinux_2_17_x86_64.manylinux2014_x86_64.whl (144 kB)\n",
            "\u001b[K     |████████████████████████████████| 144 kB 72.8 MB/s \n",
            "\u001b[?25hCollecting multidict<7.0,>=4.5\n",
            "  Downloading multidict-6.0.2-cp37-cp37m-manylinux_2_17_x86_64.manylinux2014_x86_64.whl (94 kB)\n",
            "\u001b[K     |████████████████████████████████| 94 kB 4.8 MB/s \n",
            "\u001b[?25hCollecting aiosignal>=1.1.2\n",
            "  Downloading aiosignal-1.2.0-py3-none-any.whl (8.2 kB)\n",
            "Collecting async-timeout<5.0,>=4.0.0a3\n",
            "  Downloading async_timeout-4.0.2-py3-none-any.whl (5.8 kB)\n",
            "Requirement already satisfied: charset-normalizer<3.0,>=2.0 in /usr/local/lib/python3.7/dist-packages (from aiohttp->fsspec[http]!=2021.06.0,>=2021.05.0->pytorch-lightning>=1.1.1->pytorch-lightning-bolts) (2.0.12)\n",
            "Requirement already satisfied: attrs>=17.3.0 in /usr/local/lib/python3.7/dist-packages (from aiohttp->fsspec[http]!=2021.06.0,>=2021.05.0->pytorch-lightning>=1.1.1->pytorch-lightning-bolts) (21.4.0)\n",
            "Installing collected packages: multidict, frozenlist, yarl, asynctest, async-timeout, aiosignal, pyDeprecate, fsspec, aiohttp, torchmetrics, PyYAML, pytorch-lightning, pytorch-lightning-bolts\n",
            "  Attempting uninstall: PyYAML\n",
            "    Found existing installation: PyYAML 3.13\n",
            "    Uninstalling PyYAML-3.13:\n",
            "      Successfully uninstalled PyYAML-3.13\n",
            "Successfully installed PyYAML-6.0 aiohttp-3.8.1 aiosignal-1.2.0 async-timeout-4.0.2 asynctest-0.13.0 frozenlist-1.3.0 fsspec-2022.3.0 multidict-6.0.2 pyDeprecate-0.3.2 pytorch-lightning-1.6.3 pytorch-lightning-bolts-0.3.2.post1 torchmetrics-0.8.2 yarl-1.7.2\n"
          ]
        }
      ],
      "source": [
        "%pip install torch torchvision torchaudio\n",
        "%pip install torchtext\n",
        "%pip install pytorch-lightning-bolts"
      ],
      "id": "ee232c84-94ee-4e82-bb30-fc2c893764c6"
    },
    {
      "cell_type": "code",
      "execution_count": null,
      "metadata": {
        "colab": {
          "base_uri": "https://localhost:8080/",
          "height": 1000
        },
        "id": "ecd709f3-1658-4920-9f34-a843c2ab63b6",
        "outputId": "ecb116ee-4c24-4bc5-e2ad-d9d87f0d76e5"
      },
      "outputs": [
        {
          "name": "stdout",
          "output_type": "stream",
          "text": [
            "Collecting datasets\n",
            "  Downloading datasets-2.2.1-py3-none-any.whl (342 kB)\n",
            "\u001b[?25l\r\u001b[K     |█                               | 10 kB 33.8 MB/s eta 0:00:01\r\u001b[K     |██                              | 20 kB 32.4 MB/s eta 0:00:01\r\u001b[K     |██▉                             | 30 kB 19.6 MB/s eta 0:00:01\r\u001b[K     |███▉                            | 40 kB 8.8 MB/s eta 0:00:01\r\u001b[K     |████▉                           | 51 kB 9.9 MB/s eta 0:00:01\r\u001b[K     |█████▊                          | 61 kB 11.7 MB/s eta 0:00:01\r\u001b[K     |██████▊                         | 71 kB 9.0 MB/s eta 0:00:01\r\u001b[K     |███████▋                        | 81 kB 9.7 MB/s eta 0:00:01\r\u001b[K     |████████▋                       | 92 kB 10.8 MB/s eta 0:00:01\r\u001b[K     |█████████▋                      | 102 kB 9.7 MB/s eta 0:00:01\r\u001b[K     |██████████▌                     | 112 kB 9.7 MB/s eta 0:00:01\r\u001b[K     |███████████▌                    | 122 kB 9.7 MB/s eta 0:00:01\r\u001b[K     |████████████▌                   | 133 kB 9.7 MB/s eta 0:00:01\r\u001b[K     |█████████████▍                  | 143 kB 9.7 MB/s eta 0:00:01\r\u001b[K     |██████████████▍                 | 153 kB 9.7 MB/s eta 0:00:01\r\u001b[K     |███████████████▎                | 163 kB 9.7 MB/s eta 0:00:01\r\u001b[K     |████████████████▎               | 174 kB 9.7 MB/s eta 0:00:01\r\u001b[K     |█████████████████▎              | 184 kB 9.7 MB/s eta 0:00:01\r\u001b[K     |██████████████████▏             | 194 kB 9.7 MB/s eta 0:00:01\r\u001b[K     |███████████████████▏            | 204 kB 9.7 MB/s eta 0:00:01\r\u001b[K     |████████████████████            | 215 kB 9.7 MB/s eta 0:00:01\r\u001b[K     |█████████████████████           | 225 kB 9.7 MB/s eta 0:00:01\r\u001b[K     |██████████████████████          | 235 kB 9.7 MB/s eta 0:00:01\r\u001b[K     |███████████████████████         | 245 kB 9.7 MB/s eta 0:00:01\r\u001b[K     |████████████████████████        | 256 kB 9.7 MB/s eta 0:00:01\r\u001b[K     |█████████████████████████       | 266 kB 9.7 MB/s eta 0:00:01\r\u001b[K     |█████████████████████████▉      | 276 kB 9.7 MB/s eta 0:00:01\r\u001b[K     |██████████████████████████▉     | 286 kB 9.7 MB/s eta 0:00:01\r\u001b[K     |███████████████████████████▊    | 296 kB 9.7 MB/s eta 0:00:01\r\u001b[K     |████████████████████████████▊   | 307 kB 9.7 MB/s eta 0:00:01\r\u001b[K     |█████████████████████████████▊  | 317 kB 9.7 MB/s eta 0:00:01\r\u001b[K     |██████████████████████████████▋ | 327 kB 9.7 MB/s eta 0:00:01\r\u001b[K     |███████████████████████████████▋| 337 kB 9.7 MB/s eta 0:00:01\r\u001b[K     |████████████████████████████████| 342 kB 9.7 MB/s \n",
            "\u001b[?25hRequirement already satisfied: importlib-metadata in /usr/local/lib/python3.7/dist-packages (from datasets) (4.11.3)\n",
            "Collecting responses<0.19\n",
            "  Downloading responses-0.18.0-py3-none-any.whl (38 kB)\n",
            "Requirement already satisfied: numpy>=1.17 in /usr/local/lib/python3.7/dist-packages (from datasets) (1.21.6)\n",
            "Requirement already satisfied: tqdm>=4.62.1 in /usr/local/lib/python3.7/dist-packages (from datasets) (4.64.0)\n",
            "Requirement already satisfied: multiprocess in /usr/local/lib/python3.7/dist-packages (from datasets) (0.70.12.2)\n",
            "Requirement already satisfied: fsspec[http]>=2021.05.0 in /usr/local/lib/python3.7/dist-packages (from datasets) (2022.3.0)\n",
            "Collecting huggingface-hub<1.0.0,>=0.1.0\n",
            "  Downloading huggingface_hub-0.6.0-py3-none-any.whl (84 kB)\n",
            "\u001b[K     |████████████████████████████████| 84 kB 4.2 MB/s \n",
            "\u001b[?25hRequirement already satisfied: packaging in /usr/local/lib/python3.7/dist-packages (from datasets) (21.3)\n",
            "Requirement already satisfied: pandas in /usr/local/lib/python3.7/dist-packages (from datasets) (1.3.5)\n",
            "Requirement already satisfied: pyarrow>=6.0.0 in /usr/local/lib/python3.7/dist-packages (from datasets) (6.0.1)\n",
            "Collecting xxhash\n",
            "  Downloading xxhash-3.0.0-cp37-cp37m-manylinux_2_17_x86_64.manylinux2014_x86_64.whl (212 kB)\n",
            "\u001b[K     |████████████████████████████████| 212 kB 70.7 MB/s \n",
            "\u001b[?25hRequirement already satisfied: dill in /usr/local/lib/python3.7/dist-packages (from datasets) (0.3.4)\n",
            "Requirement already satisfied: requests>=2.19.0 in /usr/local/lib/python3.7/dist-packages (from datasets) (2.23.0)\n",
            "Requirement already satisfied: aiohttp in /usr/local/lib/python3.7/dist-packages (from datasets) (3.8.1)\n",
            "Requirement already satisfied: pyyaml in /usr/local/lib/python3.7/dist-packages (from huggingface-hub<1.0.0,>=0.1.0->datasets) (6.0)\n",
            "Requirement already satisfied: typing-extensions>=3.7.4.3 in /usr/local/lib/python3.7/dist-packages (from huggingface-hub<1.0.0,>=0.1.0->datasets) (4.2.0)\n",
            "Requirement already satisfied: filelock in /usr/local/lib/python3.7/dist-packages (from huggingface-hub<1.0.0,>=0.1.0->datasets) (3.6.0)\n",
            "Requirement already satisfied: pyparsing!=3.0.5,>=2.0.2 in /usr/local/lib/python3.7/dist-packages (from packaging->datasets) (3.0.8)\n",
            "Requirement already satisfied: chardet<4,>=3.0.2 in /usr/local/lib/python3.7/dist-packages (from requests>=2.19.0->datasets) (3.0.4)\n",
            "Requirement already satisfied: idna<3,>=2.5 in /usr/local/lib/python3.7/dist-packages (from requests>=2.19.0->datasets) (2.10)\n",
            "Requirement already satisfied: certifi>=2017.4.17 in /usr/local/lib/python3.7/dist-packages (from requests>=2.19.0->datasets) (2021.10.8)\n",
            "Requirement already satisfied: urllib3!=1.25.0,!=1.25.1,<1.26,>=1.21.1 in /usr/local/lib/python3.7/dist-packages (from requests>=2.19.0->datasets) (1.24.3)\n",
            "Collecting urllib3!=1.25.0,!=1.25.1,<1.26,>=1.21.1\n",
            "  Downloading urllib3-1.25.11-py2.py3-none-any.whl (127 kB)\n",
            "\u001b[K     |████████████████████████████████| 127 kB 73.9 MB/s \n",
            "\u001b[?25hRequirement already satisfied: yarl<2.0,>=1.0 in /usr/local/lib/python3.7/dist-packages (from aiohttp->datasets) (1.7.2)\n",
            "Requirement already satisfied: frozenlist>=1.1.1 in /usr/local/lib/python3.7/dist-packages (from aiohttp->datasets) (1.3.0)\n",
            "Requirement already satisfied: aiosignal>=1.1.2 in /usr/local/lib/python3.7/dist-packages (from aiohttp->datasets) (1.2.0)\n",
            "Requirement already satisfied: attrs>=17.3.0 in /usr/local/lib/python3.7/dist-packages (from aiohttp->datasets) (21.4.0)\n",
            "Requirement already satisfied: asynctest==0.13.0 in /usr/local/lib/python3.7/dist-packages (from aiohttp->datasets) (0.13.0)\n",
            "Requirement already satisfied: multidict<7.0,>=4.5 in /usr/local/lib/python3.7/dist-packages (from aiohttp->datasets) (6.0.2)\n",
            "Requirement already satisfied: async-timeout<5.0,>=4.0.0a3 in /usr/local/lib/python3.7/dist-packages (from aiohttp->datasets) (4.0.2)\n",
            "Requirement already satisfied: charset-normalizer<3.0,>=2.0 in /usr/local/lib/python3.7/dist-packages (from aiohttp->datasets) (2.0.12)\n",
            "Requirement already satisfied: zipp>=0.5 in /usr/local/lib/python3.7/dist-packages (from importlib-metadata->datasets) (3.8.0)\n",
            "Requirement already satisfied: python-dateutil>=2.7.3 in /usr/local/lib/python3.7/dist-packages (from pandas->datasets) (2.8.2)\n",
            "Requirement already satisfied: pytz>=2017.3 in /usr/local/lib/python3.7/dist-packages (from pandas->datasets) (2022.1)\n",
            "Requirement already satisfied: six>=1.5 in /usr/local/lib/python3.7/dist-packages (from python-dateutil>=2.7.3->pandas->datasets) (1.15.0)\n",
            "Installing collected packages: urllib3, xxhash, responses, huggingface-hub, datasets\n",
            "  Attempting uninstall: urllib3\n",
            "    Found existing installation: urllib3 1.24.3\n",
            "    Uninstalling urllib3-1.24.3:\n",
            "      Successfully uninstalled urllib3-1.24.3\n",
            "\u001b[31mERROR: pip's dependency resolver does not currently take into account all the packages that are installed. This behaviour is the source of the following dependency conflicts.\n",
            "datascience 0.10.6 requires folium==0.2.1, but you have folium 0.8.3 which is incompatible.\u001b[0m\n",
            "Successfully installed datasets-2.2.1 huggingface-hub-0.6.0 responses-0.18.0 urllib3-1.25.11 xxhash-3.0.0\n"
          ]
        },
        {
          "data": {
            "application/vnd.colab-display-data+json": {
              "pip_warning": {
                "packages": [
                  "urllib3"
                ]
              }
            }
          },
          "metadata": {},
          "output_type": "display_data"
        }
      ],
      "source": [
        "% pip install datasets"
      ],
      "id": "ecd709f3-1658-4920-9f34-a843c2ab63b6"
    },
    {
      "cell_type": "code",
      "execution_count": null,
      "metadata": {
        "id": "51ba90aa-cb3b-47b0-8431-e8dffcc46bf9"
      },
      "outputs": [],
      "source": [
        "import datasets\n",
        "import numpy as np\n"
      ],
      "id": "51ba90aa-cb3b-47b0-8431-e8dffcc46bf9"
    },
    {
      "cell_type": "code",
      "execution_count": 26,
      "metadata": {
        "colab": {
          "base_uri": "https://localhost:8080/",
          "height": 103,
          "referenced_widgets": [
            "5c4e0ba70bcd4a1ba0a9006420dd181e",
            "6ef9686d8faa459eaa78a500ca08dc43",
            "c80fe22821194751b3f7a10a46b4e21e",
            "7ba5140250d64146a6cea6f9c8348e30",
            "b19d66f5eb5846ad87783e9356c33b91",
            "ecce5527e21b4c97858505501d419756",
            "1debdcf8a4b64e629b53417595e29fb5",
            "290e29c476374caa98008fb9504688dc",
            "86f999cdc8d74e6ab14d5edd10cd6fe8",
            "21d4fb2246d14284b0a5720b0fffa706",
            "7ef1bce767624e8588bf00cbec541c1e"
          ]
        },
        "id": "97537cda-bdea-46ad-a753-b865385901e1",
        "outputId": "e33212c3-eb59-43da-8a44-39d62b0efc0e"
      },
      "outputs": [
        {
          "output_type": "stream",
          "name": "stderr",
          "text": [
            "Reusing dataset imdb (./data/imdb/plain_text/1.0.0/2fdd8b9bcadd6e7055e742a706876ba43f19faee861df134affd7a3f60fc38a1)\n"
          ]
        },
        {
          "output_type": "display_data",
          "data": {
            "text/plain": [
              "  0%|          | 0/2 [00:00<?, ?it/s]"
            ],
            "application/vnd.jupyter.widget-view+json": {
              "version_major": 2,
              "version_minor": 0,
              "model_id": "5c4e0ba70bcd4a1ba0a9006420dd181e"
            }
          },
          "metadata": {}
        },
        {
          "output_type": "stream",
          "name": "stdout",
          "text": [
            "{'text': 'Notorious for more than a quarter century (and often banned), it\\'s obscurity was its greatest asset it seems. Hey, it\\'s often better to be talked about, rather than actually seen when you can\\'t back the \"legend\" up with substance.<br /><br />The film has played in Los Angeles a couple of times recently, and is available on home video, so that veil is slowly being lifted. While there is still plenty to offend the masses, it is more likely to bore them, than arouse much real passion. Except for a gratuitous and protracted XXX sex scene between a pair of horses (\"Nature Documentary\" anyone?), there follows nearly an hour of a dull arranged marriage melodrama. <br /><br />Once the sex and nudity begins, it is a nonstop sequence involving masturbation, a looooooooong flashback to an alleged \\'beauty and the beast\\' encounter, and a naked woman running around the mansion (nobody, even her supposedly protective Aunt, seems to even think of putting some clothes on her!). On video, I guess you can fast-forward thru the banality, but it\\'s not really worth the effort. The nudity doesn\\'t go beyond what is seen in something much more substantive such as Bertolucci\\'s THE DREAMERS.<br /><br />Try as one might to find some \\'moral\\' or \\'symbolism\\' in the carnality, I doubt it\\'s worthy of anyone\\'s effort. Unfortunately, for LA BETE, now that you can more easily see the film, the notoriety of something once \\'forbidden\\' has been lifted. And this beast has been tamed.', 'label': 0}\n"
          ]
        }
      ],
      "source": [
        "train_data, test_data = datasets.load_dataset('imdb', split =['train', 'test'], \n",
        "                                            cache_dir='./data/')\n",
        "# train_data_dev, test_data_dev = train_data.select([0, 10, 20, 30, 40, 50]), test_data.select([0, 10, 20, 30, 40, 50])\n",
        "# num_dev = 25000\n",
        "# num_dev_test = 1000\n",
        "# train_data_dev, test_data_dev = train_data.select(list(np.random.randint(len(train_data), size=num_dev))), test_data.select(list(np.random.randint(len(test_data), size=num_dev_test)))\n",
        "print(train_data_dev[0])"
      ],
      "id": "97537cda-bdea-46ad-a753-b865385901e1"
    },
    {
      "cell_type": "code",
      "execution_count": 51,
      "metadata": {
        "id": "a0823a32-4ea2-4e5f-93ad-0688c5ab36ec"
      },
      "outputs": [],
      "source": [
        "counter = 0\n",
        "# # print(type(train_data_dev))\n",
        "# # for data in train_data_dev:\n",
        "# #   if counter>0:\n",
        "# #     break\n",
        "# #   counter+=1\n",
        "\n",
        "# #   print(type(data))\n",
        "# train_data_dev[12683]\n",
        "label_zero = []\n",
        "label_one = []\n",
        "for i, data in enumerate(train_data):\n",
        "  data_arr = data[\"text\"].split(\" \")\n",
        "  if len(data_arr)<512:\n",
        "    continue\n",
        "  if data[\"label\"] == 0:\n",
        "    label_zero.append(i)\n",
        "  if data[\"label\"] == 1:\n",
        "    label_one.append(i)\n",
        "sampled_zero = []"
      ],
      "id": "a0823a32-4ea2-4e5f-93ad-0688c5ab36ec"
    },
    {
      "cell_type": "code",
      "source": [
        "sampled_zero = list(np.random.choice(label_zero, size=500, replace=False))"
      ],
      "metadata": {
        "id": "AssZeA4Emxsi"
      },
      "id": "AssZeA4Emxsi",
      "execution_count": 52,
      "outputs": []
    },
    {
      "cell_type": "code",
      "execution_count": 53,
      "metadata": {
        "id": "c6e7e62d-3215-4725-8646-43ffbfe3e583",
        "colab": {
          "base_uri": "https://localhost:8080/"
        },
        "outputId": "46d6e983-b1e4-4d13-ac04-a4b4ad890cf7"
      },
      "outputs": [
        {
          "output_type": "stream",
          "name": "stdout",
          "text": [
            "[6120, 10101, 4954, 11633, 8457, 4035, 10047, 6517, 5876, 3321, 12093, 5850, 8858, 6442, 7325, 5042, 1107, 4359, 8449, 11051, 3615, 6300, 10353, 2222, 12435, 2553, 4625, 8519, 9906, 5471, 2457, 11199, 11041, 8948, 9748, 12245, 10310, 4465, 6235, 7179, 8810, 10827, 4503, 4593, 87, 4273, 6596, 848, 6296, 1906, 11941, 3496, 8497, 12084, 10625, 7504, 7916, 11901, 1445, 3327, 4667, 9760, 11528, 1469, 11734, 11393, 10926, 6633, 8170, 12092, 5487, 2342, 12291, 4374, 4058, 3838, 2995, 5544, 651, 2865, 5638, 11147, 2742, 4592, 3277, 687, 3876, 12080, 5083, 7920, 7113, 7918, 3280, 7615, 3973, 7564, 422, 615, 375, 1492, 11089, 3992, 1306, 10102, 3771, 5441, 5706, 8252, 7454, 4064, 7912, 7249, 655, 10602, 10760, 12282, 9110, 6712, 4560, 681, 6839, 1233, 10619, 989, 5825, 3416, 8490, 4362, 6194, 11899, 2201, 10225, 4705, 4413, 7831, 1545, 517, 3435, 11261, 5406, 10414, 197, 7675, 2394, 4018, 8940, 3852, 9165, 2535, 2362, 10028, 10789, 3924, 9534, 3260, 95, 5917, 6037, 2025, 8087, 8978, 10130, 11283, 11120, 4745, 461, 12119, 1727, 11749, 11978, 3654, 5804, 2038, 9480, 6572, 10571, 6811, 2460, 10717, 6952, 11866, 3032, 657, 3612, 11116, 5334, 3840, 612, 6467, 4175, 7361, 5451, 413, 2322, 3501, 8031, 10228, 11250, 11527, 3570, 1903, 7665, 6741, 5907, 10472, 6069, 10209, 4801, 6536, 4050, 3170, 2773, 1267, 8860, 7290, 2963, 10991, 12255, 6831, 4424, 5701, 10478, 10659, 9451, 4126, 3762, 11957, 11794, 6592, 9450, 6276, 10415, 7781, 7439, 8855, 8160, 1966, 4167, 5717, 4594, 7484, 7679, 6888, 9418, 6946, 614, 1668, 3684, 7984, 11818, 11738, 12018, 3663, 11359, 9815, 10175, 10054, 8823, 3929, 8021, 6973, 12497, 2311, 4024, 7794, 11654, 7919, 7877, 7983, 7303, 128, 9617, 4500, 281, 230, 1606, 7320, 8606, 10603, 238, 1330, 1432, 7546, 7410, 4895, 4486, 4427, 10481, 1181, 7409, 5714, 1075, 11067, 6191, 9105, 9500, 8856, 2271, 7910, 5243, 6005, 9063, 9609, 8540, 5192, 10919, 10540, 6584, 8699, 6666, 4320, 8146, 5945, 3426, 12403, 2022, 4851, 3048, 8926, 6411, 7407, 8896, 12235, 3635, 7574, 7570, 9037, 2365, 6055, 8171, 11488, 757, 2000, 3076, 9161, 3519, 5526, 6443, 4261, 11086, 4496, 1778, 1458, 10226, 10470, 5903, 1026, 6168, 7548, 11927, 9951, 7961, 6985, 12496, 5807, 689, 8798, 10073, 7000, 8753, 7906, 5817, 7180, 942, 7801, 265, 2717, 7392, 11943, 8861, 478, 6156, 8328, 10578, 2318, 2037, 7881, 3021, 9652, 9407, 3504, 1915, 5407, 4814, 4057, 1127, 11496, 2302, 6111, 3033, 7415, 248, 2783, 5510, 4744, 2824, 9287, 5663, 12254, 1477, 6488, 803, 9893, 5619, 353, 1147, 4853, 11238, 4091, 10397, 4472, 2655, 4032, 7448, 3926, 1361, 2903, 4281, 1174, 4523, 12096, 6128, 2806, 6390, 498, 11477, 4710, 1759, 6966, 10653, 8692, 92, 8839, 11318, 1340, 1371, 2743, 6192, 12219, 8528, 7932, 2671, 6604, 2033, 4521, 7391, 3775, 2496, 11956, 9359, 4404, 5035, 528, 3311, 8177, 8712, 11013, 8397, 5359, 4860, 2712, 1670, 2841, 11156, 8838, 5244, 11248, 1669, 5521, 3716, 7557, 11942, 2686, 9106, 6248, 9372, 1520, 11631, 3239, 7838, 17, 1907, 9341, 1244, 10203, 3035, 370, 5721, 11441, 483, 2226, 5404, 12163, 7577, 3833, 965, 11596, 11799, 4615, 6197]\n"
          ]
        }
      ],
      "source": [
        "print(sampled_zero)\n"
      ],
      "id": "c6e7e62d-3215-4725-8646-43ffbfe3e583"
    },
    {
      "cell_type": "code",
      "execution_count": 54,
      "metadata": {
        "id": "a9160e59-5147-420c-b6de-bab805e1a1fc"
      },
      "outputs": [],
      "source": [
        "sampled_ones = list(np.random.choice(label_one,size = 500,replace=False))"
      ],
      "id": "a9160e59-5147-420c-b6de-bab805e1a1fc"
    },
    {
      "cell_type": "code",
      "execution_count": 57,
      "metadata": {
        "id": "340977ee-936c-422a-a956-c90829beb195",
        "colab": {
          "base_uri": "https://localhost:8080/"
        },
        "outputId": "c2017404-3479-4f1a-a713-532cf8985f4e"
      },
      "outputs": [
        {
          "output_type": "stream",
          "name": "stdout",
          "text": [
            "500\n",
            "500\n"
          ]
        }
      ],
      "source": [
        "print(len(sampled_ones))\n",
        "print(len(sampled_zero))"
      ],
      "id": "340977ee-936c-422a-a956-c90829beb195"
    },
    {
      "cell_type": "code",
      "execution_count": 58,
      "metadata": {
        "id": "4abbe8f9-3f86-4710-a627-e5175896e4cf"
      },
      "outputs": [],
      "source": [
        "sampled_ones.extend(sampled_zero)"
      ],
      "id": "4abbe8f9-3f86-4710-a627-e5175896e4cf"
    },
    {
      "cell_type": "code",
      "execution_count": 59,
      "metadata": {
        "id": "kTxqOzkih6m8",
        "colab": {
          "base_uri": "https://localhost:8080/"
        },
        "outputId": "29514c5e-b235-454f-a137-e7499b2a6dcd"
      },
      "outputs": [
        {
          "output_type": "stream",
          "name": "stdout",
          "text": [
            "1000\n"
          ]
        }
      ],
      "source": [
        "print(len(sampled_ones))"
      ],
      "id": "kTxqOzkih6m8"
    },
    {
      "cell_type": "code",
      "execution_count": 60,
      "metadata": {
        "id": "lWfId1Ujh9cy",
        "colab": {
          "base_uri": "https://localhost:8080/"
        },
        "outputId": "8ce7e47e-8d1c-4926-e4eb-3d1374b75e65"
      },
      "outputs": [
        {
          "output_type": "stream",
          "name": "stdout",
          "text": [
            "[13948, 16957, 16591, 21673, 18126, 15632, 24131, 22043, 21999, 18666, 24361, 22780, 13054, 16548, 20550, 22122, 14115, 14190, 18295, 22340, 19228, 16617, 13342, 18714, 15091, 22751, 15269, 21510, 21482, 24008, 19893, 17653, 21960, 24451, 19525, 23748, 17410, 17662, 13351, 15092, 19748, 14089, 19892, 18125, 13100, 18980, 20168, 12905, 20640, 16454, 13056, 18490, 20476, 22105, 15081, 15006, 14414, 13866, 14422, 13278, 20509, 12567, 13951, 14167, 23024, 19144, 23854, 23954, 22547, 16052, 15085, 13922, 23209, 24905, 24530, 18954, 15476, 13123, 13184, 21996, 21833, 24796, 18034, 19410, 16857, 17950, 23906, 22001, 14497, 18037, 18204, 21878, 16557, 18178, 24299, 23049, 22175, 17753, 13925, 22174, 24713, 16229, 15227, 19676, 17312, 21062, 24081, 16084, 19877, 15515, 24011, 22796, 13400, 19041, 22738, 16121, 22717, 19099, 24441, 13778, 21060, 21433, 15168, 17603, 19899, 14408, 20043, 16554, 20285, 22826, 15401, 24558, 13062, 20933, 15947, 17716, 20152, 18691, 21249, 19910, 13060, 17033, 16682, 22139, 14117, 18636, 17925, 12877, 15259, 23715, 23509, 13597, 22099, 21516, 13343, 21020, 21798, 18302, 23771, 18083, 13931, 20320, 16767, 13483, 16020, 20847, 19383, 15975, 19943, 13649, 18101, 14713, 23951, 13921, 15965, 13099, 24132, 18155, 22362, 17389, 15008, 24761, 19953, 19665, 16948, 18111, 16102, 18888, 19961, 22750, 18492, 21795, 23769, 16610, 24876, 16947, 22302, 17107, 24280, 15268, 17923, 22900, 14852, 19828, 14454, 16489, 12610, 16573, 20407, 17587, 17209, 22789, 13503, 13399, 21899, 16504, 21871, 21421, 19369, 13270, 16888, 13314, 13970, 16119, 23700, 14508, 20226, 19621, 12598, 24749, 20844, 17888, 19846, 15670, 13634, 23613, 17705, 16953, 18041, 18470, 22283, 21018, 14800, 13030, 15858, 19727, 24706, 16382, 22307, 13353, 21557, 19371, 17200, 24052, 15307, 23511, 21304, 20297, 17275, 20655, 24461, 13833, 21106, 14088, 15474, 23447, 13451, 17161, 23815, 14133, 20437, 23575, 16013, 17217, 18281, 21361, 14626, 16927, 23982, 17105, 22954, 24998, 21569, 18045, 24259, 14024, 16113, 22551, 18635, 14947, 14913, 16969, 21426, 20206, 15634, 24477, 16058, 14861, 24007, 18051, 15052, 22549, 15026, 21149, 22440, 13667, 16562, 24262, 23749, 17846, 19357, 17665, 19194, 13940, 15873, 16220, 16995, 15378, 12883, 16701, 17966, 13415, 17396, 24122, 21567, 18132, 13608, 20447, 16014, 21073, 14236, 21323, 20439, 13025, 23457, 16257, 19969, 21217, 23103, 14470, 20851, 18256, 21551, 15423, 17560, 21888, 19965, 19153, 22169, 13556, 19005, 23597, 23001, 19174, 12751, 20840, 19506, 12739, 12829, 13284, 16177, 16100, 19345, 23759, 21028, 13046, 13792, 15984, 23839, 24425, 13089, 17864, 17759, 16227, 19056, 16455, 19982, 21773, 14802, 16937, 22727, 23038, 19596, 14203, 16247, 13309, 13474, 15015, 17475, 13086, 22922, 20230, 22478, 23592, 17711, 24312, 20601, 19343, 22438, 14233, 23836, 23552, 23382, 16149, 15834, 24571, 17537, 17483, 19192, 13253, 18629, 17784, 16648, 17280, 24036, 19639, 17022, 14375, 20041, 20726, 21959, 23161, 19203, 21218, 20110, 14486, 19915, 17660, 16365, 23696, 24842, 18381, 14943, 19336, 22557, 15659, 19750, 21427, 20572, 18663, 20808, 24728, 24777, 23541, 22416, 21138, 13348, 18327, 16487, 14451, 22501, 19406, 13316, 24315, 21250, 14518, 15952, 22000, 23883, 13336, 19344, 21967, 20418, 18146, 21900, 16505, 14706, 22792, 22554, 13558, 21966, 23865, 16926, 17473, 19176, 17267, 19035, 13952, 20209, 18117, 15881, 23873, 18190, 19617, 18630, 21951, 12888, 12658, 15270, 15809, 21955, 23514, 23773, 21109, 19502, 22317, 14780, 20765, 24100, 19105, 6120, 10101, 4954, 11633, 8457, 4035, 10047, 6517, 5876, 3321, 12093, 5850, 8858, 6442, 7325, 5042, 1107, 4359, 8449, 11051, 3615, 6300, 10353, 2222, 12435, 2553, 4625, 8519, 9906, 5471, 2457, 11199, 11041, 8948, 9748, 12245, 10310, 4465, 6235, 7179, 8810, 10827, 4503, 4593, 87, 4273, 6596, 848, 6296, 1906, 11941, 3496, 8497, 12084, 10625, 7504, 7916, 11901, 1445, 3327, 4667, 9760, 11528, 1469, 11734, 11393, 10926, 6633, 8170, 12092, 5487, 2342, 12291, 4374, 4058, 3838, 2995, 5544, 651, 2865, 5638, 11147, 2742, 4592, 3277, 687, 3876, 12080, 5083, 7920, 7113, 7918, 3280, 7615, 3973, 7564, 422, 615, 375, 1492, 11089, 3992, 1306, 10102, 3771, 5441, 5706, 8252, 7454, 4064, 7912, 7249, 655, 10602, 10760, 12282, 9110, 6712, 4560, 681, 6839, 1233, 10619, 989, 5825, 3416, 8490, 4362, 6194, 11899, 2201, 10225, 4705, 4413, 7831, 1545, 517, 3435, 11261, 5406, 10414, 197, 7675, 2394, 4018, 8940, 3852, 9165, 2535, 2362, 10028, 10789, 3924, 9534, 3260, 95, 5917, 6037, 2025, 8087, 8978, 10130, 11283, 11120, 4745, 461, 12119, 1727, 11749, 11978, 3654, 5804, 2038, 9480, 6572, 10571, 6811, 2460, 10717, 6952, 11866, 3032, 657, 3612, 11116, 5334, 3840, 612, 6467, 4175, 7361, 5451, 413, 2322, 3501, 8031, 10228, 11250, 11527, 3570, 1903, 7665, 6741, 5907, 10472, 6069, 10209, 4801, 6536, 4050, 3170, 2773, 1267, 8860, 7290, 2963, 10991, 12255, 6831, 4424, 5701, 10478, 10659, 9451, 4126, 3762, 11957, 11794, 6592, 9450, 6276, 10415, 7781, 7439, 8855, 8160, 1966, 4167, 5717, 4594, 7484, 7679, 6888, 9418, 6946, 614, 1668, 3684, 7984, 11818, 11738, 12018, 3663, 11359, 9815, 10175, 10054, 8823, 3929, 8021, 6973, 12497, 2311, 4024, 7794, 11654, 7919, 7877, 7983, 7303, 128, 9617, 4500, 281, 230, 1606, 7320, 8606, 10603, 238, 1330, 1432, 7546, 7410, 4895, 4486, 4427, 10481, 1181, 7409, 5714, 1075, 11067, 6191, 9105, 9500, 8856, 2271, 7910, 5243, 6005, 9063, 9609, 8540, 5192, 10919, 10540, 6584, 8699, 6666, 4320, 8146, 5945, 3426, 12403, 2022, 4851, 3048, 8926, 6411, 7407, 8896, 12235, 3635, 7574, 7570, 9037, 2365, 6055, 8171, 11488, 757, 2000, 3076, 9161, 3519, 5526, 6443, 4261, 11086, 4496, 1778, 1458, 10226, 10470, 5903, 1026, 6168, 7548, 11927, 9951, 7961, 6985, 12496, 5807, 689, 8798, 10073, 7000, 8753, 7906, 5817, 7180, 942, 7801, 265, 2717, 7392, 11943, 8861, 478, 6156, 8328, 10578, 2318, 2037, 7881, 3021, 9652, 9407, 3504, 1915, 5407, 4814, 4057, 1127, 11496, 2302, 6111, 3033, 7415, 248, 2783, 5510, 4744, 2824, 9287, 5663, 12254, 1477, 6488, 803, 9893, 5619, 353, 1147, 4853, 11238, 4091, 10397, 4472, 2655, 4032, 7448, 3926, 1361, 2903, 4281, 1174, 4523, 12096, 6128, 2806, 6390, 498, 11477, 4710, 1759, 6966, 10653, 8692, 92, 8839, 11318, 1340, 1371, 2743, 6192, 12219, 8528, 7932, 2671, 6604, 2033, 4521, 7391, 3775, 2496, 11956, 9359, 4404, 5035, 528, 3311, 8177, 8712, 11013, 8397, 5359, 4860, 2712, 1670, 2841, 11156, 8838, 5244, 11248, 1669, 5521, 3716, 7557, 11942, 2686, 9106, 6248, 9372, 1520, 11631, 3239, 7838, 17, 1907, 9341, 1244, 10203, 3035, 370, 5721, 11441, 483, 2226, 5404, 12163, 7577, 3833, 965, 11596, 11799, 4615, 6197]\n"
          ]
        }
      ],
      "source": [
        "print(sampled_ones)"
      ],
      "id": "lWfId1Ujh9cy"
    },
    {
      "cell_type": "code",
      "source": [
        "train_data_dev= train_data.select(sampled_ones)"
      ],
      "metadata": {
        "id": "9S-NBWAmjcSv"
      },
      "id": "9S-NBWAmjcSv",
      "execution_count": 61,
      "outputs": []
    },
    {
      "cell_type": "code",
      "source": [
        "import pickle\n",
        "import io"
      ],
      "metadata": {
        "id": "CRWnrlBckg_K"
      },
      "id": "CRWnrlBckg_K",
      "execution_count": 62,
      "outputs": []
    },
    {
      "cell_type": "code",
      "source": [
        "number_of_zeros = 0\n",
        "number_of_ones = 0\n",
        "for data in train_data_dev:\n",
        "  if data[\"label\"] == 0:\n",
        "    number_of_zeros+=1\n",
        "  else:\n",
        "    number_of_ones+=1\n",
        "\n",
        "assert number_of_zeros == number_of_ones"
      ],
      "metadata": {
        "id": "ij4hCsU5jul4"
      },
      "id": "ij4hCsU5jul4",
      "execution_count": 63,
      "outputs": []
    },
    {
      "cell_type": "code",
      "source": [
        "pickleBuffer = io.BytesIO()"
      ],
      "metadata": {
        "id": "bs-VoDzJkGCq"
      },
      "id": "bs-VoDzJkGCq",
      "execution_count": 64,
      "outputs": []
    },
    {
      "cell_type": "code",
      "source": [
        "pickle.dump(train_data_dev,pickleBuffer)"
      ],
      "metadata": {
        "id": "gWV2CMmTksBi"
      },
      "id": "gWV2CMmTksBi",
      "execution_count": 65,
      "outputs": []
    },
    {
      "cell_type": "code",
      "source": [
        "with open('data.pickle', 'wb') as f:\n",
        "    pickle.dump(train_data_dev, f)"
      ],
      "metadata": {
        "id": "ag4_nHEzkwpk"
      },
      "id": "ag4_nHEzkwpk",
      "execution_count": 66,
      "outputs": []
    },
    {
      "cell_type": "code",
      "source": [
        ""
      ],
      "metadata": {
        "id": "QSY9anohk_4G"
      },
      "id": "QSY9anohk_4G",
      "execution_count": null,
      "outputs": []
    }
  ],
  "metadata": {
    "accelerator": "GPU",
    "colab": {
      "name": "Data_filter.ipynb",
      "provenance": []
    },
    "kernelspec": {
      "display_name": "Python 3",
      "name": "python3"
    },
    "language_info": {
      "name": "python"
    },
    "widgets": {
      "application/vnd.jupyter.widget-state+json": {
        "5c4e0ba70bcd4a1ba0a9006420dd181e": {
          "model_module": "@jupyter-widgets/controls",
          "model_name": "HBoxModel",
          "model_module_version": "1.5.0",
          "state": {
            "_dom_classes": [],
            "_model_module": "@jupyter-widgets/controls",
            "_model_module_version": "1.5.0",
            "_model_name": "HBoxModel",
            "_view_count": null,
            "_view_module": "@jupyter-widgets/controls",
            "_view_module_version": "1.5.0",
            "_view_name": "HBoxView",
            "box_style": "",
            "children": [
              "IPY_MODEL_6ef9686d8faa459eaa78a500ca08dc43",
              "IPY_MODEL_c80fe22821194751b3f7a10a46b4e21e",
              "IPY_MODEL_7ba5140250d64146a6cea6f9c8348e30"
            ],
            "layout": "IPY_MODEL_b19d66f5eb5846ad87783e9356c33b91"
          }
        },
        "6ef9686d8faa459eaa78a500ca08dc43": {
          "model_module": "@jupyter-widgets/controls",
          "model_name": "HTMLModel",
          "model_module_version": "1.5.0",
          "state": {
            "_dom_classes": [],
            "_model_module": "@jupyter-widgets/controls",
            "_model_module_version": "1.5.0",
            "_model_name": "HTMLModel",
            "_view_count": null,
            "_view_module": "@jupyter-widgets/controls",
            "_view_module_version": "1.5.0",
            "_view_name": "HTMLView",
            "description": "",
            "description_tooltip": null,
            "layout": "IPY_MODEL_ecce5527e21b4c97858505501d419756",
            "placeholder": "​",
            "style": "IPY_MODEL_1debdcf8a4b64e629b53417595e29fb5",
            "value": "100%"
          }
        },
        "c80fe22821194751b3f7a10a46b4e21e": {
          "model_module": "@jupyter-widgets/controls",
          "model_name": "FloatProgressModel",
          "model_module_version": "1.5.0",
          "state": {
            "_dom_classes": [],
            "_model_module": "@jupyter-widgets/controls",
            "_model_module_version": "1.5.0",
            "_model_name": "FloatProgressModel",
            "_view_count": null,
            "_view_module": "@jupyter-widgets/controls",
            "_view_module_version": "1.5.0",
            "_view_name": "ProgressView",
            "bar_style": "success",
            "description": "",
            "description_tooltip": null,
            "layout": "IPY_MODEL_290e29c476374caa98008fb9504688dc",
            "max": 2,
            "min": 0,
            "orientation": "horizontal",
            "style": "IPY_MODEL_86f999cdc8d74e6ab14d5edd10cd6fe8",
            "value": 2
          }
        },
        "7ba5140250d64146a6cea6f9c8348e30": {
          "model_module": "@jupyter-widgets/controls",
          "model_name": "HTMLModel",
          "model_module_version": "1.5.0",
          "state": {
            "_dom_classes": [],
            "_model_module": "@jupyter-widgets/controls",
            "_model_module_version": "1.5.0",
            "_model_name": "HTMLModel",
            "_view_count": null,
            "_view_module": "@jupyter-widgets/controls",
            "_view_module_version": "1.5.0",
            "_view_name": "HTMLView",
            "description": "",
            "description_tooltip": null,
            "layout": "IPY_MODEL_21d4fb2246d14284b0a5720b0fffa706",
            "placeholder": "​",
            "style": "IPY_MODEL_7ef1bce767624e8588bf00cbec541c1e",
            "value": " 2/2 [00:00&lt;00:00, 56.62it/s]"
          }
        },
        "b19d66f5eb5846ad87783e9356c33b91": {
          "model_module": "@jupyter-widgets/base",
          "model_name": "LayoutModel",
          "model_module_version": "1.2.0",
          "state": {
            "_model_module": "@jupyter-widgets/base",
            "_model_module_version": "1.2.0",
            "_model_name": "LayoutModel",
            "_view_count": null,
            "_view_module": "@jupyter-widgets/base",
            "_view_module_version": "1.2.0",
            "_view_name": "LayoutView",
            "align_content": null,
            "align_items": null,
            "align_self": null,
            "border": null,
            "bottom": null,
            "display": null,
            "flex": null,
            "flex_flow": null,
            "grid_area": null,
            "grid_auto_columns": null,
            "grid_auto_flow": null,
            "grid_auto_rows": null,
            "grid_column": null,
            "grid_gap": null,
            "grid_row": null,
            "grid_template_areas": null,
            "grid_template_columns": null,
            "grid_template_rows": null,
            "height": null,
            "justify_content": null,
            "justify_items": null,
            "left": null,
            "margin": null,
            "max_height": null,
            "max_width": null,
            "min_height": null,
            "min_width": null,
            "object_fit": null,
            "object_position": null,
            "order": null,
            "overflow": null,
            "overflow_x": null,
            "overflow_y": null,
            "padding": null,
            "right": null,
            "top": null,
            "visibility": null,
            "width": null
          }
        },
        "ecce5527e21b4c97858505501d419756": {
          "model_module": "@jupyter-widgets/base",
          "model_name": "LayoutModel",
          "model_module_version": "1.2.0",
          "state": {
            "_model_module": "@jupyter-widgets/base",
            "_model_module_version": "1.2.0",
            "_model_name": "LayoutModel",
            "_view_count": null,
            "_view_module": "@jupyter-widgets/base",
            "_view_module_version": "1.2.0",
            "_view_name": "LayoutView",
            "align_content": null,
            "align_items": null,
            "align_self": null,
            "border": null,
            "bottom": null,
            "display": null,
            "flex": null,
            "flex_flow": null,
            "grid_area": null,
            "grid_auto_columns": null,
            "grid_auto_flow": null,
            "grid_auto_rows": null,
            "grid_column": null,
            "grid_gap": null,
            "grid_row": null,
            "grid_template_areas": null,
            "grid_template_columns": null,
            "grid_template_rows": null,
            "height": null,
            "justify_content": null,
            "justify_items": null,
            "left": null,
            "margin": null,
            "max_height": null,
            "max_width": null,
            "min_height": null,
            "min_width": null,
            "object_fit": null,
            "object_position": null,
            "order": null,
            "overflow": null,
            "overflow_x": null,
            "overflow_y": null,
            "padding": null,
            "right": null,
            "top": null,
            "visibility": null,
            "width": null
          }
        },
        "1debdcf8a4b64e629b53417595e29fb5": {
          "model_module": "@jupyter-widgets/controls",
          "model_name": "DescriptionStyleModel",
          "model_module_version": "1.5.0",
          "state": {
            "_model_module": "@jupyter-widgets/controls",
            "_model_module_version": "1.5.0",
            "_model_name": "DescriptionStyleModel",
            "_view_count": null,
            "_view_module": "@jupyter-widgets/base",
            "_view_module_version": "1.2.0",
            "_view_name": "StyleView",
            "description_width": ""
          }
        },
        "290e29c476374caa98008fb9504688dc": {
          "model_module": "@jupyter-widgets/base",
          "model_name": "LayoutModel",
          "model_module_version": "1.2.0",
          "state": {
            "_model_module": "@jupyter-widgets/base",
            "_model_module_version": "1.2.0",
            "_model_name": "LayoutModel",
            "_view_count": null,
            "_view_module": "@jupyter-widgets/base",
            "_view_module_version": "1.2.0",
            "_view_name": "LayoutView",
            "align_content": null,
            "align_items": null,
            "align_self": null,
            "border": null,
            "bottom": null,
            "display": null,
            "flex": null,
            "flex_flow": null,
            "grid_area": null,
            "grid_auto_columns": null,
            "grid_auto_flow": null,
            "grid_auto_rows": null,
            "grid_column": null,
            "grid_gap": null,
            "grid_row": null,
            "grid_template_areas": null,
            "grid_template_columns": null,
            "grid_template_rows": null,
            "height": null,
            "justify_content": null,
            "justify_items": null,
            "left": null,
            "margin": null,
            "max_height": null,
            "max_width": null,
            "min_height": null,
            "min_width": null,
            "object_fit": null,
            "object_position": null,
            "order": null,
            "overflow": null,
            "overflow_x": null,
            "overflow_y": null,
            "padding": null,
            "right": null,
            "top": null,
            "visibility": null,
            "width": null
          }
        },
        "86f999cdc8d74e6ab14d5edd10cd6fe8": {
          "model_module": "@jupyter-widgets/controls",
          "model_name": "ProgressStyleModel",
          "model_module_version": "1.5.0",
          "state": {
            "_model_module": "@jupyter-widgets/controls",
            "_model_module_version": "1.5.0",
            "_model_name": "ProgressStyleModel",
            "_view_count": null,
            "_view_module": "@jupyter-widgets/base",
            "_view_module_version": "1.2.0",
            "_view_name": "StyleView",
            "bar_color": null,
            "description_width": ""
          }
        },
        "21d4fb2246d14284b0a5720b0fffa706": {
          "model_module": "@jupyter-widgets/base",
          "model_name": "LayoutModel",
          "model_module_version": "1.2.0",
          "state": {
            "_model_module": "@jupyter-widgets/base",
            "_model_module_version": "1.2.0",
            "_model_name": "LayoutModel",
            "_view_count": null,
            "_view_module": "@jupyter-widgets/base",
            "_view_module_version": "1.2.0",
            "_view_name": "LayoutView",
            "align_content": null,
            "align_items": null,
            "align_self": null,
            "border": null,
            "bottom": null,
            "display": null,
            "flex": null,
            "flex_flow": null,
            "grid_area": null,
            "grid_auto_columns": null,
            "grid_auto_flow": null,
            "grid_auto_rows": null,
            "grid_column": null,
            "grid_gap": null,
            "grid_row": null,
            "grid_template_areas": null,
            "grid_template_columns": null,
            "grid_template_rows": null,
            "height": null,
            "justify_content": null,
            "justify_items": null,
            "left": null,
            "margin": null,
            "max_height": null,
            "max_width": null,
            "min_height": null,
            "min_width": null,
            "object_fit": null,
            "object_position": null,
            "order": null,
            "overflow": null,
            "overflow_x": null,
            "overflow_y": null,
            "padding": null,
            "right": null,
            "top": null,
            "visibility": null,
            "width": null
          }
        },
        "7ef1bce767624e8588bf00cbec541c1e": {
          "model_module": "@jupyter-widgets/controls",
          "model_name": "DescriptionStyleModel",
          "model_module_version": "1.5.0",
          "state": {
            "_model_module": "@jupyter-widgets/controls",
            "_model_module_version": "1.5.0",
            "_model_name": "DescriptionStyleModel",
            "_view_count": null,
            "_view_module": "@jupyter-widgets/base",
            "_view_module_version": "1.2.0",
            "_view_name": "StyleView",
            "description_width": ""
          }
        }
      }
    }
  },
  "nbformat": 4,
  "nbformat_minor": 5
}